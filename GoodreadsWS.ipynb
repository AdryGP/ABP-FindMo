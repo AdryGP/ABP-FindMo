{
  "nbformat": 4,
  "nbformat_minor": 0,
  "metadata": {
    "colab": {
      "name": "GoodreadsWS.ipynb",
      "provenance": [],
      "collapsed_sections": [],
      "authorship_tag": "ABX9TyMOa+7EA/jKiMzdkbl5W08V",
      "include_colab_link": true
    },
    "kernelspec": {
      "name": "python3",
      "display_name": "Python 3"
    }
  },
  "cells": [
    {
      "cell_type": "markdown",
      "metadata": {
        "id": "view-in-github",
        "colab_type": "text"
      },
      "source": [
        "<a href=\"https://colab.research.google.com/github/AdryGP/ABP-FindMo/blob/main/GoodreadsWS.ipynb\" target=\"_parent\"><img src=\"https://colab.research.google.com/assets/colab-badge.svg\" alt=\"Open In Colab\"/></a>"
      ]
    },
    {
      "cell_type": "markdown",
      "metadata": {
        "id": "tmIsmfZvHAqS"
      },
      "source": [
        "Uso de API goodreads para python"
      ]
    },
    {
      "cell_type": "markdown",
      "metadata": {
        "id": "GY3QYfLkCL2X"
      },
      "source": [
        "Primero es necesario instalar goodreads en la maquina"
      ]
    },
    {
      "cell_type": "code",
      "metadata": {
        "id": "GQ18Kd5F3uKe",
        "colab": {
          "base_uri": "https://localhost:8080/"
        },
        "outputId": "9d6a8d35-da5b-47a0-b73a-1e61fc91d4b8"
      },
      "source": [
        "!pip install goodreads"
      ],
      "execution_count": null,
      "outputs": [
        {
          "output_type": "stream",
          "text": [
            "Collecting goodreads\n",
            "  Downloading https://files.pythonhosted.org/packages/ef/6e/5aef0dd1819ed7b89be1a05f731a9727b8f6eba3d20bd4005104e82178c4/goodreads-0.3.2.tar.gz\n",
            "Collecting nose\n",
            "\u001b[?25l  Downloading https://files.pythonhosted.org/packages/15/d8/dd071918c040f50fa1cf80da16423af51ff8ce4a0f2399b7bf8de45ac3d9/nose-1.3.7-py3-none-any.whl (154kB)\n",
            "\u001b[K     |████████████████████████████████| 163kB 4.3MB/s \n",
            "\u001b[?25hCollecting xmltodict\n",
            "  Downloading https://files.pythonhosted.org/packages/28/fd/30d5c1d3ac29ce229f6bdc40bbc20b28f716e8b363140c26eff19122d8a5/xmltodict-0.12.0-py2.py3-none-any.whl\n",
            "Requirement already satisfied: requests in /usr/local/lib/python3.6/dist-packages (from goodreads) (2.23.0)\n",
            "Collecting rauth\n",
            "  Downloading https://files.pythonhosted.org/packages/43/aa/7c8e852275394d65ac5bf3ac9945ecaafe4d083089e09cb0a267efea389a/rauth-0.7.3.tar.gz\n",
            "Requirement already satisfied: certifi>=2017.4.17 in /usr/local/lib/python3.6/dist-packages (from requests->goodreads) (2020.11.8)\n",
            "Requirement already satisfied: urllib3!=1.25.0,!=1.25.1,<1.26,>=1.21.1 in /usr/local/lib/python3.6/dist-packages (from requests->goodreads) (1.24.3)\n",
            "Requirement already satisfied: chardet<4,>=3.0.2 in /usr/local/lib/python3.6/dist-packages (from requests->goodreads) (3.0.4)\n",
            "Requirement already satisfied: idna<3,>=2.5 in /usr/local/lib/python3.6/dist-packages (from requests->goodreads) (2.10)\n",
            "Building wheels for collected packages: goodreads, rauth\n",
            "  Building wheel for goodreads (setup.py) ... \u001b[?25l\u001b[?25hdone\n",
            "  Created wheel for goodreads: filename=goodreads-0.3.2-cp36-none-any.whl size=13117 sha256=102dbdbf5d76d361a7d5fa1bfff0078a03993d23b77b33ed53c1e35f55e5ba01\n",
            "  Stored in directory: /root/.cache/pip/wheels/70/10/60/95c53185e3b96fa8da290cefe495d5eef298734b7d7f634e72\n",
            "  Building wheel for rauth (setup.py) ... \u001b[?25l\u001b[?25hdone\n",
            "  Created wheel for rauth: filename=rauth-0.7.3-cp36-none-any.whl size=16055 sha256=4d0e09c8d4d446e86a1c77fc30ece171d48f782fdf36167811f454e2821d0267\n",
            "  Stored in directory: /root/.cache/pip/wheels/7b/94/5d/81afc278dd5da884a0002563dc4b0fe85f9067a5a40f76f858\n",
            "Successfully built goodreads rauth\n",
            "Installing collected packages: nose, xmltodict, rauth, goodreads\n",
            "Successfully installed goodreads-0.3.2 nose-1.3.7 rauth-0.7.3 xmltodict-0.12.0\n"
          ],
          "name": "stdout"
        }
      ]
    },
    {
      "cell_type": "markdown",
      "metadata": {
        "id": "Kbt9mckRCWZO"
      },
      "source": [
        "Se comprueba que esta instalado con exito"
      ]
    },
    {
      "cell_type": "code",
      "metadata": {
        "colab": {
          "base_uri": "https://localhost:8080/"
        },
        "id": "5T1RYSe00k4V",
        "outputId": "a983dc3c-ae54-46cc-b216-b734d46e35a2"
      },
      "source": [
        "!pip list -v | grep [Gg]oodreads"
      ],
      "execution_count": null,
      "outputs": [
        {
          "output_type": "stream",
          "text": [
            "goodreads                     0.3.2           /usr/local/lib/python3.6/dist-packages pip      \n"
          ],
          "name": "stdout"
        }
      ]
    },
    {
      "cell_type": "markdown",
      "metadata": {
        "id": "3lxM2bXRCpym"
      },
      "source": [
        "Una vez goodreads esta instalado correctamente, es necesario añadir la clave de desarrollador para poder realizar la gran mayoria de acciones de la API"
      ]
    },
    {
      "cell_type": "code",
      "metadata": {
        "id": "A2hGAT9TRTbJ"
      },
      "source": [
        "from goodreads import client\n",
        "gc = client.GoodreadsClient('Iz1kiMAny7IclmuSPHlA', 'OKtyleWYG9mBV05NHdsFEuUAB3QrZvvwJeQ6CjHIpY')"
      ],
      "execution_count": null,
      "outputs": []
    },
    {
      "cell_type": "markdown",
      "metadata": {
        "id": "ta-qmnufCsY_"
      },
      "source": [
        "Se comprueba que se puede acceder al servidor de Goodreads"
      ]
    },
    {
      "cell_type": "code",
      "metadata": {
        "colab": {
          "base_uri": "https://localhost:8080/",
          "height": 104
        },
        "id": "rgHo4ual2ldl",
        "outputId": "c2d3c651-b2a9-46f8-d6f6-c2d64184126b"
      },
      "source": [
        " book = gc.book(10000)\n",
        " book.description"
      ],
      "execution_count": null,
      "outputs": [
        {
          "output_type": "execute_result",
          "data": {
            "application/vnd.google.colaboratory.intrinsic+json": {
              "type": "string"
            },
            "text/plain": [
              "'Like an elegantly chilling postscript to <em>The Metamorphosis</em>, this classic of postwar Japanese literature describes a bizarre physical transformation that exposes the duplicities of an entire world. The narrator is a scientist hideously deformed in a laboratory accident–a man who has lost his face and, with it, his connection to other people. Even his wife is now repulsed by him. <br /><br />His only entry back into the world is to create a mask so perfect as to be undetectable. But soon he finds that such a mask is more than a disguise: it is an alternate self–a self that is capable of anything. A remorseless meditation on nature, identity and the social contract, <em>The Face of Another</em> is an intellectual horror story of the highest order.'"
            ]
          },
          "metadata": {
            "tags": []
          },
          "execution_count": 6
        }
      ]
    },
    {
      "cell_type": "markdown",
      "metadata": {
        "id": "gZW7qNK7DA2G"
      },
      "source": [
        "Una vez esta todo preparado, se crea el directorio donde acabara el .csv a su salida"
      ]
    },
    {
      "cell_type": "code",
      "metadata": {
        "id": "wc8QHnY7Tah8"
      },
      "source": [
        "!mkdir -p original_datasets/libros "
      ],
      "execution_count": null,
      "outputs": []
    },
    {
      "cell_type": "markdown",
      "metadata": {
        "id": "StQ1fYb3C-Y_"
      },
      "source": [
        "A continuacion se conseguiran los datos para crear el csv, es importante comentar varias cosas. \n",
        "\n",
        "La primera es que goodreads pide que solo se realice una peticion a su servidor cada segundo.\n",
        "\n",
        "La seguda es que existen IDs que han sido eliminados de la base de datos, con lo que podemos encontrarnos que al accedera un libro este no exista, esto lanzara una excepcion que debe estar controlada.\n",
        "\n",
        "La tercera es que hay libros que no tienen descripcion, que seran ignorados ya que no seran interesantes para la aplicacion.\n",
        "\n",
        "Y la cuarta es que algunas descripciones tienen caracteres que son equivalentes a los de separacion del csv, con lo que los datos se añaden uno a uno para evitar errores a la hora de la escritura, si esto ocurre sera necesaria su edicion de forma externa.\n",
        "\n"
      ]
    },
    {
      "cell_type": "code",
      "metadata": {
        "id": "pEnLgu2b4U9q",
        "colab": {
          "base_uri": "https://localhost:8080/"
        },
        "outputId": "4349197f-dc42-4b17-a622-1e6f038b06ac"
      },
      "source": [
        "import pandas as pd\n",
        "import re\n",
        "import time\n",
        "\n",
        "Titulo = list(())\n",
        "Autor = list(())\n",
        "Descripcion = list(())\n",
        "Id = list(())\n",
        "\n",
        "from csv import writer\n",
        "def append_list_as_row(file_name, list_of_elem):\n",
        "    # Open file in append mode\n",
        "    with open(file_name, 'a+', newline='') as write_obj:\n",
        "        # Create a writer object from csv module\n",
        "        csv_writer = writer(write_obj)\n",
        "        # Add contents of list as last row in the csv file\n",
        "        csv_writer.writerow(list_of_elem)\n",
        "\n",
        "\n",
        "try:\n",
        "    y=1\n",
        "    book = gc.book(y)\n",
        "    descripcion=book.description      \n",
        "    if not descripcion:\n",
        "      print(y)\n",
        "    else:\n",
        "      #Las descripciones viene con cadenas html en su interior, que sera necesario eliminarlas con esta funcion\n",
        "      descripcionLimpia= re.sub('<.*>', '', descripcion) \n",
        "      Descripcion.append(descripcionLimpia)\n",
        "      Titulo.append(book.title)\n",
        "      Autor.append(book.authors)\n",
        "      Id.append('L' + str(1) )\n",
        "\n",
        "except:\n",
        "      pass\n",
        "time.sleep(1)\n",
        "data = {'Titulo','ID', 'Autor','Descripcion'}\n",
        "df = pd.DataFrame ( {'Titulo' : Titulo,'ID': Id, 'Autor':Autor,'Descripcion':Descripcion})\n",
        "df[['Titulo', 'ID', 'Autor','Descripcion',]].to_csv('original_datasets/libros/goodreadsBooks.csv', index=False)\n",
        "\n",
        "Libro = list(())\n",
        "data = {'Titulo','ID', 'Autor','Descripcion'}\n",
        "\n",
        "for x in range(2,10):\n",
        "  try:\n",
        "    book = gc.book(x)\n",
        "    descripcion=book.description      \n",
        "    if not descripcion:\n",
        "      print(x)\n",
        "    else:\n",
        "      descripcionLimpia= re.sub('<.*>', '', descripcion)\n",
        "      \n",
        "      Libro.append(book.title)\n",
        "      Libro.append('L' + str(x) )\n",
        "      Libro.append(book.authors)      \n",
        "      Libro.append(descripcionLimpia)\n",
        "\n",
        "      append_list_as_row('original_datasets/libros/goodreadsBooks.csv', Libro)\n",
        "      Libro = list(())\n",
        "  except:\n",
        "      pass\n",
        "  time.sleep(1)\n",
        "print('finalizado')\n",
        "\n"
      ],
      "execution_count": null,
      "outputs": [
        {
          "output_type": "stream",
          "text": [
            "finalizado\n"
          ],
          "name": "stdout"
        }
      ]
    },
    {
      "cell_type": "markdown",
      "metadata": {
        "id": "WdnCYi_4GS2Z"
      },
      "source": [
        "En caso de modificar de forma externa el csv puede ser necesario eliminar columnas residuales"
      ]
    },
    {
      "cell_type": "code",
      "metadata": {
        "id": "0rY8ltsNtnxI"
      },
      "source": [
        "libros = pd.read_csv('original_datasets/libros/goodreadsBooks.csv')\n",
        "\n",
        "Titulo = list(())\n",
        "Autor = list(())\n",
        "Descripcion = list(())\n",
        "Id = list(())\n",
        "Titulo = libros['Titulo']\n",
        "Autor = libros['Autor']\n",
        "Descripcion = libros['Descripcion']\n",
        "Id = libros['ID']\n",
        "\n",
        "df = pd.DataFrame ( {'Titulo' : Titulo,'ID': Id, 'Autor':Autor,'Descripcion':Descripcion})\n",
        "df[['Titulo', 'ID', 'Autor','Descripcion',]].to_csv('original_datasets/libros/goodreadsBooksModified.csv', index=False)\n",
        "\n"
      ],
      "execution_count": null,
      "outputs": []
    },
    {
      "cell_type": "markdown",
      "metadata": {
        "id": "GJjdYwCTGngm"
      },
      "source": [
        "Aunque se controla que las descripciones no sean vacias, puede quedar alguna en la que no hay texto, esto puede ser o bien porque solo tenian codigo html o que tenian espacios o /n"
      ]
    },
    {
      "cell_type": "code",
      "metadata": {
        "colab": {
          "base_uri": "https://localhost:8080/",
          "height": 294
        },
        "id": "xdF_4ayoFOx_",
        "outputId": "2fc65708-c59e-484f-8f1d-e76659023da7"
      },
      "source": [
        "libros = pd.read_csv('original_datasets/libros/goodreadsBooks.csv')\n",
        "modifiedcsv = libros.dropna()\n",
        "modifiedcsv.isnull().sum()\n",
        "modifiedcsv"
      ],
      "execution_count": null,
      "outputs": [
        {
          "output_type": "execute_result",
          "data": {
            "text/html": [
              "<div>\n",
              "<style scoped>\n",
              "    .dataframe tbody tr th:only-of-type {\n",
              "        vertical-align: middle;\n",
              "    }\n",
              "\n",
              "    .dataframe tbody tr th {\n",
              "        vertical-align: top;\n",
              "    }\n",
              "\n",
              "    .dataframe thead th {\n",
              "        text-align: right;\n",
              "    }\n",
              "</style>\n",
              "<table border=\"1\" class=\"dataframe\">\n",
              "  <thead>\n",
              "    <tr style=\"text-align: right;\">\n",
              "      <th></th>\n",
              "      <th>Titulo</th>\n",
              "      <th>ID</th>\n",
              "      <th>Autor</th>\n",
              "      <th>Descripcion</th>\n",
              "    </tr>\n",
              "  </thead>\n",
              "  <tbody>\n",
              "    <tr>\n",
              "      <th>0</th>\n",
              "      <td>Harry Potter and the Half-Blood Prince (Harry ...</td>\n",
              "      <td>L1</td>\n",
              "      <td>[J.K. Rowling]</td>\n",
              "      <td>The war against Voldemort is not going well; e...</td>\n",
              "    </tr>\n",
              "    <tr>\n",
              "      <th>1</th>\n",
              "      <td>Harry Potter and the Order of the Phoenix (Har...</td>\n",
              "      <td>L2</td>\n",
              "      <td>[J.K. Rowling, Mary GrandPré]</td>\n",
              "      <td>There is a door at the end of a silent corrido...</td>\n",
              "    </tr>\n",
              "    <tr>\n",
              "      <th>2</th>\n",
              "      <td>Harry Potter and the Sorcerer's Stone (Harry P...</td>\n",
              "      <td>L3</td>\n",
              "      <td>[J.K. Rowling, Mary GrandPré]</td>\n",
              "      <td>Harry Potter's life is miserable. His parents ...</td>\n",
              "    </tr>\n",
              "    <tr>\n",
              "      <th>3</th>\n",
              "      <td>Harry Potter and the Chamber of Secrets (Harry...</td>\n",
              "      <td>L4</td>\n",
              "      <td>[J.K. Rowling]</td>\n",
              "      <td>The Dursleys were so mean and hideous that sum...</td>\n",
              "    </tr>\n",
              "    <tr>\n",
              "      <th>4</th>\n",
              "      <td>Harry Potter and the Prisoner of Azkaban (Harr...</td>\n",
              "      <td>L5</td>\n",
              "      <td>[J.K. Rowling, Mary GrandPré]</td>\n",
              "      <td>For twelve long years, the dread fortress of A...</td>\n",
              "    </tr>\n",
              "    <tr>\n",
              "      <th>5</th>\n",
              "      <td>Harry Potter and the Goblet of Fire (Harry Pot...</td>\n",
              "      <td>L6</td>\n",
              "      <td>[J.K. Rowling, Mary GrandPré]</td>\n",
              "      <td>Harry Potter is midway through his training as...</td>\n",
              "    </tr>\n",
              "    <tr>\n",
              "      <th>7</th>\n",
              "      <td>Harry Potter Boxed Set, Books 1-5 (Harry Potte...</td>\n",
              "      <td>L8</td>\n",
              "      <td>[J.K. Rowling, Mary GrandPré]</td>\n",
              "      <td>Box Set containing Harry Potter and the Sorcer...</td>\n",
              "    </tr>\n",
              "    <tr>\n",
              "      <th>8</th>\n",
              "      <td>Unauthorized Harry Potter Book Seven News: \"Ha...</td>\n",
              "      <td>L9</td>\n",
              "      <td>[W. Frederick Zimmerman]</td>\n",
              "      <td>Through the magic of print-on-demand technolog...</td>\n",
              "    </tr>\n",
              "  </tbody>\n",
              "</table>\n",
              "</div>"
            ],
            "text/plain": [
              "                                              Titulo  ...                                        Descripcion\n",
              "0  Harry Potter and the Half-Blood Prince (Harry ...  ...  The war against Voldemort is not going well; e...\n",
              "1  Harry Potter and the Order of the Phoenix (Har...  ...  There is a door at the end of a silent corrido...\n",
              "2  Harry Potter and the Sorcerer's Stone (Harry P...  ...  Harry Potter's life is miserable. His parents ...\n",
              "3  Harry Potter and the Chamber of Secrets (Harry...  ...  The Dursleys were so mean and hideous that sum...\n",
              "4  Harry Potter and the Prisoner of Azkaban (Harr...  ...  For twelve long years, the dread fortress of A...\n",
              "5  Harry Potter and the Goblet of Fire (Harry Pot...  ...  Harry Potter is midway through his training as...\n",
              "7  Harry Potter Boxed Set, Books 1-5 (Harry Potte...  ...  Box Set containing Harry Potter and the Sorcer...\n",
              "8  Unauthorized Harry Potter Book Seven News: \"Ha...  ...  Through the magic of print-on-demand technolog...\n",
              "\n",
              "[8 rows x 4 columns]"
            ]
          },
          "metadata": {
            "tags": []
          },
          "execution_count": 26
        }
      ]
    },
    {
      "cell_type": "markdown",
      "metadata": {
        "id": "6aGsYAcZG8bW"
      },
      "source": [
        "Una vez eliminado los contenidos vacios se exporta el csv final"
      ]
    },
    {
      "cell_type": "code",
      "metadata": {
        "id": "jVs4zM4kGsRQ"
      },
      "source": [
        "modifiedcsv[['Titulo', 'ID', 'Autor','Descripcion']].to_csv('original_datasets/libros/goodreadsBooksModified.csv', index=False)"
      ],
      "execution_count": null,
      "outputs": []
    },
    {
      "cell_type": "code",
      "metadata": {
        "colab": {
          "base_uri": "https://localhost:8080/",
          "height": 294
        },
        "id": "CFYC-vb642YX",
        "outputId": "cdb07358-829c-4c9b-c745-ad5ef9a40e9e"
      },
      "source": [
        "libros = pd.read_csv('original_datasets/libros/goodreadsBooksModified.csv')\n",
        "libros\n",
        "\n"
      ],
      "execution_count": null,
      "outputs": [
        {
          "output_type": "execute_result",
          "data": {
            "text/html": [
              "<div>\n",
              "<style scoped>\n",
              "    .dataframe tbody tr th:only-of-type {\n",
              "        vertical-align: middle;\n",
              "    }\n",
              "\n",
              "    .dataframe tbody tr th {\n",
              "        vertical-align: top;\n",
              "    }\n",
              "\n",
              "    .dataframe thead th {\n",
              "        text-align: right;\n",
              "    }\n",
              "</style>\n",
              "<table border=\"1\" class=\"dataframe\">\n",
              "  <thead>\n",
              "    <tr style=\"text-align: right;\">\n",
              "      <th></th>\n",
              "      <th>Titulo</th>\n",
              "      <th>ID</th>\n",
              "      <th>Autor</th>\n",
              "      <th>Descripcion</th>\n",
              "    </tr>\n",
              "  </thead>\n",
              "  <tbody>\n",
              "    <tr>\n",
              "      <th>0</th>\n",
              "      <td>Harry Potter and the Half-Blood Prince (Harry ...</td>\n",
              "      <td>L1</td>\n",
              "      <td>[J.K. Rowling]</td>\n",
              "      <td>The war against Voldemort is not going well; e...</td>\n",
              "    </tr>\n",
              "    <tr>\n",
              "      <th>1</th>\n",
              "      <td>Harry Potter and the Order of the Phoenix (Har...</td>\n",
              "      <td>L2</td>\n",
              "      <td>[J.K. Rowling, Mary GrandPré]</td>\n",
              "      <td>There is a door at the end of a silent corrido...</td>\n",
              "    </tr>\n",
              "    <tr>\n",
              "      <th>2</th>\n",
              "      <td>Harry Potter and the Sorcerer's Stone (Harry P...</td>\n",
              "      <td>L3</td>\n",
              "      <td>[J.K. Rowling, Mary GrandPré]</td>\n",
              "      <td>Harry Potter's life is miserable. His parents ...</td>\n",
              "    </tr>\n",
              "    <tr>\n",
              "      <th>3</th>\n",
              "      <td>Harry Potter and the Chamber of Secrets (Harry...</td>\n",
              "      <td>L4</td>\n",
              "      <td>[J.K. Rowling]</td>\n",
              "      <td>The Dursleys were so mean and hideous that sum...</td>\n",
              "    </tr>\n",
              "    <tr>\n",
              "      <th>4</th>\n",
              "      <td>Harry Potter and the Prisoner of Azkaban (Harr...</td>\n",
              "      <td>L5</td>\n",
              "      <td>[J.K. Rowling, Mary GrandPré]</td>\n",
              "      <td>For twelve long years, the dread fortress of A...</td>\n",
              "    </tr>\n",
              "    <tr>\n",
              "      <th>5</th>\n",
              "      <td>Harry Potter and the Goblet of Fire (Harry Pot...</td>\n",
              "      <td>L6</td>\n",
              "      <td>[J.K. Rowling, Mary GrandPré]</td>\n",
              "      <td>Harry Potter is midway through his training as...</td>\n",
              "    </tr>\n",
              "    <tr>\n",
              "      <th>6</th>\n",
              "      <td>Harry Potter Boxed Set, Books 1-5 (Harry Potte...</td>\n",
              "      <td>L8</td>\n",
              "      <td>[J.K. Rowling, Mary GrandPré]</td>\n",
              "      <td>Box Set containing Harry Potter and the Sorcer...</td>\n",
              "    </tr>\n",
              "    <tr>\n",
              "      <th>7</th>\n",
              "      <td>Unauthorized Harry Potter Book Seven News: \"Ha...</td>\n",
              "      <td>L9</td>\n",
              "      <td>[W. Frederick Zimmerman]</td>\n",
              "      <td>Through the magic of print-on-demand technolog...</td>\n",
              "    </tr>\n",
              "  </tbody>\n",
              "</table>\n",
              "</div>"
            ],
            "text/plain": [
              "                                              Titulo  ...                                        Descripcion\n",
              "0  Harry Potter and the Half-Blood Prince (Harry ...  ...  The war against Voldemort is not going well; e...\n",
              "1  Harry Potter and the Order of the Phoenix (Har...  ...  There is a door at the end of a silent corrido...\n",
              "2  Harry Potter and the Sorcerer's Stone (Harry P...  ...  Harry Potter's life is miserable. His parents ...\n",
              "3  Harry Potter and the Chamber of Secrets (Harry...  ...  The Dursleys were so mean and hideous that sum...\n",
              "4  Harry Potter and the Prisoner of Azkaban (Harr...  ...  For twelve long years, the dread fortress of A...\n",
              "5  Harry Potter and the Goblet of Fire (Harry Pot...  ...  Harry Potter is midway through his training as...\n",
              "6  Harry Potter Boxed Set, Books 1-5 (Harry Potte...  ...  Box Set containing Harry Potter and the Sorcer...\n",
              "7  Unauthorized Harry Potter Book Seven News: \"Ha...  ...  Through the magic of print-on-demand technolog...\n",
              "\n",
              "[8 rows x 4 columns]"
            ]
          },
          "metadata": {
            "tags": []
          },
          "execution_count": 31
        }
      ]
    }
  ]
}