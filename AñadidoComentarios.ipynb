{
  "nbformat": 4,
  "nbformat_minor": 0,
  "metadata": {
    "colab": {
      "name": "AñadidoComentarios.ipynb",
      "provenance": [],
      "collapsed_sections": [],
      "toc_visible": true,
      "include_colab_link": true
    },
    "kernelspec": {
      "name": "python3",
      "display_name": "Python 3"
    }
  },
  "cells": [
    {
      "cell_type": "markdown",
      "metadata": {
        "id": "view-in-github",
        "colab_type": "text"
      },
      "source": [
        "<a href=\"https://colab.research.google.com/github/AdryGP/ABP-FindMo/blob/main/A%C3%B1adidoComentarios.ipynb\" target=\"_parent\"><img src=\"https://colab.research.google.com/assets/colab-badge.svg\" alt=\"Open In Colab\"/></a>"
      ]
    },
    {
      "cell_type": "markdown",
      "metadata": {
        "id": "n-DqiXiugY8n"
      },
      "source": [
        "# FindMo: Manual de Uso\n",
        "\n",
        "---\n",
        "\n"
      ]
    },
    {
      "cell_type": "markdown",
      "metadata": {
        "id": "6W2aqkqPWWsW"
      },
      "source": [
        "# Paso 0. Instalación de Streamlit y Ngrok"
      ]
    },
    {
      "cell_type": "code",
      "metadata": {
        "id": "AK2rbXpetZFI",
        "colab": {
          "base_uri": "https://localhost:8080/",
          "height": 1000
        },
        "outputId": "338c429d-3752-4f08-ec09-e8d81dcebf01"
      },
      "source": [
        "!pip install streamlit"
      ],
      "execution_count": 1,
      "outputs": [
        {
          "output_type": "stream",
          "text": [
            "Collecting streamlit\n",
            "\u001b[?25l  Downloading https://files.pythonhosted.org/packages/19/59/ac66b8613d3652d6a0ade25055c448698e7c65baa82e69094f99721b138e/streamlit-0.75.0-py2.py3-none-any.whl (7.5MB)\n",
            "\u001b[K     |████████████████████████████████| 7.5MB 5.7MB/s \n",
            "\u001b[?25hRequirement already satisfied: tzlocal in /usr/local/lib/python3.6/dist-packages (from streamlit) (1.5.1)\n",
            "Requirement already satisfied: requests in /usr/local/lib/python3.6/dist-packages (from streamlit) (2.23.0)\n",
            "Collecting gitpython\n",
            "\u001b[?25l  Downloading https://files.pythonhosted.org/packages/d7/cb/ec98155c501b68dcb11314c7992cd3df6dce193fd763084338a117967d53/GitPython-3.1.12-py3-none-any.whl (159kB)\n",
            "\u001b[K     |████████████████████████████████| 163kB 49.9MB/s \n",
            "\u001b[?25hRequirement already satisfied: numpy in /usr/local/lib/python3.6/dist-packages (from streamlit) (1.19.5)\n",
            "Collecting validators\n",
            "  Downloading https://files.pythonhosted.org/packages/db/2f/7fed3ee94ad665ad2c1de87f858f10a7785251ff75b4fd47987888d07ef1/validators-0.18.2-py3-none-any.whl\n",
            "Collecting watchdog; platform_system != \"Darwin\"\n",
            "\u001b[?25l  Downloading https://files.pythonhosted.org/packages/83/d9/3d1f46b428fd7b646725896b58d2eddb84f79fd76912773e6193cf74263d/watchdog-1.0.2-py3-none-manylinux2014_x86_64.whl (72kB)\n",
            "\u001b[K     |████████████████████████████████| 81kB 6.2MB/s \n",
            "\u001b[?25hRequirement already satisfied: tornado>=5.0 in /usr/local/lib/python3.6/dist-packages (from streamlit) (5.1.1)\n",
            "Requirement already satisfied: python-dateutil in /usr/local/lib/python3.6/dist-packages (from streamlit) (2.8.1)\n",
            "Requirement already satisfied: toml in /usr/local/lib/python3.6/dist-packages (from streamlit) (0.10.2)\n",
            "Requirement already satisfied: astor in /usr/local/lib/python3.6/dist-packages (from streamlit) (0.8.1)\n",
            "Requirement already satisfied: cachetools>=4.0 in /usr/local/lib/python3.6/dist-packages (from streamlit) (4.2.0)\n",
            "Collecting pydeck>=0.1.dev5\n",
            "\u001b[?25l  Downloading https://files.pythonhosted.org/packages/9e/9d/8fbf1f56cc5891e6c3295bf94fc176e9ab0a3ffdd090cc8b354ac2640f9a/pydeck-0.5.0-py2.py3-none-any.whl (4.5MB)\n",
            "\u001b[K     |████████████████████████████████| 4.5MB 36.5MB/s \n",
            "\u001b[?25hRequirement already satisfied: altair>=3.2.0 in /usr/local/lib/python3.6/dist-packages (from streamlit) (4.1.0)\n",
            "Requirement already satisfied: packaging in /usr/local/lib/python3.6/dist-packages (from streamlit) (20.8)\n",
            "Requirement already satisfied: pandas>=0.21.0 in /usr/local/lib/python3.6/dist-packages (from streamlit) (1.1.5)\n",
            "Collecting base58\n",
            "  Downloading https://files.pythonhosted.org/packages/b8/a1/d9f565e9910c09fd325dc638765e8843a19fa696275c16cc08cf3b0a3c25/base58-2.1.0-py3-none-any.whl\n",
            "Collecting blinker\n",
            "\u001b[?25l  Downloading https://files.pythonhosted.org/packages/1b/51/e2a9f3b757eb802f61dc1f2b09c8c99f6eb01cf06416c0671253536517b6/blinker-1.4.tar.gz (111kB)\n",
            "\u001b[K     |████████████████████████████████| 112kB 44.9MB/s \n",
            "\u001b[?25hRequirement already satisfied: protobuf!=3.11,>=3.6.0 in /usr/local/lib/python3.6/dist-packages (from streamlit) (3.12.4)\n",
            "Requirement already satisfied: pyarrow; python_version < \"3.9\" in /usr/local/lib/python3.6/dist-packages (from streamlit) (0.14.1)\n",
            "Requirement already satisfied: click>=7.0 in /usr/local/lib/python3.6/dist-packages (from streamlit) (7.1.2)\n",
            "Requirement already satisfied: pillow>=6.2.0 in /usr/local/lib/python3.6/dist-packages (from streamlit) (7.0.0)\n",
            "Requirement already satisfied: pytz in /usr/local/lib/python3.6/dist-packages (from tzlocal->streamlit) (2018.9)\n",
            "Requirement already satisfied: chardet<4,>=3.0.2 in /usr/local/lib/python3.6/dist-packages (from requests->streamlit) (3.0.4)\n",
            "Requirement already satisfied: certifi>=2017.4.17 in /usr/local/lib/python3.6/dist-packages (from requests->streamlit) (2020.12.5)\n",
            "Requirement already satisfied: urllib3!=1.25.0,!=1.25.1,<1.26,>=1.21.1 in /usr/local/lib/python3.6/dist-packages (from requests->streamlit) (1.24.3)\n",
            "Requirement already satisfied: idna<3,>=2.5 in /usr/local/lib/python3.6/dist-packages (from requests->streamlit) (2.10)\n",
            "Collecting gitdb<5,>=4.0.1\n",
            "\u001b[?25l  Downloading https://files.pythonhosted.org/packages/48/11/d1800bca0a3bae820b84b7d813ad1eff15a48a64caea9c823fc8c1b119e8/gitdb-4.0.5-py3-none-any.whl (63kB)\n",
            "\u001b[K     |████████████████████████████████| 71kB 6.3MB/s \n",
            "\u001b[?25hRequirement already satisfied: decorator>=3.4.0 in /usr/local/lib/python3.6/dist-packages (from validators->streamlit) (4.4.2)\n",
            "Requirement already satisfied: six>=1.4.0 in /usr/local/lib/python3.6/dist-packages (from validators->streamlit) (1.15.0)\n",
            "Collecting ipykernel>=5.1.2; python_version >= \"3.4\"\n",
            "\u001b[?25l  Downloading https://files.pythonhosted.org/packages/7d/cc/e8908bbb2921732f6851ebbbe4b77b925aab62e644ab9402f21c84fa6107/ipykernel-5.4.3-py3-none-any.whl (120kB)\n",
            "\u001b[K     |████████████████████████████████| 122kB 57.9MB/s \n",
            "\u001b[?25hRequirement already satisfied: ipywidgets>=7.0.0 in /usr/local/lib/python3.6/dist-packages (from pydeck>=0.1.dev5->streamlit) (7.6.3)\n",
            "Requirement already satisfied: jinja2>=2.10.1 in /usr/local/lib/python3.6/dist-packages (from pydeck>=0.1.dev5->streamlit) (2.11.2)\n",
            "Requirement already satisfied: traitlets>=4.3.2 in /usr/local/lib/python3.6/dist-packages (from pydeck>=0.1.dev5->streamlit) (4.3.3)\n",
            "Requirement already satisfied: toolz in /usr/local/lib/python3.6/dist-packages (from altair>=3.2.0->streamlit) (0.11.1)\n",
            "Requirement already satisfied: jsonschema in /usr/local/lib/python3.6/dist-packages (from altair>=3.2.0->streamlit) (2.6.0)\n",
            "Requirement already satisfied: entrypoints in /usr/local/lib/python3.6/dist-packages (from altair>=3.2.0->streamlit) (0.3)\n",
            "Requirement already satisfied: pyparsing>=2.0.2 in /usr/local/lib/python3.6/dist-packages (from packaging->streamlit) (2.4.7)\n",
            "Requirement already satisfied: setuptools in /usr/local/lib/python3.6/dist-packages (from protobuf!=3.11,>=3.6.0->streamlit) (51.3.3)\n",
            "Collecting smmap<4,>=3.0.1\n",
            "  Downloading https://files.pythonhosted.org/packages/d5/1e/6130925131f639b2acde0f7f18b73e33ce082ff2d90783c436b52040af5a/smmap-3.0.5-py2.py3-none-any.whl\n",
            "Requirement already satisfied: ipython>=5.0.0 in /usr/local/lib/python3.6/dist-packages (from ipykernel>=5.1.2; python_version >= \"3.4\"->pydeck>=0.1.dev5->streamlit) (5.5.0)\n",
            "Requirement already satisfied: jupyter-client in /usr/local/lib/python3.6/dist-packages (from ipykernel>=5.1.2; python_version >= \"3.4\"->pydeck>=0.1.dev5->streamlit) (5.3.5)\n",
            "Requirement already satisfied: nbformat>=4.2.0 in /usr/local/lib/python3.6/dist-packages (from ipywidgets>=7.0.0->pydeck>=0.1.dev5->streamlit) (5.0.8)\n",
            "Requirement already satisfied: jupyterlab-widgets>=1.0.0; python_version >= \"3.6\" in /usr/local/lib/python3.6/dist-packages (from ipywidgets>=7.0.0->pydeck>=0.1.dev5->streamlit) (1.0.0)\n",
            "Requirement already satisfied: widgetsnbextension~=3.5.0 in /usr/local/lib/python3.6/dist-packages (from ipywidgets>=7.0.0->pydeck>=0.1.dev5->streamlit) (3.5.1)\n",
            "Requirement already satisfied: MarkupSafe>=0.23 in /usr/local/lib/python3.6/dist-packages (from jinja2>=2.10.1->pydeck>=0.1.dev5->streamlit) (1.1.1)\n",
            "Requirement already satisfied: ipython-genutils in /usr/local/lib/python3.6/dist-packages (from traitlets>=4.3.2->pydeck>=0.1.dev5->streamlit) (0.2.0)\n",
            "Requirement already satisfied: simplegeneric>0.8 in /usr/local/lib/python3.6/dist-packages (from ipython>=5.0.0->ipykernel>=5.1.2; python_version >= \"3.4\"->pydeck>=0.1.dev5->streamlit) (0.8.1)\n",
            "Requirement already satisfied: prompt-toolkit<2.0.0,>=1.0.4 in /usr/local/lib/python3.6/dist-packages (from ipython>=5.0.0->ipykernel>=5.1.2; python_version >= \"3.4\"->pydeck>=0.1.dev5->streamlit) (1.0.18)\n",
            "Requirement already satisfied: pickleshare in /usr/local/lib/python3.6/dist-packages (from ipython>=5.0.0->ipykernel>=5.1.2; python_version >= \"3.4\"->pydeck>=0.1.dev5->streamlit) (0.7.5)\n",
            "Requirement already satisfied: pygments in /usr/local/lib/python3.6/dist-packages (from ipython>=5.0.0->ipykernel>=5.1.2; python_version >= \"3.4\"->pydeck>=0.1.dev5->streamlit) (2.6.1)\n",
            "Requirement already satisfied: pexpect; sys_platform != \"win32\" in /usr/local/lib/python3.6/dist-packages (from ipython>=5.0.0->ipykernel>=5.1.2; python_version >= \"3.4\"->pydeck>=0.1.dev5->streamlit) (4.8.0)\n",
            "Requirement already satisfied: pyzmq>=13 in /usr/local/lib/python3.6/dist-packages (from jupyter-client->ipykernel>=5.1.2; python_version >= \"3.4\"->pydeck>=0.1.dev5->streamlit) (20.0.0)\n",
            "Requirement already satisfied: jupyter-core>=4.6.0 in /usr/local/lib/python3.6/dist-packages (from jupyter-client->ipykernel>=5.1.2; python_version >= \"3.4\"->pydeck>=0.1.dev5->streamlit) (4.7.0)\n",
            "Requirement already satisfied: notebook>=4.4.1 in /usr/local/lib/python3.6/dist-packages (from widgetsnbextension~=3.5.0->ipywidgets>=7.0.0->pydeck>=0.1.dev5->streamlit) (5.3.1)\n",
            "Requirement already satisfied: wcwidth in /usr/local/lib/python3.6/dist-packages (from prompt-toolkit<2.0.0,>=1.0.4->ipython>=5.0.0->ipykernel>=5.1.2; python_version >= \"3.4\"->pydeck>=0.1.dev5->streamlit) (0.2.5)\n",
            "Requirement already satisfied: ptyprocess>=0.5 in /usr/local/lib/python3.6/dist-packages (from pexpect; sys_platform != \"win32\"->ipython>=5.0.0->ipykernel>=5.1.2; python_version >= \"3.4\"->pydeck>=0.1.dev5->streamlit) (0.7.0)\n",
            "Requirement already satisfied: nbconvert in /usr/local/lib/python3.6/dist-packages (from notebook>=4.4.1->widgetsnbextension~=3.5.0->ipywidgets>=7.0.0->pydeck>=0.1.dev5->streamlit) (5.6.1)\n",
            "Requirement already satisfied: terminado>=0.8.1 in /usr/local/lib/python3.6/dist-packages (from notebook>=4.4.1->widgetsnbextension~=3.5.0->ipywidgets>=7.0.0->pydeck>=0.1.dev5->streamlit) (0.9.2)\n",
            "Requirement already satisfied: Send2Trash in /usr/local/lib/python3.6/dist-packages (from notebook>=4.4.1->widgetsnbextension~=3.5.0->ipywidgets>=7.0.0->pydeck>=0.1.dev5->streamlit) (1.5.0)\n",
            "Requirement already satisfied: mistune<2,>=0.8.1 in /usr/local/lib/python3.6/dist-packages (from nbconvert->notebook>=4.4.1->widgetsnbextension~=3.5.0->ipywidgets>=7.0.0->pydeck>=0.1.dev5->streamlit) (0.8.4)\n",
            "Requirement already satisfied: pandocfilters>=1.4.1 in /usr/local/lib/python3.6/dist-packages (from nbconvert->notebook>=4.4.1->widgetsnbextension~=3.5.0->ipywidgets>=7.0.0->pydeck>=0.1.dev5->streamlit) (1.4.3)\n",
            "Requirement already satisfied: bleach in /usr/local/lib/python3.6/dist-packages (from nbconvert->notebook>=4.4.1->widgetsnbextension~=3.5.0->ipywidgets>=7.0.0->pydeck>=0.1.dev5->streamlit) (3.2.1)\n",
            "Requirement already satisfied: defusedxml in /usr/local/lib/python3.6/dist-packages (from nbconvert->notebook>=4.4.1->widgetsnbextension~=3.5.0->ipywidgets>=7.0.0->pydeck>=0.1.dev5->streamlit) (0.6.0)\n",
            "Requirement already satisfied: testpath in /usr/local/lib/python3.6/dist-packages (from nbconvert->notebook>=4.4.1->widgetsnbextension~=3.5.0->ipywidgets>=7.0.0->pydeck>=0.1.dev5->streamlit) (0.4.4)\n",
            "Requirement already satisfied: webencodings in /usr/local/lib/python3.6/dist-packages (from bleach->nbconvert->notebook>=4.4.1->widgetsnbextension~=3.5.0->ipywidgets>=7.0.0->pydeck>=0.1.dev5->streamlit) (0.5.1)\n",
            "Building wheels for collected packages: blinker\n",
            "  Building wheel for blinker (setup.py) ... \u001b[?25l\u001b[?25hdone\n",
            "  Created wheel for blinker: filename=blinker-1.4-cp36-none-any.whl size=13450 sha256=c29788b87f0299660782624ca5854505a91b0b33249710b0539165ccb64d4d49\n",
            "  Stored in directory: /root/.cache/pip/wheels/92/a0/00/8690a57883956a301d91cf4ec999cc0b258b01e3f548f86e89\n",
            "Successfully built blinker\n",
            "\u001b[31mERROR: google-colab 1.0.0 has requirement ipykernel~=4.10, but you'll have ipykernel 5.4.3 which is incompatible.\u001b[0m\n",
            "Installing collected packages: smmap, gitdb, gitpython, validators, watchdog, ipykernel, pydeck, base58, blinker, streamlit\n",
            "  Found existing installation: ipykernel 4.10.1\n",
            "    Uninstalling ipykernel-4.10.1:\n",
            "      Successfully uninstalled ipykernel-4.10.1\n",
            "Successfully installed base58-2.1.0 blinker-1.4 gitdb-4.0.5 gitpython-3.1.12 ipykernel-5.4.3 pydeck-0.5.0 smmap-3.0.5 streamlit-0.75.0 validators-0.18.2 watchdog-1.0.2\n"
          ],
          "name": "stdout"
        },
        {
          "output_type": "display_data",
          "data": {
            "application/vnd.colab-display-data+json": {
              "pip_warning": {
                "packages": [
                  "ipykernel"
                ]
              }
            }
          },
          "metadata": {
            "tags": []
          }
        }
      ]
    },
    {
      "cell_type": "code",
      "metadata": {
        "id": "g0PhXcgJvB-N",
        "colab": {
          "base_uri": "https://localhost:8080/"
        },
        "outputId": "8edf6d8f-1cf6-4487-c21c-ca8c10c3814e"
      },
      "source": [
        "!wget https://bin.equinox.io/c/4VmDzA7iaHb/ngrok-stable-linux-amd64.zip\n",
        "!unzip ngrok-stable-linux-amd64.zip"
      ],
      "execution_count": 2,
      "outputs": [
        {
          "output_type": "stream",
          "text": [
            "--2021-01-27 16:46:47--  https://bin.equinox.io/c/4VmDzA7iaHb/ngrok-stable-linux-amd64.zip\n",
            "Resolving bin.equinox.io (bin.equinox.io)... 52.5.208.118, 52.44.17.83, 52.5.36.149, ...\n",
            "Connecting to bin.equinox.io (bin.equinox.io)|52.5.208.118|:443... connected.\n",
            "HTTP request sent, awaiting response... 200 OK\n",
            "Length: 13773305 (13M) [application/octet-stream]\n",
            "Saving to: ‘ngrok-stable-linux-amd64.zip’\n",
            "\n",
            "ngrok-stable-linux- 100%[===================>]  13.13M  57.1MB/s    in 0.2s    \n",
            "\n",
            "2021-01-27 16:46:48 (57.1 MB/s) - ‘ngrok-stable-linux-amd64.zip’ saved [13773305/13773305]\n",
            "\n",
            "Archive:  ngrok-stable-linux-amd64.zip\n",
            "  inflating: ngrok                   \n"
          ],
          "name": "stdout"
        }
      ]
    },
    {
      "cell_type": "markdown",
      "metadata": {
        "id": "bcP-A5Z9iHCt"
      },
      "source": [
        "# Paso 1: Carga de Datasets Originales"
      ]
    },
    {
      "cell_type": "markdown",
      "metadata": {
        "id": "IxOOo6q6-tEo"
      },
      "source": [
        "Primero, creamos los directorios donde almacenaremos los datasets originales, y a continuación los cargamos (están almacenados en un drive público):"
      ]
    },
    {
      "cell_type": "code",
      "metadata": {
        "id": "C1_lYzJl8M_z",
        "colab": {
          "base_uri": "https://localhost:8080/",
          "height": 533
        },
        "outputId": "0d0f49c4-58e9-4926-ff71-2296e948a3b3"
      },
      "source": [
        "# !pip install gdown\n",
        "\n",
        "!mkdir -p original_datasets/videogames \n",
        "\n",
        "!mkdir -p original_datasets/movies \n",
        "\n",
        "!mkdir -p original_datasets/series\n",
        "\n",
        "!mkdir -p original_datasets/songs\n",
        "\n",
        "!mkdir -p system_datasets\n",
        "\n",
        "import gdown as gd\n",
        "\n",
        "# Videojuegos\n",
        "gd.download('https://drive.google.com/uc?id=1-KgMce1i1IuEEsk-xUnIRTWq1R8jr8Ey', \n",
        "            'original_datasets/videogames/steam_list.csv', quiet=False) \n",
        "            # Títulos de videojuegos (Steam)\n",
        "\n",
        "gd.download('https://drive.google.com/uc?id=1uYAG398bhK7fylytYixJo8xdHirFd_Xe', \n",
        "            'original_datasets/videogames/steam_descriptions.csv', quiet=False) \n",
        "            # Descripciones de videojuegos (Steam)\n",
        "\n",
        "gd.download('https://drive.google.com/uc?id=1IqKNR6cdWJWIDXZSxg-TnRITpFWv2tgM', \n",
        "            'original_datasets/videogames/steam_reviews.csv', quiet=False) \n",
        "            # Comentarios de videojuegos. (Steam)\n",
        "\n",
        "# Películas\n",
        "gd.download('https://drive.google.com/uc?id=1U7OJMy5wmseeeRLiPhwnXRsHzB0Az3-I', \n",
        "            'original_datasets/movies/imbd_movies.csv', quiet=False) \n",
        "            # Títulos y descripciones de películas (IMDb)\n",
        "\n",
        "gd.download('https://drive.google.com/uc?id=157m8NSM5D7xE-VZ8iqVzNNvQa6rMPf3d', \n",
        "            'original_datasets/movies/metacritic_reviews.csv', quiet=False) \n",
        "            # Comentarios de películas (Metacritic)\n",
        "\n",
        "# Series\n",
        "gd.download('https://drive.google.com/uc?id=1k0kzwyGDPNZTAYc3YkS18MexXJFZQalF', \n",
        "            'original_datasets/series/series_descriptions.csv', quiet=False) \n",
        "            # Títulos y descripciones de series (Obtenido con Web Scraping y \n",
        "            # preprocesado)\n",
        "\n",
        "\n",
        "# Canciones\n",
        "gd.download('https://drive.google.com/uc?id=1sPGm1oXikFLbpnr8lqHPZR6zDlqwW5bM', \n",
        "            'original_datasets/songs/songs_lyrics.csv', quiet=False) \n",
        "            # Títulos y letras de canciones\n",
        "\n"
      ],
      "execution_count": 3,
      "outputs": [
        {
          "output_type": "stream",
          "text": [
            "Downloading...\n",
            "From: https://drive.google.com/uc?id=1-KgMce1i1IuEEsk-xUnIRTWq1R8jr8Ey\n",
            "To: /content/original_datasets/videogames/steam_list.csv\n",
            "5.82MB [00:00, 101MB/s]\n",
            "Downloading...\n",
            "From: https://drive.google.com/uc?id=1uYAG398bhK7fylytYixJo8xdHirFd_Xe\n",
            "To: /content/original_datasets/videogames/steam_descriptions.csv\n",
            "94.7MB [00:00, 197MB/s] \n",
            "Downloading...\n",
            "From: https://drive.google.com/uc?id=1IqKNR6cdWJWIDXZSxg-TnRITpFWv2tgM\n",
            "To: /content/original_datasets/videogames/steam_reviews.csv\n",
            "121MB [00:00, 247MB/s]\n",
            "Downloading...\n",
            "From: https://drive.google.com/uc?id=1U7OJMy5wmseeeRLiPhwnXRsHzB0Az3-I\n",
            "To: /content/original_datasets/movies/imbd_movies.csv\n",
            "47.9MB [00:00, 104MB/s] \n",
            "Downloading...\n",
            "From: https://drive.google.com/uc?id=157m8NSM5D7xE-VZ8iqVzNNvQa6rMPf3d\n",
            "To: /content/original_datasets/movies/metacritic_reviews.csv\n",
            "51.7MB [00:00, 228MB/s] \n",
            "Downloading...\n",
            "From: https://drive.google.com/uc?id=1k0kzwyGDPNZTAYc3YkS18MexXJFZQalF\n",
            "To: /content/original_datasets/series/series_descriptions.csv\n",
            "100%|██████████| 335k/335k [00:00<00:00, 59.8MB/s]\n",
            "Downloading...\n",
            "From: https://drive.google.com/uc?id=1sPGm1oXikFLbpnr8lqHPZR6zDlqwW5bM\n",
            "To: /content/original_datasets/songs/songs_lyrics.csv\n",
            "100%|██████████| 231k/231k [00:00<00:00, 18.2MB/s]\n"
          ],
          "name": "stderr"
        },
        {
          "output_type": "execute_result",
          "data": {
            "application/vnd.google.colaboratory.intrinsic+json": {
              "type": "string"
            },
            "text/plain": [
              "'original_datasets/songs/songs_lyrics.csv'"
            ]
          },
          "metadata": {
            "tags": []
          },
          "execution_count": 3
        }
      ]
    },
    {
      "cell_type": "markdown",
      "metadata": {
        "id": "IpFMHu0Di9PF"
      },
      "source": [
        "# Paso 2: Confección de Datasets Propios seleccionando un subconjuntos de los Datasets Originales"
      ]
    },
    {
      "cell_type": "markdown",
      "metadata": {
        "id": "hoC31vtB-2x7"
      },
      "source": [
        "Abrimos los ficheros con Pandas:"
      ]
    },
    {
      "cell_type": "code",
      "metadata": {
        "id": "WwCPplnP-oR9",
        "colab": {
          "base_uri": "https://localhost:8080/"
        },
        "outputId": "8039b8c0-b860-4e1c-977d-29b91327384a"
      },
      "source": [
        "import pandas as pd\n",
        "\n",
        "# Videojuegos\n",
        "originalSteamList = pd.read_csv('original_datasets/videogames/steam_list.csv')\n",
        "originalSteamDescriptions = pd.read_csv('original_datasets/videogames/steam_descriptions.csv')\n",
        "originalSteamReviews = pd.read_csv('original_datasets/videogames/steam_reviews.csv')\n",
        "\n",
        "# Películas\n",
        "originalIMBDMoviesWithDescription = pd.read_csv('original_datasets/movies/imbd_movies.csv')\n",
        "originalMetacriticReviews = pd.read_csv('original_datasets/movies/metacritic_reviews.csv')\n",
        "\n",
        "# Cine\n",
        "preprocessedSeriesWithDescription = pd.read_csv('original_datasets/series/series_descriptions.csv')\n",
        "\n",
        "# Canciones\n",
        "originalSongsWithLyrics = pd.read_csv('original_datasets/songs/songs_lyrics.csv')"
      ],
      "execution_count": 4,
      "outputs": [
        {
          "output_type": "stream",
          "text": [
            "/usr/local/lib/python3.6/dist-packages/IPython/core/interactiveshell.py:2718: DtypeWarning: Columns (3) have mixed types.Specify dtype option on import or set low_memory=False.\n",
            "  interactivity=interactivity, compiler=compiler, result=result)\n"
          ],
          "name": "stderr"
        }
      ]
    },
    {
      "cell_type": "markdown",
      "metadata": {
        "id": "P7py-4yM7RSc"
      },
      "source": [
        "Reducimos el tamaño del **dataset de videojuegos**, solo considerando aquellos juegos que han vendido más de 20k unidades"
      ]
    },
    {
      "cell_type": "code",
      "metadata": {
        "id": "ynhmvgnf6mL_"
      },
      "source": [
        "originalSteamList = originalSteamList[originalSteamList['owners'] != '0-20000']"
      ],
      "execution_count": 5,
      "outputs": []
    },
    {
      "cell_type": "markdown",
      "metadata": {
        "id": "p1zqBL5-MzdZ"
      },
      "source": [
        "Reducimos el tamaño del **dataset de películas**, solo considerando películas con más de 70 reseñas por usuarios"
      ]
    },
    {
      "cell_type": "code",
      "metadata": {
        "id": "ooh9Os4VL_4H"
      },
      "source": [
        "originalIMBDMoviesWithDescription = originalIMBDMoviesWithDescription[originalIMBDMoviesWithDescription['reviews_from_users'] > 70]"
      ],
      "execution_count": 6,
      "outputs": []
    },
    {
      "cell_type": "markdown",
      "metadata": {
        "id": "N5aEaT-v_MZr"
      },
      "source": [
        "Ahora, unimos datasets y seleccionamos las columnas necesarias:"
      ]
    },
    {
      "cell_type": "code",
      "metadata": {
        "id": "_VRP0baS_MHn"
      },
      "source": [
        "# Estas líneas crean una copia del csv con un id para cada elemento con el \n",
        "# formato que hemos especificado (<inicialMedio><autoIncremental>):\n",
        "\n",
        "# Videojuegos\n",
        "listadoVideojuegos = originalSteamList.copy()\n",
        "listadoVideojuegos.insert(0, 'id_obra', range(0, len(listadoVideojuegos)))\n",
        "listadoVideojuegos = listadoVideojuegos.assign(id_obra=lambda x: 'V'+x.id_obra.astype(str))\n",
        "\n",
        "# Películas\n",
        "listadoDescripcionCine = originalIMBDMoviesWithDescription.copy()\n",
        "listadoDescripcionCine.insert(0, 'id_obra', range(0, len(listadoDescripcionCine)))\n",
        "listadoDescripcionCine = listadoDescripcionCine.assign(id_obra=lambda x: 'C'+x.id_obra.astype(str))\n",
        "\n",
        "# Música\n",
        "listadoLetraCanciones = originalSongsWithLyrics.copy()\n",
        "listadoLetraCanciones.insert(0, 'id_obra', range(0, len(listadoLetraCanciones)))\n",
        "listadoLetraCanciones = listadoLetraCanciones.assign(id_obra=lambda x: 'M'+x.id_obra.astype(str))\n",
        "\n",
        "# Los datasets de Series ya se encuentra en el formato deseado."
      ],
      "execution_count": 7,
      "outputs": []
    },
    {
      "cell_type": "markdown",
      "metadata": {
        "id": "D0EriCxGXL2n"
      },
      "source": [
        "Listado de Descripciones de Videojuegos:"
      ]
    },
    {
      "cell_type": "code",
      "metadata": {
        "id": "nIPTXvnsXI_4",
        "colab": {
          "base_uri": "https://localhost:8080/",
          "height": 406
        },
        "outputId": "e0b79f0f-0ee5-4f1e-a6b5-d7cc63f6bdfb"
      },
      "source": [
        "# Videojuegos (Descripciones):\n",
        "listadoDescripcionVideojuegos = pd.merge(listadoVideojuegos, originalSteamDescriptions, left_on='appid', right_on='steam_appid')\n",
        "\n",
        "listadoDescripcionVideojuegos = listadoDescripcionVideojuegos.rename(columns={'name':'nombre', 'short_description':'descripcion'})\n",
        "\n",
        "listadoDescripcionVideojuegos = listadoDescripcionVideojuegos.assign(medio='V')\n",
        "\n",
        "# Almacenamos el listado obtenido en un fichero CSV:\n",
        "listadoDescripcionVideojuegos[['id_obra', 'medio', 'nombre', 'descripcion']].to_csv('system_datasets/obras_descripcion.csv', index=False)\n",
        "\n",
        "listadoDescripcionVideojuegos[['id_obra', 'medio', 'nombre', 'descripcion']]"
      ],
      "execution_count": 8,
      "outputs": [
        {
          "output_type": "execute_result",
          "data": {
            "text/html": [
              "<div>\n",
              "<style scoped>\n",
              "    .dataframe tbody tr th:only-of-type {\n",
              "        vertical-align: middle;\n",
              "    }\n",
              "\n",
              "    .dataframe tbody tr th {\n",
              "        vertical-align: top;\n",
              "    }\n",
              "\n",
              "    .dataframe thead th {\n",
              "        text-align: right;\n",
              "    }\n",
              "</style>\n",
              "<table border=\"1\" class=\"dataframe\">\n",
              "  <thead>\n",
              "    <tr style=\"text-align: right;\">\n",
              "      <th></th>\n",
              "      <th>id_obra</th>\n",
              "      <th>medio</th>\n",
              "      <th>nombre</th>\n",
              "      <th>descripcion</th>\n",
              "    </tr>\n",
              "  </thead>\n",
              "  <tbody>\n",
              "    <tr>\n",
              "      <th>0</th>\n",
              "      <td>V0</td>\n",
              "      <td>V</td>\n",
              "      <td>Counter-Strike</td>\n",
              "      <td>Play the world's number 1 online action game. ...</td>\n",
              "    </tr>\n",
              "    <tr>\n",
              "      <th>1</th>\n",
              "      <td>V1</td>\n",
              "      <td>V</td>\n",
              "      <td>Team Fortress Classic</td>\n",
              "      <td>One of the most popular online action games of...</td>\n",
              "    </tr>\n",
              "    <tr>\n",
              "      <th>2</th>\n",
              "      <td>V2</td>\n",
              "      <td>V</td>\n",
              "      <td>Day of Defeat</td>\n",
              "      <td>Enlist in an intense brand of Axis vs. Allied ...</td>\n",
              "    </tr>\n",
              "    <tr>\n",
              "      <th>3</th>\n",
              "      <td>V3</td>\n",
              "      <td>V</td>\n",
              "      <td>Deathmatch Classic</td>\n",
              "      <td>Enjoy fast-paced multiplayer gaming with Death...</td>\n",
              "    </tr>\n",
              "    <tr>\n",
              "      <th>4</th>\n",
              "      <td>V4</td>\n",
              "      <td>V</td>\n",
              "      <td>Half-Life: Opposing Force</td>\n",
              "      <td>Return to the Black Mesa Research Facility as ...</td>\n",
              "    </tr>\n",
              "    <tr>\n",
              "      <th>...</th>\n",
              "      <td>...</td>\n",
              "      <td>...</td>\n",
              "      <td>...</td>\n",
              "      <td>...</td>\n",
              "    </tr>\n",
              "    <tr>\n",
              "      <th>8474</th>\n",
              "      <td>V8474</td>\n",
              "      <td>V</td>\n",
              "      <td>BLOCKADE Classic</td>\n",
              "      <td>BLOCKADE Classic! First Person Shooter in an e...</td>\n",
              "    </tr>\n",
              "    <tr>\n",
              "      <th>8475</th>\n",
              "      <td>V8475</td>\n",
              "      <td>V</td>\n",
              "      <td>Arena Stars</td>\n",
              "      <td>Choose your Hero, build your Team and take on ...</td>\n",
              "    </tr>\n",
              "    <tr>\n",
              "      <th>8476</th>\n",
              "      <td>V8476</td>\n",
              "      <td>V</td>\n",
              "      <td>Burning Daylight</td>\n",
              "      <td>Waking up naked in a slaughterhouse, you must ...</td>\n",
              "    </tr>\n",
              "    <tr>\n",
              "      <th>8477</th>\n",
              "      <td>V8477</td>\n",
              "      <td>V</td>\n",
              "      <td>KillStreak.tv</td>\n",
              "      <td>KILLSTREAK.tv is a quick fire 3rd-person multi...</td>\n",
              "    </tr>\n",
              "    <tr>\n",
              "      <th>8478</th>\n",
              "      <td>V8478</td>\n",
              "      <td>V</td>\n",
              "      <td>Sin Slayers: The First Sin</td>\n",
              "      <td>Sin Slayers is an RPG with roguelike elements ...</td>\n",
              "    </tr>\n",
              "  </tbody>\n",
              "</table>\n",
              "<p>8479 rows × 4 columns</p>\n",
              "</div>"
            ],
            "text/plain": [
              "     id_obra  ...                                        descripcion\n",
              "0         V0  ...  Play the world's number 1 online action game. ...\n",
              "1         V1  ...  One of the most popular online action games of...\n",
              "2         V2  ...  Enlist in an intense brand of Axis vs. Allied ...\n",
              "3         V3  ...  Enjoy fast-paced multiplayer gaming with Death...\n",
              "4         V4  ...  Return to the Black Mesa Research Facility as ...\n",
              "...      ...  ...                                                ...\n",
              "8474   V8474  ...  BLOCKADE Classic! First Person Shooter in an e...\n",
              "8475   V8475  ...  Choose your Hero, build your Team and take on ...\n",
              "8476   V8476  ...  Waking up naked in a slaughterhouse, you must ...\n",
              "8477   V8477  ...  KILLSTREAK.tv is a quick fire 3rd-person multi...\n",
              "8478   V8478  ...  Sin Slayers is an RPG with roguelike elements ...\n",
              "\n",
              "[8479 rows x 4 columns]"
            ]
          },
          "metadata": {
            "tags": []
          },
          "execution_count": 8
        }
      ]
    },
    {
      "cell_type": "markdown",
      "metadata": {
        "id": "o35rlOrJXSNX"
      },
      "source": [
        "Listado de Descripciones de Cine"
      ]
    },
    {
      "cell_type": "code",
      "metadata": {
        "id": "Bhw0Pr6QIHCK",
        "colab": {
          "base_uri": "https://localhost:8080/",
          "height": 406
        },
        "outputId": "9a5eaf54-569b-497c-a232-23aca03f3d0f"
      },
      "source": [
        "# Cine (Descripciones):\n",
        "listadoDescripcionCine = listadoDescripcionCine.rename(columns={'title':'nombre', 'description':'descripcion'})\n",
        "listadoDescripcionCine = listadoDescripcionCine.assign(medio='C')\n",
        "\n",
        "# Almacenamos el listado obtenido en un fichero CSV (se concatena al final del mismo)\n",
        "listadoDescripcionCine[['id_obra', 'medio', 'nombre', 'descripcion']].dropna().to_csv('system_datasets/obras_descripcion.csv', index=False, mode='a', header=False)\n",
        "listadoDescripcionCine[['id_obra', 'medio', 'nombre', 'descripcion']].dropna()\n"
      ],
      "execution_count": 9,
      "outputs": [
        {
          "output_type": "execute_result",
          "data": {
            "text/html": [
              "<div>\n",
              "<style scoped>\n",
              "    .dataframe tbody tr th:only-of-type {\n",
              "        vertical-align: middle;\n",
              "    }\n",
              "\n",
              "    .dataframe tbody tr th {\n",
              "        vertical-align: top;\n",
              "    }\n",
              "\n",
              "    .dataframe thead th {\n",
              "        text-align: right;\n",
              "    }\n",
              "</style>\n",
              "<table border=\"1\" class=\"dataframe\">\n",
              "  <thead>\n",
              "    <tr style=\"text-align: right;\">\n",
              "      <th></th>\n",
              "      <th>id_obra</th>\n",
              "      <th>medio</th>\n",
              "      <th>nombre</th>\n",
              "      <th>descripcion</th>\n",
              "    </tr>\n",
              "  </thead>\n",
              "  <tbody>\n",
              "    <tr>\n",
              "      <th>47</th>\n",
              "      <td>C0</td>\n",
              "      <td>C</td>\n",
              "      <td>Nascita di una nazione</td>\n",
              "      <td>The Stoneman family finds its friendship with ...</td>\n",
              "    </tr>\n",
              "    <tr>\n",
              "      <th>76</th>\n",
              "      <td>C1</td>\n",
              "      <td>C</td>\n",
              "      <td>Intolerance</td>\n",
              "      <td>The story of a poor young woman, separated by ...</td>\n",
              "    </tr>\n",
              "    <tr>\n",
              "      <th>147</th>\n",
              "      <td>C2</td>\n",
              "      <td>C</td>\n",
              "      <td>Giglio infranto</td>\n",
              "      <td>A frail waif, abused by her brutal boxer fathe...</td>\n",
              "    </tr>\n",
              "    <tr>\n",
              "      <th>165</th>\n",
              "      <td>C3</td>\n",
              "      <td>C</td>\n",
              "      <td>Il gabinetto del dottor Caligari</td>\n",
              "      <td>Hypnotist Dr. Caligari uses a somnambulist, Ce...</td>\n",
              "    </tr>\n",
              "    <tr>\n",
              "      <th>190</th>\n",
              "      <td>C4</td>\n",
              "      <td>C</td>\n",
              "      <td>Dr. Jekyll e Mr. Hyde</td>\n",
              "      <td>Dr. Henry Jekyll experiments with scientific m...</td>\n",
              "    </tr>\n",
              "    <tr>\n",
              "      <th>...</th>\n",
              "      <td>...</td>\n",
              "      <td>...</td>\n",
              "      <td>...</td>\n",
              "      <td>...</td>\n",
              "    </tr>\n",
              "    <tr>\n",
              "      <th>85811</th>\n",
              "      <td>C9130</td>\n",
              "      <td>C</td>\n",
              "      <td>Falling Inn Love - Ristrutturazione con amore</td>\n",
              "      <td>When city girl Gabriela spontaneously enters a...</td>\n",
              "    </tr>\n",
              "    <tr>\n",
              "      <th>85817</th>\n",
              "      <td>C9131</td>\n",
              "      <td>C</td>\n",
              "      <td>Paranormal Investigation</td>\n",
              "      <td>When a young man becomes possessed after playi...</td>\n",
              "    </tr>\n",
              "    <tr>\n",
              "      <th>85837</th>\n",
              "      <td>C9132</td>\n",
              "      <td>C</td>\n",
              "      <td>VFW</td>\n",
              "      <td>A group of old war veterans put their lives on...</td>\n",
              "    </tr>\n",
              "    <tr>\n",
              "      <th>85839</th>\n",
              "      <td>C9133</td>\n",
              "      <td>C</td>\n",
              "      <td>Coffee &amp; Kareem</td>\n",
              "      <td>Twelve-year-old Kareem Manning hires a crimina...</td>\n",
              "    </tr>\n",
              "    <tr>\n",
              "      <th>85843</th>\n",
              "      <td>C9134</td>\n",
              "      <td>C</td>\n",
              "      <td>Kaithi</td>\n",
              "      <td>A recently released prisoner becomes involved ...</td>\n",
              "    </tr>\n",
              "  </tbody>\n",
              "</table>\n",
              "<p>9118 rows × 4 columns</p>\n",
              "</div>"
            ],
            "text/plain": [
              "      id_obra  ...                                        descripcion\n",
              "47         C0  ...  The Stoneman family finds its friendship with ...\n",
              "76         C1  ...  The story of a poor young woman, separated by ...\n",
              "147        C2  ...  A frail waif, abused by her brutal boxer fathe...\n",
              "165        C3  ...  Hypnotist Dr. Caligari uses a somnambulist, Ce...\n",
              "190        C4  ...  Dr. Henry Jekyll experiments with scientific m...\n",
              "...       ...  ...                                                ...\n",
              "85811   C9130  ...  When city girl Gabriela spontaneously enters a...\n",
              "85817   C9131  ...  When a young man becomes possessed after playi...\n",
              "85837   C9132  ...  A group of old war veterans put their lives on...\n",
              "85839   C9133  ...  Twelve-year-old Kareem Manning hires a crimina...\n",
              "85843   C9134  ...  A recently released prisoner becomes involved ...\n",
              "\n",
              "[9118 rows x 4 columns]"
            ]
          },
          "metadata": {
            "tags": []
          },
          "execution_count": 9
        }
      ]
    },
    {
      "cell_type": "markdown",
      "metadata": {
        "id": "W9DJJiK-XWmx"
      },
      "source": [
        "Listado de Descripciones de Series:"
      ]
    },
    {
      "cell_type": "code",
      "metadata": {
        "colab": {
          "base_uri": "https://localhost:8080/",
          "height": 406
        },
        "id": "Xqzt9Oylam0V",
        "outputId": "91041b82-13d5-4fbb-8fe9-280259a8c0a7"
      },
      "source": [
        "# Series (Descripciones):\n",
        "# Almacenamos el listado obtenido en un fichero CSV (se concatena al final del mismo)\n",
        "preprocessedSeriesWithDescription[['id_obra', 'medio', 'nombre', 'descripcion']].dropna().to_csv('system_datasets/obras_descripcion.csv', index=False, mode='a', header=False)\n",
        "preprocessedSeriesWithDescription[['id_obra', 'medio', 'nombre', 'descripcion']].dropna()"
      ],
      "execution_count": 10,
      "outputs": [
        {
          "output_type": "execute_result",
          "data": {
            "text/html": [
              "<div>\n",
              "<style scoped>\n",
              "    .dataframe tbody tr th:only-of-type {\n",
              "        vertical-align: middle;\n",
              "    }\n",
              "\n",
              "    .dataframe tbody tr th {\n",
              "        vertical-align: top;\n",
              "    }\n",
              "\n",
              "    .dataframe thead th {\n",
              "        text-align: right;\n",
              "    }\n",
              "</style>\n",
              "<table border=\"1\" class=\"dataframe\">\n",
              "  <thead>\n",
              "    <tr style=\"text-align: right;\">\n",
              "      <th></th>\n",
              "      <th>id_obra</th>\n",
              "      <th>medio</th>\n",
              "      <th>nombre</th>\n",
              "      <th>descripcion</th>\n",
              "    </tr>\n",
              "  </thead>\n",
              "  <tbody>\n",
              "    <tr>\n",
              "      <th>0</th>\n",
              "      <td>S0</td>\n",
              "      <td>S</td>\n",
              "      <td>Transformers Prime</td>\n",
              "      <td>With the help of three human allies, the Autob...</td>\n",
              "    </tr>\n",
              "    <tr>\n",
              "      <th>1</th>\n",
              "      <td>S1</td>\n",
              "      <td>S</td>\n",
              "      <td>Transformers: Robots in Disguise</td>\n",
              "      <td>When a prison ship crash unleashes hundreds of...</td>\n",
              "    </tr>\n",
              "    <tr>\n",
              "      <th>2</th>\n",
              "      <td>S2</td>\n",
              "      <td>S</td>\n",
              "      <td>Apaches</td>\n",
              "      <td>A young journalist is forced into a life of cr...</td>\n",
              "    </tr>\n",
              "    <tr>\n",
              "      <th>3</th>\n",
              "      <td>S3</td>\n",
              "      <td>S</td>\n",
              "      <td>Fire Chasers</td>\n",
              "      <td>As California's 2016 fire season rages, brave ...</td>\n",
              "    </tr>\n",
              "    <tr>\n",
              "      <th>4</th>\n",
              "      <td>S4</td>\n",
              "      <td>S</td>\n",
              "      <td>Castle of Stars</td>\n",
              "      <td>As four couples with different lifestyles go t...</td>\n",
              "    </tr>\n",
              "    <tr>\n",
              "      <th>...</th>\n",
              "      <td>...</td>\n",
              "      <td>...</td>\n",
              "      <td>...</td>\n",
              "      <td>...</td>\n",
              "    </tr>\n",
              "    <tr>\n",
              "      <th>1964</th>\n",
              "      <td>S1964</td>\n",
              "      <td>S</td>\n",
              "      <td>Kikoriki</td>\n",
              "      <td>A wacky rabbit and his gang of animal pals hav...</td>\n",
              "    </tr>\n",
              "    <tr>\n",
              "      <th>1965</th>\n",
              "      <td>S1965</td>\n",
              "      <td>S</td>\n",
              "      <td>Red vs. Blue</td>\n",
              "      <td>This parody of first-person shooter games, mil...</td>\n",
              "    </tr>\n",
              "    <tr>\n",
              "      <th>1966</th>\n",
              "      <td>S1966</td>\n",
              "      <td>S</td>\n",
              "      <td>Maron</td>\n",
              "      <td>Marc Maron stars as Marc Maron, who interviews...</td>\n",
              "    </tr>\n",
              "    <tr>\n",
              "      <th>1967</th>\n",
              "      <td>S1967</td>\n",
              "      <td>S</td>\n",
              "      <td>A Young Doctor's Notebook and Other Stories</td>\n",
              "      <td>Set during the Russian Revolution, this comic ...</td>\n",
              "    </tr>\n",
              "    <tr>\n",
              "      <th>1968</th>\n",
              "      <td>S1968</td>\n",
              "      <td>S</td>\n",
              "      <td>Friends</td>\n",
              "      <td>This hit sitcom follows the merry misadventure...</td>\n",
              "    </tr>\n",
              "  </tbody>\n",
              "</table>\n",
              "<p>1969 rows × 4 columns</p>\n",
              "</div>"
            ],
            "text/plain": [
              "     id_obra  ...                                        descripcion\n",
              "0         S0  ...  With the help of three human allies, the Autob...\n",
              "1         S1  ...  When a prison ship crash unleashes hundreds of...\n",
              "2         S2  ...  A young journalist is forced into a life of cr...\n",
              "3         S3  ...  As California's 2016 fire season rages, brave ...\n",
              "4         S4  ...  As four couples with different lifestyles go t...\n",
              "...      ...  ...                                                ...\n",
              "1964   S1964  ...  A wacky rabbit and his gang of animal pals hav...\n",
              "1965   S1965  ...  This parody of first-person shooter games, mil...\n",
              "1966   S1966  ...  Marc Maron stars as Marc Maron, who interviews...\n",
              "1967   S1967  ...  Set during the Russian Revolution, this comic ...\n",
              "1968   S1968  ...  This hit sitcom follows the merry misadventure...\n",
              "\n",
              "[1969 rows x 4 columns]"
            ]
          },
          "metadata": {
            "tags": []
          },
          "execution_count": 10
        }
      ]
    },
    {
      "cell_type": "markdown",
      "metadata": {
        "id": "4_DG6taUXgUy"
      },
      "source": [
        "Listado de Letras de Canciones:"
      ]
    },
    {
      "cell_type": "code",
      "metadata": {
        "id": "nOKk_SIKeOVK",
        "colab": {
          "base_uri": "https://localhost:8080/",
          "height": 406
        },
        "outputId": "02dfeb22-bb41-43f1-bed6-279e11d6bd64"
      },
      "source": [
        "listadoLetraCanciones = listadoLetraCanciones.rename(columns={'Title':'nombre', 'Lyric':'descripcion'})\n",
        "\n",
        "listadoLetraCanciones = listadoLetraCanciones.assign(medio='M')\n",
        "\n",
        "listadoLetraCanciones[['id_obra', 'medio', 'nombre', 'descripcion']].dropna().to_csv('system_datasets/obras_descripcion.csv', index=False, mode='a', header=False)\n",
        "\n",
        "listadoLetraCanciones[['id_obra', 'medio', 'nombre', 'descripcion']].dropna()"
      ],
      "execution_count": 11,
      "outputs": [
        {
          "output_type": "execute_result",
          "data": {
            "text/html": [
              "<div>\n",
              "<style scoped>\n",
              "    .dataframe tbody tr th:only-of-type {\n",
              "        vertical-align: middle;\n",
              "    }\n",
              "\n",
              "    .dataframe tbody tr th {\n",
              "        vertical-align: top;\n",
              "    }\n",
              "\n",
              "    .dataframe thead th {\n",
              "        text-align: right;\n",
              "    }\n",
              "</style>\n",
              "<table border=\"1\" class=\"dataframe\">\n",
              "  <thead>\n",
              "    <tr style=\"text-align: right;\">\n",
              "      <th></th>\n",
              "      <th>id_obra</th>\n",
              "      <th>medio</th>\n",
              "      <th>nombre</th>\n",
              "      <th>descripcion</th>\n",
              "    </tr>\n",
              "  </thead>\n",
              "  <tbody>\n",
              "    <tr>\n",
              "      <th>0</th>\n",
              "      <td>M0</td>\n",
              "      <td>M</td>\n",
              "      <td>Kill You</td>\n",
              "      <td>Whoops! Is that a subliminal hint?</td>\n",
              "    </tr>\n",
              "    <tr>\n",
              "      <th>1</th>\n",
              "      <td>M1</td>\n",
              "      <td>M</td>\n",
              "      <td>Bring da Ruckus</td>\n",
              "      <td>Givin' bystanders heart-attacks</td>\n",
              "    </tr>\n",
              "    <tr>\n",
              "      <th>2</th>\n",
              "      <td>M2</td>\n",
              "      <td>M</td>\n",
              "      <td>Drop the World</td>\n",
              "      <td>And I'm a drop it on yo f***in' head, ha ha</td>\n",
              "    </tr>\n",
              "    <tr>\n",
              "      <th>3</th>\n",
              "      <td>M3</td>\n",
              "      <td>M</td>\n",
              "      <td>Who Gives a Fuck Where You From</td>\n",
              "      <td>The kings from Memphis man riding in my Chevy ...</td>\n",
              "    </tr>\n",
              "    <tr>\n",
              "      <th>4</th>\n",
              "      <td>M4</td>\n",
              "      <td>M</td>\n",
              "      <td>Bad Day</td>\n",
              "      <td>You kick up the leaves, and the magic is lost</td>\n",
              "    </tr>\n",
              "    <tr>\n",
              "      <th>...</th>\n",
              "      <td>...</td>\n",
              "      <td>...</td>\n",
              "      <td>...</td>\n",
              "      <td>...</td>\n",
              "    </tr>\n",
              "    <tr>\n",
              "      <th>3004</th>\n",
              "      <td>M3004</td>\n",
              "      <td>M</td>\n",
              "      <td>The Spiteful Chant</td>\n",
              "      <td>I'm going big, suck my dick</td>\n",
              "    </tr>\n",
              "    <tr>\n",
              "      <th>3005</th>\n",
              "      <td>M3005</td>\n",
              "      <td>M</td>\n",
              "      <td>Agony Fires</td>\n",
              "      <td>Satan's trigger finger, rock the bells in Hell...</td>\n",
              "    </tr>\n",
              "    <tr>\n",
              "      <th>3006</th>\n",
              "      <td>M3006</td>\n",
              "      <td>M</td>\n",
              "      <td>Astronaut</td>\n",
              "      <td>Can I please come down, come down</td>\n",
              "    </tr>\n",
              "    <tr>\n",
              "      <th>3007</th>\n",
              "      <td>M3007</td>\n",
              "      <td>M</td>\n",
              "      <td>The Loner</td>\n",
              "      <td>He's the unforeseen danger The keeper of the k...</td>\n",
              "    </tr>\n",
              "    <tr>\n",
              "      <th>3008</th>\n",
              "      <td>M3008</td>\n",
              "      <td>M</td>\n",
              "      <td>Live While We're Young</td>\n",
              "      <td>And have a celebration, a celebration</td>\n",
              "    </tr>\n",
              "  </tbody>\n",
              "</table>\n",
              "<p>3008 rows × 4 columns</p>\n",
              "</div>"
            ],
            "text/plain": [
              "     id_obra  ...                                        descripcion\n",
              "0         M0  ...                 Whoops! Is that a subliminal hint?\n",
              "1         M1  ...                    Givin' bystanders heart-attacks\n",
              "2         M2  ...        And I'm a drop it on yo f***in' head, ha ha\n",
              "3         M3  ...  The kings from Memphis man riding in my Chevy ...\n",
              "4         M4  ...      You kick up the leaves, and the magic is lost\n",
              "...      ...  ...                                                ...\n",
              "3004   M3004  ...                        I'm going big, suck my dick\n",
              "3005   M3005  ...  Satan's trigger finger, rock the bells in Hell...\n",
              "3006   M3006  ...                  Can I please come down, come down\n",
              "3007   M3007  ...  He's the unforeseen danger The keeper of the k...\n",
              "3008   M3008  ...              And have a celebration, a celebration\n",
              "\n",
              "[3008 rows x 4 columns]"
            ]
          },
          "metadata": {
            "tags": []
          },
          "execution_count": 11
        }
      ]
    },
    {
      "cell_type": "markdown",
      "metadata": {
        "id": "cLebWEKqln4m"
      },
      "source": [
        "# Paso 3: Subsistema de Recomendación"
      ]
    },
    {
      "cell_type": "markdown",
      "metadata": {
        "id": "bWhGtwqsUP3_"
      },
      "source": [
        "## Paso 3.1: Preprocesado del Dataset Propio de obras con descripciones"
      ]
    },
    {
      "cell_type": "markdown",
      "metadata": {
        "id": "ErgNzXrEklzV"
      },
      "source": [
        "### Paso 3.1.1: **Tokenizado**, eliminación de **Stopwords** y **Stemming**:"
      ]
    },
    {
      "cell_type": "code",
      "metadata": {
        "id": "06vaP4WHUPDg",
        "colab": {
          "base_uri": "https://localhost:8080/",
          "height": 566
        },
        "outputId": "e3694732-1d12-4830-c985-b137a4bd8f17"
      },
      "source": [
        "from nltk.tokenize import word_tokenize \n",
        "from nltk.corpus import stopwords\n",
        "from nltk.stem import PorterStemmer\n",
        "\n",
        "import nltk\n",
        "nltk.download('punkt')\n",
        "nltk.download('stopwords')\n",
        "\n",
        "ps = PorterStemmer()\n",
        "\n",
        "preprocessedText = []\n",
        "\n",
        "originalData = pd.read_csv('system_datasets/obras_descripcion.csv')\n",
        "\n",
        "for row in originalData.head(10000).itertuples():\n",
        "    \n",
        "    \n",
        "    text = word_tokenize(row[4]) ## indice de la columna que contiene el texto\n",
        "    ## Remove stop words\n",
        "    stops = set(stopwords.words(\"english\"))\n",
        "    text = [ps.stem(w) for w in text if not w in stops and w.isalpha()]\n",
        "    text = \" \".join(text)\n",
        "    \n",
        "    preprocessedText.append(text)\n",
        "\n",
        "preprocessedData = originalData.head(10000)\n",
        "preprocessedData['processed_text'] = preprocessedText\n",
        "\n",
        "preprocessedData"
      ],
      "execution_count": 48,
      "outputs": [
        {
          "output_type": "stream",
          "text": [
            "[nltk_data] Downloading package punkt to /root/nltk_data...\n",
            "[nltk_data]   Package punkt is already up-to-date!\n",
            "[nltk_data] Downloading package stopwords to /root/nltk_data...\n",
            "[nltk_data]   Package stopwords is already up-to-date!\n"
          ],
          "name": "stdout"
        },
        {
          "output_type": "stream",
          "text": [
            "/usr/local/lib/python3.6/dist-packages/ipykernel_launcher.py:27: SettingWithCopyWarning: \n",
            "A value is trying to be set on a copy of a slice from a DataFrame.\n",
            "Try using .loc[row_indexer,col_indexer] = value instead\n",
            "\n",
            "See the caveats in the documentation: https://pandas.pydata.org/pandas-docs/stable/user_guide/indexing.html#returning-a-view-versus-a-copy\n"
          ],
          "name": "stderr"
        },
        {
          "output_type": "execute_result",
          "data": {
            "text/html": [
              "<div>\n",
              "<style scoped>\n",
              "    .dataframe tbody tr th:only-of-type {\n",
              "        vertical-align: middle;\n",
              "    }\n",
              "\n",
              "    .dataframe tbody tr th {\n",
              "        vertical-align: top;\n",
              "    }\n",
              "\n",
              "    .dataframe thead th {\n",
              "        text-align: right;\n",
              "    }\n",
              "</style>\n",
              "<table border=\"1\" class=\"dataframe\">\n",
              "  <thead>\n",
              "    <tr style=\"text-align: right;\">\n",
              "      <th></th>\n",
              "      <th>id_obra</th>\n",
              "      <th>medio</th>\n",
              "      <th>nombre</th>\n",
              "      <th>descripcion</th>\n",
              "      <th>processed_text</th>\n",
              "    </tr>\n",
              "  </thead>\n",
              "  <tbody>\n",
              "    <tr>\n",
              "      <th>0</th>\n",
              "      <td>V0</td>\n",
              "      <td>V</td>\n",
              "      <td>Counter-Strike</td>\n",
              "      <td>Play the world's number 1 online action game. ...</td>\n",
              "      <td>play world number onlin action game engag incr...</td>\n",
              "    </tr>\n",
              "    <tr>\n",
              "      <th>1</th>\n",
              "      <td>V1</td>\n",
              "      <td>V</td>\n",
              "      <td>Team Fortress Classic</td>\n",
              "      <td>One of the most popular online action games of...</td>\n",
              "      <td>one popular onlin action game time team fortre...</td>\n",
              "    </tr>\n",
              "    <tr>\n",
              "      <th>2</th>\n",
              "      <td>V2</td>\n",
              "      <td>V</td>\n",
              "      <td>Day of Defeat</td>\n",
              "      <td>Enlist in an intense brand of Axis vs. Allied ...</td>\n",
              "      <td>enlist intens brand axi alli teamplay set wwii...</td>\n",
              "    </tr>\n",
              "    <tr>\n",
              "      <th>3</th>\n",
              "      <td>V3</td>\n",
              "      <td>V</td>\n",
              "      <td>Deathmatch Classic</td>\n",
              "      <td>Enjoy fast-paced multiplayer gaming with Death...</td>\n",
              "      <td>enjoy multiplay game deathmatch classic dmc va...</td>\n",
              "    </tr>\n",
              "    <tr>\n",
              "      <th>4</th>\n",
              "      <td>V4</td>\n",
              "      <td>V</td>\n",
              "      <td>Half-Life: Opposing Force</td>\n",
              "      <td>Return to the Black Mesa Research Facility as ...</td>\n",
              "      <td>return black mesa research facil one militari ...</td>\n",
              "    </tr>\n",
              "    <tr>\n",
              "      <th>...</th>\n",
              "      <td>...</td>\n",
              "      <td>...</td>\n",
              "      <td>...</td>\n",
              "      <td>...</td>\n",
              "      <td>...</td>\n",
              "    </tr>\n",
              "    <tr>\n",
              "      <th>9995</th>\n",
              "      <td>C1519</td>\n",
              "      <td>C</td>\n",
              "      <td>La nona configurazione</td>\n",
              "      <td>A former marine arrives at a mental asylum hou...</td>\n",
              "      <td>A former marin arriv mental asylum hous remot ...</td>\n",
              "    </tr>\n",
              "    <tr>\n",
              "      <th>9996</th>\n",
              "      <td>C1520</td>\n",
              "      <td>C</td>\n",
              "      <td>Le notti del terrore</td>\n",
              "      <td>An archaeology professor discovers an ancient ...</td>\n",
              "      <td>An archaeolog professor discov ancient crypt c...</td>\n",
              "    </tr>\n",
              "    <tr>\n",
              "      <th>9997</th>\n",
              "      <td>C1521</td>\n",
              "      <td>C</td>\n",
              "      <td>Gente comune</td>\n",
              "      <td>The accidental death of the older son of an af...</td>\n",
              "      <td>the accident death older son affluent famili d...</td>\n",
              "    </tr>\n",
              "    <tr>\n",
              "      <th>9998</th>\n",
              "      <td>C1522</td>\n",
              "      <td>C</td>\n",
              "      <td>Paura nella città dei morti viventi</td>\n",
              "      <td>A reporter and a psychic race to close the Gat...</td>\n",
              "      <td>A report psychic race close gate hell suicid c...</td>\n",
              "    </tr>\n",
              "    <tr>\n",
              "      <th>9999</th>\n",
              "      <td>C1523</td>\n",
              "      <td>C</td>\n",
              "      <td>Popeye - Braccio di ferro</td>\n",
              "      <td>The adventures of the famous sailor man and hi...</td>\n",
              "      <td>the adventur famou sailor man friend seasid to...</td>\n",
              "    </tr>\n",
              "  </tbody>\n",
              "</table>\n",
              "<p>10000 rows × 5 columns</p>\n",
              "</div>"
            ],
            "text/plain": [
              "     id_obra  ...                                     processed_text\n",
              "0         V0  ...  play world number onlin action game engag incr...\n",
              "1         V1  ...  one popular onlin action game time team fortre...\n",
              "2         V2  ...  enlist intens brand axi alli teamplay set wwii...\n",
              "3         V3  ...  enjoy multiplay game deathmatch classic dmc va...\n",
              "4         V4  ...  return black mesa research facil one militari ...\n",
              "...      ...  ...                                                ...\n",
              "9995   C1519  ...  A former marin arriv mental asylum hous remot ...\n",
              "9996   C1520  ...  An archaeolog professor discov ancient crypt c...\n",
              "9997   C1521  ...  the accident death older son affluent famili d...\n",
              "9998   C1522  ...  A report psychic race close gate hell suicid c...\n",
              "9999   C1523  ...  the adventur famou sailor man friend seasid to...\n",
              "\n",
              "[10000 rows x 5 columns]"
            ]
          },
          "metadata": {
            "tags": []
          },
          "execution_count": 48
        }
      ]
    },
    {
      "cell_type": "markdown",
      "metadata": {
        "id": "booy9-LYlGFJ"
      },
      "source": [
        "### Paso 3.1.2: Creación de la **Bolsa de Palabras**"
      ]
    },
    {
      "cell_type": "code",
      "metadata": {
        "id": "vMQi_9YEW2d2",
        "colab": {
          "base_uri": "https://localhost:8080/"
        },
        "outputId": "e2338251-40b0-48fe-bfe5-565a8669ca72"
      },
      "source": [
        "from sklearn.feature_extraction.text import TfidfVectorizer\n",
        "\n",
        "bagOfWordsModel = TfidfVectorizer()\n",
        "bagOfWordsModel.fit(preprocessedData['processed_text'])\n",
        "textsBoW= bagOfWordsModel.transform(preprocessedData['processed_text'])\n",
        "print(\"Finished\")"
      ],
      "execution_count": 49,
      "outputs": [
        {
          "output_type": "stream",
          "text": [
            "Finished\n"
          ],
          "name": "stdout"
        }
      ]
    },
    {
      "cell_type": "markdown",
      "metadata": {
        "id": "omS7rZt4X46Q"
      },
      "source": [
        "(número de descripciones, número de palabras en la bolsa)"
      ]
    },
    {
      "cell_type": "code",
      "metadata": {
        "id": "SNufVsTJW-YX",
        "colab": {
          "base_uri": "https://localhost:8080/"
        },
        "outputId": "086f6d53-399a-4da4-c45b-3ddea793a158"
      },
      "source": [
        "textsBoW.shape"
      ],
      "execution_count": 50,
      "outputs": [
        {
          "output_type": "execute_result",
          "data": {
            "text/plain": [
              "(10000, 15207)"
            ]
          },
          "metadata": {
            "tags": []
          },
          "execution_count": 50
        }
      ]
    },
    {
      "cell_type": "markdown",
      "metadata": {
        "id": "SdUhHjEglSDK"
      },
      "source": [
        "## Paso 3.2: Cálculo de la **Matriz de Distancias**:"
      ]
    },
    {
      "cell_type": "code",
      "metadata": {
        "id": "tGVm9OKsXVIi"
      },
      "source": [
        "from sklearn.metrics import pairwise_distances\n",
        "\n",
        "distance_matrix= pairwise_distances(textsBoW,textsBoW ,metric='cosine')*0.8"
      ],
      "execution_count": 51,
      "outputs": []
    },
    {
      "cell_type": "code",
      "metadata": {
        "id": "g9ucp4z2hPmC",
        "colab": {
          "base_uri": "https://localhost:8080/"
        },
        "outputId": "74472bee-5d58-4d97-c9cb-7bd71c2a8c9c"
      },
      "source": [
        "print(distance_matrix.shape)"
      ],
      "execution_count": 52,
      "outputs": [
        {
          "output_type": "stream",
          "text": [
            "(10000, 10000)\n"
          ],
          "name": "stdout"
        }
      ]
    },
    {
      "cell_type": "markdown",
      "metadata": {
        "id": "ce60sgDaleGn"
      },
      "source": [
        "## Paso 3.3: Ejemplo de uso "
      ]
    },
    {
      "cell_type": "markdown",
      "metadata": {
        "id": "ximKJBxHYeNb"
      },
      "source": [
        "Selección de obra de referencia para recomendaciones:"
      ]
    },
    {
      "cell_type": "code",
      "metadata": {
        "id": "KYatGKo3hVVm",
        "colab": {
          "base_uri": "https://localhost:8080/"
        },
        "outputId": "ba6d0e7f-a540-4f20-86c5-e240130d4e37"
      },
      "source": [
        "searchTitle = \"Prince of Persia®\" # Obra base para las recomendaciones (Otro ejemplo: \"The Elder Scrolls V: Skyrim\")\n",
        "indexOfTitle = preprocessedData[preprocessedData['nombre']==searchTitle].index.values[0]\n",
        "indexOfTitle"
      ],
      "execution_count": 53,
      "outputs": [
        {
          "output_type": "execute_result",
          "data": {
            "text/plain": [
              "402"
            ]
          },
          "metadata": {
            "tags": []
          },
          "execution_count": 53
        }
      ]
    },
    {
      "cell_type": "markdown",
      "metadata": {
        "id": "dQphZQ1uYZTa"
      },
      "source": [
        "Obtención del grado de similitud de la obra seleccionada con el resto:"
      ]
    },
    {
      "cell_type": "code",
      "metadata": {
        "id": "icuErTl8hcEI"
      },
      "source": [
        "distance_scores = list(enumerate(distance_matrix[indexOfTitle]))"
      ],
      "execution_count": 54,
      "outputs": []
    },
    {
      "cell_type": "code",
      "metadata": {
        "id": "J3Cjo7vRhpNh"
      },
      "source": [
        "ordered_scores = sorted(distance_scores, key=lambda x: x[1])"
      ],
      "execution_count": 55,
      "outputs": []
    },
    {
      "cell_type": "code",
      "metadata": {
        "id": "f91yrHG1h56t"
      },
      "source": [
        "top_indexes = [i[0] for i in ordered_scores]"
      ],
      "execution_count": 56,
      "outputs": []
    },
    {
      "cell_type": "code",
      "metadata": {
        "id": "gQaJTJZVh8MJ",
        "colab": {
          "base_uri": "https://localhost:8080/",
          "height": 347
        },
        "outputId": "59150d76-d625-4300-f2bf-141ad5bb0e42"
      },
      "source": [
        "top = preprocessedData[['id_obra', 'medio', 'nombre', 'descripcion']].iloc[top_indexes]\n",
        "\n",
        "#top = top[top['medio'].isin(['M', 'S', 'C'])] # Recomendaciones que no sean videojuegos \n",
        "\n",
        "top.head(11)[1:11]"
      ],
      "execution_count": 57,
      "outputs": [
        {
          "output_type": "execute_result",
          "data": {
            "text/html": [
              "<div>\n",
              "<style scoped>\n",
              "    .dataframe tbody tr th:only-of-type {\n",
              "        vertical-align: middle;\n",
              "    }\n",
              "\n",
              "    .dataframe tbody tr th {\n",
              "        vertical-align: top;\n",
              "    }\n",
              "\n",
              "    .dataframe thead th {\n",
              "        text-align: right;\n",
              "    }\n",
              "</style>\n",
              "<table border=\"1\" class=\"dataframe\">\n",
              "  <thead>\n",
              "    <tr style=\"text-align: right;\">\n",
              "      <th></th>\n",
              "      <th>id_obra</th>\n",
              "      <th>medio</th>\n",
              "      <th>nombre</th>\n",
              "      <th>descripcion</th>\n",
              "    </tr>\n",
              "  </thead>\n",
              "  <tbody>\n",
              "    <tr>\n",
              "      <th>317</th>\n",
              "      <td>V317</td>\n",
              "      <td>V</td>\n",
              "      <td>Prince of Persia: Warrior Within™</td>\n",
              "      <td>Enter the dark underworld of Prince of Persia ...</td>\n",
              "    </tr>\n",
              "    <tr>\n",
              "      <th>3882</th>\n",
              "      <td>V3882</td>\n",
              "      <td>V</td>\n",
              "      <td>Tom Clancy's Rainbow Six® Siege</td>\n",
              "      <td>Tom Clancy's Rainbow Six Siege is the latest i...</td>\n",
              "    </tr>\n",
              "    <tr>\n",
              "      <th>556</th>\n",
              "      <td>V556</td>\n",
              "      <td>V</td>\n",
              "      <td>Prince of Persia: The Forgotten Sands™</td>\n",
              "      <td>Prince of Persia The Forgotten Sands is the ne...</td>\n",
              "    </tr>\n",
              "    <tr>\n",
              "      <th>328</th>\n",
              "      <td>V328</td>\n",
              "      <td>V</td>\n",
              "      <td>Assassin's Creed™: Director's Cut Edition</td>\n",
              "      <td>Assassin's Creed™ is the next-gen game develop...</td>\n",
              "    </tr>\n",
              "    <tr>\n",
              "      <th>319</th>\n",
              "      <td>V319</td>\n",
              "      <td>V</td>\n",
              "      <td>Prince of Persia: The Two Thrones™</td>\n",
              "      <td>The Prince of Persia, a seasoned warrior, retu...</td>\n",
              "    </tr>\n",
              "    <tr>\n",
              "      <th>828</th>\n",
              "      <td>V828</td>\n",
              "      <td>V</td>\n",
              "      <td>Men of War: Vietnam</td>\n",
              "      <td>The critically acclaimed series returns! Exper...</td>\n",
              "    </tr>\n",
              "    <tr>\n",
              "      <th>3548</th>\n",
              "      <td>V3548</td>\n",
              "      <td>V</td>\n",
              "      <td>Witch's Pranks: Frog's Fortune Collector's Edi...</td>\n",
              "      <td>Evil witch decided to marry a prince. And ever...</td>\n",
              "    </tr>\n",
              "    <tr>\n",
              "      <th>4484</th>\n",
              "      <td>V4484</td>\n",
              "      <td>V</td>\n",
              "      <td>Miracle Fly</td>\n",
              "      <td>A unique action-puzzle platform game that will...</td>\n",
              "    </tr>\n",
              "    <tr>\n",
              "      <th>961</th>\n",
              "      <td>V961</td>\n",
              "      <td>V</td>\n",
              "      <td>Age of Empires® III: Complete Collection</td>\n",
              "      <td>Microsoft Studios brings you three epic Age of...</td>\n",
              "    </tr>\n",
              "    <tr>\n",
              "      <th>9074</th>\n",
              "      <td>C595</td>\n",
              "      <td>C</td>\n",
              "      <td>I vichinghi</td>\n",
              "      <td>A slave and a Viking prince fight for the love...</td>\n",
              "    </tr>\n",
              "  </tbody>\n",
              "</table>\n",
              "</div>"
            ],
            "text/plain": [
              "     id_obra  ...                                        descripcion\n",
              "317     V317  ...  Enter the dark underworld of Prince of Persia ...\n",
              "3882   V3882  ...  Tom Clancy's Rainbow Six Siege is the latest i...\n",
              "556     V556  ...  Prince of Persia The Forgotten Sands is the ne...\n",
              "328     V328  ...  Assassin's Creed™ is the next-gen game develop...\n",
              "319     V319  ...  The Prince of Persia, a seasoned warrior, retu...\n",
              "828     V828  ...  The critically acclaimed series returns! Exper...\n",
              "3548   V3548  ...  Evil witch decided to marry a prince. And ever...\n",
              "4484   V4484  ...  A unique action-puzzle platform game that will...\n",
              "961     V961  ...  Microsoft Studios brings you three epic Age of...\n",
              "9074    C595  ...  A slave and a Viking prince fight for the love...\n",
              "\n",
              "[10 rows x 4 columns]"
            ]
          },
          "metadata": {
            "tags": []
          },
          "execution_count": 57
        }
      ]
    },
    {
      "cell_type": "markdown",
      "metadata": {
        "id": "JyzBTNb_xSta"
      },
      "source": [
        "\r\n",
        "\r\n",
        "#AÑADIDOS AL ORIGINAL\r\n",
        "\r\n",
        "#TODO LIST\r\n",
        "\r\n",
        "\r\n",
        "1.   Crear Dataset con comentarios de prueba  (Hecho)\r\n",
        "2.   Añadir comentarios a la interfaz   (Hecho)\r\n",
        "3.   Permitir el cambio de tipo de valoracion con la interfaz  (Hecho)\r\n",
        "4.   Crear datasets definidos para comentarios (Solo estan los de cine y videojuegos)  (Hecho)\r\n",
        "5.   Añadir analisis de sentimientos para comentarios (Hecho (Falta por añadir al notebook original)\r\n",
        "6.   Añadir sistema de comentarios en notebook con autovaloracion de comentario  (Añadido entrada de texto y seleccion de valoracion)\r\n",
        "7.   Añadir sistema de comentarios en streamlit  (Añadido, falta valoracion automatica por la maquina, necesita sistema de analisis de sentimientos)\r\n",
        "8.   Cambiar las caratulas de las obras con caratulas descargadas a las suyas propias en la interfaz.   (Obligatorio)\r\n",
        "9.   Añadir sistema para obtener mas comentarios (Como un boton por ahora,  mirar si se puede mejorar)\r\n",
        "\r\n",
        "\r\n",
        "\r\n",
        "\r\n",
        "\r\n"
      ]
    },
    {
      "cell_type": "markdown",
      "metadata": {
        "id": "IGmnmSqYItl7"
      },
      "source": [
        "#PASO 3.4 Añadido Subsistema de Recomendación: Ponderacion del titulo en la recomendación"
      ]
    },
    {
      "cell_type": "markdown",
      "metadata": {
        "id": "vT8Ns15wVOUz"
      },
      "source": [
        "Antes de usar el titulo vamos a hacerle unas pequeñas modificaciones para facilitarle el trabajo a la hora de tokenizar a la aplicacion eliminandole caracteres extraños y pasandolo a minusculas para que pueda eliminar cadenas como 'the' o 'of'"
      ]
    },
    {
      "cell_type": "code",
      "metadata": {
        "id": "QDfJeJZwSqLN",
        "outputId": "a3bb4a45-1861-4cce-da6a-a8717f2148d4",
        "colab": {
          "base_uri": "https://localhost:8080/",
          "height": 406
        }
      },
      "source": [
        "originalData = pd.read_csv('system_datasets/obras_descripcion.csv')\r\n",
        "modifiedData = originalData['nombre'].str.lower().str.replace(\"-|:|®\", \" \")\r\n",
        "originalData['modified_name'] = modifiedData\r\n",
        "originalData"
      ],
      "execution_count": 58,
      "outputs": [
        {
          "output_type": "execute_result",
          "data": {
            "text/html": [
              "<div>\n",
              "<style scoped>\n",
              "    .dataframe tbody tr th:only-of-type {\n",
              "        vertical-align: middle;\n",
              "    }\n",
              "\n",
              "    .dataframe tbody tr th {\n",
              "        vertical-align: top;\n",
              "    }\n",
              "\n",
              "    .dataframe thead th {\n",
              "        text-align: right;\n",
              "    }\n",
              "</style>\n",
              "<table border=\"1\" class=\"dataframe\">\n",
              "  <thead>\n",
              "    <tr style=\"text-align: right;\">\n",
              "      <th></th>\n",
              "      <th>id_obra</th>\n",
              "      <th>medio</th>\n",
              "      <th>nombre</th>\n",
              "      <th>descripcion</th>\n",
              "      <th>modified_name</th>\n",
              "    </tr>\n",
              "  </thead>\n",
              "  <tbody>\n",
              "    <tr>\n",
              "      <th>0</th>\n",
              "      <td>V0</td>\n",
              "      <td>V</td>\n",
              "      <td>Counter-Strike</td>\n",
              "      <td>Play the world's number 1 online action game. ...</td>\n",
              "      <td>counter strike</td>\n",
              "    </tr>\n",
              "    <tr>\n",
              "      <th>1</th>\n",
              "      <td>V1</td>\n",
              "      <td>V</td>\n",
              "      <td>Team Fortress Classic</td>\n",
              "      <td>One of the most popular online action games of...</td>\n",
              "      <td>team fortress classic</td>\n",
              "    </tr>\n",
              "    <tr>\n",
              "      <th>2</th>\n",
              "      <td>V2</td>\n",
              "      <td>V</td>\n",
              "      <td>Day of Defeat</td>\n",
              "      <td>Enlist in an intense brand of Axis vs. Allied ...</td>\n",
              "      <td>day of defeat</td>\n",
              "    </tr>\n",
              "    <tr>\n",
              "      <th>3</th>\n",
              "      <td>V3</td>\n",
              "      <td>V</td>\n",
              "      <td>Deathmatch Classic</td>\n",
              "      <td>Enjoy fast-paced multiplayer gaming with Death...</td>\n",
              "      <td>deathmatch classic</td>\n",
              "    </tr>\n",
              "    <tr>\n",
              "      <th>4</th>\n",
              "      <td>V4</td>\n",
              "      <td>V</td>\n",
              "      <td>Half-Life: Opposing Force</td>\n",
              "      <td>Return to the Black Mesa Research Facility as ...</td>\n",
              "      <td>half life  opposing force</td>\n",
              "    </tr>\n",
              "    <tr>\n",
              "      <th>...</th>\n",
              "      <td>...</td>\n",
              "      <td>...</td>\n",
              "      <td>...</td>\n",
              "      <td>...</td>\n",
              "      <td>...</td>\n",
              "    </tr>\n",
              "    <tr>\n",
              "      <th>22569</th>\n",
              "      <td>M3004</td>\n",
              "      <td>M</td>\n",
              "      <td>The Spiteful Chant</td>\n",
              "      <td>I'm going big, suck my dick</td>\n",
              "      <td>the spiteful chant</td>\n",
              "    </tr>\n",
              "    <tr>\n",
              "      <th>22570</th>\n",
              "      <td>M3005</td>\n",
              "      <td>M</td>\n",
              "      <td>Agony Fires</td>\n",
              "      <td>Satan's trigger finger, rock the bells in Hell...</td>\n",
              "      <td>agony fires</td>\n",
              "    </tr>\n",
              "    <tr>\n",
              "      <th>22571</th>\n",
              "      <td>M3006</td>\n",
              "      <td>M</td>\n",
              "      <td>Astronaut</td>\n",
              "      <td>Can I please come down, come down</td>\n",
              "      <td>astronaut</td>\n",
              "    </tr>\n",
              "    <tr>\n",
              "      <th>22572</th>\n",
              "      <td>M3007</td>\n",
              "      <td>M</td>\n",
              "      <td>The Loner</td>\n",
              "      <td>He's the unforeseen danger The keeper of the k...</td>\n",
              "      <td>the loner</td>\n",
              "    </tr>\n",
              "    <tr>\n",
              "      <th>22573</th>\n",
              "      <td>M3008</td>\n",
              "      <td>M</td>\n",
              "      <td>Live While We're Young</td>\n",
              "      <td>And have a celebration, a celebration</td>\n",
              "      <td>live while we're young</td>\n",
              "    </tr>\n",
              "  </tbody>\n",
              "</table>\n",
              "<p>22574 rows × 5 columns</p>\n",
              "</div>"
            ],
            "text/plain": [
              "      id_obra  ...              modified_name\n",
              "0          V0  ...             counter strike\n",
              "1          V1  ...      team fortress classic\n",
              "2          V2  ...              day of defeat\n",
              "3          V3  ...         deathmatch classic\n",
              "4          V4  ...  half life  opposing force\n",
              "...       ...  ...                        ...\n",
              "22569   M3004  ...         the spiteful chant\n",
              "22570   M3005  ...                agony fires\n",
              "22571   M3006  ...                  astronaut\n",
              "22572   M3007  ...                  the loner\n",
              "22573   M3008  ...     live while we're young\n",
              "\n",
              "[22574 rows x 5 columns]"
            ]
          },
          "metadata": {
            "tags": []
          },
          "execution_count": 58
        }
      ]
    },
    {
      "cell_type": "code",
      "metadata": {
        "colab": {
          "base_uri": "https://localhost:8080/",
          "height": 566
        },
        "id": "uMRFb35rJWZQ",
        "outputId": "5ed9ca54-9820-4bf1-dcb2-1aa572d7428d"
      },
      "source": [
        "\n",
        "nltk.download('punkt')\n",
        "nltk.download('stopwords')\n",
        "\n",
        "ps = PorterStemmer()\n",
        "\n",
        "preprocessedText = []\n",
        "\n",
        "for row in originalData.head(10000).itertuples():\n",
        "    \n",
        "    \n",
        "    text = word_tokenize(row[5]) ## indice de la columna que contiene el texto\n",
        "    ## Remove stop words\n",
        "    stops = set(stopwords.words(\"english\"))\n",
        "    text = [ps.stem(w) for w in text if not w in stops and w.isalpha()]\n",
        "    text = \" \".join(text)\n",
        "    \n",
        "    preprocessedText.append(text)\n",
        "\n",
        "preprocessedData = originalData.head(10000)\n",
        "preprocessedData['processed_name'] = preprocessedText\n",
        "\n",
        "preprocessedData"
      ],
      "execution_count": 59,
      "outputs": [
        {
          "output_type": "stream",
          "text": [
            "[nltk_data] Downloading package punkt to /root/nltk_data...\n",
            "[nltk_data]   Package punkt is already up-to-date!\n",
            "[nltk_data] Downloading package stopwords to /root/nltk_data...\n",
            "[nltk_data]   Package stopwords is already up-to-date!\n"
          ],
          "name": "stdout"
        },
        {
          "output_type": "stream",
          "text": [
            "/usr/local/lib/python3.6/dist-packages/ipykernel_launcher.py:21: SettingWithCopyWarning: \n",
            "A value is trying to be set on a copy of a slice from a DataFrame.\n",
            "Try using .loc[row_indexer,col_indexer] = value instead\n",
            "\n",
            "See the caveats in the documentation: https://pandas.pydata.org/pandas-docs/stable/user_guide/indexing.html#returning-a-view-versus-a-copy\n"
          ],
          "name": "stderr"
        },
        {
          "output_type": "execute_result",
          "data": {
            "text/html": [
              "<div>\n",
              "<style scoped>\n",
              "    .dataframe tbody tr th:only-of-type {\n",
              "        vertical-align: middle;\n",
              "    }\n",
              "\n",
              "    .dataframe tbody tr th {\n",
              "        vertical-align: top;\n",
              "    }\n",
              "\n",
              "    .dataframe thead th {\n",
              "        text-align: right;\n",
              "    }\n",
              "</style>\n",
              "<table border=\"1\" class=\"dataframe\">\n",
              "  <thead>\n",
              "    <tr style=\"text-align: right;\">\n",
              "      <th></th>\n",
              "      <th>id_obra</th>\n",
              "      <th>medio</th>\n",
              "      <th>nombre</th>\n",
              "      <th>descripcion</th>\n",
              "      <th>modified_name</th>\n",
              "      <th>processed_name</th>\n",
              "    </tr>\n",
              "  </thead>\n",
              "  <tbody>\n",
              "    <tr>\n",
              "      <th>0</th>\n",
              "      <td>V0</td>\n",
              "      <td>V</td>\n",
              "      <td>Counter-Strike</td>\n",
              "      <td>Play the world's number 1 online action game. ...</td>\n",
              "      <td>counter strike</td>\n",
              "      <td>counter strike</td>\n",
              "    </tr>\n",
              "    <tr>\n",
              "      <th>1</th>\n",
              "      <td>V1</td>\n",
              "      <td>V</td>\n",
              "      <td>Team Fortress Classic</td>\n",
              "      <td>One of the most popular online action games of...</td>\n",
              "      <td>team fortress classic</td>\n",
              "      <td>team fortress classic</td>\n",
              "    </tr>\n",
              "    <tr>\n",
              "      <th>2</th>\n",
              "      <td>V2</td>\n",
              "      <td>V</td>\n",
              "      <td>Day of Defeat</td>\n",
              "      <td>Enlist in an intense brand of Axis vs. Allied ...</td>\n",
              "      <td>day of defeat</td>\n",
              "      <td>day defeat</td>\n",
              "    </tr>\n",
              "    <tr>\n",
              "      <th>3</th>\n",
              "      <td>V3</td>\n",
              "      <td>V</td>\n",
              "      <td>Deathmatch Classic</td>\n",
              "      <td>Enjoy fast-paced multiplayer gaming with Death...</td>\n",
              "      <td>deathmatch classic</td>\n",
              "      <td>deathmatch classic</td>\n",
              "    </tr>\n",
              "    <tr>\n",
              "      <th>4</th>\n",
              "      <td>V4</td>\n",
              "      <td>V</td>\n",
              "      <td>Half-Life: Opposing Force</td>\n",
              "      <td>Return to the Black Mesa Research Facility as ...</td>\n",
              "      <td>half life  opposing force</td>\n",
              "      <td>half life oppos forc</td>\n",
              "    </tr>\n",
              "    <tr>\n",
              "      <th>...</th>\n",
              "      <td>...</td>\n",
              "      <td>...</td>\n",
              "      <td>...</td>\n",
              "      <td>...</td>\n",
              "      <td>...</td>\n",
              "      <td>...</td>\n",
              "    </tr>\n",
              "    <tr>\n",
              "      <th>9995</th>\n",
              "      <td>C1519</td>\n",
              "      <td>C</td>\n",
              "      <td>La nona configurazione</td>\n",
              "      <td>A former marine arrives at a mental asylum hou...</td>\n",
              "      <td>la nona configurazione</td>\n",
              "      <td>la nona configurazion</td>\n",
              "    </tr>\n",
              "    <tr>\n",
              "      <th>9996</th>\n",
              "      <td>C1520</td>\n",
              "      <td>C</td>\n",
              "      <td>Le notti del terrore</td>\n",
              "      <td>An archaeology professor discovers an ancient ...</td>\n",
              "      <td>le notti del terrore</td>\n",
              "      <td>le notti del terror</td>\n",
              "    </tr>\n",
              "    <tr>\n",
              "      <th>9997</th>\n",
              "      <td>C1521</td>\n",
              "      <td>C</td>\n",
              "      <td>Gente comune</td>\n",
              "      <td>The accidental death of the older son of an af...</td>\n",
              "      <td>gente comune</td>\n",
              "      <td>gent comun</td>\n",
              "    </tr>\n",
              "    <tr>\n",
              "      <th>9998</th>\n",
              "      <td>C1522</td>\n",
              "      <td>C</td>\n",
              "      <td>Paura nella città dei morti viventi</td>\n",
              "      <td>A reporter and a psychic race to close the Gat...</td>\n",
              "      <td>paura nella città dei morti viventi</td>\n",
              "      <td>paura nella città dei morti viventi</td>\n",
              "    </tr>\n",
              "    <tr>\n",
              "      <th>9999</th>\n",
              "      <td>C1523</td>\n",
              "      <td>C</td>\n",
              "      <td>Popeye - Braccio di ferro</td>\n",
              "      <td>The adventures of the famous sailor man and hi...</td>\n",
              "      <td>popeye   braccio di ferro</td>\n",
              "      <td>popey braccio di ferro</td>\n",
              "    </tr>\n",
              "  </tbody>\n",
              "</table>\n",
              "<p>10000 rows × 6 columns</p>\n",
              "</div>"
            ],
            "text/plain": [
              "     id_obra  ...                       processed_name\n",
              "0         V0  ...                       counter strike\n",
              "1         V1  ...                team fortress classic\n",
              "2         V2  ...                           day defeat\n",
              "3         V3  ...                   deathmatch classic\n",
              "4         V4  ...                 half life oppos forc\n",
              "...      ...  ...                                  ...\n",
              "9995   C1519  ...                la nona configurazion\n",
              "9996   C1520  ...                  le notti del terror\n",
              "9997   C1521  ...                           gent comun\n",
              "9998   C1522  ...  paura nella città dei morti viventi\n",
              "9999   C1523  ...               popey braccio di ferro\n",
              "\n",
              "[10000 rows x 6 columns]"
            ]
          },
          "metadata": {
            "tags": []
          },
          "execution_count": 59
        }
      ]
    },
    {
      "cell_type": "code",
      "metadata": {
        "id": "bZQkX2U3Nvhq",
        "outputId": "d0ba5f9f-3e9b-4a16-f3aa-631969d41698",
        "colab": {
          "base_uri": "https://localhost:8080/"
        }
      },
      "source": [
        "from sklearn.feature_extraction.text import TfidfVectorizer\r\n",
        "\r\n",
        "bagOfWordsModel = TfidfVectorizer()\r\n",
        "bagOfWordsModel.fit(preprocessedData['processed_name'])\r\n",
        "textsBoW2= bagOfWordsModel.transform(preprocessedData['processed_name'])\r\n",
        "print(\"Finished\")"
      ],
      "execution_count": 60,
      "outputs": [
        {
          "output_type": "stream",
          "text": [
            "Finished\n"
          ],
          "name": "stdout"
        }
      ]
    },
    {
      "cell_type": "code",
      "metadata": {
        "id": "SiLqdTHhLBBC",
        "outputId": "62f84ff4-74eb-4813-d7c6-909ab4314db7",
        "colab": {
          "base_uri": "https://localhost:8080/"
        }
      },
      "source": [
        "textsBoW2.shape"
      ],
      "execution_count": 61,
      "outputs": [
        {
          "output_type": "execute_result",
          "data": {
            "text/plain": [
              "(10000, 8265)"
            ]
          },
          "metadata": {
            "tags": []
          },
          "execution_count": 61
        }
      ]
    },
    {
      "cell_type": "code",
      "metadata": {
        "id": "jbr6JRHGLMpA"
      },
      "source": [
        "from sklearn.metrics import pairwise_distances\r\n",
        "\r\n",
        "distance_matrix2= pairwise_distances(textsBoW2,textsBoW2 ,metric='cosine')*0.2"
      ],
      "execution_count": 62,
      "outputs": []
    },
    {
      "cell_type": "code",
      "metadata": {
        "id": "AdNx-GR4LS-I",
        "outputId": "afb1294e-d55d-418b-e061-9e0b8ec62e48",
        "colab": {
          "base_uri": "https://localhost:8080/"
        }
      },
      "source": [
        "print(distance_matrix2.shape)"
      ],
      "execution_count": 63,
      "outputs": [
        {
          "output_type": "stream",
          "text": [
            "(10000, 10000)\n"
          ],
          "name": "stdout"
        }
      ]
    },
    {
      "cell_type": "code",
      "metadata": {
        "id": "_itYW0_lLVJJ",
        "outputId": "e7b41e82-8f8a-4fb5-d217-1b88055813c3",
        "colab": {
          "base_uri": "https://localhost:8080/"
        }
      },
      "source": [
        "searchTitle = \"Prince of Persia®\" # Funciona especialmente bien con sagas \"Call of Duty® 4: Modern Warfare®\" por ejemplo\r\n",
        "indexOfTitle = preprocessedData[preprocessedData['nombre']==searchTitle].index.values[0]\r\n",
        "indexOfTitle"
      ],
      "execution_count": 64,
      "outputs": [
        {
          "output_type": "execute_result",
          "data": {
            "text/plain": [
              "402"
            ]
          },
          "metadata": {
            "tags": []
          },
          "execution_count": 64
        }
      ]
    },
    {
      "cell_type": "code",
      "metadata": {
        "id": "7QSXJ1PRMVlj"
      },
      "source": [
        "distance_scores2 = list(enumerate(distance_matrix2[indexOfTitle]))"
      ],
      "execution_count": 65,
      "outputs": []
    },
    {
      "cell_type": "code",
      "metadata": {
        "id": "5CGd534PLZh5"
      },
      "source": [
        "ordered_scores2 = sorted(distance_scores2, key=lambda x: x[1])"
      ],
      "execution_count": 66,
      "outputs": []
    },
    {
      "cell_type": "code",
      "metadata": {
        "id": "bJbyldpiLfco"
      },
      "source": [
        "top_indexes = [i[0] for i in ordered_scores2]"
      ],
      "execution_count": 67,
      "outputs": []
    },
    {
      "cell_type": "code",
      "metadata": {
        "id": "1vlmxzO6LggZ",
        "outputId": "f4de7544-4862-4b17-df81-cb558007cb31",
        "colab": {
          "base_uri": "https://localhost:8080/",
          "height": 347
        }
      },
      "source": [
        "top = preprocessedData[['id_obra', 'medio', 'nombre', 'descripcion']].iloc[top_indexes]\r\n",
        "\r\n",
        "top.head(11)[1:11]"
      ],
      "execution_count": 68,
      "outputs": [
        {
          "output_type": "execute_result",
          "data": {
            "text/html": [
              "<div>\n",
              "<style scoped>\n",
              "    .dataframe tbody tr th:only-of-type {\n",
              "        vertical-align: middle;\n",
              "    }\n",
              "\n",
              "    .dataframe tbody tr th {\n",
              "        vertical-align: top;\n",
              "    }\n",
              "\n",
              "    .dataframe thead th {\n",
              "        text-align: right;\n",
              "    }\n",
              "</style>\n",
              "<table border=\"1\" class=\"dataframe\">\n",
              "  <thead>\n",
              "    <tr style=\"text-align: right;\">\n",
              "      <th></th>\n",
              "      <th>id_obra</th>\n",
              "      <th>medio</th>\n",
              "      <th>nombre</th>\n",
              "      <th>descripcion</th>\n",
              "    </tr>\n",
              "  </thead>\n",
              "  <tbody>\n",
              "    <tr>\n",
              "      <th>317</th>\n",
              "      <td>V317</td>\n",
              "      <td>V</td>\n",
              "      <td>Prince of Persia: Warrior Within™</td>\n",
              "      <td>Enter the dark underworld of Prince of Persia ...</td>\n",
              "    </tr>\n",
              "    <tr>\n",
              "      <th>319</th>\n",
              "      <td>V319</td>\n",
              "      <td>V</td>\n",
              "      <td>Prince of Persia: The Two Thrones™</td>\n",
              "      <td>The Prince of Persia, a seasoned warrior, retu...</td>\n",
              "    </tr>\n",
              "    <tr>\n",
              "      <th>556</th>\n",
              "      <td>V556</td>\n",
              "      <td>V</td>\n",
              "      <td>Prince of Persia: The Forgotten Sands™</td>\n",
              "      <td>Prince of Persia The Forgotten Sands is the ne...</td>\n",
              "    </tr>\n",
              "    <tr>\n",
              "      <th>324</th>\n",
              "      <td>V324</td>\n",
              "      <td>V</td>\n",
              "      <td>Prince of Persia®: The Sands of Time</td>\n",
              "      <td>Amidst the scorched sands of ancient Persia, t...</td>\n",
              "    </tr>\n",
              "    <tr>\n",
              "      <th>2755</th>\n",
              "      <td>V2755</td>\n",
              "      <td>V</td>\n",
              "      <td>Legends of Persia</td>\n",
              "      <td>Legends of Persia is a highly ambitious Action...</td>\n",
              "    </tr>\n",
              "    <tr>\n",
              "      <th>0</th>\n",
              "      <td>V0</td>\n",
              "      <td>V</td>\n",
              "      <td>Counter-Strike</td>\n",
              "      <td>Play the world's number 1 online action game. ...</td>\n",
              "    </tr>\n",
              "    <tr>\n",
              "      <th>1</th>\n",
              "      <td>V1</td>\n",
              "      <td>V</td>\n",
              "      <td>Team Fortress Classic</td>\n",
              "      <td>One of the most popular online action games of...</td>\n",
              "    </tr>\n",
              "    <tr>\n",
              "      <th>2</th>\n",
              "      <td>V2</td>\n",
              "      <td>V</td>\n",
              "      <td>Day of Defeat</td>\n",
              "      <td>Enlist in an intense brand of Axis vs. Allied ...</td>\n",
              "    </tr>\n",
              "    <tr>\n",
              "      <th>3</th>\n",
              "      <td>V3</td>\n",
              "      <td>V</td>\n",
              "      <td>Deathmatch Classic</td>\n",
              "      <td>Enjoy fast-paced multiplayer gaming with Death...</td>\n",
              "    </tr>\n",
              "    <tr>\n",
              "      <th>4</th>\n",
              "      <td>V4</td>\n",
              "      <td>V</td>\n",
              "      <td>Half-Life: Opposing Force</td>\n",
              "      <td>Return to the Black Mesa Research Facility as ...</td>\n",
              "    </tr>\n",
              "  </tbody>\n",
              "</table>\n",
              "</div>"
            ],
            "text/plain": [
              "     id_obra  ...                                        descripcion\n",
              "317     V317  ...  Enter the dark underworld of Prince of Persia ...\n",
              "319     V319  ...  The Prince of Persia, a seasoned warrior, retu...\n",
              "556     V556  ...  Prince of Persia The Forgotten Sands is the ne...\n",
              "324     V324  ...  Amidst the scorched sands of ancient Persia, t...\n",
              "2755   V2755  ...  Legends of Persia is a highly ambitious Action...\n",
              "0         V0  ...  Play the world's number 1 online action game. ...\n",
              "1         V1  ...  One of the most popular online action games of...\n",
              "2         V2  ...  Enlist in an intense brand of Axis vs. Allied ...\n",
              "3         V3  ...  Enjoy fast-paced multiplayer gaming with Death...\n",
              "4         V4  ...  Return to the Black Mesa Research Facility as ...\n",
              "\n",
              "[10 rows x 4 columns]"
            ]
          },
          "metadata": {
            "tags": []
          },
          "execution_count": 68
        }
      ]
    },
    {
      "cell_type": "markdown",
      "metadata": {
        "id": "ejxX_t7WX72-"
      },
      "source": [
        "#PASO 3.5 JUNTANDO AMBAS"
      ]
    },
    {
      "cell_type": "code",
      "metadata": {
        "id": "AGCPtttQkLxi",
        "outputId": "ec597546-aebb-4d12-8d7b-c2b903504eac",
        "colab": {
          "base_uri": "https://localhost:8080/"
        }
      },
      "source": [
        "import numpy\r\n",
        "matrix_final = numpy.add(distance_matrix,distance_matrix2)\r\n",
        "matrix_final"
      ],
      "execution_count": 69,
      "outputs": [
        {
          "output_type": "execute_result",
          "data": {
            "text/plain": [
              "array([[0.        , 0.8285648 , 0.90962691, ..., 1.        , 1.        ,\n",
              "        1.        ],\n",
              "       [0.8285648 , 0.        , 0.90153141, ..., 1.        , 1.        ,\n",
              "        0.97642468],\n",
              "       [0.90962691, 0.90153141, 0.        , ..., 1.        , 1.        ,\n",
              "        1.        ],\n",
              "       ...,\n",
              "       [1.        , 1.        , 1.        , ..., 0.        , 1.        ,\n",
              "        0.98854619],\n",
              "       [1.        , 1.        , 1.        , ..., 1.        , 0.        ,\n",
              "        1.        ],\n",
              "       [1.        , 0.97642468, 1.        , ..., 0.98854619, 1.        ,\n",
              "        0.        ]])"
            ]
          },
          "metadata": {
            "tags": []
          },
          "execution_count": 69
        }
      ]
    },
    {
      "cell_type": "code",
      "metadata": {
        "id": "nPHgXDBkkSSt"
      },
      "source": [
        "distance_scores_final = list(enumerate(matrix_final[indexOfTitle]))"
      ],
      "execution_count": 70,
      "outputs": []
    },
    {
      "cell_type": "code",
      "metadata": {
        "id": "IhdyIQjZkYlc"
      },
      "source": [
        "ordered_scores_final = sorted(distance_scores_final, key=lambda x: x[1])"
      ],
      "execution_count": 71,
      "outputs": []
    },
    {
      "cell_type": "code",
      "metadata": {
        "id": "OdASI7iVkbjw"
      },
      "source": [
        "top_indexes_final = [i[0] for i in ordered_scores_final]"
      ],
      "execution_count": 72,
      "outputs": []
    },
    {
      "cell_type": "code",
      "metadata": {
        "id": "VATO0GhlkfC1",
        "outputId": "1f06c07a-2fe5-4cf3-f83c-339b601d2e08",
        "colab": {
          "base_uri": "https://localhost:8080/",
          "height": 347
        }
      },
      "source": [
        "top = preprocessedData[['id_obra', 'medio', 'nombre', 'descripcion']].iloc[top_indexes_final]\r\n",
        "\r\n",
        "top.head(11)[1:11]"
      ],
      "execution_count": 73,
      "outputs": [
        {
          "output_type": "execute_result",
          "data": {
            "text/html": [
              "<div>\n",
              "<style scoped>\n",
              "    .dataframe tbody tr th:only-of-type {\n",
              "        vertical-align: middle;\n",
              "    }\n",
              "\n",
              "    .dataframe tbody tr th {\n",
              "        vertical-align: top;\n",
              "    }\n",
              "\n",
              "    .dataframe thead th {\n",
              "        text-align: right;\n",
              "    }\n",
              "</style>\n",
              "<table border=\"1\" class=\"dataframe\">\n",
              "  <thead>\n",
              "    <tr style=\"text-align: right;\">\n",
              "      <th></th>\n",
              "      <th>id_obra</th>\n",
              "      <th>medio</th>\n",
              "      <th>nombre</th>\n",
              "      <th>descripcion</th>\n",
              "    </tr>\n",
              "  </thead>\n",
              "  <tbody>\n",
              "    <tr>\n",
              "      <th>317</th>\n",
              "      <td>V317</td>\n",
              "      <td>V</td>\n",
              "      <td>Prince of Persia: Warrior Within™</td>\n",
              "      <td>Enter the dark underworld of Prince of Persia ...</td>\n",
              "    </tr>\n",
              "    <tr>\n",
              "      <th>556</th>\n",
              "      <td>V556</td>\n",
              "      <td>V</td>\n",
              "      <td>Prince of Persia: The Forgotten Sands™</td>\n",
              "      <td>Prince of Persia The Forgotten Sands is the ne...</td>\n",
              "    </tr>\n",
              "    <tr>\n",
              "      <th>319</th>\n",
              "      <td>V319</td>\n",
              "      <td>V</td>\n",
              "      <td>Prince of Persia: The Two Thrones™</td>\n",
              "      <td>The Prince of Persia, a seasoned warrior, retu...</td>\n",
              "    </tr>\n",
              "    <tr>\n",
              "      <th>3882</th>\n",
              "      <td>V3882</td>\n",
              "      <td>V</td>\n",
              "      <td>Tom Clancy's Rainbow Six® Siege</td>\n",
              "      <td>Tom Clancy's Rainbow Six Siege is the latest i...</td>\n",
              "    </tr>\n",
              "    <tr>\n",
              "      <th>324</th>\n",
              "      <td>V324</td>\n",
              "      <td>V</td>\n",
              "      <td>Prince of Persia®: The Sands of Time</td>\n",
              "      <td>Amidst the scorched sands of ancient Persia, t...</td>\n",
              "    </tr>\n",
              "    <tr>\n",
              "      <th>2755</th>\n",
              "      <td>V2755</td>\n",
              "      <td>V</td>\n",
              "      <td>Legends of Persia</td>\n",
              "      <td>Legends of Persia is a highly ambitious Action...</td>\n",
              "    </tr>\n",
              "    <tr>\n",
              "      <th>328</th>\n",
              "      <td>V328</td>\n",
              "      <td>V</td>\n",
              "      <td>Assassin's Creed™: Director's Cut Edition</td>\n",
              "      <td>Assassin's Creed™ is the next-gen game develop...</td>\n",
              "    </tr>\n",
              "    <tr>\n",
              "      <th>828</th>\n",
              "      <td>V828</td>\n",
              "      <td>V</td>\n",
              "      <td>Men of War: Vietnam</td>\n",
              "      <td>The critically acclaimed series returns! Exper...</td>\n",
              "    </tr>\n",
              "    <tr>\n",
              "      <th>3548</th>\n",
              "      <td>V3548</td>\n",
              "      <td>V</td>\n",
              "      <td>Witch's Pranks: Frog's Fortune Collector's Edi...</td>\n",
              "      <td>Evil witch decided to marry a prince. And ever...</td>\n",
              "    </tr>\n",
              "    <tr>\n",
              "      <th>4484</th>\n",
              "      <td>V4484</td>\n",
              "      <td>V</td>\n",
              "      <td>Miracle Fly</td>\n",
              "      <td>A unique action-puzzle platform game that will...</td>\n",
              "    </tr>\n",
              "  </tbody>\n",
              "</table>\n",
              "</div>"
            ],
            "text/plain": [
              "     id_obra  ...                                        descripcion\n",
              "317     V317  ...  Enter the dark underworld of Prince of Persia ...\n",
              "556     V556  ...  Prince of Persia The Forgotten Sands is the ne...\n",
              "319     V319  ...  The Prince of Persia, a seasoned warrior, retu...\n",
              "3882   V3882  ...  Tom Clancy's Rainbow Six Siege is the latest i...\n",
              "324     V324  ...  Amidst the scorched sands of ancient Persia, t...\n",
              "2755   V2755  ...  Legends of Persia is a highly ambitious Action...\n",
              "328     V328  ...  Assassin's Creed™ is the next-gen game develop...\n",
              "828     V828  ...  The critically acclaimed series returns! Exper...\n",
              "3548   V3548  ...  Evil witch decided to marry a prince. And ever...\n",
              "4484   V4484  ...  A unique action-puzzle platform game that will...\n",
              "\n",
              "[10 rows x 4 columns]"
            ]
          },
          "metadata": {
            "tags": []
          },
          "execution_count": 73
        }
      ]
    },
    {
      "cell_type": "markdown",
      "metadata": {
        "id": "668gQV7TRGku"
      },
      "source": [
        "# Paso 3.6: PROCESAMIenTO DE COMENTARIOS"
      ]
    },
    {
      "cell_type": "markdown",
      "metadata": {
        "id": "7s5liGHasyNz"
      },
      "source": [
        "Procesamiento comentarios"
      ]
    },
    {
      "cell_type": "markdown",
      "metadata": {
        "id": "_KpEJETnRUpq"
      },
      "source": [
        "Creacion de .csv personalizado a partir de otros obtenidos"
      ]
    },
    {
      "cell_type": "code",
      "metadata": {
        "id": "8CIMWv9W5kjJ"
      },
      "source": [
        "df=originalMetacriticReviews['individual_meta_score']>60\r\n",
        "originalMetacriticReviews.insert(0, 'valoracion', df.replace({True: \"Positiva\", False: \"Negativa\"}))\r\n",
        "originalMetacriticReviews = originalMetacriticReviews.assign(medio='C')\r\n",
        "originalMetacriticReviews = originalMetacriticReviews.rename(columns={'movie_title':'nombre', 'text':'comentario'})\r\n",
        "originalMetacriticReviews[['valoracion', 'nombre', 'comentario','medio']].dropna().to_csv('system_datasets/obras_recomendacion.csv', index=False, mode='a')"
      ],
      "execution_count": 39,
      "outputs": []
    },
    {
      "cell_type": "markdown",
      "metadata": {
        "id": "F1e2mc5B6Qzy"
      },
      "source": [
        ""
      ]
    },
    {
      "cell_type": "code",
      "metadata": {
        "id": "7j0HTBgb25Zt"
      },
      "source": [
        "steamReviewsModified= originalSteamReviews.replace({\"Recommended\": \"Positiva\", \"Not Recommended\": \"Negativa\"}) \r\n",
        "steamReviewsModified = steamReviewsModified.assign(medio='V')\r\n",
        "steamReviewsModified = steamReviewsModified.rename(columns={'title':'nombre', 'review':'comentario','recommendation':'valoracion',})\r\n",
        "steamReviewsModified[['valoracion', 'nombre', 'comentario', 'medio']].to_csv('system_datasets/obras_recomendacion.csv',index=False, mode='a')"
      ],
      "execution_count": 40,
      "outputs": []
    },
    {
      "cell_type": "code",
      "metadata": {
        "id": "nIX5oHfa6MHD"
      },
      "source": [
        "salida = pd.read_csv('system_datasets/obras_recomendacion.csv')"
      ],
      "execution_count": 41,
      "outputs": []
    },
    {
      "cell_type": "code",
      "metadata": {
        "colab": {
          "base_uri": "https://localhost:8080/",
          "height": 1000
        },
        "id": "g8zkAa747FSv",
        "outputId": "13e87170-aeff-468a-d1ab-aac5dcaa327e"
      },
      "source": [
        "salida.loc[salida['nombre']=='Interstellar']"
      ],
      "execution_count": 42,
      "outputs": [
        {
          "output_type": "execute_result",
          "data": {
            "text/html": [
              "<div>\n",
              "<style scoped>\n",
              "    .dataframe tbody tr th:only-of-type {\n",
              "        vertical-align: middle;\n",
              "    }\n",
              "\n",
              "    .dataframe tbody tr th {\n",
              "        vertical-align: top;\n",
              "    }\n",
              "\n",
              "    .dataframe thead th {\n",
              "        text-align: right;\n",
              "    }\n",
              "</style>\n",
              "<table border=\"1\" class=\"dataframe\">\n",
              "  <thead>\n",
              "    <tr style=\"text-align: right;\">\n",
              "      <th></th>\n",
              "      <th>valoracion</th>\n",
              "      <th>nombre</th>\n",
              "      <th>comentario</th>\n",
              "      <th>medio</th>\n",
              "    </tr>\n",
              "  </thead>\n",
              "  <tbody>\n",
              "    <tr>\n",
              "      <th>4712</th>\n",
              "      <td>Positiva</td>\n",
              "      <td>Interstellar</td>\n",
              "      <td>Interstellar is simultaneously a big-budget sc...</td>\n",
              "      <td>C</td>\n",
              "    </tr>\n",
              "    <tr>\n",
              "      <th>4713</th>\n",
              "      <td>Positiva</td>\n",
              "      <td>Interstellar</td>\n",
              "      <td>What a beautiful and epic film is Interstellar...</td>\n",
              "      <td>C</td>\n",
              "    </tr>\n",
              "    <tr>\n",
              "      <th>4714</th>\n",
              "      <td>Positiva</td>\n",
              "      <td>Interstellar</td>\n",
              "      <td>Genius director Christopher Nolan reaches for ...</td>\n",
              "      <td>C</td>\n",
              "    </tr>\n",
              "    <tr>\n",
              "      <th>4715</th>\n",
              "      <td>Positiva</td>\n",
              "      <td>Interstellar</td>\n",
              "      <td>Brainy, barmy and beautiful to behold, this is...</td>\n",
              "      <td>C</td>\n",
              "    </tr>\n",
              "    <tr>\n",
              "      <th>4716</th>\n",
              "      <td>Positiva</td>\n",
              "      <td>Interstellar</td>\n",
              "      <td>Interstellar is Nolan’s best and most brazenly...</td>\n",
              "      <td>C</td>\n",
              "    </tr>\n",
              "    <tr>\n",
              "      <th>4717</th>\n",
              "      <td>Positiva</td>\n",
              "      <td>Interstellar</td>\n",
              "      <td>It’s a bold, beautiful cosmic adventure story ...</td>\n",
              "      <td>C</td>\n",
              "    </tr>\n",
              "    <tr>\n",
              "      <th>4718</th>\n",
              "      <td>Positiva</td>\n",
              "      <td>Interstellar</td>\n",
              "      <td>An exhilarating slalom through the wormholes o...</td>\n",
              "      <td>C</td>\n",
              "    </tr>\n",
              "    <tr>\n",
              "      <th>4719</th>\n",
              "      <td>Positiva</td>\n",
              "      <td>Interstellar</td>\n",
              "      <td>Interstellar turns out to be the rarest beast ...</td>\n",
              "      <td>C</td>\n",
              "    </tr>\n",
              "    <tr>\n",
              "      <th>4720</th>\n",
              "      <td>Positiva</td>\n",
              "      <td>Interstellar</td>\n",
              "      <td>Like the great space epics of the past, Christ...</td>\n",
              "      <td>C</td>\n",
              "    </tr>\n",
              "    <tr>\n",
              "      <th>4721</th>\n",
              "      <td>Positiva</td>\n",
              "      <td>Interstellar</td>\n",
              "      <td>What the neg-heads are missing about Interstel...</td>\n",
              "      <td>C</td>\n",
              "    </tr>\n",
              "    <tr>\n",
              "      <th>4722</th>\n",
              "      <td>Positiva</td>\n",
              "      <td>Interstellar</td>\n",
              "      <td>This is epic cinema that begs to be compared t...</td>\n",
              "      <td>C</td>\n",
              "    </tr>\n",
              "    <tr>\n",
              "      <th>4723</th>\n",
              "      <td>Positiva</td>\n",
              "      <td>Interstellar</td>\n",
              "      <td>Interstellar is still an impressive, at times ...</td>\n",
              "      <td>C</td>\n",
              "    </tr>\n",
              "    <tr>\n",
              "      <th>4724</th>\n",
              "      <td>Positiva</td>\n",
              "      <td>Interstellar</td>\n",
              "      <td>Whatever its length and melodramatic third-act...</td>\n",
              "      <td>C</td>\n",
              "    </tr>\n",
              "    <tr>\n",
              "      <th>4725</th>\n",
              "      <td>Positiva</td>\n",
              "      <td>Interstellar</td>\n",
              "      <td>I was moved by Interstellar, and there are str...</td>\n",
              "      <td>C</td>\n",
              "    </tr>\n",
              "    <tr>\n",
              "      <th>4726</th>\n",
              "      <td>Positiva</td>\n",
              "      <td>Interstellar</td>\n",
              "      <td>Brainy and exciting at the same time, Interste...</td>\n",
              "      <td>C</td>\n",
              "    </tr>\n",
              "    <tr>\n",
              "      <th>4727</th>\n",
              "      <td>Positiva</td>\n",
              "      <td>Interstellar</td>\n",
              "      <td>Interstellar may not be perfect, but tent-pole...</td>\n",
              "      <td>C</td>\n",
              "    </tr>\n",
              "    <tr>\n",
              "      <th>4728</th>\n",
              "      <td>Positiva</td>\n",
              "      <td>Interstellar</td>\n",
              "      <td>In Interstellar, Nolan has created a universe ...</td>\n",
              "      <td>C</td>\n",
              "    </tr>\n",
              "    <tr>\n",
              "      <th>4729</th>\n",
              "      <td>Positiva</td>\n",
              "      <td>Interstellar</td>\n",
              "      <td>A movie I snickered at more than once but neve...</td>\n",
              "      <td>C</td>\n",
              "    </tr>\n",
              "    <tr>\n",
              "      <th>4730</th>\n",
              "      <td>Positiva</td>\n",
              "      <td>Interstellar</td>\n",
              "      <td>With Interstellar, Nolan’s reach occasionally ...</td>\n",
              "      <td>C</td>\n",
              "    </tr>\n",
              "    <tr>\n",
              "      <th>4731</th>\n",
              "      <td>Positiva</td>\n",
              "      <td>Interstellar</td>\n",
              "      <td>Nolan reaches for the stars in spectacular fas...</td>\n",
              "      <td>C</td>\n",
              "    </tr>\n",
              "    <tr>\n",
              "      <th>4732</th>\n",
              "      <td>Positiva</td>\n",
              "      <td>Interstellar</td>\n",
              "      <td>This grandly conceived and executed epic tries...</td>\n",
              "      <td>C</td>\n",
              "    </tr>\n",
              "    <tr>\n",
              "      <th>4733</th>\n",
              "      <td>Positiva</td>\n",
              "      <td>Interstellar</td>\n",
              "      <td>This is Nolan’s unabashed tribute to \"2001: A ...</td>\n",
              "      <td>C</td>\n",
              "    </tr>\n",
              "    <tr>\n",
              "      <th>4734</th>\n",
              "      <td>Positiva</td>\n",
              "      <td>Interstellar</td>\n",
              "      <td>The movie is “Gravity” cubed, an epic of space...</td>\n",
              "      <td>C</td>\n",
              "    </tr>\n",
              "    <tr>\n",
              "      <th>4735</th>\n",
              "      <td>Positiva</td>\n",
              "      <td>Interstellar</td>\n",
              "      <td>Einsteinian, Kubrickian, Malickian, Steinbecki...</td>\n",
              "      <td>C</td>\n",
              "    </tr>\n",
              "    <tr>\n",
              "      <th>4736</th>\n",
              "      <td>Positiva</td>\n",
              "      <td>Interstellar</td>\n",
              "      <td>A knockout one minute, a punch-drunk crazy fil...</td>\n",
              "      <td>C</td>\n",
              "    </tr>\n",
              "    <tr>\n",
              "      <th>4737</th>\n",
              "      <td>Positiva</td>\n",
              "      <td>Interstellar</td>\n",
              "      <td>While it reaches for the stars, director Chris...</td>\n",
              "      <td>C</td>\n",
              "    </tr>\n",
              "    <tr>\n",
              "      <th>4738</th>\n",
              "      <td>Positiva</td>\n",
              "      <td>Interstellar</td>\n",
              "      <td>So this is the greatest Shyamalan movie ever m...</td>\n",
              "      <td>C</td>\n",
              "    </tr>\n",
              "    <tr>\n",
              "      <th>4739</th>\n",
              "      <td>Positiva</td>\n",
              "      <td>Interstellar</td>\n",
              "      <td>Interstellar often seems afraid to let any dev...</td>\n",
              "      <td>C</td>\n",
              "    </tr>\n",
              "    <tr>\n",
              "      <th>4740</th>\n",
              "      <td>Positiva</td>\n",
              "      <td>Interstellar</td>\n",
              "      <td>Black holes, relativity, singularity, the fift...</td>\n",
              "      <td>C</td>\n",
              "    </tr>\n",
              "    <tr>\n",
              "      <th>4741</th>\n",
              "      <td>Positiva</td>\n",
              "      <td>Interstellar</td>\n",
              "      <td>In his florid sci-fi opera Interstellar, Chris...</td>\n",
              "      <td>C</td>\n",
              "    </tr>\n",
              "    <tr>\n",
              "      <th>4742</th>\n",
              "      <td>Positiva</td>\n",
              "      <td>Interstellar</td>\n",
              "      <td>Interstellar is riddled with ridiculisms; the ...</td>\n",
              "      <td>C</td>\n",
              "    </tr>\n",
              "    <tr>\n",
              "      <th>4743</th>\n",
              "      <td>Positiva</td>\n",
              "      <td>Interstellar</td>\n",
              "      <td>Nolan takes big chances with his actors, his a...</td>\n",
              "      <td>C</td>\n",
              "    </tr>\n",
              "    <tr>\n",
              "      <th>4744</th>\n",
              "      <td>Positiva</td>\n",
              "      <td>Interstellar</td>\n",
              "      <td>It is an episodic, chunky film of over-explica...</td>\n",
              "      <td>C</td>\n",
              "    </tr>\n",
              "    <tr>\n",
              "      <th>4745</th>\n",
              "      <td>Positiva</td>\n",
              "      <td>Interstellar</td>\n",
              "      <td>Interstellar, his (Nolan) sci-fi spectaculoram...</td>\n",
              "      <td>C</td>\n",
              "    </tr>\n",
              "    <tr>\n",
              "      <th>4746</th>\n",
              "      <td>Positiva</td>\n",
              "      <td>Interstellar</td>\n",
              "      <td>While it’s technically eye-popping and intrica...</td>\n",
              "      <td>C</td>\n",
              "    </tr>\n",
              "    <tr>\n",
              "      <th>4747</th>\n",
              "      <td>Negativa</td>\n",
              "      <td>Interstellar</td>\n",
              "      <td>The movie could have gone several ways, too — ...</td>\n",
              "      <td>C</td>\n",
              "    </tr>\n",
              "    <tr>\n",
              "      <th>4748</th>\n",
              "      <td>Negativa</td>\n",
              "      <td>Interstellar</td>\n",
              "      <td>Whatever his strengths may be, Nolan lacks the...</td>\n",
              "      <td>C</td>\n",
              "    </tr>\n",
              "    <tr>\n",
              "      <th>4749</th>\n",
              "      <td>Negativa</td>\n",
              "      <td>Interstellar</td>\n",
              "      <td>It’s a glorious spectacle, but a slight drama,...</td>\n",
              "      <td>C</td>\n",
              "    </tr>\n",
              "    <tr>\n",
              "      <th>4750</th>\n",
              "      <td>Negativa</td>\n",
              "      <td>Interstellar</td>\n",
              "      <td>Thankfully in space, no one can hear you yawn.</td>\n",
              "      <td>C</td>\n",
              "    </tr>\n",
              "    <tr>\n",
              "      <th>4751</th>\n",
              "      <td>Negativa</td>\n",
              "      <td>Interstellar</td>\n",
              "      <td>Nolan tries to pair the cosmic esoterica with ...</td>\n",
              "      <td>C</td>\n",
              "    </tr>\n",
              "    <tr>\n",
              "      <th>4752</th>\n",
              "      <td>Negativa</td>\n",
              "      <td>Interstellar</td>\n",
              "      <td>Interstellar tries so hard to be so many thing...</td>\n",
              "      <td>C</td>\n",
              "    </tr>\n",
              "    <tr>\n",
              "      <th>4753</th>\n",
              "      <td>Negativa</td>\n",
              "      <td>Interstellar</td>\n",
              "      <td>Despite its many virtues, Interstellar feels a...</td>\n",
              "      <td>C</td>\n",
              "    </tr>\n",
              "    <tr>\n",
              "      <th>4754</th>\n",
              "      <td>Negativa</td>\n",
              "      <td>Interstellar</td>\n",
              "      <td>Much like his hero, Christopher Nolan's goal s...</td>\n",
              "      <td>C</td>\n",
              "    </tr>\n",
              "    <tr>\n",
              "      <th>4755</th>\n",
              "      <td>Negativa</td>\n",
              "      <td>Interstellar</td>\n",
              "      <td>For much of the film, Nolan (who co-wrote with...</td>\n",
              "      <td>C</td>\n",
              "    </tr>\n",
              "    <tr>\n",
              "      <th>4756</th>\n",
              "      <td>Negativa</td>\n",
              "      <td>Interstellar</td>\n",
              "      <td>Nolan’s 168-minute odyssey through the space-t...</td>\n",
              "      <td>C</td>\n",
              "    </tr>\n",
              "    <tr>\n",
              "      <th>4757</th>\n",
              "      <td>Negativa</td>\n",
              "      <td>Interstellar</td>\n",
              "      <td>Promising outer-space majesty and deep-thought...</td>\n",
              "      <td>C</td>\n",
              "    </tr>\n",
              "  </tbody>\n",
              "</table>\n",
              "</div>"
            ],
            "text/plain": [
              "     valoracion  ... medio\n",
              "4712   Positiva  ...     C\n",
              "4713   Positiva  ...     C\n",
              "4714   Positiva  ...     C\n",
              "4715   Positiva  ...     C\n",
              "4716   Positiva  ...     C\n",
              "4717   Positiva  ...     C\n",
              "4718   Positiva  ...     C\n",
              "4719   Positiva  ...     C\n",
              "4720   Positiva  ...     C\n",
              "4721   Positiva  ...     C\n",
              "4722   Positiva  ...     C\n",
              "4723   Positiva  ...     C\n",
              "4724   Positiva  ...     C\n",
              "4725   Positiva  ...     C\n",
              "4726   Positiva  ...     C\n",
              "4727   Positiva  ...     C\n",
              "4728   Positiva  ...     C\n",
              "4729   Positiva  ...     C\n",
              "4730   Positiva  ...     C\n",
              "4731   Positiva  ...     C\n",
              "4732   Positiva  ...     C\n",
              "4733   Positiva  ...     C\n",
              "4734   Positiva  ...     C\n",
              "4735   Positiva  ...     C\n",
              "4736   Positiva  ...     C\n",
              "4737   Positiva  ...     C\n",
              "4738   Positiva  ...     C\n",
              "4739   Positiva  ...     C\n",
              "4740   Positiva  ...     C\n",
              "4741   Positiva  ...     C\n",
              "4742   Positiva  ...     C\n",
              "4743   Positiva  ...     C\n",
              "4744   Positiva  ...     C\n",
              "4745   Positiva  ...     C\n",
              "4746   Positiva  ...     C\n",
              "4747   Negativa  ...     C\n",
              "4748   Negativa  ...     C\n",
              "4749   Negativa  ...     C\n",
              "4750   Negativa  ...     C\n",
              "4751   Negativa  ...     C\n",
              "4752   Negativa  ...     C\n",
              "4753   Negativa  ...     C\n",
              "4754   Negativa  ...     C\n",
              "4755   Negativa  ...     C\n",
              "4756   Negativa  ...     C\n",
              "4757   Negativa  ...     C\n",
              "\n",
              "[46 rows x 4 columns]"
            ]
          },
          "metadata": {
            "tags": []
          },
          "execution_count": 42
        }
      ]
    },
    {
      "cell_type": "markdown",
      "metadata": {
        "id": "vqTeipeBrRyE"
      },
      "source": [
        "# Paso 4: Integración con Streamlit"
      ]
    },
    {
      "cell_type": "markdown",
      "metadata": {
        "id": "hOc8kVN8riTx"
      },
      "source": [
        "## Paso 4.1: Creacion del túnel con ngrok"
      ]
    },
    {
      "cell_type": "code",
      "metadata": {
        "id": "8ZIQAMclrvym"
      },
      "source": [
        "get_ipython().system_raw('./ngrok http 8501 &')"
      ],
      "execution_count": 43,
      "outputs": []
    },
    {
      "cell_type": "markdown",
      "metadata": {
        "id": "EPIPLfMLr3bn"
      },
      "source": [
        "Es necesario ejecutar todo el notebook antes de acceder al enlace proporcionado por la siguiente linea de código:"
      ]
    },
    {
      "cell_type": "code",
      "metadata": {
        "id": "64SqOY-Gr2ab",
        "colab": {
          "base_uri": "https://localhost:8080/"
        },
        "outputId": "98583884-204e-4fcc-905f-e00da2f82711"
      },
      "source": [
        "!curl -s http://localhost:4040/api/tunnels | python3 -c \\\n",
        "    'import sys, json; print(\"Es importante ejecutar las proximas celdas, una vez ejecutadas, clickar en el siguiente enlace: \" +json.load(sys.stdin)[\"tunnels\"][0][\"public_url\"])'"
      ],
      "execution_count": 44,
      "outputs": [
        {
          "output_type": "stream",
          "text": [
            "Es importante ejecutar las proximas celdas, una vez ejecutadas, clickar en el siguiente enlace: https://f3939dac5d4b.ngrok.io\n"
          ],
          "name": "stdout"
        }
      ]
    },
    {
      "cell_type": "markdown",
      "metadata": {
        "id": "kwH70pXioaqj"
      },
      "source": [
        "## Paso 4.2. Preparación de la Interfaz"
      ]
    },
    {
      "cell_type": "markdown",
      "metadata": {
        "id": "yDLA2YmLit7B"
      },
      "source": [
        "Carga de iconos de UI:"
      ]
    },
    {
      "cell_type": "code",
      "metadata": {
        "colab": {
          "base_uri": "https://localhost:8080/",
          "height": 320
        },
        "id": "AcBoA0TQith9",
        "outputId": "036edf53-0aaf-40cf-aa86-3a94bf2aa0e2"
      },
      "source": [
        "import gdown as gd\n",
        "!mkdir -p icons \n",
        "gd.download('https://drive.google.com/uc?export=download&id=1bZTvuiMqmeLxYhgdYWmVGUXKXEEehYA3', \n",
        "            'icons/music.png', quiet=False) \n",
        "gd.download('https://drive.google.com/uc?export=download&id=1UfI7BCQQZLTzt0KMNABtHx6iK8ggmzbv', \n",
        "            'icons/films.png', quiet=False) \n",
        "gd.download('https://drive.google.com/uc?export=download&id=1bz_diPSlmfTxy4JlGnFAJC4Kr-m3nCaI', \n",
        "            'icons/series.png', quiet=False) \n",
        "gd.download('https://drive.google.com/uc?export=download&id=1iuPmCXakdyLLD_LSGJMnO4zdmi4g2ev9', \n",
        "            'icons/videogames.png', quiet=False) "
      ],
      "execution_count": 45,
      "outputs": [
        {
          "output_type": "stream",
          "text": [
            "Downloading...\n",
            "From: https://drive.google.com/uc?export=download&id=1bZTvuiMqmeLxYhgdYWmVGUXKXEEehYA3\n",
            "To: /content/icons/music.png\n",
            "100%|██████████| 28.2k/28.2k [00:00<00:00, 3.73MB/s]\n",
            "Downloading...\n",
            "From: https://drive.google.com/uc?export=download&id=1UfI7BCQQZLTzt0KMNABtHx6iK8ggmzbv\n",
            "To: /content/icons/films.png\n",
            "100%|██████████| 27.5k/27.5k [00:00<00:00, 6.59MB/s]\n",
            "Downloading...\n",
            "From: https://drive.google.com/uc?export=download&id=1bz_diPSlmfTxy4JlGnFAJC4Kr-m3nCaI\n",
            "To: /content/icons/series.png\n",
            "100%|██████████| 28.9k/28.9k [00:00<00:00, 7.53MB/s]\n",
            "Downloading...\n",
            "From: https://drive.google.com/uc?export=download&id=1iuPmCXakdyLLD_LSGJMnO4zdmi4g2ev9\n",
            "To: /content/icons/videogames.png\n",
            "100%|██████████| 27.5k/27.5k [00:00<00:00, 23.9MB/s]\n"
          ],
          "name": "stderr"
        },
        {
          "output_type": "execute_result",
          "data": {
            "application/vnd.google.colaboratory.intrinsic+json": {
              "type": "string"
            },
            "text/plain": [
              "'icons/videogames.png'"
            ]
          },
          "metadata": {
            "tags": []
          },
          "execution_count": 45
        }
      ]
    },
    {
      "cell_type": "markdown",
      "metadata": {
        "id": "_jsKGzpcZT7F"
      },
      "source": [
        "Fichero que ejecutará Streamlit (contiene la generación del sistema de recomendaciones):"
      ]
    },
    {
      "cell_type": "code",
      "metadata": {
        "id": "KwlUiQmGsCG_",
        "colab": {
          "base_uri": "https://localhost:8080/"
        },
        "outputId": "eb253f05-8594-49d4-bd7f-6bba961223cc"
      },
      "source": [
        "%%writefile FindMoUI.py\n",
        "import os\n",
        "import streamlit as st\n",
        "import pandas as pd\n",
        "import random\n",
        "\n",
        "@st.cache # Ejecutar sólo una vez:\n",
        "def getPreprocessedData():\n",
        "\n",
        "  # PREPROCESADO DATASETS:\n",
        "  from nltk.tokenize import word_tokenize \n",
        "  from nltk.corpus import stopwords\n",
        "  from nltk.stem import PorterStemmer\n",
        "  \n",
        "\n",
        "  import nltk\n",
        "  nltk.download('punkt')\n",
        "  nltk.download('stopwords')\n",
        "\n",
        "  ps = PorterStemmer()\n",
        "\n",
        "  preprocessedText = []\n",
        "\n",
        "  originalData = pd.read_csv('system_datasets/obras_descripcion.csv')\n",
        "  \n",
        "\n",
        "  for row in originalData.itertuples():     \n",
        "    text = word_tokenize(row[4]) ## indice de la columna que contiene el texto\n",
        "    ## Remove stop words\n",
        "    stops = set(stopwords.words(\"english\"))\n",
        "    text = [ps.stem(w) for w in text if not w in stops and w.isalpha()]\n",
        "    text = \" \".join(text)\n",
        "    \n",
        "    preprocessedText.append(text)\n",
        "\n",
        "  preprocessedData = originalData\n",
        "  preprocessedData['processed_text'] = preprocessedText\n",
        "\n",
        "  return preprocessedData\n",
        "\n",
        "\n",
        "@st.cache # Ejecutar sólo una vez:\n",
        "def getDistanceMatrix(preprocessedData):\n",
        "  from sklearn.feature_extraction.text import TfidfVectorizer\n",
        "\n",
        "  bagOfWordsModel = TfidfVectorizer()\n",
        "  bagOfWordsModel.fit(preprocessedData['processed_text'])\n",
        "  textsBoW= bagOfWordsModel.transform(preprocessedData['processed_text'])\n",
        "\n",
        "\n",
        "\n",
        "  from sklearn.metrics import pairwise_distances\n",
        "\n",
        "  distance_matrix = pairwise_distances(textsBoW,textsBoW ,metric='cosine')\n",
        "\n",
        "  return distance_matrix\n",
        "\n",
        "\n",
        "\n",
        "# Obtener datos preprocesados y matriz de distancias\n",
        "preprocessedData = getPreprocessedData()\n",
        "distance_matrix = getDistanceMatrix(preprocessedData)\n",
        "comentarios = pd.read_csv('system_datasets/obras_recomendacion.csv')\n",
        "def getDatosObraReferencia(tituloObra):\n",
        "  searchTitle = tituloObra # Obra base para las recomendaciones\n",
        "  return preprocessedData[preprocessedData['nombre']==searchTitle].iloc[0]\n",
        "\n",
        "def getObrasSimilares(tituloObra, searchMediums):\n",
        "  searchTitle = tituloObra # Obra base para las recomendaciones\n",
        "  indexOfTitle = preprocessedData[preprocessedData['nombre']==searchTitle].index.values[0]\n",
        "  distance_scores = list(enumerate(distance_matrix[indexOfTitle]))\n",
        "  ordered_scores = sorted(distance_scores, key=lambda x: x[1])\n",
        "  top_indexes = [i[0] for i in ordered_scores]\n",
        "  top = preprocessedData[['id_obra', 'medio', 'nombre', 'descripcion']].iloc[top_indexes]\n",
        "\n",
        "  obraRef = getDatosObraReferencia(tituloObra)\n",
        "  sameMedium = 1 if (obraRef['medio'] in searchMediums) else 0\n",
        "\n",
        "  return top[top['medio'].isin(searchMediums)][(0+sameMedium):(15+sameMedium)]\n",
        "\n",
        "def getMedio(datosObra):\n",
        "  medio = datosObra['medio']\n",
        "  if(medio == 'C'):\n",
        "    return \"Película\"\n",
        "  elif(medio == 'M'):\n",
        "    return \"Canción\"\n",
        "  elif(medio == 'S'):\n",
        "    return \"Serie\"\n",
        "  elif(medio == 'V'):\n",
        "    return \"Videojuego\"\n",
        "\n",
        "def getIcono(medio, column):\n",
        "  if(medio == 'C'):\n",
        "    column.image(\"icons/films.png\",width=128)\n",
        "  elif(medio == 'M'):\n",
        "    column.image(\"icons/music.png\",width=128)\n",
        "  elif(medio == 'S'):\n",
        "    column.image(\"icons/series.png\",width=128)\n",
        "  elif(medio == 'V'):\n",
        "    column.image(\"icons/videogames.png\",width=128)\n",
        "\n",
        "def obtenerComentario(datosObra,commentsSelector,indice):\n",
        "  nombre = datosObra['nombre']\n",
        "  comentariosObra = comentarios.loc[comentarios['nombre']==nombre]\n",
        " \n",
        "  if(comentariosObra.empty):\n",
        "    return \"Sin comentarios disponibles\"\n",
        "  else:\n",
        "    if(commentsSelector==\"varios\"):\n",
        "      valor=round(indice*len(comentariosObra))-1\n",
        "      return comentariosObra.iloc[valor]\n",
        "    else:\n",
        "      salida =comentariosObra.loc[comentarios['valoracion']==commentsSelector]\n",
        "      if(salida.empty):\n",
        "          return \"Sin comentarios de este tipo disponibles\"\n",
        "      else:\n",
        "        valor=round(indice*len(salida))-1\n",
        "        return salida.iloc[valor]\n",
        "\n",
        "def crearComentario(nombreObra, medioObra, comentarioObra, valoracionObra):\n",
        "  if(valoracionObra == 'No especificar'):\n",
        "    pass\n",
        "    #Insertar aqui valoracion de comentarios\n",
        "  else:\n",
        "    nuevoComentario = pd.DataFrame({'valoracion': [valoracionObra], 'nombre':  [nombreObra], 'comentario': [comentarioObra],  'medio': [medioObra] })\n",
        "    nuevoComentario[['valoracion', 'nombre', 'comentario','medio']].dropna().to_csv('system_datasets/obras_recomendacion.csv', index=False, mode='a')\n",
        "    comentarios.append(nuevoComentario);\n",
        "\n",
        "\n",
        "    \n",
        "# PÁGINA STREAMLIT\n",
        "# Cargar descripciones obras:\n",
        "obrasConDescripcion = pd.read_csv('system_datasets/obras_descripcion.csv') \n",
        "indice=0.1\n",
        "\n",
        "\n",
        "#Definicion menu lateral\n",
        "st.sidebar.header(\"FindMo: Encuentra más entretenimiento interesante\")\n",
        "st.sidebar.write(\"¡Busca una obra que te guste! Encontraremos otras que te puedan interesar\")\n",
        "seleccion = st.sidebar.selectbox(\n",
        "    \"Seleccione una obra de las siguientes\",\n",
        "    (\n",
        "        obrasConDescripcion[['nombre']]\n",
        "    ),\n",
        "    0    \n",
        ")\n",
        "searchMediums = []\n",
        "\n",
        "\n",
        "with st.sidebar.beta_expander(\"Selección de medios\"):\n",
        "  st.write(\"Escoja a que medios desea que pertenezcan las recomendadiones: \")\n",
        "  selectPeliculas = st.checkbox(\"Peliculas\", value=True) #Devuelve true cuando esta checkeada\n",
        "  selectMusica = st.checkbox(\"Musica\", value=True)\n",
        "  selectVideojuegos = st.checkbox(\"Videojuegos\", value=True)\n",
        "  selectSeries = st.checkbox(\"Series\", value=True)\n",
        "\n",
        "  if(selectPeliculas):\n",
        "    searchMediums.append('C')\n",
        "  if(selectMusica):\n",
        "    searchMediums.append('M')\n",
        "  if(selectVideojuegos):\n",
        "    searchMediums.append('V')\n",
        "  if(selectSeries):\n",
        "    searchMediums.append('S')\n",
        "\n",
        "commentsSelector= \"Variados\"\n",
        "\n",
        "with st.sidebar.beta_expander(\"Ajustes de las recomendaciones\"):\n",
        "\n",
        "  st.write(\"Escoja el peso que tendrán las carátulas y las descripciones en las recomendaciones, donde 0 es que no afectan a la recomendación y 100 es que tienen la máxima importancia\")\n",
        "  caratulas = st.slider('Peso de las carátulas en la recomendación', 0, 100, 50)\n",
        "  descripciones = st.slider('Peso de las descripciones en la recomendación', 0, 100, 50)\n",
        "  selection = st.selectbox(\n",
        "     'Que tipo de comentarios deseas ver?',\n",
        "     ('Variados','Positivos','Negativos'))\n",
        "  if(selection==\"Negativos\"):\n",
        "    commentsSelector=\"Negativa\"\n",
        "  elif(selection==\"Positivos\"):\n",
        "    commentsSelector=\"Positiva\"\n",
        "  else:\n",
        "    commentsSelector=\"varios\"\n",
        "  if st.button('Mas comentarios'):\n",
        "    indice=random.random()\n",
        "    st.write(indice)\n",
        "     \n",
        "  \n",
        " \n",
        "#Aqui se realizaria el computo que ya tenemos realizado y despues se mostrarian las obras\n",
        "datosObraReferencia = getDatosObraReferencia(seleccion)\n",
        "st.header(\"Obra de Referencia: \"+seleccion+\" (\" + getMedio(datosObraReferencia) +\")\")\n",
        "recomendaciones = getObrasSimilares(seleccion, searchMediums)\n",
        "\n",
        "comentario = obtenerComentario(datosObraReferencia,commentsSelector,indice)\n",
        "with st.beta_expander(\"Descripción\"):\n",
        "  st.write(datosObraReferencia['descripcion'])\n",
        "with st.beta_expander(\"Comentarios\"):\n",
        "  if(len(comentario)==4):\n",
        "    st.write(comentario[0]) \n",
        "    st.write(comentario[2])\n",
        "\n",
        "  else:\n",
        "    st.write(comentario)\n",
        "with st.beta_expander(\"Añadir comentario\"):\n",
        "    comentario_usuario = st.text_area(\"Comentario textual\", \"\")\n",
        "    comentario_valor = st.selectbox(\n",
        "     'Valoro esta obra de forma...',\n",
        "     ('No especificar','Positiva','Negativa'))\n",
        "    if st.button('Añadir comentario'):\n",
        "      crearComentario(seleccion, datosObraReferencia['medio'], comentario_usuario, comentario_valor)\n",
        "\n",
        "\n",
        "\n",
        "for index, row in recomendaciones.iterrows():\n",
        "  st.subheader(row['nombre'])\n",
        "  comentario = obtenerComentario(row,commentsSelector,indice)\n",
        "  cols = st.beta_columns((1,3))\n",
        "  getIcono(row['medio'], cols[0]) \n",
        "\n",
        "  with cols[1]:\n",
        "    with st.beta_expander(\"Descripción\"):\n",
        "      st.write(datosObraReferencia['descripcion'])\n",
        "    with st.beta_expander(\"Comentarios\"):\n",
        "      if(len(comentario)==4): \n",
        "        st.write(comentario[0])\n",
        "        st.write(comentario[2])\n",
        "      else:\n",
        "        st.write(comentario)\n",
        "      \n"
      ],
      "execution_count": 46,
      "outputs": [
        {
          "output_type": "stream",
          "text": [
            "Writing FindMoUI.py\n"
          ],
          "name": "stdout"
        }
      ]
    },
    {
      "cell_type": "markdown",
      "metadata": {
        "id": "uMKSycMpaNiq"
      },
      "source": [
        "## Paso 4.3. Lanzamiento de la Aplicación:"
      ]
    },
    {
      "cell_type": "markdown",
      "metadata": {
        "id": "FRCdtYXWZ1-F"
      },
      "source": [
        "Iniciar Streamlit:"
      ]
    },
    {
      "cell_type": "code",
      "metadata": {
        "id": "iwEn4RR-wI02",
        "colab": {
          "base_uri": "https://localhost:8080/"
        },
        "outputId": "3d7b991d-09bd-425b-950b-d7851f63eee1"
      },
      "source": [
        "!streamlit run FindMoUI.py"
      ],
      "execution_count": 47,
      "outputs": [
        {
          "output_type": "stream",
          "text": [
            "\u001b[0m\n",
            "\u001b[34m\u001b[1m  You can now view your Streamlit app in your browser.\u001b[0m\n",
            "\u001b[0m\n",
            "\u001b[34m  Network URL: \u001b[0m\u001b[1mhttp://172.28.0.2:8501\u001b[0m\n",
            "\u001b[34m  External URL: \u001b[0m\u001b[1mhttp://34.73.17.88:8501\u001b[0m\n",
            "\u001b[0m\n",
            "[nltk_data] Downloading package punkt to /root/nltk_data...\n",
            "[nltk_data]   Package punkt is already up-to-date!\n",
            "[nltk_data] Downloading package stopwords to /root/nltk_data...\n",
            "[nltk_data]   Package stopwords is already up-to-date!\n",
            "tcmalloc: large alloc 4076691456 bytes == 0x4881c000 @  0x7f4d1cbe3001 0x7f4d17bbe4ff 0x7f4d17c0eb08 0x7f4d17c12ac7 0x7f4d17cb11a3 0x50a4a5 0x50cc96 0x5095c8 0x50a2fd 0x50beb4 0x507be4 0x509900 0x50a2fd 0x50beb4 0x507be4 0x509900 0x50a2fd 0x50cc96 0x507be4 0x509900 0x50a2fd 0x50beb4 0x507be4 0x588d41 0x59fd0e 0x50d256 0x507be4 0x588d41 0x59fd0e 0x50d256 0x507be4\n",
            "\u001b[34m  Stopping...\u001b[0m\n"
          ],
          "name": "stdout"
        }
      ]
    }
  ]
}