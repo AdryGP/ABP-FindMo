{
  "nbformat": 4,
  "nbformat_minor": 0,
  "metadata": {
    "colab": {
      "name": "Untitled0.ipynb",
      "provenance": [],
      "authorship_tag": "ABX9TyPMVrCfmLFG8EMnfDJ4TFhO",
      "include_colab_link": true
    },
    "kernelspec": {
      "name": "python3",
      "display_name": "Python 3"
    }
  },
  "cells": [
    {
      "cell_type": "markdown",
      "metadata": {
        "id": "view-in-github",
        "colab_type": "text"
      },
      "source": [
        "<a href=\"https://colab.research.google.com/github/AdryGP/ABP-FindMo/blob/main/an%C3%A1lisis_de_sentimientos.ipynb\" target=\"_parent\"><img src=\"https://colab.research.google.com/assets/colab-badge.svg\" alt=\"Open In Colab\"/></a>"
      ]
    },
    {
      "cell_type": "code",
      "metadata": {
        "id": "d216nU0vo7W_",
        "outputId": "acf2961d-aac9-4c7c-e214-647d770cd45a",
        "colab": {
          "base_uri": "https://localhost:8080/"
        }
      },
      "source": [
        "!pip install streamlit"
      ],
      "execution_count": 1,
      "outputs": [
        {
          "output_type": "stream",
          "text": [
            "Requirement already satisfied: streamlit in /usr/local/lib/python3.6/dist-packages (0.70.0)\n",
            "Requirement already satisfied: pydeck>=0.1.dev5 in /usr/local/lib/python3.6/dist-packages (from streamlit) (0.5.0)\n",
            "Requirement already satisfied: gitpython in /usr/local/lib/python3.6/dist-packages (from streamlit) (3.1.11)\n",
            "Requirement already satisfied: altair>=3.2.0 in /usr/local/lib/python3.6/dist-packages (from streamlit) (4.1.0)\n",
            "Requirement already satisfied: pandas>=0.21.0 in /usr/local/lib/python3.6/dist-packages (from streamlit) (1.1.4)\n",
            "Requirement already satisfied: cachetools>=4.0 in /usr/local/lib/python3.6/dist-packages (from streamlit) (4.1.1)\n",
            "Requirement already satisfied: blinker in /usr/local/lib/python3.6/dist-packages (from streamlit) (1.4)\n",
            "Requirement already satisfied: pillow>=6.2.0 in /usr/local/lib/python3.6/dist-packages (from streamlit) (7.0.0)\n",
            "Requirement already satisfied: tornado>=5.0 in /usr/local/lib/python3.6/dist-packages (from streamlit) (5.1.1)\n",
            "Requirement already satisfied: python-dateutil in /usr/local/lib/python3.6/dist-packages (from streamlit) (2.8.1)\n",
            "Requirement already satisfied: astor in /usr/local/lib/python3.6/dist-packages (from streamlit) (0.8.1)\n",
            "Requirement already satisfied: requests in /usr/local/lib/python3.6/dist-packages (from streamlit) (2.23.0)\n",
            "Requirement already satisfied: base58 in /usr/local/lib/python3.6/dist-packages (from streamlit) (2.0.1)\n",
            "Requirement already satisfied: numpy in /usr/local/lib/python3.6/dist-packages (from streamlit) (1.18.5)\n",
            "Requirement already satisfied: enum-compat in /usr/local/lib/python3.6/dist-packages (from streamlit) (0.0.3)\n",
            "Requirement already satisfied: boto3 in /usr/local/lib/python3.6/dist-packages (from streamlit) (1.16.13)\n",
            "Requirement already satisfied: protobuf>=3.6.0 in /usr/local/lib/python3.6/dist-packages (from streamlit) (3.12.4)\n",
            "Requirement already satisfied: tzlocal in /usr/local/lib/python3.6/dist-packages (from streamlit) (1.5.1)\n",
            "Requirement already satisfied: pyarrow in /usr/local/lib/python3.6/dist-packages (from streamlit) (0.14.1)\n",
            "Requirement already satisfied: watchdog in /usr/local/lib/python3.6/dist-packages (from streamlit) (0.10.3)\n",
            "Requirement already satisfied: click>=7.0 in /usr/local/lib/python3.6/dist-packages (from streamlit) (7.1.2)\n",
            "Requirement already satisfied: toml in /usr/local/lib/python3.6/dist-packages (from streamlit) (0.10.2)\n",
            "Requirement already satisfied: botocore>=1.13.44 in /usr/local/lib/python3.6/dist-packages (from streamlit) (1.19.13)\n",
            "Requirement already satisfied: validators in /usr/local/lib/python3.6/dist-packages (from streamlit) (0.18.1)\n",
            "Requirement already satisfied: packaging in /usr/local/lib/python3.6/dist-packages (from streamlit) (20.4)\n",
            "Requirement already satisfied: ipywidgets>=7.0.0 in /usr/local/lib/python3.6/dist-packages (from pydeck>=0.1.dev5->streamlit) (7.5.1)\n",
            "Requirement already satisfied: ipykernel>=5.1.2; python_version >= \"3.4\" in /usr/local/lib/python3.6/dist-packages (from pydeck>=0.1.dev5->streamlit) (5.3.4)\n",
            "Requirement already satisfied: traitlets>=4.3.2 in /usr/local/lib/python3.6/dist-packages (from pydeck>=0.1.dev5->streamlit) (4.3.3)\n",
            "Requirement already satisfied: jinja2>=2.10.1 in /usr/local/lib/python3.6/dist-packages (from pydeck>=0.1.dev5->streamlit) (2.11.2)\n",
            "Requirement already satisfied: gitdb<5,>=4.0.1 in /usr/local/lib/python3.6/dist-packages (from gitpython->streamlit) (4.0.5)\n",
            "Requirement already satisfied: toolz in /usr/local/lib/python3.6/dist-packages (from altair>=3.2.0->streamlit) (0.11.1)\n",
            "Requirement already satisfied: entrypoints in /usr/local/lib/python3.6/dist-packages (from altair>=3.2.0->streamlit) (0.3)\n",
            "Requirement already satisfied: jsonschema in /usr/local/lib/python3.6/dist-packages (from altair>=3.2.0->streamlit) (2.6.0)\n",
            "Requirement already satisfied: pytz>=2017.2 in /usr/local/lib/python3.6/dist-packages (from pandas>=0.21.0->streamlit) (2018.9)\n",
            "Requirement already satisfied: six>=1.5 in /usr/local/lib/python3.6/dist-packages (from python-dateutil->streamlit) (1.15.0)\n",
            "Requirement already satisfied: certifi>=2017.4.17 in /usr/local/lib/python3.6/dist-packages (from requests->streamlit) (2020.6.20)\n",
            "Requirement already satisfied: chardet<4,>=3.0.2 in /usr/local/lib/python3.6/dist-packages (from requests->streamlit) (3.0.4)\n",
            "Requirement already satisfied: urllib3!=1.25.0,!=1.25.1,<1.26,>=1.21.1 in /usr/local/lib/python3.6/dist-packages (from requests->streamlit) (1.25.11)\n",
            "Requirement already satisfied: idna<3,>=2.5 in /usr/local/lib/python3.6/dist-packages (from requests->streamlit) (2.10)\n",
            "Requirement already satisfied: jmespath<1.0.0,>=0.7.1 in /usr/local/lib/python3.6/dist-packages (from boto3->streamlit) (0.10.0)\n",
            "Requirement already satisfied: s3transfer<0.4.0,>=0.3.0 in /usr/local/lib/python3.6/dist-packages (from boto3->streamlit) (0.3.3)\n",
            "Requirement already satisfied: setuptools in /usr/local/lib/python3.6/dist-packages (from protobuf>=3.6.0->streamlit) (50.3.2)\n",
            "Requirement already satisfied: pathtools>=0.1.1 in /usr/local/lib/python3.6/dist-packages (from watchdog->streamlit) (0.1.2)\n",
            "Requirement already satisfied: decorator>=3.4.0 in /usr/local/lib/python3.6/dist-packages (from validators->streamlit) (4.4.2)\n",
            "Requirement already satisfied: pyparsing>=2.0.2 in /usr/local/lib/python3.6/dist-packages (from packaging->streamlit) (2.4.7)\n",
            "Requirement already satisfied: widgetsnbextension~=3.5.0 in /usr/local/lib/python3.6/dist-packages (from ipywidgets>=7.0.0->pydeck>=0.1.dev5->streamlit) (3.5.1)\n",
            "Requirement already satisfied: nbformat>=4.2.0 in /usr/local/lib/python3.6/dist-packages (from ipywidgets>=7.0.0->pydeck>=0.1.dev5->streamlit) (5.0.8)\n",
            "Requirement already satisfied: ipython>=4.0.0; python_version >= \"3.3\" in /usr/local/lib/python3.6/dist-packages (from ipywidgets>=7.0.0->pydeck>=0.1.dev5->streamlit) (5.5.0)\n",
            "Requirement already satisfied: jupyter-client in /usr/local/lib/python3.6/dist-packages (from ipykernel>=5.1.2; python_version >= \"3.4\"->pydeck>=0.1.dev5->streamlit) (5.3.5)\n",
            "Requirement already satisfied: ipython-genutils in /usr/local/lib/python3.6/dist-packages (from traitlets>=4.3.2->pydeck>=0.1.dev5->streamlit) (0.2.0)\n",
            "Requirement already satisfied: MarkupSafe>=0.23 in /usr/local/lib/python3.6/dist-packages (from jinja2>=2.10.1->pydeck>=0.1.dev5->streamlit) (1.1.1)\n",
            "Requirement already satisfied: smmap<4,>=3.0.1 in /usr/local/lib/python3.6/dist-packages (from gitdb<5,>=4.0.1->gitpython->streamlit) (3.0.4)\n",
            "Requirement already satisfied: notebook>=4.4.1 in /usr/local/lib/python3.6/dist-packages (from widgetsnbextension~=3.5.0->ipywidgets>=7.0.0->pydeck>=0.1.dev5->streamlit) (5.3.1)\n",
            "Requirement already satisfied: jupyter-core in /usr/local/lib/python3.6/dist-packages (from nbformat>=4.2.0->ipywidgets>=7.0.0->pydeck>=0.1.dev5->streamlit) (4.6.3)\n",
            "Requirement already satisfied: pygments in /usr/local/lib/python3.6/dist-packages (from ipython>=4.0.0; python_version >= \"3.3\"->ipywidgets>=7.0.0->pydeck>=0.1.dev5->streamlit) (2.6.1)\n",
            "Requirement already satisfied: pexpect; sys_platform != \"win32\" in /usr/local/lib/python3.6/dist-packages (from ipython>=4.0.0; python_version >= \"3.3\"->ipywidgets>=7.0.0->pydeck>=0.1.dev5->streamlit) (4.8.0)\n",
            "Requirement already satisfied: simplegeneric>0.8 in /usr/local/lib/python3.6/dist-packages (from ipython>=4.0.0; python_version >= \"3.3\"->ipywidgets>=7.0.0->pydeck>=0.1.dev5->streamlit) (0.8.1)\n",
            "Requirement already satisfied: pickleshare in /usr/local/lib/python3.6/dist-packages (from ipython>=4.0.0; python_version >= \"3.3\"->ipywidgets>=7.0.0->pydeck>=0.1.dev5->streamlit) (0.7.5)\n",
            "Requirement already satisfied: prompt-toolkit<2.0.0,>=1.0.4 in /usr/local/lib/python3.6/dist-packages (from ipython>=4.0.0; python_version >= \"3.3\"->ipywidgets>=7.0.0->pydeck>=0.1.dev5->streamlit) (1.0.18)\n",
            "Requirement already satisfied: pyzmq>=13 in /usr/local/lib/python3.6/dist-packages (from jupyter-client->ipykernel>=5.1.2; python_version >= \"3.4\"->pydeck>=0.1.dev5->streamlit) (19.0.2)\n",
            "Requirement already satisfied: nbconvert in /usr/local/lib/python3.6/dist-packages (from notebook>=4.4.1->widgetsnbextension~=3.5.0->ipywidgets>=7.0.0->pydeck>=0.1.dev5->streamlit) (5.6.1)\n",
            "Requirement already satisfied: terminado>=0.8.1 in /usr/local/lib/python3.6/dist-packages (from notebook>=4.4.1->widgetsnbextension~=3.5.0->ipywidgets>=7.0.0->pydeck>=0.1.dev5->streamlit) (0.9.1)\n",
            "Requirement already satisfied: Send2Trash in /usr/local/lib/python3.6/dist-packages (from notebook>=4.4.1->widgetsnbextension~=3.5.0->ipywidgets>=7.0.0->pydeck>=0.1.dev5->streamlit) (1.5.0)\n",
            "Requirement already satisfied: ptyprocess>=0.5 in /usr/local/lib/python3.6/dist-packages (from pexpect; sys_platform != \"win32\"->ipython>=4.0.0; python_version >= \"3.3\"->ipywidgets>=7.0.0->pydeck>=0.1.dev5->streamlit) (0.6.0)\n",
            "Requirement already satisfied: wcwidth in /usr/local/lib/python3.6/dist-packages (from prompt-toolkit<2.0.0,>=1.0.4->ipython>=4.0.0; python_version >= \"3.3\"->ipywidgets>=7.0.0->pydeck>=0.1.dev5->streamlit) (0.2.5)\n",
            "Requirement already satisfied: pandocfilters>=1.4.1 in /usr/local/lib/python3.6/dist-packages (from nbconvert->notebook>=4.4.1->widgetsnbextension~=3.5.0->ipywidgets>=7.0.0->pydeck>=0.1.dev5->streamlit) (1.4.3)\n",
            "Requirement already satisfied: defusedxml in /usr/local/lib/python3.6/dist-packages (from nbconvert->notebook>=4.4.1->widgetsnbextension~=3.5.0->ipywidgets>=7.0.0->pydeck>=0.1.dev5->streamlit) (0.6.0)\n",
            "Requirement already satisfied: bleach in /usr/local/lib/python3.6/dist-packages (from nbconvert->notebook>=4.4.1->widgetsnbextension~=3.5.0->ipywidgets>=7.0.0->pydeck>=0.1.dev5->streamlit) (3.2.1)\n",
            "Requirement already satisfied: testpath in /usr/local/lib/python3.6/dist-packages (from nbconvert->notebook>=4.4.1->widgetsnbextension~=3.5.0->ipywidgets>=7.0.0->pydeck>=0.1.dev5->streamlit) (0.4.4)\n",
            "Requirement already satisfied: mistune<2,>=0.8.1 in /usr/local/lib/python3.6/dist-packages (from nbconvert->notebook>=4.4.1->widgetsnbextension~=3.5.0->ipywidgets>=7.0.0->pydeck>=0.1.dev5->streamlit) (0.8.4)\n",
            "Requirement already satisfied: webencodings in /usr/local/lib/python3.6/dist-packages (from bleach->nbconvert->notebook>=4.4.1->widgetsnbextension~=3.5.0->ipywidgets>=7.0.0->pydeck>=0.1.dev5->streamlit) (0.5.1)\n"
          ],
          "name": "stdout"
        }
      ]
    },
    {
      "cell_type": "code",
      "metadata": {
        "id": "xRUOtwFjpOwO",
        "outputId": "22175e21-497e-4ae0-f6d9-8d0202846441",
        "colab": {
          "base_uri": "https://localhost:8080/"
        }
      },
      "source": [
        "!wget https://bin.equinox.io/c/4VmDzA7iaHb/ngrok-stable-linux-amd64.zip\n",
        "!unzip ngrok-stable-linux-amd64.zip"
      ],
      "execution_count": 2,
      "outputs": [
        {
          "output_type": "stream",
          "text": [
            "--2020-11-09 14:20:24--  https://bin.equinox.io/c/4VmDzA7iaHb/ngrok-stable-linux-amd64.zip\n",
            "Resolving bin.equinox.io (bin.equinox.io)... 52.206.15.164, 107.23.162.152, 52.21.51.142, ...\n",
            "Connecting to bin.equinox.io (bin.equinox.io)|52.206.15.164|:443... connected.\n",
            "HTTP request sent, awaiting response... 200 OK\n",
            "Length: 13773305 (13M) [application/octet-stream]\n",
            "Saving to: ‘ngrok-stable-linux-amd64.zip’\n",
            "\n",
            "ngrok-stable-linux- 100%[===================>]  13.13M  36.1MB/s    in 0.4s    \n",
            "\n",
            "2020-11-09 14:20:24 (36.1 MB/s) - ‘ngrok-stable-linux-amd64.zip’ saved [13773305/13773305]\n",
            "\n",
            "Archive:  ngrok-stable-linux-amd64.zip\n",
            "  inflating: ngrok                   \n"
          ],
          "name": "stdout"
        }
      ]
    },
    {
      "cell_type": "code",
      "metadata": {
        "id": "ZeWfllPFpWV9",
        "outputId": "efded6a9-2f72-4df0-cee0-9fecb07053ce",
        "colab": {
          "base_uri": "https://localhost:8080/",
          "height": 391
        }
      },
      "source": [
        "# !pip install gdown\n",
        "\n",
        "!mkdir -p original_datasets/videogames \n",
        "\n",
        "!mkdir -p original_datasets/movies \n",
        "\n",
        "!mkdir -p system_datasets\n",
        "\n",
        "import gdown as gd\n",
        "\n",
        "# Videojuegos\n",
        "gd.download('https://drive.google.com/uc?id=1-KgMce1i1IuEEsk-xUnIRTWq1R8jr8Ey', 'original_datasets/videogames/steam_list.csv', quiet=False) # Títulos de videojuegos (Steam)\n",
        "\n",
        "gd.download('https://drive.google.com/uc?id=1uYAG398bhK7fylytYixJo8xdHirFd_Xe', 'original_datasets/videogames/steam_descriptions.csv', quiet=False) # Descripciones de videojuegos (Steam)\n",
        "\n",
        "gd.download('https://drive.google.com/uc?id=1IqKNR6cdWJWIDXZSxg-TnRITpFWv2tgM', 'original_datasets/videogames/steam_reviews.csv', quiet=False) # Comentarios de videojuegos. (Steam)\n",
        "\n",
        "# Películas\n",
        "gd.download('https://drive.google.com/uc?id=1U7OJMy5wmseeeRLiPhwnXRsHzB0Az3-I', 'original_datasets/movies/imbd_movies.csv', quiet=False) # Títulos y descripciones de películas (IMDb)\n",
        "\n",
        "#gd.download('https://drive.google.com/uc?id=151yjtQnjfC1PxUiyw1xVXhkmHeBVwL0U', 'original_datasets/movies/metacritic_movies.csv', quiet=False) # Títulos de películas (Metacritic)\n",
        "\n",
        "gd.download('https://drive.google.com/uc?id=157m8NSM5D7xE-VZ8iqVzNNvQa6rMPf3d', 'original_datasets/movies/metacritic_reviews.csv', quiet=False) # Comentarios de películas (Metacritic)"
      ],
      "execution_count": 3,
      "outputs": [
        {
          "output_type": "stream",
          "text": [
            "Downloading...\n",
            "From: https://drive.google.com/uc?id=1-KgMce1i1IuEEsk-xUnIRTWq1R8jr8Ey\n",
            "To: /content/original_datasets/videogames/steam_list.csv\n",
            "5.82MB [00:00, 81.1MB/s]\n",
            "Downloading...\n",
            "From: https://drive.google.com/uc?id=1uYAG398bhK7fylytYixJo8xdHirFd_Xe\n",
            "To: /content/original_datasets/videogames/steam_descriptions.csv\n",
            "94.7MB [00:00, 271MB/s]\n",
            "Downloading...\n",
            "From: https://drive.google.com/uc?id=1IqKNR6cdWJWIDXZSxg-TnRITpFWv2tgM\n",
            "To: /content/original_datasets/videogames/steam_reviews.csv\n",
            "121MB [00:00, 243MB/s]\n",
            "Downloading...\n",
            "From: https://drive.google.com/uc?id=1U7OJMy5wmseeeRLiPhwnXRsHzB0Az3-I\n",
            "To: /content/original_datasets/movies/imbd_movies.csv\n",
            "47.9MB [00:00, 216MB/s]\n",
            "Downloading...\n",
            "From: https://drive.google.com/uc?id=157m8NSM5D7xE-VZ8iqVzNNvQa6rMPf3d\n",
            "To: /content/original_datasets/movies/metacritic_reviews.csv\n",
            "51.7MB [00:00, 232MB/s] \n"
          ],
          "name": "stderr"
        },
        {
          "output_type": "execute_result",
          "data": {
            "application/vnd.google.colaboratory.intrinsic+json": {
              "type": "string"
            },
            "text/plain": [
              "'original_datasets/movies/metacritic_reviews.csv'"
            ]
          },
          "metadata": {
            "tags": []
          },
          "execution_count": 3
        }
      ]
    },
    {
      "cell_type": "code",
      "metadata": {
        "id": "XyIOhstgpcT-",
        "outputId": "302acb90-1a0c-462a-d3a4-82e2cb9fbd0a",
        "colab": {
          "base_uri": "https://localhost:8080/"
        }
      },
      "source": [
        "import pandas as pd\n",
        "\n",
        "# Videojuegos\n",
        "originalSteamList = pd.read_csv('original_datasets/videogames/steam_list.csv')\n",
        "originalSteamDescriptions = pd.read_csv('original_datasets/videogames/steam_descriptions.csv')\n",
        "originalSteamReviews = pd.read_csv('original_datasets/videogames/steam_reviews.csv')\n",
        "\n",
        "# Películas\n",
        "originalIMBDMoviesWithDescription = pd.read_csv('original_datasets/movies/imbd_movies.csv')\n",
        "#originalMetacriticMovies = pd.read_csv('original_datasets/movies/metacritic_movies.csv')\n",
        "originalMetacriticReviews = pd.read_csv('original_datasets/movies/metacritic_reviews.csv')"
      ],
      "execution_count": 4,
      "outputs": [
        {
          "output_type": "stream",
          "text": [
            "/usr/local/lib/python3.6/dist-packages/IPython/core/interactiveshell.py:2718: DtypeWarning: Columns (3) have mixed types.Specify dtype option on import or set low_memory=False.\n",
            "  interactivity=interactivity, compiler=compiler, result=result)\n"
          ],
          "name": "stderr"
        }
      ]
    },
    {
      "cell_type": "code",
      "metadata": {
        "id": "7CD90S-zp6Fv"
      },
      "source": [
        "originalSteamList = originalSteamList[originalSteamList['owners'] != '0-20000']"
      ],
      "execution_count": 5,
      "outputs": []
    },
    {
      "cell_type": "code",
      "metadata": {
        "id": "a1sXWM5uqCAn"
      },
      "source": [
        "originalIMBDMoviesWithDescription = originalIMBDMoviesWithDescription[originalIMBDMoviesWithDescription['reviews_from_users'] > 70]"
      ],
      "execution_count": 6,
      "outputs": []
    },
    {
      "cell_type": "code",
      "metadata": {
        "id": "Heg6EhamqKCF",
        "outputId": "6ad4f29a-2313-4252-bf2e-3f18d8480888",
        "colab": {
          "base_uri": "https://localhost:8080/",
          "height": 399
        }
      },
      "source": [
        "# Estas líneas crean una copia del csv con un id para cada elemento con el formato que hemos especificado (<inicialMedio><autoIncremental>):\n",
        "# Videojuegos\n",
        "listadoVideojuegos = originalSteamList.copy()\n",
        "listadoVideojuegos.insert(0, 'id_obra', range(0, len(listadoVideojuegos)))\n",
        "listadoVideojuegos = listadoVideojuegos.assign(id_obra=lambda x: 'V'+x.id_obra.astype(str))\n",
        "\n",
        "# Películas\n",
        "listadoDescripcionCine = originalIMBDMoviesWithDescription.copy()\n",
        "listadoDescripcionCine.insert(0, 'id_obra', range(0, len(listadoDescripcionCine)))\n",
        "listadoDescripcionCine = listadoDescripcionCine.assign(id_obra=lambda x: 'C'+x.id_obra.astype(str))\n",
        "\n",
        "\n",
        "# Creamos el listado que contiene títulos y descripciones (y guardamos el csv):\n",
        "# Videojuegos (Descripciones):\n",
        "listadoDescripcionVideojuegos = pd.merge(listadoVideojuegos, originalSteamDescriptions, left_on='appid', right_on='steam_appid')\n",
        "\n",
        "listadoDescripcionVideojuegos = listadoDescripcionVideojuegos.rename(columns={'name':'nombre', 'short_description':'descripcion'})\n",
        "\n",
        "listadoDescripcionVideojuegos = listadoDescripcionVideojuegos.assign(medio='V')\n",
        "\n",
        "# Almacenamos el listado obtenido en un fichero CSV:\n",
        "listadoDescripcionVideojuegos[['id_obra', 'medio', 'nombre', 'descripcion']].to_csv('system_datasets/obras_descripcion.csv', index=False)\n",
        "\n",
        "listadoDescripcionVideojuegos[['id_obra', 'medio', 'nombre', 'descripcion']]"
      ],
      "execution_count": 7,
      "outputs": [
        {
          "output_type": "execute_result",
          "data": {
            "text/html": [
              "<div>\n",
              "<style scoped>\n",
              "    .dataframe tbody tr th:only-of-type {\n",
              "        vertical-align: middle;\n",
              "    }\n",
              "\n",
              "    .dataframe tbody tr th {\n",
              "        vertical-align: top;\n",
              "    }\n",
              "\n",
              "    .dataframe thead th {\n",
              "        text-align: right;\n",
              "    }\n",
              "</style>\n",
              "<table border=\"1\" class=\"dataframe\">\n",
              "  <thead>\n",
              "    <tr style=\"text-align: right;\">\n",
              "      <th></th>\n",
              "      <th>id_obra</th>\n",
              "      <th>medio</th>\n",
              "      <th>nombre</th>\n",
              "      <th>descripcion</th>\n",
              "    </tr>\n",
              "  </thead>\n",
              "  <tbody>\n",
              "    <tr>\n",
              "      <th>0</th>\n",
              "      <td>V0</td>\n",
              "      <td>V</td>\n",
              "      <td>Counter-Strike</td>\n",
              "      <td>Play the world's number 1 online action game. ...</td>\n",
              "    </tr>\n",
              "    <tr>\n",
              "      <th>1</th>\n",
              "      <td>V1</td>\n",
              "      <td>V</td>\n",
              "      <td>Team Fortress Classic</td>\n",
              "      <td>One of the most popular online action games of...</td>\n",
              "    </tr>\n",
              "    <tr>\n",
              "      <th>2</th>\n",
              "      <td>V2</td>\n",
              "      <td>V</td>\n",
              "      <td>Day of Defeat</td>\n",
              "      <td>Enlist in an intense brand of Axis vs. Allied ...</td>\n",
              "    </tr>\n",
              "    <tr>\n",
              "      <th>3</th>\n",
              "      <td>V3</td>\n",
              "      <td>V</td>\n",
              "      <td>Deathmatch Classic</td>\n",
              "      <td>Enjoy fast-paced multiplayer gaming with Death...</td>\n",
              "    </tr>\n",
              "    <tr>\n",
              "      <th>4</th>\n",
              "      <td>V4</td>\n",
              "      <td>V</td>\n",
              "      <td>Half-Life: Opposing Force</td>\n",
              "      <td>Return to the Black Mesa Research Facility as ...</td>\n",
              "    </tr>\n",
              "    <tr>\n",
              "      <th>...</th>\n",
              "      <td>...</td>\n",
              "      <td>...</td>\n",
              "      <td>...</td>\n",
              "      <td>...</td>\n",
              "    </tr>\n",
              "    <tr>\n",
              "      <th>8474</th>\n",
              "      <td>V8474</td>\n",
              "      <td>V</td>\n",
              "      <td>BLOCKADE Classic</td>\n",
              "      <td>BLOCKADE Classic! First Person Shooter in an e...</td>\n",
              "    </tr>\n",
              "    <tr>\n",
              "      <th>8475</th>\n",
              "      <td>V8475</td>\n",
              "      <td>V</td>\n",
              "      <td>Arena Stars</td>\n",
              "      <td>Choose your Hero, build your Team and take on ...</td>\n",
              "    </tr>\n",
              "    <tr>\n",
              "      <th>8476</th>\n",
              "      <td>V8476</td>\n",
              "      <td>V</td>\n",
              "      <td>Burning Daylight</td>\n",
              "      <td>Waking up naked in a slaughterhouse, you must ...</td>\n",
              "    </tr>\n",
              "    <tr>\n",
              "      <th>8477</th>\n",
              "      <td>V8477</td>\n",
              "      <td>V</td>\n",
              "      <td>KillStreak.tv</td>\n",
              "      <td>KILLSTREAK.tv is a quick fire 3rd-person multi...</td>\n",
              "    </tr>\n",
              "    <tr>\n",
              "      <th>8478</th>\n",
              "      <td>V8478</td>\n",
              "      <td>V</td>\n",
              "      <td>Sin Slayers: The First Sin</td>\n",
              "      <td>Sin Slayers is an RPG with roguelike elements ...</td>\n",
              "    </tr>\n",
              "  </tbody>\n",
              "</table>\n",
              "<p>8479 rows × 4 columns</p>\n",
              "</div>"
            ],
            "text/plain": [
              "     id_obra  ...                                        descripcion\n",
              "0         V0  ...  Play the world's number 1 online action game. ...\n",
              "1         V1  ...  One of the most popular online action games of...\n",
              "2         V2  ...  Enlist in an intense brand of Axis vs. Allied ...\n",
              "3         V3  ...  Enjoy fast-paced multiplayer gaming with Death...\n",
              "4         V4  ...  Return to the Black Mesa Research Facility as ...\n",
              "...      ...  ...                                                ...\n",
              "8474   V8474  ...  BLOCKADE Classic! First Person Shooter in an e...\n",
              "8475   V8475  ...  Choose your Hero, build your Team and take on ...\n",
              "8476   V8476  ...  Waking up naked in a slaughterhouse, you must ...\n",
              "8477   V8477  ...  KILLSTREAK.tv is a quick fire 3rd-person multi...\n",
              "8478   V8478  ...  Sin Slayers is an RPG with roguelike elements ...\n",
              "\n",
              "[8479 rows x 4 columns]"
            ]
          },
          "metadata": {
            "tags": []
          },
          "execution_count": 7
        }
      ]
    },
    {
      "cell_type": "code",
      "metadata": {
        "id": "iP3D9e4kqVF7",
        "outputId": "8daddd4c-d949-4750-e8e7-eaed7d168a7a",
        "colab": {
          "base_uri": "https://localhost:8080/",
          "height": 551
        }
      },
      "source": [
        "# Cine (Descripciones):\n",
        "listadoDescripcionCine = listadoDescripcionCine.rename(columns={'title':'nombre', 'description':'descripcion'})\n",
        "listadoDescripcionCine = listadoDescripcionCine.assign(medio='C')\n",
        "\n",
        "# Almacenamos el listado obtenido en un fichero CSV (se concatena al final del mismo)\n",
        "listadoDescripcionCine[['id_obra', 'medio', 'nombre', 'descripcion']].dropna().to_csv('system_datasets/obras_descripcion.csv', index=False, mode='a', header=False)\n",
        "listadoDescripcionCine[['id_obra', 'medio', 'nombre', 'descripcion']].dropna()"
      ],
      "execution_count": 8,
      "outputs": [
        {
          "output_type": "execute_result",
          "data": {
            "text/html": [
              "<div>\n",
              "<style scoped>\n",
              "    .dataframe tbody tr th:only-of-type {\n",
              "        vertical-align: middle;\n",
              "    }\n",
              "\n",
              "    .dataframe tbody tr th {\n",
              "        vertical-align: top;\n",
              "    }\n",
              "\n",
              "    .dataframe thead th {\n",
              "        text-align: right;\n",
              "    }\n",
              "</style>\n",
              "<table border=\"1\" class=\"dataframe\">\n",
              "  <thead>\n",
              "    <tr style=\"text-align: right;\">\n",
              "      <th></th>\n",
              "      <th>id_obra</th>\n",
              "      <th>medio</th>\n",
              "      <th>nombre</th>\n",
              "      <th>descripcion</th>\n",
              "    </tr>\n",
              "  </thead>\n",
              "  <tbody>\n",
              "    <tr>\n",
              "      <th>47</th>\n",
              "      <td>C0</td>\n",
              "      <td>C</td>\n",
              "      <td>Nascita di una nazione</td>\n",
              "      <td>The Stoneman family finds its friendship with ...</td>\n",
              "    </tr>\n",
              "    <tr>\n",
              "      <th>76</th>\n",
              "      <td>C1</td>\n",
              "      <td>C</td>\n",
              "      <td>Intolerance</td>\n",
              "      <td>The story of a poor young woman, separated by ...</td>\n",
              "    </tr>\n",
              "    <tr>\n",
              "      <th>147</th>\n",
              "      <td>C2</td>\n",
              "      <td>C</td>\n",
              "      <td>Giglio infranto</td>\n",
              "      <td>A frail waif, abused by her brutal boxer fathe...</td>\n",
              "    </tr>\n",
              "    <tr>\n",
              "      <th>165</th>\n",
              "      <td>C3</td>\n",
              "      <td>C</td>\n",
              "      <td>Il gabinetto del dottor Caligari</td>\n",
              "      <td>Hypnotist Dr. Caligari uses a somnambulist, Ce...</td>\n",
              "    </tr>\n",
              "    <tr>\n",
              "      <th>190</th>\n",
              "      <td>C4</td>\n",
              "      <td>C</td>\n",
              "      <td>Dr. Jekyll e Mr. Hyde</td>\n",
              "      <td>Dr. Henry Jekyll experiments with scientific m...</td>\n",
              "    </tr>\n",
              "    <tr>\n",
              "      <th>...</th>\n",
              "      <td>...</td>\n",
              "      <td>...</td>\n",
              "      <td>...</td>\n",
              "      <td>...</td>\n",
              "    </tr>\n",
              "    <tr>\n",
              "      <th>85811</th>\n",
              "      <td>C9130</td>\n",
              "      <td>C</td>\n",
              "      <td>Falling Inn Love - Ristrutturazione con amore</td>\n",
              "      <td>When city girl Gabriela spontaneously enters a...</td>\n",
              "    </tr>\n",
              "    <tr>\n",
              "      <th>85817</th>\n",
              "      <td>C9131</td>\n",
              "      <td>C</td>\n",
              "      <td>Paranormal Investigation</td>\n",
              "      <td>When a young man becomes possessed after playi...</td>\n",
              "    </tr>\n",
              "    <tr>\n",
              "      <th>85837</th>\n",
              "      <td>C9132</td>\n",
              "      <td>C</td>\n",
              "      <td>VFW</td>\n",
              "      <td>A group of old war veterans put their lives on...</td>\n",
              "    </tr>\n",
              "    <tr>\n",
              "      <th>85839</th>\n",
              "      <td>C9133</td>\n",
              "      <td>C</td>\n",
              "      <td>Coffee &amp; Kareem</td>\n",
              "      <td>Twelve-year-old Kareem Manning hires a crimina...</td>\n",
              "    </tr>\n",
              "    <tr>\n",
              "      <th>85843</th>\n",
              "      <td>C9134</td>\n",
              "      <td>C</td>\n",
              "      <td>Kaithi</td>\n",
              "      <td>A recently released prisoner becomes involved ...</td>\n",
              "    </tr>\n",
              "  </tbody>\n",
              "</table>\n",
              "<p>9118 rows × 4 columns</p>\n",
              "</div>"
            ],
            "text/plain": [
              "      id_obra  ...                                        descripcion\n",
              "47         C0  ...  The Stoneman family finds its friendship with ...\n",
              "76         C1  ...  The story of a poor young woman, separated by ...\n",
              "147        C2  ...  A frail waif, abused by her brutal boxer fathe...\n",
              "165        C3  ...  Hypnotist Dr. Caligari uses a somnambulist, Ce...\n",
              "190        C4  ...  Dr. Henry Jekyll experiments with scientific m...\n",
              "...       ...  ...                                                ...\n",
              "85811   C9130  ...  When city girl Gabriela spontaneously enters a...\n",
              "85817   C9131  ...  When a young man becomes possessed after playi...\n",
              "85837   C9132  ...  A group of old war veterans put their lives on...\n",
              "85839   C9133  ...  Twelve-year-old Kareem Manning hires a crimina...\n",
              "85843   C9134  ...  A recently released prisoner becomes involved ...\n",
              "\n",
              "[9118 rows x 4 columns]"
            ]
          },
          "metadata": {
            "tags": []
          },
          "execution_count": 8
        }
      ]
    },
    {
      "cell_type": "code",
      "metadata": {
        "id": "GCVtheQfqvdf",
        "outputId": "28759aac-7c4b-44c4-a3e5-997693696c68",
        "colab": {
          "base_uri": "https://localhost:8080/",
          "height": 399
        }
      },
      "source": [
        "# Creamos y almacenamos el listado que contiene los comentarios asociados a cada obra:\n",
        "# Videojuegos (Comentarios):\n",
        "listadoComentariosVideojuegos = pd.merge(listadoDescripcionVideojuegos, originalSteamReviews, left_on='nombre', right_on='title')\n",
        "\n",
        "listadoComentariosVideojuegos = listadoComentariosVideojuegos.rename(columns={'review':'comentario', 'recommendation':'valoracion'})\n",
        "\n",
        "videojuegosPositivos = listadoComentariosVideojuegos[listadoComentariosVideojuegos['valoracion'] == 'Recommended'].copy()\n",
        "videojuegosPositivos['valoracion'] = '+'\n",
        "\n",
        "videojuegosNegativos = listadoComentariosVideojuegos[listadoComentariosVideojuegos['valoracion'] == 'Not Recommended'].copy()\n",
        "videojuegosNegativos['valoracion'] = '-'\n",
        "\n",
        "listadoComentariosVideojuegos = pd.concat([videojuegosPositivos, videojuegosNegativos])\n",
        "\n",
        "# Almacenamos el listado obtenido en un fichero CSV:\n",
        "listadoComentariosVideojuegos[['id_obra', 'comentario', 'valoracion']].to_csv('system_datasets/obras_comentarios.csv', index=False)\n",
        "\n",
        "listadoComentariosVideojuegos[['id_obra', 'comentario', 'valoracion']]"
      ],
      "execution_count": 9,
      "outputs": [
        {
          "output_type": "execute_result",
          "data": {
            "text/html": [
              "<div>\n",
              "<style scoped>\n",
              "    .dataframe tbody tr th:only-of-type {\n",
              "        vertical-align: middle;\n",
              "    }\n",
              "\n",
              "    .dataframe tbody tr th {\n",
              "        vertical-align: top;\n",
              "    }\n",
              "\n",
              "    .dataframe thead th {\n",
              "        text-align: right;\n",
              "    }\n",
              "</style>\n",
              "<table border=\"1\" class=\"dataframe\">\n",
              "  <thead>\n",
              "    <tr style=\"text-align: right;\">\n",
              "      <th></th>\n",
              "      <th>id_obra</th>\n",
              "      <th>comentario</th>\n",
              "      <th>valoracion</th>\n",
              "    </tr>\n",
              "  </thead>\n",
              "  <tbody>\n",
              "    <tr>\n",
              "      <th>0</th>\n",
              "      <td>V21</td>\n",
              "      <td>I used to play this game a lot back when it ca...</td>\n",
              "      <td>+</td>\n",
              "    </tr>\n",
              "    <tr>\n",
              "      <th>1</th>\n",
              "      <td>V21</td>\n",
              "      <td>Product received for free. 'No hope. No cure. ...</td>\n",
              "      <td>+</td>\n",
              "    </tr>\n",
              "    <tr>\n",
              "      <th>2</th>\n",
              "      <td>V21</td>\n",
              "      <td>cool</td>\n",
              "      <td>+</td>\n",
              "    </tr>\n",
              "    <tr>\n",
              "      <th>3</th>\n",
              "      <td>V21</td>\n",
              "      <td>Well ya see \"TAAAAAAAAAAAAAANK\"</td>\n",
              "      <td>+</td>\n",
              "    </tr>\n",
              "    <tr>\n",
              "      <th>4</th>\n",
              "      <td>V21</td>\n",
              "      <td>Nice game it's a pity that Gaben doesn't creat...</td>\n",
              "      <td>+</td>\n",
              "    </tr>\n",
              "    <tr>\n",
              "      <th>...</th>\n",
              "      <td>...</td>\n",
              "      <td>...</td>\n",
              "      <td>...</td>\n",
              "    </tr>\n",
              "    <tr>\n",
              "      <th>434176</th>\n",
              "      <td>V8255</td>\n",
              "      <td>The amount of control you have with the graphi...</td>\n",
              "      <td>-</td>\n",
              "    </tr>\n",
              "    <tr>\n",
              "      <th>434580</th>\n",
              "      <td>V8255</td>\n",
              "      <td>bad remake mutilates the original work</td>\n",
              "      <td>-</td>\n",
              "    </tr>\n",
              "    <tr>\n",
              "      <th>434754</th>\n",
              "      <td>V8255</td>\n",
              "      <td>This game does a lot of things right it releas...</td>\n",
              "      <td>-</td>\n",
              "    </tr>\n",
              "    <tr>\n",
              "      <th>434799</th>\n",
              "      <td>V8255</td>\n",
              "      <td>This game sucked</td>\n",
              "      <td>-</td>\n",
              "    </tr>\n",
              "    <tr>\n",
              "      <th>434804</th>\n",
              "      <td>V8255</td>\n",
              "      <td>A really small boye game pretending to be a bi...</td>\n",
              "      <td>-</td>\n",
              "    </tr>\n",
              "  </tbody>\n",
              "</table>\n",
              "<p>434879 rows × 3 columns</p>\n",
              "</div>"
            ],
            "text/plain": [
              "       id_obra                                         comentario valoracion\n",
              "0          V21  I used to play this game a lot back when it ca...          +\n",
              "1          V21  Product received for free. 'No hope. No cure. ...          +\n",
              "2          V21                                               cool          +\n",
              "3          V21                    Well ya see \"TAAAAAAAAAAAAAANK\"          +\n",
              "4          V21  Nice game it's a pity that Gaben doesn't creat...          +\n",
              "...        ...                                                ...        ...\n",
              "434176   V8255  The amount of control you have with the graphi...          -\n",
              "434580   V8255             bad remake mutilates the original work          -\n",
              "434754   V8255  This game does a lot of things right it releas...          -\n",
              "434799   V8255                                   This game sucked          -\n",
              "434804   V8255  A really small boye game pretending to be a bi...          -\n",
              "\n",
              "[434879 rows x 3 columns]"
            ]
          },
          "metadata": {
            "tags": []
          },
          "execution_count": 9
        }
      ]
    },
    {
      "cell_type": "code",
      "metadata": {
        "id": "63XzMcVuqyDK",
        "outputId": "a70a75f9-d706-407b-cb53-aada3f37254a",
        "colab": {
          "base_uri": "https://localhost:8080/",
          "height": 399
        }
      },
      "source": [
        "# Cine (Comentarios):\n",
        "listadoComentariosCine = pd.merge(listadoDescripcionCine, originalMetacriticReviews, left_on='nombre', right_on='movie_title')\n",
        "\n",
        "listadoComentariosCine = listadoComentariosCine.rename(columns={'text':'comentario', 'individual_meta_score':'valoracion'})\n",
        "\n",
        "cinePositivos = listadoComentariosCine[listadoComentariosCine['valoracion'] > 60].copy()\n",
        "cinePositivos['valoracion'] = '+'\n",
        "\n",
        "cineNegativos = listadoComentariosCine[listadoComentariosCine['valoracion'] < 40].copy()\n",
        "cineNegativos['valoracion'] = '-'\n",
        "\n",
        "cineNeutrales = listadoComentariosCine[(listadoComentariosCine['valoracion'] >= 40) & (listadoComentariosCine['valoracion'] <= 60)].copy()\n",
        "cineNeutrales['valoracion'] = '~'\n",
        "\n",
        "listadoComentariosCine = pd.concat([cinePositivos, cineNeutrales, cineNegativos])\n",
        "\n",
        "# Almacenamos el listado obtenido en un fichero CSV (se concatena al final del mismo):\n",
        "listadoComentariosCine[['id_obra', 'comentario', 'valoracion']].dropna().to_csv('system_datasets/obras_comentarios.csv', index=False, mode='a', header=False)\n",
        "\n",
        "listadoComentariosCine[['id_obra', 'comentario', 'valoracion']].dropna()"
      ],
      "execution_count": 10,
      "outputs": [
        {
          "output_type": "execute_result",
          "data": {
            "text/html": [
              "<div>\n",
              "<style scoped>\n",
              "    .dataframe tbody tr th:only-of-type {\n",
              "        vertical-align: middle;\n",
              "    }\n",
              "\n",
              "    .dataframe tbody tr th {\n",
              "        vertical-align: top;\n",
              "    }\n",
              "\n",
              "    .dataframe thead th {\n",
              "        text-align: right;\n",
              "    }\n",
              "</style>\n",
              "<table border=\"1\" class=\"dataframe\">\n",
              "  <thead>\n",
              "    <tr style=\"text-align: right;\">\n",
              "      <th></th>\n",
              "      <th>id_obra</th>\n",
              "      <th>comentario</th>\n",
              "      <th>valoracion</th>\n",
              "    </tr>\n",
              "  </thead>\n",
              "  <tbody>\n",
              "    <tr>\n",
              "      <th>0</th>\n",
              "      <td>C1</td>\n",
              "      <td>Probably the most influential of all silent fi...</td>\n",
              "      <td>+</td>\n",
              "    </tr>\n",
              "    <tr>\n",
              "      <th>1</th>\n",
              "      <td>C1</td>\n",
              "      <td>Intolerance may not be perfect, but with such ...</td>\n",
              "      <td>+</td>\n",
              "    </tr>\n",
              "    <tr>\n",
              "      <th>2</th>\n",
              "      <td>C1</td>\n",
              "      <td>It may seem flawed in a number of ways to some...</td>\n",
              "      <td>+</td>\n",
              "    </tr>\n",
              "    <tr>\n",
              "      <th>3</th>\n",
              "      <td>C1</td>\n",
              "      <td>As a medium for expressing art, moving picture...</td>\n",
              "      <td>+</td>\n",
              "    </tr>\n",
              "    <tr>\n",
              "      <th>4</th>\n",
              "      <td>C1</td>\n",
              "      <td>Intolerance is thrilling and vital, a collisio...</td>\n",
              "      <td>+</td>\n",
              "    </tr>\n",
              "    <tr>\n",
              "      <th>...</th>\n",
              "      <td>...</td>\n",
              "      <td>...</td>\n",
              "      <td>...</td>\n",
              "    </tr>\n",
              "    <tr>\n",
              "      <th>64089</th>\n",
              "      <td>C9061</td>\n",
              "      <td>This movie is ridiculous.</td>\n",
              "      <td>-</td>\n",
              "    </tr>\n",
              "    <tr>\n",
              "      <th>64090</th>\n",
              "      <td>C9061</td>\n",
              "      <td>Unplanned will make you writhe in agony over h...</td>\n",
              "      <td>-</td>\n",
              "    </tr>\n",
              "    <tr>\n",
              "      <th>64091</th>\n",
              "      <td>C9061</td>\n",
              "      <td>There’s not a single scene that speaks to char...</td>\n",
              "      <td>-</td>\n",
              "    </tr>\n",
              "    <tr>\n",
              "      <th>64103</th>\n",
              "      <td>C9079</td>\n",
              "      <td>A lifeless, tone-deaf variation on Invasion of...</td>\n",
              "      <td>-</td>\n",
              "    </tr>\n",
              "    <tr>\n",
              "      <th>64119</th>\n",
              "      <td>C9100</td>\n",
              "      <td>Though saddled with hoary jokes, Goldberg at l...</td>\n",
              "      <td>-</td>\n",
              "    </tr>\n",
              "  </tbody>\n",
              "</table>\n",
              "<p>61203 rows × 3 columns</p>\n",
              "</div>"
            ],
            "text/plain": [
              "      id_obra                                         comentario valoracion\n",
              "0          C1  Probably the most influential of all silent fi...          +\n",
              "1          C1  Intolerance may not be perfect, but with such ...          +\n",
              "2          C1  It may seem flawed in a number of ways to some...          +\n",
              "3          C1  As a medium for expressing art, moving picture...          +\n",
              "4          C1  Intolerance is thrilling and vital, a collisio...          +\n",
              "...       ...                                                ...        ...\n",
              "64089   C9061                          This movie is ridiculous.          -\n",
              "64090   C9061  Unplanned will make you writhe in agony over h...          -\n",
              "64091   C9061  There’s not a single scene that speaks to char...          -\n",
              "64103   C9079  A lifeless, tone-deaf variation on Invasion of...          -\n",
              "64119   C9100  Though saddled with hoary jokes, Goldberg at l...          -\n",
              "\n",
              "[61203 rows x 3 columns]"
            ]
          },
          "metadata": {
            "tags": []
          },
          "execution_count": 10
        }
      ]
    },
    {
      "cell_type": "markdown",
      "metadata": {
        "id": "lB4tlqBPuEiz"
      },
      "source": [
        "**Preprocesamiento de los datos de** **entrenamiento**"
      ]
    },
    {
      "cell_type": "code",
      "metadata": {
        "id": "wT3POrzjrwhy",
        "outputId": "66233f6e-f447-4b01-bb96-63fecb0d0b55",
        "colab": {
          "base_uri": "https://localhost:8080/",
          "height": 399
        }
      },
      "source": [
        "obras = pd.read_csv('system_datasets/obras_comentarios.csv')\n",
        "\n",
        "trainingDataPositivo=obras[obras['valoracion'] == '+'].head(1000).copy()\n",
        "trainingDataNegativo=obras[obras['valoracion'] == '-'].head(1000).copy()\n",
        "trainingDataNeutral=obras[obras['valoracion'] == '~'].head(1000).copy()\n",
        "\n",
        "trainingData= pd.concat([trainingDataPositivo, trainingDataNegativo, trainingDataNeutral])\n",
        "\n",
        "trainingData.dropna().to_csv('system_datasets/training_obras.csv', index=False)\n",
        "trainingData"
      ],
      "execution_count": 37,
      "outputs": [
        {
          "output_type": "execute_result",
          "data": {
            "text/html": [
              "<div>\n",
              "<style scoped>\n",
              "    .dataframe tbody tr th:only-of-type {\n",
              "        vertical-align: middle;\n",
              "    }\n",
              "\n",
              "    .dataframe tbody tr th {\n",
              "        vertical-align: top;\n",
              "    }\n",
              "\n",
              "    .dataframe thead th {\n",
              "        text-align: right;\n",
              "    }\n",
              "</style>\n",
              "<table border=\"1\" class=\"dataframe\">\n",
              "  <thead>\n",
              "    <tr style=\"text-align: right;\">\n",
              "      <th></th>\n",
              "      <th>id_obra</th>\n",
              "      <th>comentario</th>\n",
              "      <th>valoracion</th>\n",
              "    </tr>\n",
              "  </thead>\n",
              "  <tbody>\n",
              "    <tr>\n",
              "      <th>0</th>\n",
              "      <td>V21</td>\n",
              "      <td>I used to play this game a lot back when it ca...</td>\n",
              "      <td>+</td>\n",
              "    </tr>\n",
              "    <tr>\n",
              "      <th>1</th>\n",
              "      <td>V21</td>\n",
              "      <td>Product received for free. 'No hope. No cure. ...</td>\n",
              "      <td>+</td>\n",
              "    </tr>\n",
              "    <tr>\n",
              "      <th>2</th>\n",
              "      <td>V21</td>\n",
              "      <td>cool</td>\n",
              "      <td>+</td>\n",
              "    </tr>\n",
              "    <tr>\n",
              "      <th>3</th>\n",
              "      <td>V21</td>\n",
              "      <td>Well ya see \"TAAAAAAAAAAAAAANK\"</td>\n",
              "      <td>+</td>\n",
              "    </tr>\n",
              "    <tr>\n",
              "      <th>4</th>\n",
              "      <td>V21</td>\n",
              "      <td>Nice game it's a pity that Gaben doesn't creat...</td>\n",
              "      <td>+</td>\n",
              "    </tr>\n",
              "    <tr>\n",
              "      <th>...</th>\n",
              "      <td>...</td>\n",
              "      <td>...</td>\n",
              "      <td>...</td>\n",
              "    </tr>\n",
              "    <tr>\n",
              "      <th>468985</th>\n",
              "      <td>C7660</td>\n",
              "      <td>This latest film, which was made on about half...</td>\n",
              "      <td>~</td>\n",
              "    </tr>\n",
              "    <tr>\n",
              "      <th>468986</th>\n",
              "      <td>C7660</td>\n",
              "      <td>The first two — The Da Vinci Code and Angels &amp;...</td>\n",
              "      <td>~</td>\n",
              "    </tr>\n",
              "    <tr>\n",
              "      <th>468987</th>\n",
              "      <td>C7660</td>\n",
              "      <td>Whatever inspired the compulsively addictive (...</td>\n",
              "      <td>~</td>\n",
              "    </tr>\n",
              "    <tr>\n",
              "      <th>468988</th>\n",
              "      <td>C7660</td>\n",
              "      <td>The most interesting character and performance...</td>\n",
              "      <td>~</td>\n",
              "    </tr>\n",
              "    <tr>\n",
              "      <th>468989</th>\n",
              "      <td>C7660</td>\n",
              "      <td>Unless you are a Dante scholar, and perhaps no...</td>\n",
              "      <td>~</td>\n",
              "    </tr>\n",
              "  </tbody>\n",
              "</table>\n",
              "<p>3000 rows × 3 columns</p>\n",
              "</div>"
            ],
            "text/plain": [
              "       id_obra                                         comentario valoracion\n",
              "0          V21  I used to play this game a lot back when it ca...          +\n",
              "1          V21  Product received for free. 'No hope. No cure. ...          +\n",
              "2          V21                                               cool          +\n",
              "3          V21                    Well ya see \"TAAAAAAAAAAAAAANK\"          +\n",
              "4          V21  Nice game it's a pity that Gaben doesn't creat...          +\n",
              "...        ...                                                ...        ...\n",
              "468985   C7660  This latest film, which was made on about half...          ~\n",
              "468986   C7660  The first two — The Da Vinci Code and Angels &...          ~\n",
              "468987   C7660  Whatever inspired the compulsively addictive (...          ~\n",
              "468988   C7660  The most interesting character and performance...          ~\n",
              "468989   C7660  Unless you are a Dante scholar, and perhaps no...          ~\n",
              "\n",
              "[3000 rows x 3 columns]"
            ]
          },
          "metadata": {
            "tags": []
          },
          "execution_count": 37
        }
      ]
    },
    {
      "cell_type": "code",
      "metadata": {
        "id": "eqKkmKIearzx",
        "outputId": "30decbee-6753-4839-816c-1a7a5e2a3a04",
        "colab": {
          "base_uri": "https://localhost:8080/",
          "height": 399
        }
      },
      "source": [
        "trainingDataFinal = pd.read_csv('system_datasets/training_obras.csv')\n",
        "trainingDataFinal"
      ],
      "execution_count": 38,
      "outputs": [
        {
          "output_type": "execute_result",
          "data": {
            "text/html": [
              "<div>\n",
              "<style scoped>\n",
              "    .dataframe tbody tr th:only-of-type {\n",
              "        vertical-align: middle;\n",
              "    }\n",
              "\n",
              "    .dataframe tbody tr th {\n",
              "        vertical-align: top;\n",
              "    }\n",
              "\n",
              "    .dataframe thead th {\n",
              "        text-align: right;\n",
              "    }\n",
              "</style>\n",
              "<table border=\"1\" class=\"dataframe\">\n",
              "  <thead>\n",
              "    <tr style=\"text-align: right;\">\n",
              "      <th></th>\n",
              "      <th>id_obra</th>\n",
              "      <th>comentario</th>\n",
              "      <th>valoracion</th>\n",
              "    </tr>\n",
              "  </thead>\n",
              "  <tbody>\n",
              "    <tr>\n",
              "      <th>0</th>\n",
              "      <td>V21</td>\n",
              "      <td>I used to play this game a lot back when it ca...</td>\n",
              "      <td>+</td>\n",
              "    </tr>\n",
              "    <tr>\n",
              "      <th>1</th>\n",
              "      <td>V21</td>\n",
              "      <td>Product received for free. 'No hope. No cure. ...</td>\n",
              "      <td>+</td>\n",
              "    </tr>\n",
              "    <tr>\n",
              "      <th>2</th>\n",
              "      <td>V21</td>\n",
              "      <td>cool</td>\n",
              "      <td>+</td>\n",
              "    </tr>\n",
              "    <tr>\n",
              "      <th>3</th>\n",
              "      <td>V21</td>\n",
              "      <td>Well ya see \"TAAAAAAAAAAAAAANK\"</td>\n",
              "      <td>+</td>\n",
              "    </tr>\n",
              "    <tr>\n",
              "      <th>4</th>\n",
              "      <td>V21</td>\n",
              "      <td>Nice game it's a pity that Gaben doesn't creat...</td>\n",
              "      <td>+</td>\n",
              "    </tr>\n",
              "    <tr>\n",
              "      <th>...</th>\n",
              "      <td>...</td>\n",
              "      <td>...</td>\n",
              "      <td>...</td>\n",
              "    </tr>\n",
              "    <tr>\n",
              "      <th>2994</th>\n",
              "      <td>C7660</td>\n",
              "      <td>This latest film, which was made on about half...</td>\n",
              "      <td>~</td>\n",
              "    </tr>\n",
              "    <tr>\n",
              "      <th>2995</th>\n",
              "      <td>C7660</td>\n",
              "      <td>The first two — The Da Vinci Code and Angels &amp;...</td>\n",
              "      <td>~</td>\n",
              "    </tr>\n",
              "    <tr>\n",
              "      <th>2996</th>\n",
              "      <td>C7660</td>\n",
              "      <td>Whatever inspired the compulsively addictive (...</td>\n",
              "      <td>~</td>\n",
              "    </tr>\n",
              "    <tr>\n",
              "      <th>2997</th>\n",
              "      <td>C7660</td>\n",
              "      <td>The most interesting character and performance...</td>\n",
              "      <td>~</td>\n",
              "    </tr>\n",
              "    <tr>\n",
              "      <th>2998</th>\n",
              "      <td>C7660</td>\n",
              "      <td>Unless you are a Dante scholar, and perhaps no...</td>\n",
              "      <td>~</td>\n",
              "    </tr>\n",
              "  </tbody>\n",
              "</table>\n",
              "<p>2999 rows × 3 columns</p>\n",
              "</div>"
            ],
            "text/plain": [
              "     id_obra                                         comentario valoracion\n",
              "0        V21  I used to play this game a lot back when it ca...          +\n",
              "1        V21  Product received for free. 'No hope. No cure. ...          +\n",
              "2        V21                                               cool          +\n",
              "3        V21                    Well ya see \"TAAAAAAAAAAAAAANK\"          +\n",
              "4        V21  Nice game it's a pity that Gaben doesn't creat...          +\n",
              "...      ...                                                ...        ...\n",
              "2994   C7660  This latest film, which was made on about half...          ~\n",
              "2995   C7660  The first two — The Da Vinci Code and Angels &...          ~\n",
              "2996   C7660  Whatever inspired the compulsively addictive (...          ~\n",
              "2997   C7660  The most interesting character and performance...          ~\n",
              "2998   C7660  Unless you are a Dante scholar, and perhaps no...          ~\n",
              "\n",
              "[2999 rows x 3 columns]"
            ]
          },
          "metadata": {
            "tags": []
          },
          "execution_count": 38
        }
      ]
    },
    {
      "cell_type": "code",
      "metadata": {
        "id": "8lzM5P6gs8hO",
        "outputId": "ce837100-f1fc-4b47-b588-40f3d69c73d1",
        "colab": {
          "base_uri": "https://localhost:8080/"
        }
      },
      "source": [
        "trainingDataFinal['valoracion'].value_counts()"
      ],
      "execution_count": 40,
      "outputs": [
        {
          "output_type": "execute_result",
          "data": {
            "text/plain": [
              "~    1000\n",
              "-    1000\n",
              "+     999\n",
              "Name: valoracion, dtype: int64"
            ]
          },
          "metadata": {
            "tags": []
          },
          "execution_count": 40
        }
      ]
    },
    {
      "cell_type": "code",
      "metadata": {
        "id": "g5N7PkEGq0Zn",
        "outputId": "8864b333-9137-4be1-bb77-99527466c3d1",
        "colab": {
          "base_uri": "https://localhost:8080/",
          "height": 605
        }
      },
      "source": [
        "from nltk.tokenize import word_tokenize \n",
        "from nltk.corpus import stopwords\n",
        "from nltk.stem import PorterStemmer\n",
        "\n",
        "import nltk\n",
        "nltk.download('punkt')\n",
        "nltk.download('stopwords')\n",
        "\n",
        "ps = PorterStemmer()\n",
        "\n",
        "preprocessedText = []\n",
        "\n",
        "for row in trainingDataFinal.itertuples():\n",
        "     \n",
        "    text = word_tokenize(row[2]) ## indice de la columna que contiene el texto\n",
        "    ## Remove stop words\n",
        "    stops = set(stopwords.words(\"english\"))\n",
        "    text = [ps.stem(w) for w in text if not w in stops and w.isalnum()]\n",
        "    text = \" \".join(text)\n",
        "    \n",
        "    preprocessedText.append(text)\n",
        "\n",
        "preprocessedData = trainingDataFinal\n",
        "preprocessedData['processed_text'] = preprocessedText\n",
        "\n",
        "preprocessedData"
      ],
      "execution_count": 41,
      "outputs": [
        {
          "output_type": "stream",
          "text": [
            "[nltk_data] Downloading package punkt to /root/nltk_data...\n",
            "[nltk_data]   Package punkt is already up-to-date!\n",
            "[nltk_data] Downloading package stopwords to /root/nltk_data...\n",
            "[nltk_data]   Package stopwords is already up-to-date!\n"
          ],
          "name": "stdout"
        },
        {
          "output_type": "execute_result",
          "data": {
            "text/html": [
              "<div>\n",
              "<style scoped>\n",
              "    .dataframe tbody tr th:only-of-type {\n",
              "        vertical-align: middle;\n",
              "    }\n",
              "\n",
              "    .dataframe tbody tr th {\n",
              "        vertical-align: top;\n",
              "    }\n",
              "\n",
              "    .dataframe thead th {\n",
              "        text-align: right;\n",
              "    }\n",
              "</style>\n",
              "<table border=\"1\" class=\"dataframe\">\n",
              "  <thead>\n",
              "    <tr style=\"text-align: right;\">\n",
              "      <th></th>\n",
              "      <th>id_obra</th>\n",
              "      <th>comentario</th>\n",
              "      <th>valoracion</th>\n",
              "      <th>processed_text</th>\n",
              "    </tr>\n",
              "  </thead>\n",
              "  <tbody>\n",
              "    <tr>\n",
              "      <th>0</th>\n",
              "      <td>V21</td>\n",
              "      <td>I used to play this game a lot back when it ca...</td>\n",
              "      <td>+</td>\n",
              "      <td>I use play game lot back came left 4 dead 1 It...</td>\n",
              "    </tr>\n",
              "    <tr>\n",
              "      <th>1</th>\n",
              "      <td>V21</td>\n",
              "      <td>Product received for free. 'No hope. No cure. ...</td>\n",
              "      <td>+</td>\n",
              "      <td>product receiv free hope No cure No problem</td>\n",
              "    </tr>\n",
              "    <tr>\n",
              "      <th>2</th>\n",
              "      <td>V21</td>\n",
              "      <td>cool</td>\n",
              "      <td>+</td>\n",
              "      <td>cool</td>\n",
              "    </tr>\n",
              "    <tr>\n",
              "      <th>3</th>\n",
              "      <td>V21</td>\n",
              "      <td>Well ya see \"TAAAAAAAAAAAAAANK\"</td>\n",
              "      <td>+</td>\n",
              "      <td>well ya see taaaaaaaaaaaaaank</td>\n",
              "    </tr>\n",
              "    <tr>\n",
              "      <th>4</th>\n",
              "      <td>V21</td>\n",
              "      <td>Nice game it's a pity that Gaben doesn't creat...</td>\n",
              "      <td>+</td>\n",
              "      <td>nice game piti gaben creat 3rd part game</td>\n",
              "    </tr>\n",
              "    <tr>\n",
              "      <th>...</th>\n",
              "      <td>...</td>\n",
              "      <td>...</td>\n",
              "      <td>...</td>\n",
              "      <td>...</td>\n",
              "    </tr>\n",
              "    <tr>\n",
              "      <th>2994</th>\n",
              "      <td>C7660</td>\n",
              "      <td>This latest film, which was made on about half...</td>\n",
              "      <td>~</td>\n",
              "      <td>thi latest film made half budget either predec...</td>\n",
              "    </tr>\n",
              "    <tr>\n",
              "      <th>2995</th>\n",
              "      <td>C7660</td>\n",
              "      <td>The first two — The Da Vinci Code and Angels &amp;...</td>\n",
              "      <td>~</td>\n",
              "      <td>the first two the Da vinci code angel demon le...</td>\n",
              "    </tr>\n",
              "    <tr>\n",
              "      <th>2996</th>\n",
              "      <td>C7660</td>\n",
              "      <td>Whatever inspired the compulsively addictive (...</td>\n",
              "      <td>~</td>\n",
              "      <td>whatev inspir compuls addict I assum book seri...</td>\n",
              "    </tr>\n",
              "    <tr>\n",
              "      <th>2997</th>\n",
              "      <td>C7660</td>\n",
              "      <td>The most interesting character and performance...</td>\n",
              "      <td>~</td>\n",
              "      <td>the interest charact perform come great indian...</td>\n",
              "    </tr>\n",
              "    <tr>\n",
              "      <th>2998</th>\n",
              "      <td>C7660</td>\n",
              "      <td>Unless you are a Dante scholar, and perhaps no...</td>\n",
              "      <td>~</td>\n",
              "      <td>unless dant scholar perhap even follow inferno...</td>\n",
              "    </tr>\n",
              "  </tbody>\n",
              "</table>\n",
              "<p>2999 rows × 4 columns</p>\n",
              "</div>"
            ],
            "text/plain": [
              "     id_obra  ...                                     processed_text\n",
              "0        V21  ...  I use play game lot back came left 4 dead 1 It...\n",
              "1        V21  ...        product receiv free hope No cure No problem\n",
              "2        V21  ...                                               cool\n",
              "3        V21  ...                      well ya see taaaaaaaaaaaaaank\n",
              "4        V21  ...           nice game piti gaben creat 3rd part game\n",
              "...      ...  ...                                                ...\n",
              "2994   C7660  ...  thi latest film made half budget either predec...\n",
              "2995   C7660  ...  the first two the Da vinci code angel demon le...\n",
              "2996   C7660  ...  whatev inspir compuls addict I assum book seri...\n",
              "2997   C7660  ...  the interest charact perform come great indian...\n",
              "2998   C7660  ...  unless dant scholar perhap even follow inferno...\n",
              "\n",
              "[2999 rows x 4 columns]"
            ]
          },
          "metadata": {
            "tags": []
          },
          "execution_count": 41
        }
      ]
    },
    {
      "cell_type": "code",
      "metadata": {
        "id": "Rnrt3xxTq7sj",
        "outputId": "61aa7c6c-689e-405d-d2b3-69c22e2c4496",
        "colab": {
          "base_uri": "https://localhost:8080/"
        }
      },
      "source": [
        "from sklearn.feature_extraction.text import TfidfVectorizer\n",
        "\n",
        "bagOfWordsModel = TfidfVectorizer()\n",
        "bagOfWordsModel.fit(preprocessedData['processed_text'])\n",
        "textsBoW= bagOfWordsModel.transform(preprocessedData['processed_text'])\n",
        "print(\"Finished\")"
      ],
      "execution_count": 42,
      "outputs": [
        {
          "output_type": "stream",
          "text": [
            "Finished\n"
          ],
          "name": "stdout"
        }
      ]
    },
    {
      "cell_type": "code",
      "metadata": {
        "id": "0dgaJ3_irHej",
        "outputId": "b6e70faf-58e0-4b6b-8d1a-bc2b828a8f4b",
        "colab": {
          "base_uri": "https://localhost:8080/"
        }
      },
      "source": [
        "textsBoW.shape"
      ],
      "execution_count": 43,
      "outputs": [
        {
          "output_type": "execute_result",
          "data": {
            "text/plain": [
              "(2999, 8522)"
            ]
          },
          "metadata": {
            "tags": []
          },
          "execution_count": 43
        }
      ]
    },
    {
      "cell_type": "markdown",
      "metadata": {
        "id": "OKBLNhXJASqH"
      },
      "source": [
        "Entrenamiento de un algoritmo de clasificación"
      ]
    },
    {
      "cell_type": "code",
      "metadata": {
        "id": "d9NvT_9krS9c",
        "outputId": "d2a7c191-cc97-4aa1-ca4b-a49463cec5bc",
        "colab": {
          "base_uri": "https://localhost:8080/"
        }
      },
      "source": [
        "from sklearn import svm\n",
        "svc = svm.SVC(kernel='linear') #Modelo de clasificación\n",
        "\n",
        "X_train = textsBoW #Documentos\n",
        "Y_train = trainingDataFinal['valoracion'] #Etiquetas de los documentos \n",
        "svc.fit(X_train, Y_train) #Entrenamiento"
      ],
      "execution_count": 46,
      "outputs": [
        {
          "output_type": "execute_result",
          "data": {
            "text/plain": [
              "SVC(C=1.0, break_ties=False, cache_size=200, class_weight=None, coef0=0.0,\n",
              "    decision_function_shape='ovr', degree=3, gamma='scale', kernel='linear',\n",
              "    max_iter=-1, probability=False, random_state=None, shrinking=True,\n",
              "    tol=0.001, verbose=False)"
            ]
          },
          "metadata": {
            "tags": []
          },
          "execution_count": 46
        }
      ]
    },
    {
      "cell_type": "code",
      "metadata": {
        "id": "IIw-jPcOb0gP",
        "outputId": "00f38961-8d23-4083-9224-c214e79815b0",
        "colab": {
          "base_uri": "https://localhost:8080/",
          "height": 399
        }
      },
      "source": [
        "testData = pd.read_csv('system_datasets/obras_comentarios.csv')\n",
        "\n",
        "testDataPositivo=testData[testData['valoracion'] == '+'].head(2000)\n",
        "testDataNegativo=testData[testData['valoracion'] == '-'].head(2000)\n",
        "testDataNeutral=testData[testData['valoracion'] == '~'].head(2000)\n",
        "\n",
        "testData= pd.concat([testDataPositivo, testDataNegativo, testDataNeutral])\n",
        "testData.dropna().to_csv('system_datasets/test_obras.csv', index=False)\n",
        "testData"
      ],
      "execution_count": 100,
      "outputs": [
        {
          "output_type": "execute_result",
          "data": {
            "text/html": [
              "<div>\n",
              "<style scoped>\n",
              "    .dataframe tbody tr th:only-of-type {\n",
              "        vertical-align: middle;\n",
              "    }\n",
              "\n",
              "    .dataframe tbody tr th {\n",
              "        vertical-align: top;\n",
              "    }\n",
              "\n",
              "    .dataframe thead th {\n",
              "        text-align: right;\n",
              "    }\n",
              "</style>\n",
              "<table border=\"1\" class=\"dataframe\">\n",
              "  <thead>\n",
              "    <tr style=\"text-align: right;\">\n",
              "      <th></th>\n",
              "      <th>id_obra</th>\n",
              "      <th>comentario</th>\n",
              "      <th>valoracion</th>\n",
              "    </tr>\n",
              "  </thead>\n",
              "  <tbody>\n",
              "    <tr>\n",
              "      <th>0</th>\n",
              "      <td>V21</td>\n",
              "      <td>I used to play this game a lot back when it ca...</td>\n",
              "      <td>+</td>\n",
              "    </tr>\n",
              "    <tr>\n",
              "      <th>1</th>\n",
              "      <td>V21</td>\n",
              "      <td>Product received for free. 'No hope. No cure. ...</td>\n",
              "      <td>+</td>\n",
              "    </tr>\n",
              "    <tr>\n",
              "      <th>2</th>\n",
              "      <td>V21</td>\n",
              "      <td>cool</td>\n",
              "      <td>+</td>\n",
              "    </tr>\n",
              "    <tr>\n",
              "      <th>3</th>\n",
              "      <td>V21</td>\n",
              "      <td>Well ya see \"TAAAAAAAAAAAAAANK\"</td>\n",
              "      <td>+</td>\n",
              "    </tr>\n",
              "    <tr>\n",
              "      <th>4</th>\n",
              "      <td>V21</td>\n",
              "      <td>Nice game it's a pity that Gaben doesn't creat...</td>\n",
              "      <td>+</td>\n",
              "    </tr>\n",
              "    <tr>\n",
              "      <th>...</th>\n",
              "      <td>...</td>\n",
              "      <td>...</td>\n",
              "      <td>...</td>\n",
              "    </tr>\n",
              "    <tr>\n",
              "      <th>469985</th>\n",
              "      <td>C2828</td>\n",
              "      <td>Its main source is a comic book, but it might ...</td>\n",
              "      <td>~</td>\n",
              "    </tr>\n",
              "    <tr>\n",
              "      <th>469986</th>\n",
              "      <td>C2829</td>\n",
              "      <td>But the film's central figure remains a cipher...</td>\n",
              "      <td>~</td>\n",
              "    </tr>\n",
              "    <tr>\n",
              "      <th>469987</th>\n",
              "      <td>C2829</td>\n",
              "      <td>Despite the movie's suffocating sense of chic ...</td>\n",
              "      <td>~</td>\n",
              "    </tr>\n",
              "    <tr>\n",
              "      <th>469988</th>\n",
              "      <td>C2829</td>\n",
              "      <td>Despite its inadequacies, Basquiat presents a ...</td>\n",
              "      <td>~</td>\n",
              "    </tr>\n",
              "    <tr>\n",
              "      <th>469989</th>\n",
              "      <td>C2829</td>\n",
              "      <td>Oddly enough, the film scores with Bowie's spe...</td>\n",
              "      <td>~</td>\n",
              "    </tr>\n",
              "  </tbody>\n",
              "</table>\n",
              "<p>6000 rows × 3 columns</p>\n",
              "</div>"
            ],
            "text/plain": [
              "       id_obra                                         comentario valoracion\n",
              "0          V21  I used to play this game a lot back when it ca...          +\n",
              "1          V21  Product received for free. 'No hope. No cure. ...          +\n",
              "2          V21                                               cool          +\n",
              "3          V21                    Well ya see \"TAAAAAAAAAAAAAANK\"          +\n",
              "4          V21  Nice game it's a pity that Gaben doesn't creat...          +\n",
              "...        ...                                                ...        ...\n",
              "469985   C2828  Its main source is a comic book, but it might ...          ~\n",
              "469986   C2829  But the film's central figure remains a cipher...          ~\n",
              "469987   C2829  Despite the movie's suffocating sense of chic ...          ~\n",
              "469988   C2829  Despite its inadequacies, Basquiat presents a ...          ~\n",
              "469989   C2829  Oddly enough, the film scores with Bowie's spe...          ~\n",
              "\n",
              "[6000 rows x 3 columns]"
            ]
          },
          "metadata": {
            "tags": []
          },
          "execution_count": 100
        }
      ]
    },
    {
      "cell_type": "code",
      "metadata": {
        "id": "zbDhAwr2fScH",
        "outputId": "40b7fe99-9749-4596-b5dc-7cdba60fddaf",
        "colab": {
          "base_uri": "https://localhost:8080/",
          "height": 399
        }
      },
      "source": [
        "testDataFinal = pd.read_csv('system_datasets/test_obras.csv')\n",
        "testDataFinal"
      ],
      "execution_count": 101,
      "outputs": [
        {
          "output_type": "execute_result",
          "data": {
            "text/html": [
              "<div>\n",
              "<style scoped>\n",
              "    .dataframe tbody tr th:only-of-type {\n",
              "        vertical-align: middle;\n",
              "    }\n",
              "\n",
              "    .dataframe tbody tr th {\n",
              "        vertical-align: top;\n",
              "    }\n",
              "\n",
              "    .dataframe thead th {\n",
              "        text-align: right;\n",
              "    }\n",
              "</style>\n",
              "<table border=\"1\" class=\"dataframe\">\n",
              "  <thead>\n",
              "    <tr style=\"text-align: right;\">\n",
              "      <th></th>\n",
              "      <th>id_obra</th>\n",
              "      <th>comentario</th>\n",
              "      <th>valoracion</th>\n",
              "    </tr>\n",
              "  </thead>\n",
              "  <tbody>\n",
              "    <tr>\n",
              "      <th>0</th>\n",
              "      <td>V21</td>\n",
              "      <td>I used to play this game a lot back when it ca...</td>\n",
              "      <td>+</td>\n",
              "    </tr>\n",
              "    <tr>\n",
              "      <th>1</th>\n",
              "      <td>V21</td>\n",
              "      <td>Product received for free. 'No hope. No cure. ...</td>\n",
              "      <td>+</td>\n",
              "    </tr>\n",
              "    <tr>\n",
              "      <th>2</th>\n",
              "      <td>V21</td>\n",
              "      <td>cool</td>\n",
              "      <td>+</td>\n",
              "    </tr>\n",
              "    <tr>\n",
              "      <th>3</th>\n",
              "      <td>V21</td>\n",
              "      <td>Well ya see \"TAAAAAAAAAAAAAANK\"</td>\n",
              "      <td>+</td>\n",
              "    </tr>\n",
              "    <tr>\n",
              "      <th>4</th>\n",
              "      <td>V21</td>\n",
              "      <td>Nice game it's a pity that Gaben doesn't creat...</td>\n",
              "      <td>+</td>\n",
              "    </tr>\n",
              "    <tr>\n",
              "      <th>...</th>\n",
              "      <td>...</td>\n",
              "      <td>...</td>\n",
              "      <td>...</td>\n",
              "    </tr>\n",
              "    <tr>\n",
              "      <th>5990</th>\n",
              "      <td>C2828</td>\n",
              "      <td>Its main source is a comic book, but it might ...</td>\n",
              "      <td>~</td>\n",
              "    </tr>\n",
              "    <tr>\n",
              "      <th>5991</th>\n",
              "      <td>C2829</td>\n",
              "      <td>But the film's central figure remains a cipher...</td>\n",
              "      <td>~</td>\n",
              "    </tr>\n",
              "    <tr>\n",
              "      <th>5992</th>\n",
              "      <td>C2829</td>\n",
              "      <td>Despite the movie's suffocating sense of chic ...</td>\n",
              "      <td>~</td>\n",
              "    </tr>\n",
              "    <tr>\n",
              "      <th>5993</th>\n",
              "      <td>C2829</td>\n",
              "      <td>Despite its inadequacies, Basquiat presents a ...</td>\n",
              "      <td>~</td>\n",
              "    </tr>\n",
              "    <tr>\n",
              "      <th>5994</th>\n",
              "      <td>C2829</td>\n",
              "      <td>Oddly enough, the film scores with Bowie's spe...</td>\n",
              "      <td>~</td>\n",
              "    </tr>\n",
              "  </tbody>\n",
              "</table>\n",
              "<p>5995 rows × 3 columns</p>\n",
              "</div>"
            ],
            "text/plain": [
              "     id_obra                                         comentario valoracion\n",
              "0        V21  I used to play this game a lot back when it ca...          +\n",
              "1        V21  Product received for free. 'No hope. No cure. ...          +\n",
              "2        V21                                               cool          +\n",
              "3        V21                    Well ya see \"TAAAAAAAAAAAAAANK\"          +\n",
              "4        V21  Nice game it's a pity that Gaben doesn't creat...          +\n",
              "...      ...                                                ...        ...\n",
              "5990   C2828  Its main source is a comic book, but it might ...          ~\n",
              "5991   C2829  But the film's central figure remains a cipher...          ~\n",
              "5992   C2829  Despite the movie's suffocating sense of chic ...          ~\n",
              "5993   C2829  Despite its inadequacies, Basquiat presents a ...          ~\n",
              "5994   C2829  Oddly enough, the film scores with Bowie's spe...          ~\n",
              "\n",
              "[5995 rows x 3 columns]"
            ]
          },
          "metadata": {
            "tags": []
          },
          "execution_count": 101
        }
      ]
    },
    {
      "cell_type": "code",
      "metadata": {
        "id": "T2EEo_HacNPr",
        "outputId": "9f5721d3-5a16-4d8a-acb6-0ea10c661125",
        "colab": {
          "base_uri": "https://localhost:8080/",
          "height": 534
        }
      },
      "source": [
        "ps = PorterStemmer()\n",
        "\n",
        "preprocessedText = []\n",
        "\n",
        "for row in testDataFinal.itertuples():\n",
        "    \n",
        "    \n",
        "    text = word_tokenize(row[2]) ## indice de la columna que contiene el texto\n",
        "    ## Remove stop words\n",
        "    stops = set(stopwords.words(\"english\"))\n",
        "    text = [ps.stem(w) for w in text if not w in stops and w.isalnum()]\n",
        "    text = \" \".join(text)\n",
        "    \n",
        "    preprocessedText.append(text)\n",
        "\n",
        "preprocessedDataTest = testDataFinal\n",
        "preprocessedDataTest['processed_text'] = preprocessedText\n",
        "\n",
        "preprocessedDataTest"
      ],
      "execution_count": 103,
      "outputs": [
        {
          "output_type": "execute_result",
          "data": {
            "text/html": [
              "<div>\n",
              "<style scoped>\n",
              "    .dataframe tbody tr th:only-of-type {\n",
              "        vertical-align: middle;\n",
              "    }\n",
              "\n",
              "    .dataframe tbody tr th {\n",
              "        vertical-align: top;\n",
              "    }\n",
              "\n",
              "    .dataframe thead th {\n",
              "        text-align: right;\n",
              "    }\n",
              "</style>\n",
              "<table border=\"1\" class=\"dataframe\">\n",
              "  <thead>\n",
              "    <tr style=\"text-align: right;\">\n",
              "      <th></th>\n",
              "      <th>id_obra</th>\n",
              "      <th>comentario</th>\n",
              "      <th>valoracion</th>\n",
              "      <th>processed_text</th>\n",
              "    </tr>\n",
              "  </thead>\n",
              "  <tbody>\n",
              "    <tr>\n",
              "      <th>0</th>\n",
              "      <td>V21</td>\n",
              "      <td>I used to play this game a lot back when it ca...</td>\n",
              "      <td>+</td>\n",
              "      <td>I use play game lot back came left 4 dead 1 It...</td>\n",
              "    </tr>\n",
              "    <tr>\n",
              "      <th>1</th>\n",
              "      <td>V21</td>\n",
              "      <td>Product received for free. 'No hope. No cure. ...</td>\n",
              "      <td>+</td>\n",
              "      <td>product receiv free hope No cure No problem</td>\n",
              "    </tr>\n",
              "    <tr>\n",
              "      <th>2</th>\n",
              "      <td>V21</td>\n",
              "      <td>cool</td>\n",
              "      <td>+</td>\n",
              "      <td>cool</td>\n",
              "    </tr>\n",
              "    <tr>\n",
              "      <th>3</th>\n",
              "      <td>V21</td>\n",
              "      <td>Well ya see \"TAAAAAAAAAAAAAANK\"</td>\n",
              "      <td>+</td>\n",
              "      <td>well ya see taaaaaaaaaaaaaank</td>\n",
              "    </tr>\n",
              "    <tr>\n",
              "      <th>4</th>\n",
              "      <td>V21</td>\n",
              "      <td>Nice game it's a pity that Gaben doesn't creat...</td>\n",
              "      <td>+</td>\n",
              "      <td>nice game piti gaben creat 3rd part game</td>\n",
              "    </tr>\n",
              "    <tr>\n",
              "      <th>...</th>\n",
              "      <td>...</td>\n",
              "      <td>...</td>\n",
              "      <td>...</td>\n",
              "      <td>...</td>\n",
              "    </tr>\n",
              "    <tr>\n",
              "      <th>5990</th>\n",
              "      <td>C2828</td>\n",
              "      <td>Its main source is a comic book, but it might ...</td>\n",
              "      <td>~</td>\n",
              "      <td>it main sourc comic book might well comput</td>\n",
              "    </tr>\n",
              "    <tr>\n",
              "      <th>5991</th>\n",
              "      <td>C2829</td>\n",
              "      <td>But the film's central figure remains a cipher...</td>\n",
              "      <td>~</td>\n",
              "      <td>but film central figur remain cipher subject c...</td>\n",
              "    </tr>\n",
              "    <tr>\n",
              "      <th>5992</th>\n",
              "      <td>C2829</td>\n",
              "      <td>Despite the movie's suffocating sense of chic ...</td>\n",
              "      <td>~</td>\n",
              "      <td>despit movi suffoc sens chic soho hip touch sq...</td>\n",
              "    </tr>\n",
              "    <tr>\n",
              "      <th>5993</th>\n",
              "      <td>C2829</td>\n",
              "      <td>Despite its inadequacies, Basquiat presents a ...</td>\n",
              "      <td>~</td>\n",
              "      <td>despit inadequaci basquiat present fascin glim...</td>\n",
              "    </tr>\n",
              "    <tr>\n",
              "      <th>5994</th>\n",
              "      <td>C2829</td>\n",
              "      <td>Oddly enough, the film scores with Bowie's spe...</td>\n",
              "      <td>~</td>\n",
              "      <td>oddli enough film score bowi spellbind take ag...</td>\n",
              "    </tr>\n",
              "  </tbody>\n",
              "</table>\n",
              "<p>5995 rows × 4 columns</p>\n",
              "</div>"
            ],
            "text/plain": [
              "     id_obra  ...                                     processed_text\n",
              "0        V21  ...  I use play game lot back came left 4 dead 1 It...\n",
              "1        V21  ...        product receiv free hope No cure No problem\n",
              "2        V21  ...                                               cool\n",
              "3        V21  ...                      well ya see taaaaaaaaaaaaaank\n",
              "4        V21  ...           nice game piti gaben creat 3rd part game\n",
              "...      ...  ...                                                ...\n",
              "5990   C2828  ...         it main sourc comic book might well comput\n",
              "5991   C2829  ...  but film central figur remain cipher subject c...\n",
              "5992   C2829  ...  despit movi suffoc sens chic soho hip touch sq...\n",
              "5993   C2829  ...  despit inadequaci basquiat present fascin glim...\n",
              "5994   C2829  ...  oddli enough film score bowi spellbind take ag...\n",
              "\n",
              "[5995 rows x 4 columns]"
            ]
          },
          "metadata": {
            "tags": []
          },
          "execution_count": 103
        }
      ]
    },
    {
      "cell_type": "code",
      "metadata": {
        "id": "uFqvGKP0cWU0",
        "outputId": "ced975f6-09d2-46e7-9471-f333ba44d33a",
        "colab": {
          "base_uri": "https://localhost:8080/"
        }
      },
      "source": [
        "testData['valoracion'].value_counts()"
      ],
      "execution_count": 104,
      "outputs": [
        {
          "output_type": "execute_result",
          "data": {
            "text/plain": [
              "~    2000\n",
              "-    2000\n",
              "+    2000\n",
              "Name: valoracion, dtype: int64"
            ]
          },
          "metadata": {
            "tags": []
          },
          "execution_count": 104
        }
      ]
    },
    {
      "cell_type": "code",
      "metadata": {
        "id": "h6IyfUP6cdED",
        "outputId": "fd4a1635-45f9-4fcc-e58e-e4f2dc6b581c",
        "colab": {
          "base_uri": "https://localhost:8080/"
        }
      },
      "source": [
        "textsBoWTest= bagOfWordsModel.transform(preprocessedDataTest['processed_text'])\n",
        "print(\"Finished\")"
      ],
      "execution_count": 105,
      "outputs": [
        {
          "output_type": "stream",
          "text": [
            "Finished\n"
          ],
          "name": "stdout"
        }
      ]
    },
    {
      "cell_type": "code",
      "metadata": {
        "id": "NaXZ1LuccfL9",
        "outputId": "6162807b-c3d4-4261-8df1-2836617e297e",
        "colab": {
          "base_uri": "https://localhost:8080/"
        }
      },
      "source": [
        "textsBoWTest.shape"
      ],
      "execution_count": 106,
      "outputs": [
        {
          "output_type": "execute_result",
          "data": {
            "text/plain": [
              "(5995, 8522)"
            ]
          },
          "metadata": {
            "tags": []
          },
          "execution_count": 106
        }
      ]
    },
    {
      "cell_type": "code",
      "metadata": {
        "id": "fn7i904ackpR"
      },
      "source": [
        "X_test = textsBoWTest #Documentos\n",
        "\n",
        "\n",
        "predictions = svc.predict(X_test) #Se almacena en el array predictions las predicciones del clasificador"
      ],
      "execution_count": 107,
      "outputs": []
    },
    {
      "cell_type": "code",
      "metadata": {
        "id": "PD7z3w9HcoBL",
        "outputId": "0903400f-a7d2-4639-a775-7ccb0c8aeeab",
        "colab": {
          "base_uri": "https://localhost:8080/"
        }
      },
      "source": [
        "from sklearn.metrics import classification_report\n",
        "\n",
        "Y_test = testDataFinal['valoracion'] #Etiquetas reales de los documentos\n",
        "\n",
        "print (classification_report(Y_test, predictions))"
      ],
      "execution_count": 109,
      "outputs": [
        {
          "output_type": "stream",
          "text": [
            "              precision    recall  f1-score   support\n",
            "\n",
            "           +       0.90      0.79      0.84      1996\n",
            "           -       0.81      0.93      0.87      1999\n",
            "           ~       0.98      0.97      0.98      2000\n",
            "\n",
            "    accuracy                           0.89      5995\n",
            "   macro avg       0.90      0.89      0.89      5995\n",
            "weighted avg       0.90      0.89      0.89      5995\n",
            "\n"
          ],
          "name": "stdout"
        }
      ]
    }
  ]
}