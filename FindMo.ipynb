{
  "nbformat": 4,
  "nbformat_minor": 0,
  "metadata": {
    "colab": {
      "name": "FindMo.ipynb",
      "provenance": [],
      "toc_visible": true,
      "include_colab_link": true
    },
    "kernelspec": {
      "name": "python3",
      "display_name": "Python 3"
    }
  },
  "cells": [
    {
      "cell_type": "markdown",
      "metadata": {
        "id": "view-in-github",
        "colab_type": "text"
      },
      "source": [
        "<a href=\"https://colab.research.google.com/github/AdryGP/ABP-FindMo/blob/main/FindMo.ipynb\" target=\"_parent\"><img src=\"https://colab.research.google.com/assets/colab-badge.svg\" alt=\"Open In Colab\"/></a>"
      ]
    },
    {
      "cell_type": "markdown",
      "metadata": {
        "id": "n-DqiXiugY8n"
      },
      "source": [
        "# FindMo: Manual de Uso\n",
        "\n",
        "---\n",
        "\n"
      ]
    },
    {
      "cell_type": "markdown",
      "metadata": {
        "id": "6W2aqkqPWWsW"
      },
      "source": [
        "# Paso 0. Instalación de Streamlit y Ngrok"
      ]
    },
    {
      "cell_type": "code",
      "metadata": {
        "id": "AK2rbXpetZFI",
        "colab": {
          "base_uri": "https://localhost:8080/"
        },
        "outputId": "6205e948-2394-49c8-ab6c-db5d700a5445"
      },
      "source": [
        "!pip install streamlit"
      ],
      "execution_count": 1,
      "outputs": [
        {
          "output_type": "stream",
          "text": [
            "Requirement already satisfied: streamlit in /usr/local/lib/python3.6/dist-packages (0.71.0)\n",
            "Requirement already satisfied: pydeck>=0.1.dev5 in /usr/local/lib/python3.6/dist-packages (from streamlit) (0.5.0)\n",
            "Requirement already satisfied: enum-compat in /usr/local/lib/python3.6/dist-packages (from streamlit) (0.0.3)\n",
            "Requirement already satisfied: validators in /usr/local/lib/python3.6/dist-packages (from streamlit) (0.18.1)\n",
            "Requirement already satisfied: pillow>=6.2.0 in /usr/local/lib/python3.6/dist-packages (from streamlit) (7.0.0)\n",
            "Requirement already satisfied: python-dateutil in /usr/local/lib/python3.6/dist-packages (from streamlit) (2.8.1)\n",
            "Requirement already satisfied: packaging in /usr/local/lib/python3.6/dist-packages (from streamlit) (20.4)\n",
            "Requirement already satisfied: gitpython in /usr/local/lib/python3.6/dist-packages (from streamlit) (3.1.11)\n",
            "Requirement already satisfied: tornado>=5.0 in /usr/local/lib/python3.6/dist-packages (from streamlit) (5.1.1)\n",
            "Requirement already satisfied: numpy in /usr/local/lib/python3.6/dist-packages (from streamlit) (1.18.5)\n",
            "Requirement already satisfied: altair>=3.2.0 in /usr/local/lib/python3.6/dist-packages (from streamlit) (4.1.0)\n",
            "Requirement already satisfied: cachetools>=4.0 in /usr/local/lib/python3.6/dist-packages (from streamlit) (4.1.1)\n",
            "Requirement already satisfied: base58 in /usr/local/lib/python3.6/dist-packages (from streamlit) (2.0.1)\n",
            "Requirement already satisfied: requests in /usr/local/lib/python3.6/dist-packages (from streamlit) (2.23.0)\n",
            "Requirement already satisfied: pyarrow in /usr/local/lib/python3.6/dist-packages (from streamlit) (0.14.1)\n",
            "Requirement already satisfied: blinker in /usr/local/lib/python3.6/dist-packages (from streamlit) (1.4)\n",
            "Requirement already satisfied: watchdog in /usr/local/lib/python3.6/dist-packages (from streamlit) (0.10.4)\n",
            "Requirement already satisfied: boto3 in /usr/local/lib/python3.6/dist-packages (from streamlit) (1.16.25)\n",
            "Requirement already satisfied: astor in /usr/local/lib/python3.6/dist-packages (from streamlit) (0.8.1)\n",
            "Requirement already satisfied: toml in /usr/local/lib/python3.6/dist-packages (from streamlit) (0.10.2)\n",
            "Requirement already satisfied: tzlocal in /usr/local/lib/python3.6/dist-packages (from streamlit) (1.5.1)\n",
            "Requirement already satisfied: click>=7.0 in /usr/local/lib/python3.6/dist-packages (from streamlit) (7.1.2)\n",
            "Requirement already satisfied: protobuf!=3.11,>=3.6.0 in /usr/local/lib/python3.6/dist-packages (from streamlit) (3.12.4)\n",
            "Requirement already satisfied: botocore>=1.13.44 in /usr/local/lib/python3.6/dist-packages (from streamlit) (1.19.25)\n",
            "Requirement already satisfied: pandas>=0.21.0 in /usr/local/lib/python3.6/dist-packages (from streamlit) (1.1.4)\n",
            "Requirement already satisfied: traitlets>=4.3.2 in /usr/local/lib/python3.6/dist-packages (from pydeck>=0.1.dev5->streamlit) (4.3.3)\n",
            "Requirement already satisfied: ipykernel>=5.1.2; python_version >= \"3.4\" in /usr/local/lib/python3.6/dist-packages (from pydeck>=0.1.dev5->streamlit) (5.3.4)\n",
            "Requirement already satisfied: ipywidgets>=7.0.0 in /usr/local/lib/python3.6/dist-packages (from pydeck>=0.1.dev5->streamlit) (7.5.1)\n",
            "Requirement already satisfied: jinja2>=2.10.1 in /usr/local/lib/python3.6/dist-packages (from pydeck>=0.1.dev5->streamlit) (2.11.2)\n",
            "Requirement already satisfied: decorator>=3.4.0 in /usr/local/lib/python3.6/dist-packages (from validators->streamlit) (4.4.2)\n",
            "Requirement already satisfied: six>=1.4.0 in /usr/local/lib/python3.6/dist-packages (from validators->streamlit) (1.15.0)\n",
            "Requirement already satisfied: pyparsing>=2.0.2 in /usr/local/lib/python3.6/dist-packages (from packaging->streamlit) (2.4.7)\n",
            "Requirement already satisfied: gitdb<5,>=4.0.1 in /usr/local/lib/python3.6/dist-packages (from gitpython->streamlit) (4.0.5)\n",
            "Requirement already satisfied: jsonschema in /usr/local/lib/python3.6/dist-packages (from altair>=3.2.0->streamlit) (2.6.0)\n",
            "Requirement already satisfied: entrypoints in /usr/local/lib/python3.6/dist-packages (from altair>=3.2.0->streamlit) (0.3)\n",
            "Requirement already satisfied: toolz in /usr/local/lib/python3.6/dist-packages (from altair>=3.2.0->streamlit) (0.11.1)\n",
            "Requirement already satisfied: chardet<4,>=3.0.2 in /usr/local/lib/python3.6/dist-packages (from requests->streamlit) (3.0.4)\n",
            "Requirement already satisfied: idna<3,>=2.5 in /usr/local/lib/python3.6/dist-packages (from requests->streamlit) (2.10)\n",
            "Collecting urllib3!=1.25.0,!=1.25.1,<1.26,>=1.21.1\n",
            "\u001b[?25l  Downloading https://files.pythonhosted.org/packages/56/aa/4ef5aa67a9a62505db124a5cb5262332d1d4153462eb8fd89c9fa41e5d92/urllib3-1.25.11-py2.py3-none-any.whl (127kB)\n",
            "\u001b[K     |████████████████████████████████| 133kB 4.3MB/s \n",
            "\u001b[?25hRequirement already satisfied: certifi>=2017.4.17 in /usr/local/lib/python3.6/dist-packages (from requests->streamlit) (2020.11.8)\n",
            "Requirement already satisfied: pathtools>=0.1.1 in /usr/local/lib/python3.6/dist-packages (from watchdog->streamlit) (0.1.2)\n",
            "Requirement already satisfied: jmespath<1.0.0,>=0.7.1 in /usr/local/lib/python3.6/dist-packages (from boto3->streamlit) (0.10.0)\n",
            "Requirement already satisfied: s3transfer<0.4.0,>=0.3.0 in /usr/local/lib/python3.6/dist-packages (from boto3->streamlit) (0.3.3)\n",
            "Requirement already satisfied: pytz in /usr/local/lib/python3.6/dist-packages (from tzlocal->streamlit) (2018.9)\n",
            "Requirement already satisfied: setuptools in /usr/local/lib/python3.6/dist-packages (from protobuf!=3.11,>=3.6.0->streamlit) (50.3.2)\n",
            "Requirement already satisfied: ipython-genutils in /usr/local/lib/python3.6/dist-packages (from traitlets>=4.3.2->pydeck>=0.1.dev5->streamlit) (0.2.0)\n",
            "Requirement already satisfied: jupyter-client in /usr/local/lib/python3.6/dist-packages (from ipykernel>=5.1.2; python_version >= \"3.4\"->pydeck>=0.1.dev5->streamlit) (5.3.5)\n",
            "Requirement already satisfied: ipython>=5.0.0 in /usr/local/lib/python3.6/dist-packages (from ipykernel>=5.1.2; python_version >= \"3.4\"->pydeck>=0.1.dev5->streamlit) (5.5.0)\n",
            "Requirement already satisfied: widgetsnbextension~=3.5.0 in /usr/local/lib/python3.6/dist-packages (from ipywidgets>=7.0.0->pydeck>=0.1.dev5->streamlit) (3.5.1)\n",
            "Requirement already satisfied: nbformat>=4.2.0 in /usr/local/lib/python3.6/dist-packages (from ipywidgets>=7.0.0->pydeck>=0.1.dev5->streamlit) (5.0.8)\n",
            "Requirement already satisfied: MarkupSafe>=0.23 in /usr/local/lib/python3.6/dist-packages (from jinja2>=2.10.1->pydeck>=0.1.dev5->streamlit) (1.1.1)\n",
            "Requirement already satisfied: smmap<4,>=3.0.1 in /usr/local/lib/python3.6/dist-packages (from gitdb<5,>=4.0.1->gitpython->streamlit) (3.0.4)\n",
            "Requirement already satisfied: pyzmq>=13 in /usr/local/lib/python3.6/dist-packages (from jupyter-client->ipykernel>=5.1.2; python_version >= \"3.4\"->pydeck>=0.1.dev5->streamlit) (20.0.0)\n",
            "Requirement already satisfied: jupyter-core>=4.6.0 in /usr/local/lib/python3.6/dist-packages (from jupyter-client->ipykernel>=5.1.2; python_version >= \"3.4\"->pydeck>=0.1.dev5->streamlit) (4.7.0)\n",
            "Requirement already satisfied: pygments in /usr/local/lib/python3.6/dist-packages (from ipython>=5.0.0->ipykernel>=5.1.2; python_version >= \"3.4\"->pydeck>=0.1.dev5->streamlit) (2.6.1)\n",
            "Requirement already satisfied: prompt-toolkit<2.0.0,>=1.0.4 in /usr/local/lib/python3.6/dist-packages (from ipython>=5.0.0->ipykernel>=5.1.2; python_version >= \"3.4\"->pydeck>=0.1.dev5->streamlit) (1.0.18)\n",
            "Requirement already satisfied: pickleshare in /usr/local/lib/python3.6/dist-packages (from ipython>=5.0.0->ipykernel>=5.1.2; python_version >= \"3.4\"->pydeck>=0.1.dev5->streamlit) (0.7.5)\n",
            "Requirement already satisfied: simplegeneric>0.8 in /usr/local/lib/python3.6/dist-packages (from ipython>=5.0.0->ipykernel>=5.1.2; python_version >= \"3.4\"->pydeck>=0.1.dev5->streamlit) (0.8.1)\n",
            "Requirement already satisfied: pexpect; sys_platform != \"win32\" in /usr/local/lib/python3.6/dist-packages (from ipython>=5.0.0->ipykernel>=5.1.2; python_version >= \"3.4\"->pydeck>=0.1.dev5->streamlit) (4.8.0)\n",
            "Requirement already satisfied: notebook>=4.4.1 in /usr/local/lib/python3.6/dist-packages (from widgetsnbextension~=3.5.0->ipywidgets>=7.0.0->pydeck>=0.1.dev5->streamlit) (5.3.1)\n",
            "Requirement already satisfied: wcwidth in /usr/local/lib/python3.6/dist-packages (from prompt-toolkit<2.0.0,>=1.0.4->ipython>=5.0.0->ipykernel>=5.1.2; python_version >= \"3.4\"->pydeck>=0.1.dev5->streamlit) (0.2.5)\n",
            "Requirement already satisfied: ptyprocess>=0.5 in /usr/local/lib/python3.6/dist-packages (from pexpect; sys_platform != \"win32\"->ipython>=5.0.0->ipykernel>=5.1.2; python_version >= \"3.4\"->pydeck>=0.1.dev5->streamlit) (0.6.0)\n",
            "Requirement already satisfied: terminado>=0.8.1 in /usr/local/lib/python3.6/dist-packages (from notebook>=4.4.1->widgetsnbextension~=3.5.0->ipywidgets>=7.0.0->pydeck>=0.1.dev5->streamlit) (0.9.1)\n",
            "Requirement already satisfied: nbconvert in /usr/local/lib/python3.6/dist-packages (from notebook>=4.4.1->widgetsnbextension~=3.5.0->ipywidgets>=7.0.0->pydeck>=0.1.dev5->streamlit) (5.6.1)\n",
            "Requirement already satisfied: Send2Trash in /usr/local/lib/python3.6/dist-packages (from notebook>=4.4.1->widgetsnbextension~=3.5.0->ipywidgets>=7.0.0->pydeck>=0.1.dev5->streamlit) (1.5.0)\n",
            "Requirement already satisfied: testpath in /usr/local/lib/python3.6/dist-packages (from nbconvert->notebook>=4.4.1->widgetsnbextension~=3.5.0->ipywidgets>=7.0.0->pydeck>=0.1.dev5->streamlit) (0.4.4)\n",
            "Requirement already satisfied: defusedxml in /usr/local/lib/python3.6/dist-packages (from nbconvert->notebook>=4.4.1->widgetsnbextension~=3.5.0->ipywidgets>=7.0.0->pydeck>=0.1.dev5->streamlit) (0.6.0)\n",
            "Requirement already satisfied: pandocfilters>=1.4.1 in /usr/local/lib/python3.6/dist-packages (from nbconvert->notebook>=4.4.1->widgetsnbextension~=3.5.0->ipywidgets>=7.0.0->pydeck>=0.1.dev5->streamlit) (1.4.3)\n",
            "Requirement already satisfied: bleach in /usr/local/lib/python3.6/dist-packages (from nbconvert->notebook>=4.4.1->widgetsnbextension~=3.5.0->ipywidgets>=7.0.0->pydeck>=0.1.dev5->streamlit) (3.2.1)\n",
            "Requirement already satisfied: mistune<2,>=0.8.1 in /usr/local/lib/python3.6/dist-packages (from nbconvert->notebook>=4.4.1->widgetsnbextension~=3.5.0->ipywidgets>=7.0.0->pydeck>=0.1.dev5->streamlit) (0.8.4)\n",
            "Requirement already satisfied: webencodings in /usr/local/lib/python3.6/dist-packages (from bleach->nbconvert->notebook>=4.4.1->widgetsnbextension~=3.5.0->ipywidgets>=7.0.0->pydeck>=0.1.dev5->streamlit) (0.5.1)\n",
            "\u001b[31mERROR: google-colab 1.0.0 has requirement ipykernel~=4.10, but you'll have ipykernel 5.3.4 which is incompatible.\u001b[0m\n",
            "\u001b[31mERROR: datascience 0.10.6 has requirement folium==0.2.1, but you'll have folium 0.8.3 which is incompatible.\u001b[0m\n",
            "Installing collected packages: urllib3\n",
            "  Found existing installation: urllib3 1.26.2\n",
            "    Uninstalling urllib3-1.26.2:\n",
            "      Successfully uninstalled urllib3-1.26.2\n",
            "Successfully installed urllib3-1.25.11\n"
          ],
          "name": "stdout"
        }
      ]
    },
    {
      "cell_type": "code",
      "metadata": {
        "id": "g0PhXcgJvB-N",
        "colab": {
          "base_uri": "https://localhost:8080/"
        },
        "outputId": "4981fe2c-a662-420b-8066-08fe9adf8d27"
      },
      "source": [
        "!wget https://bin.equinox.io/c/4VmDzA7iaHb/ngrok-stable-linux-amd64.zip\n",
        "!unzip ngrok-stable-linux-amd64.zip"
      ],
      "execution_count": 2,
      "outputs": [
        {
          "output_type": "stream",
          "text": [
            "--2020-11-26 12:24:59--  https://bin.equinox.io/c/4VmDzA7iaHb/ngrok-stable-linux-amd64.zip\n",
            "Resolving bin.equinox.io (bin.equinox.io)... 18.213.76.145, 34.232.108.170, 52.2.56.23, ...\n",
            "Connecting to bin.equinox.io (bin.equinox.io)|18.213.76.145|:443... connected.\n",
            "HTTP request sent, awaiting response... 200 OK\n",
            "Length: 13773305 (13M) [application/octet-stream]\n",
            "Saving to: ‘ngrok-stable-linux-amd64.zip’\n",
            "\n",
            "ngrok-stable-linux- 100%[===================>]  13.13M  6.59MB/s    in 2.0s    \n",
            "\n",
            "2020-11-26 12:25:02 (6.59 MB/s) - ‘ngrok-stable-linux-amd64.zip’ saved [13773305/13773305]\n",
            "\n",
            "Archive:  ngrok-stable-linux-amd64.zip\n",
            "  inflating: ngrok                   \n"
          ],
          "name": "stdout"
        }
      ]
    },
    {
      "cell_type": "markdown",
      "metadata": {
        "id": "bcP-A5Z9iHCt"
      },
      "source": [
        "# Paso 1: Carga de Datasets Originales"
      ]
    },
    {
      "cell_type": "markdown",
      "metadata": {
        "id": "IxOOo6q6-tEo"
      },
      "source": [
        "Primero, creamos los directorios donde almacenaremos los datasets originales, y a continuación los cargamos (están almacenados en un drive público):"
      ]
    },
    {
      "cell_type": "code",
      "metadata": {
        "id": "C1_lYzJl8M_z",
        "colab": {
          "base_uri": "https://localhost:8080/",
          "height": 511
        },
        "outputId": "c2d8779e-3f55-4536-b5b5-442fda246fdb"
      },
      "source": [
        "# !pip install gdown\n",
        "\n",
        "!mkdir -p original_datasets/videogames \n",
        "\n",
        "!mkdir -p original_datasets/movies \n",
        "\n",
        "!mkdir -p original_datasets/series\n",
        "\n",
        "!mkdir -p original_datasets/songs\n",
        "\n",
        "!mkdir -p system_datasets\n",
        "\n",
        "import gdown as gd\n",
        "\n",
        "# Videojuegos\n",
        "gd.download('https://drive.google.com/uc?id=1-KgMce1i1IuEEsk-xUnIRTWq1R8jr8Ey', \n",
        "            'original_datasets/videogames/steam_list.csv', quiet=False) \n",
        "            # Títulos de videojuegos (Steam)\n",
        "\n",
        "gd.download('https://drive.google.com/uc?id=1uYAG398bhK7fylytYixJo8xdHirFd_Xe', \n",
        "            'original_datasets/videogames/steam_descriptions.csv', quiet=False) \n",
        "            # Descripciones de videojuegos (Steam)\n",
        "\n",
        "gd.download('https://drive.google.com/uc?id=1IqKNR6cdWJWIDXZSxg-TnRITpFWv2tgM', \n",
        "            'original_datasets/videogames/steam_reviews.csv', quiet=False) \n",
        "            # Comentarios de videojuegos. (Steam)\n",
        "\n",
        "# Películas\n",
        "gd.download('https://drive.google.com/uc?id=1U7OJMy5wmseeeRLiPhwnXRsHzB0Az3-I', \n",
        "            'original_datasets/movies/imbd_movies.csv', quiet=False) \n",
        "            # Títulos y descripciones de películas (IMDb)\n",
        "\n",
        "gd.download('https://drive.google.com/uc?id=157m8NSM5D7xE-VZ8iqVzNNvQa6rMPf3d', \n",
        "            'original_datasets/movies/metacritic_reviews.csv', quiet=False) \n",
        "            # Comentarios de películas (Metacritic)\n",
        "\n",
        "# Series\n",
        "gd.download('https://drive.google.com/uc?id=1k0kzwyGDPNZTAYc3YkS18MexXJFZQalF', \n",
        "            'original_datasets/series/series_descriptions.csv', quiet=False) \n",
        "            # Títulos y descripciones de series (Obtenido con Web Scraping y \n",
        "            # preprocesado)\n",
        "\n",
        "\n",
        "# Canciones\n",
        "gd.download('https://drive.google.com/uc?id=1sPGm1oXikFLbpnr8lqHPZR6zDlqwW5bM', \n",
        "            'original_datasets/songs/songs_lyrics.csv', quiet=False) \n",
        "            # Títulos y letras de canciones\n",
        "\n"
      ],
      "execution_count": 3,
      "outputs": [
        {
          "output_type": "stream",
          "text": [
            "Downloading...\n",
            "From: https://drive.google.com/uc?id=1-KgMce1i1IuEEsk-xUnIRTWq1R8jr8Ey\n",
            "To: /content/original_datasets/videogames/steam_list.csv\n",
            "5.82MB [00:00, 15.3MB/s]\n",
            "Downloading...\n",
            "From: https://drive.google.com/uc?id=1uYAG398bhK7fylytYixJo8xdHirFd_Xe\n",
            "To: /content/original_datasets/videogames/steam_descriptions.csv\n",
            "94.7MB [00:05, 16.6MB/s]\n",
            "Downloading...\n",
            "From: https://drive.google.com/uc?id=1IqKNR6cdWJWIDXZSxg-TnRITpFWv2tgM\n",
            "To: /content/original_datasets/videogames/steam_reviews.csv\n",
            "121MB [00:02, 43.6MB/s]\n",
            "Downloading...\n",
            "From: https://drive.google.com/uc?id=1U7OJMy5wmseeeRLiPhwnXRsHzB0Az3-I\n",
            "To: /content/original_datasets/movies/imbd_movies.csv\n",
            "47.9MB [00:00, 72.7MB/s]\n",
            "Downloading...\n",
            "From: https://drive.google.com/uc?id=157m8NSM5D7xE-VZ8iqVzNNvQa6rMPf3d\n",
            "To: /content/original_datasets/movies/metacritic_reviews.csv\n",
            "51.7MB [00:00, 62.0MB/s]\n",
            "Downloading...\n",
            "From: https://drive.google.com/uc?id=1k0kzwyGDPNZTAYc3YkS18MexXJFZQalF\n",
            "To: /content/original_datasets/series/series_descriptions.csv\n",
            "100%|██████████| 335k/335k [00:00<00:00, 63.0MB/s]\n",
            "Downloading...\n",
            "From: https://drive.google.com/uc?id=1sPGm1oXikFLbpnr8lqHPZR6zDlqwW5bM\n",
            "To: /content/original_datasets/songs/songs_lyrics.csv\n",
            "100%|██████████| 231k/231k [00:00<00:00, 48.1MB/s]\n"
          ],
          "name": "stderr"
        },
        {
          "output_type": "execute_result",
          "data": {
            "application/vnd.google.colaboratory.intrinsic+json": {
              "type": "string"
            },
            "text/plain": [
              "'original_datasets/songs/songs_lyrics.csv'"
            ]
          },
          "metadata": {
            "tags": []
          },
          "execution_count": 3
        }
      ]
    },
    {
      "cell_type": "markdown",
      "metadata": {
        "id": "IpFMHu0Di9PF"
      },
      "source": [
        "# Paso 2: Confección de Datasets Propios seleccionando un subconjuntos de los Datasets Originales"
      ]
    },
    {
      "cell_type": "markdown",
      "metadata": {
        "id": "hoC31vtB-2x7"
      },
      "source": [
        "Abrimos los ficheros con Pandas:"
      ]
    },
    {
      "cell_type": "code",
      "metadata": {
        "id": "WwCPplnP-oR9",
        "colab": {
          "base_uri": "https://localhost:8080/"
        },
        "outputId": "2902e260-16be-4b06-9656-cd4653e81ca5"
      },
      "source": [
        "import pandas as pd\n",
        "\n",
        "# Videojuegos\n",
        "originalSteamList = pd.read_csv('original_datasets/videogames/steam_list.csv')\n",
        "originalSteamDescriptions = pd.read_csv('original_datasets/videogames/steam_descriptions.csv')\n",
        "originalSteamReviews = pd.read_csv('original_datasets/videogames/steam_reviews.csv')\n",
        "\n",
        "# Películas\n",
        "originalIMBDMoviesWithDescription = pd.read_csv('original_datasets/movies/imbd_movies.csv')\n",
        "originalMetacriticReviews = pd.read_csv('original_datasets/movies/metacritic_reviews.csv')\n",
        "\n",
        "# Cine\n",
        "preprocessedSeriesWithDescription = pd.read_csv('original_datasets/series/series_descriptions.csv')\n",
        "\n",
        "# Canciones\n",
        "originalSongsWithLyrics = pd.read_csv('original_datasets/songs/songs_lyrics.csv')"
      ],
      "execution_count": 4,
      "outputs": [
        {
          "output_type": "stream",
          "text": [
            "/usr/local/lib/python3.6/dist-packages/IPython/core/interactiveshell.py:2718: DtypeWarning: Columns (3) have mixed types.Specify dtype option on import or set low_memory=False.\n",
            "  interactivity=interactivity, compiler=compiler, result=result)\n"
          ],
          "name": "stderr"
        }
      ]
    },
    {
      "cell_type": "markdown",
      "metadata": {
        "id": "P7py-4yM7RSc"
      },
      "source": [
        "Reducimos el tamaño del **dataset de videojuegos**, solo considerando aquellos juegos que han vendido más de 20k unidades"
      ]
    },
    {
      "cell_type": "code",
      "metadata": {
        "id": "ynhmvgnf6mL_"
      },
      "source": [
        "originalSteamList = originalSteamList[originalSteamList['owners'] != '0-20000']"
      ],
      "execution_count": 5,
      "outputs": []
    },
    {
      "cell_type": "markdown",
      "metadata": {
        "id": "p1zqBL5-MzdZ"
      },
      "source": [
        "Reducimos el tamaño del **dataset de películas**, solo considerando películas con más de 70 reseñas por usuarios"
      ]
    },
    {
      "cell_type": "code",
      "metadata": {
        "id": "ooh9Os4VL_4H"
      },
      "source": [
        "originalIMBDMoviesWithDescription = originalIMBDMoviesWithDescription[originalIMBDMoviesWithDescription['reviews_from_users'] > 70]"
      ],
      "execution_count": 6,
      "outputs": []
    },
    {
      "cell_type": "markdown",
      "metadata": {
        "id": "N5aEaT-v_MZr"
      },
      "source": [
        "Ahora, unimos datasets y seleccionamos las columnas necesarias:"
      ]
    },
    {
      "cell_type": "code",
      "metadata": {
        "id": "_VRP0baS_MHn"
      },
      "source": [
        "# Estas líneas crean una copia del csv con un id para cada elemento con el \n",
        "# formato que hemos especificado (<inicialMedio><autoIncremental>):\n",
        "\n",
        "# Videojuegos\n",
        "listadoVideojuegos = originalSteamList.copy()\n",
        "listadoVideojuegos.insert(0, 'id_obra', range(0, len(listadoVideojuegos)))\n",
        "listadoVideojuegos = listadoVideojuegos.assign(id_obra=lambda x: 'V'+x.id_obra.astype(str))\n",
        "\n",
        "# Películas\n",
        "listadoDescripcionCine = originalIMBDMoviesWithDescription.copy()\n",
        "listadoDescripcionCine.insert(0, 'id_obra', range(0, len(listadoDescripcionCine)))\n",
        "listadoDescripcionCine = listadoDescripcionCine.assign(id_obra=lambda x: 'C'+x.id_obra.astype(str))\n",
        "\n",
        "# Música\n",
        "listadoLetraCanciones = originalSongsWithLyrics.copy()\n",
        "listadoLetraCanciones.insert(0, 'id_obra', range(0, len(listadoLetraCanciones)))\n",
        "listadoLetraCanciones = listadoLetraCanciones.assign(id_obra=lambda x: 'M'+x.id_obra.astype(str))\n",
        "\n",
        "# Los datasets de Series ya se encuentra en el formato deseado."
      ],
      "execution_count": 7,
      "outputs": []
    },
    {
      "cell_type": "markdown",
      "metadata": {
        "id": "D0EriCxGXL2n"
      },
      "source": [
        "Listado de Descripciones de Videojuegos:"
      ]
    },
    {
      "cell_type": "code",
      "metadata": {
        "id": "nIPTXvnsXI_4",
        "colab": {
          "base_uri": "https://localhost:8080/",
          "height": 419
        },
        "outputId": "8eaa12c1-04ab-48cd-9552-aaf6292e2213"
      },
      "source": [
        "# Videojuegos (Descripciones):\n",
        "listadoDescripcionVideojuegos = pd.merge(listadoVideojuegos, originalSteamDescriptions, left_on='appid', right_on='steam_appid')\n",
        "\n",
        "listadoDescripcionVideojuegos = listadoDescripcionVideojuegos.rename(columns={'name':'nombre', 'short_description':'descripcion'})\n",
        "\n",
        "listadoDescripcionVideojuegos = listadoDescripcionVideojuegos.assign(medio='V')\n",
        "\n",
        "# Almacenamos el listado obtenido en un fichero CSV:\n",
        "listadoDescripcionVideojuegos[['id_obra', 'medio', 'nombre', 'descripcion']].to_csv('system_datasets/obras_descripcion.csv', index=False)\n",
        "\n",
        "listadoDescripcionVideojuegos[['id_obra', 'medio', 'nombre', 'descripcion']]"
      ],
      "execution_count": 8,
      "outputs": [
        {
          "output_type": "execute_result",
          "data": {
            "text/html": [
              "<div>\n",
              "<style scoped>\n",
              "    .dataframe tbody tr th:only-of-type {\n",
              "        vertical-align: middle;\n",
              "    }\n",
              "\n",
              "    .dataframe tbody tr th {\n",
              "        vertical-align: top;\n",
              "    }\n",
              "\n",
              "    .dataframe thead th {\n",
              "        text-align: right;\n",
              "    }\n",
              "</style>\n",
              "<table border=\"1\" class=\"dataframe\">\n",
              "  <thead>\n",
              "    <tr style=\"text-align: right;\">\n",
              "      <th></th>\n",
              "      <th>id_obra</th>\n",
              "      <th>medio</th>\n",
              "      <th>nombre</th>\n",
              "      <th>descripcion</th>\n",
              "    </tr>\n",
              "  </thead>\n",
              "  <tbody>\n",
              "    <tr>\n",
              "      <th>0</th>\n",
              "      <td>V0</td>\n",
              "      <td>V</td>\n",
              "      <td>Counter-Strike</td>\n",
              "      <td>Play the world's number 1 online action game. ...</td>\n",
              "    </tr>\n",
              "    <tr>\n",
              "      <th>1</th>\n",
              "      <td>V1</td>\n",
              "      <td>V</td>\n",
              "      <td>Team Fortress Classic</td>\n",
              "      <td>One of the most popular online action games of...</td>\n",
              "    </tr>\n",
              "    <tr>\n",
              "      <th>2</th>\n",
              "      <td>V2</td>\n",
              "      <td>V</td>\n",
              "      <td>Day of Defeat</td>\n",
              "      <td>Enlist in an intense brand of Axis vs. Allied ...</td>\n",
              "    </tr>\n",
              "    <tr>\n",
              "      <th>3</th>\n",
              "      <td>V3</td>\n",
              "      <td>V</td>\n",
              "      <td>Deathmatch Classic</td>\n",
              "      <td>Enjoy fast-paced multiplayer gaming with Death...</td>\n",
              "    </tr>\n",
              "    <tr>\n",
              "      <th>4</th>\n",
              "      <td>V4</td>\n",
              "      <td>V</td>\n",
              "      <td>Half-Life: Opposing Force</td>\n",
              "      <td>Return to the Black Mesa Research Facility as ...</td>\n",
              "    </tr>\n",
              "    <tr>\n",
              "      <th>...</th>\n",
              "      <td>...</td>\n",
              "      <td>...</td>\n",
              "      <td>...</td>\n",
              "      <td>...</td>\n",
              "    </tr>\n",
              "    <tr>\n",
              "      <th>8474</th>\n",
              "      <td>V8474</td>\n",
              "      <td>V</td>\n",
              "      <td>BLOCKADE Classic</td>\n",
              "      <td>BLOCKADE Classic! First Person Shooter in an e...</td>\n",
              "    </tr>\n",
              "    <tr>\n",
              "      <th>8475</th>\n",
              "      <td>V8475</td>\n",
              "      <td>V</td>\n",
              "      <td>Arena Stars</td>\n",
              "      <td>Choose your Hero, build your Team and take on ...</td>\n",
              "    </tr>\n",
              "    <tr>\n",
              "      <th>8476</th>\n",
              "      <td>V8476</td>\n",
              "      <td>V</td>\n",
              "      <td>Burning Daylight</td>\n",
              "      <td>Waking up naked in a slaughterhouse, you must ...</td>\n",
              "    </tr>\n",
              "    <tr>\n",
              "      <th>8477</th>\n",
              "      <td>V8477</td>\n",
              "      <td>V</td>\n",
              "      <td>KillStreak.tv</td>\n",
              "      <td>KILLSTREAK.tv is a quick fire 3rd-person multi...</td>\n",
              "    </tr>\n",
              "    <tr>\n",
              "      <th>8478</th>\n",
              "      <td>V8478</td>\n",
              "      <td>V</td>\n",
              "      <td>Sin Slayers: The First Sin</td>\n",
              "      <td>Sin Slayers is an RPG with roguelike elements ...</td>\n",
              "    </tr>\n",
              "  </tbody>\n",
              "</table>\n",
              "<p>8479 rows × 4 columns</p>\n",
              "</div>"
            ],
            "text/plain": [
              "     id_obra  ...                                        descripcion\n",
              "0         V0  ...  Play the world's number 1 online action game. ...\n",
              "1         V1  ...  One of the most popular online action games of...\n",
              "2         V2  ...  Enlist in an intense brand of Axis vs. Allied ...\n",
              "3         V3  ...  Enjoy fast-paced multiplayer gaming with Death...\n",
              "4         V4  ...  Return to the Black Mesa Research Facility as ...\n",
              "...      ...  ...                                                ...\n",
              "8474   V8474  ...  BLOCKADE Classic! First Person Shooter in an e...\n",
              "8475   V8475  ...  Choose your Hero, build your Team and take on ...\n",
              "8476   V8476  ...  Waking up naked in a slaughterhouse, you must ...\n",
              "8477   V8477  ...  KILLSTREAK.tv is a quick fire 3rd-person multi...\n",
              "8478   V8478  ...  Sin Slayers is an RPG with roguelike elements ...\n",
              "\n",
              "[8479 rows x 4 columns]"
            ]
          },
          "metadata": {
            "tags": []
          },
          "execution_count": 8
        }
      ]
    },
    {
      "cell_type": "markdown",
      "metadata": {
        "id": "o35rlOrJXSNX"
      },
      "source": [
        "Listado de Descripciones de Cine"
      ]
    },
    {
      "cell_type": "code",
      "metadata": {
        "id": "Bhw0Pr6QIHCK",
        "colab": {
          "base_uri": "https://localhost:8080/",
          "height": 419
        },
        "outputId": "a8fbb23c-1b1f-4421-c3c6-426fe2928bc2"
      },
      "source": [
        "# Cine (Descripciones):\n",
        "listadoDescripcionCine = listadoDescripcionCine.rename(columns={'title':'nombre', 'description':'descripcion'})\n",
        "listadoDescripcionCine = listadoDescripcionCine.assign(medio='C')\n",
        "\n",
        "# Almacenamos el listado obtenido en un fichero CSV (se concatena al final del mismo)\n",
        "listadoDescripcionCine[['id_obra', 'medio', 'nombre', 'descripcion']].dropna().to_csv('system_datasets/obras_descripcion.csv', index=False, mode='a', header=False)\n",
        "listadoDescripcionCine[['id_obra', 'medio', 'nombre', 'descripcion']].dropna()\n"
      ],
      "execution_count": 9,
      "outputs": [
        {
          "output_type": "execute_result",
          "data": {
            "text/html": [
              "<div>\n",
              "<style scoped>\n",
              "    .dataframe tbody tr th:only-of-type {\n",
              "        vertical-align: middle;\n",
              "    }\n",
              "\n",
              "    .dataframe tbody tr th {\n",
              "        vertical-align: top;\n",
              "    }\n",
              "\n",
              "    .dataframe thead th {\n",
              "        text-align: right;\n",
              "    }\n",
              "</style>\n",
              "<table border=\"1\" class=\"dataframe\">\n",
              "  <thead>\n",
              "    <tr style=\"text-align: right;\">\n",
              "      <th></th>\n",
              "      <th>id_obra</th>\n",
              "      <th>medio</th>\n",
              "      <th>nombre</th>\n",
              "      <th>descripcion</th>\n",
              "    </tr>\n",
              "  </thead>\n",
              "  <tbody>\n",
              "    <tr>\n",
              "      <th>47</th>\n",
              "      <td>C0</td>\n",
              "      <td>C</td>\n",
              "      <td>Nascita di una nazione</td>\n",
              "      <td>The Stoneman family finds its friendship with ...</td>\n",
              "    </tr>\n",
              "    <tr>\n",
              "      <th>76</th>\n",
              "      <td>C1</td>\n",
              "      <td>C</td>\n",
              "      <td>Intolerance</td>\n",
              "      <td>The story of a poor young woman, separated by ...</td>\n",
              "    </tr>\n",
              "    <tr>\n",
              "      <th>147</th>\n",
              "      <td>C2</td>\n",
              "      <td>C</td>\n",
              "      <td>Giglio infranto</td>\n",
              "      <td>A frail waif, abused by her brutal boxer fathe...</td>\n",
              "    </tr>\n",
              "    <tr>\n",
              "      <th>165</th>\n",
              "      <td>C3</td>\n",
              "      <td>C</td>\n",
              "      <td>Il gabinetto del dottor Caligari</td>\n",
              "      <td>Hypnotist Dr. Caligari uses a somnambulist, Ce...</td>\n",
              "    </tr>\n",
              "    <tr>\n",
              "      <th>190</th>\n",
              "      <td>C4</td>\n",
              "      <td>C</td>\n",
              "      <td>Dr. Jekyll e Mr. Hyde</td>\n",
              "      <td>Dr. Henry Jekyll experiments with scientific m...</td>\n",
              "    </tr>\n",
              "    <tr>\n",
              "      <th>...</th>\n",
              "      <td>...</td>\n",
              "      <td>...</td>\n",
              "      <td>...</td>\n",
              "      <td>...</td>\n",
              "    </tr>\n",
              "    <tr>\n",
              "      <th>85811</th>\n",
              "      <td>C9130</td>\n",
              "      <td>C</td>\n",
              "      <td>Falling Inn Love - Ristrutturazione con amore</td>\n",
              "      <td>When city girl Gabriela spontaneously enters a...</td>\n",
              "    </tr>\n",
              "    <tr>\n",
              "      <th>85817</th>\n",
              "      <td>C9131</td>\n",
              "      <td>C</td>\n",
              "      <td>Paranormal Investigation</td>\n",
              "      <td>When a young man becomes possessed after playi...</td>\n",
              "    </tr>\n",
              "    <tr>\n",
              "      <th>85837</th>\n",
              "      <td>C9132</td>\n",
              "      <td>C</td>\n",
              "      <td>VFW</td>\n",
              "      <td>A group of old war veterans put their lives on...</td>\n",
              "    </tr>\n",
              "    <tr>\n",
              "      <th>85839</th>\n",
              "      <td>C9133</td>\n",
              "      <td>C</td>\n",
              "      <td>Coffee &amp; Kareem</td>\n",
              "      <td>Twelve-year-old Kareem Manning hires a crimina...</td>\n",
              "    </tr>\n",
              "    <tr>\n",
              "      <th>85843</th>\n",
              "      <td>C9134</td>\n",
              "      <td>C</td>\n",
              "      <td>Kaithi</td>\n",
              "      <td>A recently released prisoner becomes involved ...</td>\n",
              "    </tr>\n",
              "  </tbody>\n",
              "</table>\n",
              "<p>9118 rows × 4 columns</p>\n",
              "</div>"
            ],
            "text/plain": [
              "      id_obra  ...                                        descripcion\n",
              "47         C0  ...  The Stoneman family finds its friendship with ...\n",
              "76         C1  ...  The story of a poor young woman, separated by ...\n",
              "147        C2  ...  A frail waif, abused by her brutal boxer fathe...\n",
              "165        C3  ...  Hypnotist Dr. Caligari uses a somnambulist, Ce...\n",
              "190        C4  ...  Dr. Henry Jekyll experiments with scientific m...\n",
              "...       ...  ...                                                ...\n",
              "85811   C9130  ...  When city girl Gabriela spontaneously enters a...\n",
              "85817   C9131  ...  When a young man becomes possessed after playi...\n",
              "85837   C9132  ...  A group of old war veterans put their lives on...\n",
              "85839   C9133  ...  Twelve-year-old Kareem Manning hires a crimina...\n",
              "85843   C9134  ...  A recently released prisoner becomes involved ...\n",
              "\n",
              "[9118 rows x 4 columns]"
            ]
          },
          "metadata": {
            "tags": []
          },
          "execution_count": 9
        }
      ]
    },
    {
      "cell_type": "markdown",
      "metadata": {
        "id": "W9DJJiK-XWmx"
      },
      "source": [
        "Listado de Descripciones de Series:"
      ]
    },
    {
      "cell_type": "code",
      "metadata": {
        "colab": {
          "base_uri": "https://localhost:8080/",
          "height": 419
        },
        "id": "Xqzt9Oylam0V",
        "outputId": "062961a1-b4f7-40b6-c2bc-4612549ac871"
      },
      "source": [
        "# Series (Descripciones):\n",
        "# Almacenamos el listado obtenido en un fichero CSV (se concatena al final del mismo)\n",
        "preprocessedSeriesWithDescription[['id_obra', 'medio', 'nombre', 'descripcion']].dropna().to_csv('system_datasets/obras_descripcion.csv', index=False, mode='a', header=False)\n",
        "preprocessedSeriesWithDescription[['id_obra', 'medio', 'nombre', 'descripcion']].dropna()"
      ],
      "execution_count": 10,
      "outputs": [
        {
          "output_type": "execute_result",
          "data": {
            "text/html": [
              "<div>\n",
              "<style scoped>\n",
              "    .dataframe tbody tr th:only-of-type {\n",
              "        vertical-align: middle;\n",
              "    }\n",
              "\n",
              "    .dataframe tbody tr th {\n",
              "        vertical-align: top;\n",
              "    }\n",
              "\n",
              "    .dataframe thead th {\n",
              "        text-align: right;\n",
              "    }\n",
              "</style>\n",
              "<table border=\"1\" class=\"dataframe\">\n",
              "  <thead>\n",
              "    <tr style=\"text-align: right;\">\n",
              "      <th></th>\n",
              "      <th>id_obra</th>\n",
              "      <th>medio</th>\n",
              "      <th>nombre</th>\n",
              "      <th>descripcion</th>\n",
              "    </tr>\n",
              "  </thead>\n",
              "  <tbody>\n",
              "    <tr>\n",
              "      <th>0</th>\n",
              "      <td>S0</td>\n",
              "      <td>S</td>\n",
              "      <td>Transformers Prime</td>\n",
              "      <td>With the help of three human allies, the Autob...</td>\n",
              "    </tr>\n",
              "    <tr>\n",
              "      <th>1</th>\n",
              "      <td>S1</td>\n",
              "      <td>S</td>\n",
              "      <td>Transformers: Robots in Disguise</td>\n",
              "      <td>When a prison ship crash unleashes hundreds of...</td>\n",
              "    </tr>\n",
              "    <tr>\n",
              "      <th>2</th>\n",
              "      <td>S2</td>\n",
              "      <td>S</td>\n",
              "      <td>Apaches</td>\n",
              "      <td>A young journalist is forced into a life of cr...</td>\n",
              "    </tr>\n",
              "    <tr>\n",
              "      <th>3</th>\n",
              "      <td>S3</td>\n",
              "      <td>S</td>\n",
              "      <td>Fire Chasers</td>\n",
              "      <td>As California's 2016 fire season rages, brave ...</td>\n",
              "    </tr>\n",
              "    <tr>\n",
              "      <th>4</th>\n",
              "      <td>S4</td>\n",
              "      <td>S</td>\n",
              "      <td>Castle of Stars</td>\n",
              "      <td>As four couples with different lifestyles go t...</td>\n",
              "    </tr>\n",
              "    <tr>\n",
              "      <th>...</th>\n",
              "      <td>...</td>\n",
              "      <td>...</td>\n",
              "      <td>...</td>\n",
              "      <td>...</td>\n",
              "    </tr>\n",
              "    <tr>\n",
              "      <th>1964</th>\n",
              "      <td>S1964</td>\n",
              "      <td>S</td>\n",
              "      <td>Kikoriki</td>\n",
              "      <td>A wacky rabbit and his gang of animal pals hav...</td>\n",
              "    </tr>\n",
              "    <tr>\n",
              "      <th>1965</th>\n",
              "      <td>S1965</td>\n",
              "      <td>S</td>\n",
              "      <td>Red vs. Blue</td>\n",
              "      <td>This parody of first-person shooter games, mil...</td>\n",
              "    </tr>\n",
              "    <tr>\n",
              "      <th>1966</th>\n",
              "      <td>S1966</td>\n",
              "      <td>S</td>\n",
              "      <td>Maron</td>\n",
              "      <td>Marc Maron stars as Marc Maron, who interviews...</td>\n",
              "    </tr>\n",
              "    <tr>\n",
              "      <th>1967</th>\n",
              "      <td>S1967</td>\n",
              "      <td>S</td>\n",
              "      <td>A Young Doctor's Notebook and Other Stories</td>\n",
              "      <td>Set during the Russian Revolution, this comic ...</td>\n",
              "    </tr>\n",
              "    <tr>\n",
              "      <th>1968</th>\n",
              "      <td>S1968</td>\n",
              "      <td>S</td>\n",
              "      <td>Friends</td>\n",
              "      <td>This hit sitcom follows the merry misadventure...</td>\n",
              "    </tr>\n",
              "  </tbody>\n",
              "</table>\n",
              "<p>1969 rows × 4 columns</p>\n",
              "</div>"
            ],
            "text/plain": [
              "     id_obra  ...                                        descripcion\n",
              "0         S0  ...  With the help of three human allies, the Autob...\n",
              "1         S1  ...  When a prison ship crash unleashes hundreds of...\n",
              "2         S2  ...  A young journalist is forced into a life of cr...\n",
              "3         S3  ...  As California's 2016 fire season rages, brave ...\n",
              "4         S4  ...  As four couples with different lifestyles go t...\n",
              "...      ...  ...                                                ...\n",
              "1964   S1964  ...  A wacky rabbit and his gang of animal pals hav...\n",
              "1965   S1965  ...  This parody of first-person shooter games, mil...\n",
              "1966   S1966  ...  Marc Maron stars as Marc Maron, who interviews...\n",
              "1967   S1967  ...  Set during the Russian Revolution, this comic ...\n",
              "1968   S1968  ...  This hit sitcom follows the merry misadventure...\n",
              "\n",
              "[1969 rows x 4 columns]"
            ]
          },
          "metadata": {
            "tags": []
          },
          "execution_count": 10
        }
      ]
    },
    {
      "cell_type": "markdown",
      "metadata": {
        "id": "4_DG6taUXgUy"
      },
      "source": [
        "Listado de Letras de Canciones:"
      ]
    },
    {
      "cell_type": "code",
      "metadata": {
        "id": "nOKk_SIKeOVK",
        "colab": {
          "base_uri": "https://localhost:8080/",
          "height": 419
        },
        "outputId": "ba18f88f-87e9-45ba-e619-7f4079800bfa"
      },
      "source": [
        "listadoLetraCanciones = listadoLetraCanciones.rename(columns={'Title':'nombre', 'Lyric':'descripcion'})\n",
        "\n",
        "listadoLetraCanciones = listadoLetraCanciones.assign(medio='M')\n",
        "\n",
        "listadoLetraCanciones[['id_obra', 'medio', 'nombre', 'descripcion']].dropna().to_csv('system_datasets/obras_descripcion.csv', index=False, mode='a', header=False)\n",
        "\n",
        "listadoLetraCanciones[['id_obra', 'medio', 'nombre', 'descripcion']].dropna()"
      ],
      "execution_count": 11,
      "outputs": [
        {
          "output_type": "execute_result",
          "data": {
            "text/html": [
              "<div>\n",
              "<style scoped>\n",
              "    .dataframe tbody tr th:only-of-type {\n",
              "        vertical-align: middle;\n",
              "    }\n",
              "\n",
              "    .dataframe tbody tr th {\n",
              "        vertical-align: top;\n",
              "    }\n",
              "\n",
              "    .dataframe thead th {\n",
              "        text-align: right;\n",
              "    }\n",
              "</style>\n",
              "<table border=\"1\" class=\"dataframe\">\n",
              "  <thead>\n",
              "    <tr style=\"text-align: right;\">\n",
              "      <th></th>\n",
              "      <th>id_obra</th>\n",
              "      <th>medio</th>\n",
              "      <th>nombre</th>\n",
              "      <th>descripcion</th>\n",
              "    </tr>\n",
              "  </thead>\n",
              "  <tbody>\n",
              "    <tr>\n",
              "      <th>0</th>\n",
              "      <td>M0</td>\n",
              "      <td>M</td>\n",
              "      <td>Kill You</td>\n",
              "      <td>Whoops! Is that a subliminal hint?</td>\n",
              "    </tr>\n",
              "    <tr>\n",
              "      <th>1</th>\n",
              "      <td>M1</td>\n",
              "      <td>M</td>\n",
              "      <td>Bring da Ruckus</td>\n",
              "      <td>Givin' bystanders heart-attacks</td>\n",
              "    </tr>\n",
              "    <tr>\n",
              "      <th>2</th>\n",
              "      <td>M2</td>\n",
              "      <td>M</td>\n",
              "      <td>Drop the World</td>\n",
              "      <td>And I'm a drop it on yo f***in' head, ha ha</td>\n",
              "    </tr>\n",
              "    <tr>\n",
              "      <th>3</th>\n",
              "      <td>M3</td>\n",
              "      <td>M</td>\n",
              "      <td>Who Gives a Fuck Where You From</td>\n",
              "      <td>The kings from Memphis man riding in my Chevy ...</td>\n",
              "    </tr>\n",
              "    <tr>\n",
              "      <th>4</th>\n",
              "      <td>M4</td>\n",
              "      <td>M</td>\n",
              "      <td>Bad Day</td>\n",
              "      <td>You kick up the leaves, and the magic is lost</td>\n",
              "    </tr>\n",
              "    <tr>\n",
              "      <th>...</th>\n",
              "      <td>...</td>\n",
              "      <td>...</td>\n",
              "      <td>...</td>\n",
              "      <td>...</td>\n",
              "    </tr>\n",
              "    <tr>\n",
              "      <th>3004</th>\n",
              "      <td>M3004</td>\n",
              "      <td>M</td>\n",
              "      <td>The Spiteful Chant</td>\n",
              "      <td>I'm going big, suck my dick</td>\n",
              "    </tr>\n",
              "    <tr>\n",
              "      <th>3005</th>\n",
              "      <td>M3005</td>\n",
              "      <td>M</td>\n",
              "      <td>Agony Fires</td>\n",
              "      <td>Satan's trigger finger, rock the bells in Hell...</td>\n",
              "    </tr>\n",
              "    <tr>\n",
              "      <th>3006</th>\n",
              "      <td>M3006</td>\n",
              "      <td>M</td>\n",
              "      <td>Astronaut</td>\n",
              "      <td>Can I please come down, come down</td>\n",
              "    </tr>\n",
              "    <tr>\n",
              "      <th>3007</th>\n",
              "      <td>M3007</td>\n",
              "      <td>M</td>\n",
              "      <td>The Loner</td>\n",
              "      <td>He's the unforeseen danger The keeper of the k...</td>\n",
              "    </tr>\n",
              "    <tr>\n",
              "      <th>3008</th>\n",
              "      <td>M3008</td>\n",
              "      <td>M</td>\n",
              "      <td>Live While We're Young</td>\n",
              "      <td>And have a celebration, a celebration</td>\n",
              "    </tr>\n",
              "  </tbody>\n",
              "</table>\n",
              "<p>3008 rows × 4 columns</p>\n",
              "</div>"
            ],
            "text/plain": [
              "     id_obra  ...                                        descripcion\n",
              "0         M0  ...                 Whoops! Is that a subliminal hint?\n",
              "1         M1  ...                    Givin' bystanders heart-attacks\n",
              "2         M2  ...        And I'm a drop it on yo f***in' head, ha ha\n",
              "3         M3  ...  The kings from Memphis man riding in my Chevy ...\n",
              "4         M4  ...      You kick up the leaves, and the magic is lost\n",
              "...      ...  ...                                                ...\n",
              "3004   M3004  ...                        I'm going big, suck my dick\n",
              "3005   M3005  ...  Satan's trigger finger, rock the bells in Hell...\n",
              "3006   M3006  ...                  Can I please come down, come down\n",
              "3007   M3007  ...  He's the unforeseen danger The keeper of the k...\n",
              "3008   M3008  ...              And have a celebration, a celebration\n",
              "\n",
              "[3008 rows x 4 columns]"
            ]
          },
          "metadata": {
            "tags": []
          },
          "execution_count": 11
        }
      ]
    },
    {
      "cell_type": "markdown",
      "metadata": {
        "id": "cLebWEKqln4m"
      },
      "source": [
        "# Paso 3: Subsistema de Recomendación"
      ]
    },
    {
      "cell_type": "markdown",
      "metadata": {
        "id": "bWhGtwqsUP3_"
      },
      "source": [
        "## Paso 3.1: Preprocesado del Dataset Propio de obras con descripciones"
      ]
    },
    {
      "cell_type": "markdown",
      "metadata": {
        "id": "ErgNzXrEklzV"
      },
      "source": [
        "### Paso 3.1.1: **Tokenizado**, eliminación de **Stopwords** y **Stemming**:"
      ]
    },
    {
      "cell_type": "code",
      "metadata": {
        "id": "06vaP4WHUPDg",
        "colab": {
          "base_uri": "https://localhost:8080/",
          "height": 487
        },
        "outputId": "29dc4eb8-fd43-4a4e-f03f-05530b5a76e4"
      },
      "source": [
        "from nltk.tokenize import word_tokenize \n",
        "from nltk.corpus import stopwords\n",
        "from nltk.stem import PorterStemmer\n",
        "\n",
        "import nltk\n",
        "nltk.download('punkt')\n",
        "nltk.download('stopwords')\n",
        "\n",
        "ps = PorterStemmer()\n",
        "\n",
        "preprocessedText = []\n",
        "\n",
        "originalData = pd.read_csv('system_datasets/obras_descripcion.csv')\n",
        "\n",
        "for row in originalData.itertuples():\n",
        "    \n",
        "    \n",
        "    text = word_tokenize(row[4]) ## indice de la columna que contiene el texto\n",
        "    ## Remove stop words\n",
        "    stops = set(stopwords.words(\"english\"))\n",
        "    text = [ps.stem(w) for w in text if not w in stops and w.isalpha()]\n",
        "    text = \" \".join(text)\n",
        "    \n",
        "    preprocessedText.append(text)\n",
        "\n",
        "preprocessedData = originalData\n",
        "preprocessedData['processed_text'] = preprocessedText\n",
        "\n",
        "preprocessedData"
      ],
      "execution_count": 12,
      "outputs": [
        {
          "output_type": "stream",
          "text": [
            "[nltk_data] Downloading package punkt to /root/nltk_data...\n",
            "[nltk_data]   Unzipping tokenizers/punkt.zip.\n",
            "[nltk_data] Downloading package stopwords to /root/nltk_data...\n",
            "[nltk_data]   Unzipping corpora/stopwords.zip.\n"
          ],
          "name": "stdout"
        },
        {
          "output_type": "execute_result",
          "data": {
            "text/html": [
              "<div>\n",
              "<style scoped>\n",
              "    .dataframe tbody tr th:only-of-type {\n",
              "        vertical-align: middle;\n",
              "    }\n",
              "\n",
              "    .dataframe tbody tr th {\n",
              "        vertical-align: top;\n",
              "    }\n",
              "\n",
              "    .dataframe thead th {\n",
              "        text-align: right;\n",
              "    }\n",
              "</style>\n",
              "<table border=\"1\" class=\"dataframe\">\n",
              "  <thead>\n",
              "    <tr style=\"text-align: right;\">\n",
              "      <th></th>\n",
              "      <th>id_obra</th>\n",
              "      <th>medio</th>\n",
              "      <th>nombre</th>\n",
              "      <th>descripcion</th>\n",
              "      <th>processed_text</th>\n",
              "    </tr>\n",
              "  </thead>\n",
              "  <tbody>\n",
              "    <tr>\n",
              "      <th>0</th>\n",
              "      <td>V0</td>\n",
              "      <td>V</td>\n",
              "      <td>Counter-Strike</td>\n",
              "      <td>Play the world's number 1 online action game. ...</td>\n",
              "      <td>play world number onlin action game engag incr...</td>\n",
              "    </tr>\n",
              "    <tr>\n",
              "      <th>1</th>\n",
              "      <td>V1</td>\n",
              "      <td>V</td>\n",
              "      <td>Team Fortress Classic</td>\n",
              "      <td>One of the most popular online action games of...</td>\n",
              "      <td>one popular onlin action game time team fortre...</td>\n",
              "    </tr>\n",
              "    <tr>\n",
              "      <th>2</th>\n",
              "      <td>V2</td>\n",
              "      <td>V</td>\n",
              "      <td>Day of Defeat</td>\n",
              "      <td>Enlist in an intense brand of Axis vs. Allied ...</td>\n",
              "      <td>enlist intens brand axi alli teamplay set wwii...</td>\n",
              "    </tr>\n",
              "    <tr>\n",
              "      <th>3</th>\n",
              "      <td>V3</td>\n",
              "      <td>V</td>\n",
              "      <td>Deathmatch Classic</td>\n",
              "      <td>Enjoy fast-paced multiplayer gaming with Death...</td>\n",
              "      <td>enjoy multiplay game deathmatch classic dmc va...</td>\n",
              "    </tr>\n",
              "    <tr>\n",
              "      <th>4</th>\n",
              "      <td>V4</td>\n",
              "      <td>V</td>\n",
              "      <td>Half-Life: Opposing Force</td>\n",
              "      <td>Return to the Black Mesa Research Facility as ...</td>\n",
              "      <td>return black mesa research facil one militari ...</td>\n",
              "    </tr>\n",
              "    <tr>\n",
              "      <th>...</th>\n",
              "      <td>...</td>\n",
              "      <td>...</td>\n",
              "      <td>...</td>\n",
              "      <td>...</td>\n",
              "      <td>...</td>\n",
              "    </tr>\n",
              "    <tr>\n",
              "      <th>22569</th>\n",
              "      <td>M3004</td>\n",
              "      <td>M</td>\n",
              "      <td>The Spiteful Chant</td>\n",
              "      <td>I'm going big, suck my dick</td>\n",
              "      <td>I go big suck dick</td>\n",
              "    </tr>\n",
              "    <tr>\n",
              "      <th>22570</th>\n",
              "      <td>M3005</td>\n",
              "      <td>M</td>\n",
              "      <td>Agony Fires</td>\n",
              "      <td>Satan's trigger finger, rock the bells in Hell...</td>\n",
              "      <td>satan trigger finger rock bell hell call dead ...</td>\n",
              "    </tr>\n",
              "    <tr>\n",
              "      <th>22571</th>\n",
              "      <td>M3006</td>\n",
              "      <td>M</td>\n",
              "      <td>Astronaut</td>\n",
              "      <td>Can I please come down, come down</td>\n",
              "      <td>can I pleas come come</td>\n",
              "    </tr>\n",
              "    <tr>\n",
              "      <th>22572</th>\n",
              "      <td>M3007</td>\n",
              "      <td>M</td>\n",
              "      <td>The Loner</td>\n",
              "      <td>He's the unforeseen danger The keeper of the k...</td>\n",
              "      <td>He unforeseen danger the keeper key lock</td>\n",
              "    </tr>\n",
              "    <tr>\n",
              "      <th>22573</th>\n",
              "      <td>M3008</td>\n",
              "      <td>M</td>\n",
              "      <td>Live While We're Young</td>\n",
              "      <td>And have a celebration, a celebration</td>\n",
              "      <td>and celebr celebr</td>\n",
              "    </tr>\n",
              "  </tbody>\n",
              "</table>\n",
              "<p>22574 rows × 5 columns</p>\n",
              "</div>"
            ],
            "text/plain": [
              "      id_obra  ...                                     processed_text\n",
              "0          V0  ...  play world number onlin action game engag incr...\n",
              "1          V1  ...  one popular onlin action game time team fortre...\n",
              "2          V2  ...  enlist intens brand axi alli teamplay set wwii...\n",
              "3          V3  ...  enjoy multiplay game deathmatch classic dmc va...\n",
              "4          V4  ...  return black mesa research facil one militari ...\n",
              "...       ...  ...                                                ...\n",
              "22569   M3004  ...                                 I go big suck dick\n",
              "22570   M3005  ...  satan trigger finger rock bell hell call dead ...\n",
              "22571   M3006  ...                              can I pleas come come\n",
              "22572   M3007  ...           He unforeseen danger the keeper key lock\n",
              "22573   M3008  ...                                  and celebr celebr\n",
              "\n",
              "[22574 rows x 5 columns]"
            ]
          },
          "metadata": {
            "tags": []
          },
          "execution_count": 12
        }
      ]
    },
    {
      "cell_type": "markdown",
      "metadata": {
        "id": "booy9-LYlGFJ"
      },
      "source": [
        "### Paso 3.1.2: Creación de la **Bolsa de Palabras**"
      ]
    },
    {
      "cell_type": "code",
      "metadata": {
        "id": "vMQi_9YEW2d2",
        "colab": {
          "base_uri": "https://localhost:8080/"
        },
        "outputId": "3ff041b1-81e7-4400-b68e-a152e42d8e2b"
      },
      "source": [
        "from sklearn.feature_extraction.text import TfidfVectorizer\n",
        "\n",
        "bagOfWordsModel = TfidfVectorizer()\n",
        "bagOfWordsModel.fit(preprocessedData['processed_text'])\n",
        "textsBoW= bagOfWordsModel.transform(preprocessedData['processed_text'])\n",
        "print(\"Finished\")"
      ],
      "execution_count": 13,
      "outputs": [
        {
          "output_type": "stream",
          "text": [
            "Finished\n"
          ],
          "name": "stdout"
        }
      ]
    },
    {
      "cell_type": "markdown",
      "metadata": {
        "id": "omS7rZt4X46Q"
      },
      "source": [
        "(número de descripciones, número de palabras en la bolsa)"
      ]
    },
    {
      "cell_type": "code",
      "metadata": {
        "id": "SNufVsTJW-YX",
        "colab": {
          "base_uri": "https://localhost:8080/"
        },
        "outputId": "fdb085f3-d216-4b16-8f03-9201cda1ad8c"
      },
      "source": [
        "textsBoW.shape"
      ],
      "execution_count": 14,
      "outputs": [
        {
          "output_type": "execute_result",
          "data": {
            "text/plain": [
              "(22574, 21337)"
            ]
          },
          "metadata": {
            "tags": []
          },
          "execution_count": 14
        }
      ]
    },
    {
      "cell_type": "markdown",
      "metadata": {
        "id": "SdUhHjEglSDK"
      },
      "source": [
        "## Paso 3.2: Cálculo de la **Matriz de Distancias**:"
      ]
    },
    {
      "cell_type": "code",
      "metadata": {
        "id": "tGVm9OKsXVIi"
      },
      "source": [
        "from sklearn.metrics import pairwise_distances\n",
        "\n",
        "distance_matrix= pairwise_distances(textsBoW,textsBoW ,metric='cosine')"
      ],
      "execution_count": 15,
      "outputs": []
    },
    {
      "cell_type": "code",
      "metadata": {
        "id": "g9ucp4z2hPmC",
        "colab": {
          "base_uri": "https://localhost:8080/"
        },
        "outputId": "89371392-0377-4a73-c3d8-537202c5ae19"
      },
      "source": [
        "print(distance_matrix.shape)"
      ],
      "execution_count": null,
      "outputs": [
        {
          "output_type": "stream",
          "text": [
            "(22574, 22574)\n"
          ],
          "name": "stdout"
        }
      ]
    },
    {
      "cell_type": "markdown",
      "metadata": {
        "id": "ce60sgDaleGn"
      },
      "source": [
        "## Paso 3.3: Ejemplo de uso "
      ]
    },
    {
      "cell_type": "markdown",
      "metadata": {
        "id": "ximKJBxHYeNb"
      },
      "source": [
        "Selección de obra de referencia para recomendaciones:"
      ]
    },
    {
      "cell_type": "code",
      "metadata": {
        "id": "KYatGKo3hVVm",
        "colab": {
          "base_uri": "https://localhost:8080/"
        },
        "outputId": "f58e74e3-9a2a-40e8-f542-e4095fb19559"
      },
      "source": [
        "searchTitle = \"Portal\" # Obra base para las recomendaciones (Otro ejemplo: \"The Elder Scrolls V: Skyrim\")\n",
        "indexOfTitle = preprocessedData[preprocessedData['nombre']==searchTitle].index.values[0]\n",
        "indexOfTitle"
      ],
      "execution_count": 16,
      "outputs": [
        {
          "output_type": "execute_result",
          "data": {
            "text/plain": [
              "17"
            ]
          },
          "metadata": {
            "tags": []
          },
          "execution_count": 16
        }
      ]
    },
    {
      "cell_type": "markdown",
      "metadata": {
        "id": "dQphZQ1uYZTa"
      },
      "source": [
        "Obtención del grado de similitud de la obra seleccionada con el resto:"
      ]
    },
    {
      "cell_type": "code",
      "metadata": {
        "id": "icuErTl8hcEI"
      },
      "source": [
        "distance_scores = list(enumerate(distance_matrix[indexOfTitle]))"
      ],
      "execution_count": 17,
      "outputs": []
    },
    {
      "cell_type": "code",
      "metadata": {
        "id": "J3Cjo7vRhpNh"
      },
      "source": [
        "ordered_scores = sorted(distance_scores, key=lambda x: x[1])"
      ],
      "execution_count": 18,
      "outputs": []
    },
    {
      "cell_type": "code",
      "metadata": {
        "id": "f91yrHG1h56t"
      },
      "source": [
        "top_indexes = [i[0] for i in ordered_scores]"
      ],
      "execution_count": 19,
      "outputs": []
    },
    {
      "cell_type": "code",
      "metadata": {
        "id": "gQaJTJZVh8MJ",
        "colab": {
          "base_uri": "https://localhost:8080/",
          "height": 359
        },
        "outputId": "3df20d36-141f-4d02-a2b8-b6b0c77c091d"
      },
      "source": [
        "top = preprocessedData[['id_obra', 'medio', 'nombre', 'descripcion']].iloc[top_indexes]\n",
        "\n",
        "top = top[top['medio'].isin(['M', 'S', 'C'])] # Recomendaciones que no sean videojuegos \n",
        "\n",
        "top.head(11)[1:11]"
      ],
      "execution_count": 48,
      "outputs": [
        {
          "output_type": "execute_result",
          "data": {
            "text/html": [
              "<div>\n",
              "<style scoped>\n",
              "    .dataframe tbody tr th:only-of-type {\n",
              "        vertical-align: middle;\n",
              "    }\n",
              "\n",
              "    .dataframe tbody tr th {\n",
              "        vertical-align: top;\n",
              "    }\n",
              "\n",
              "    .dataframe thead th {\n",
              "        text-align: right;\n",
              "    }\n",
              "</style>\n",
              "<table border=\"1\" class=\"dataframe\">\n",
              "  <thead>\n",
              "    <tr style=\"text-align: right;\">\n",
              "      <th></th>\n",
              "      <th>id_obra</th>\n",
              "      <th>medio</th>\n",
              "      <th>nombre</th>\n",
              "      <th>descripcion</th>\n",
              "    </tr>\n",
              "  </thead>\n",
              "  <tbody>\n",
              "    <tr>\n",
              "      <th>11625</th>\n",
              "      <td>C3153</td>\n",
              "      <td>C</td>\n",
              "      <td>Essere John Malkovich</td>\n",
              "      <td>A puppeteer discovers a portal that leads lite...</td>\n",
              "    </tr>\n",
              "    <tr>\n",
              "      <th>11167</th>\n",
              "      <td>C2694</td>\n",
              "      <td>C</td>\n",
              "      <td>Nightmare - Nuovo incubo</td>\n",
              "      <td>A demonic force has chosen Freddy Krueger as i...</td>\n",
              "    </tr>\n",
              "    <tr>\n",
              "      <th>10753</th>\n",
              "      <td>C2279</td>\n",
              "      <td>C</td>\n",
              "      <td>La storia infinita 2</td>\n",
              "      <td>A young boy with a distant father enters a wor...</td>\n",
              "    </tr>\n",
              "    <tr>\n",
              "      <th>18622</th>\n",
              "      <td>S1025</td>\n",
              "      <td>S</td>\n",
              "      <td>Twice Upon A Time</td>\n",
              "      <td>Months after a crushing breakup, a man receive...</td>\n",
              "    </tr>\n",
              "    <tr>\n",
              "      <th>20016</th>\n",
              "      <td>M450</td>\n",
              "      <td>M</td>\n",
              "      <td>Girls Like You</td>\n",
              "      <td>I need more hours with you</td>\n",
              "    </tr>\n",
              "    <tr>\n",
              "      <th>18171</th>\n",
              "      <td>S574</td>\n",
              "      <td>S</td>\n",
              "      <td>The Hollow</td>\n",
              "      <td>Three teens join forces to find a way home aft...</td>\n",
              "    </tr>\n",
              "    <tr>\n",
              "      <th>11125</th>\n",
              "      <td>C2652</td>\n",
              "      <td>C</td>\n",
              "      <td>La storia infinita 3</td>\n",
              "      <td>A young boy must restore order when a group of...</td>\n",
              "    </tr>\n",
              "    <tr>\n",
              "      <th>20115</th>\n",
              "      <td>M549</td>\n",
              "      <td>M</td>\n",
              "      <td>Alone Again (Naturally)</td>\n",
              "      <td>In my hour of need</td>\n",
              "    </tr>\n",
              "    <tr>\n",
              "      <th>14640</th>\n",
              "      <td>C6172</td>\n",
              "      <td>C</td>\n",
              "      <td>The Rebound - Ricomincio dall'amore</td>\n",
              "      <td>In New York City, a single mom captivates her ...</td>\n",
              "    </tr>\n",
              "    <tr>\n",
              "      <th>15147</th>\n",
              "      <td>C6680</td>\n",
              "      <td>C</td>\n",
              "      <td>Capodanno a New York</td>\n",
              "      <td>The lives of several couples and singles in Ne...</td>\n",
              "    </tr>\n",
              "  </tbody>\n",
              "</table>\n",
              "</div>"
            ],
            "text/plain": [
              "      id_obra  ...                                        descripcion\n",
              "11625   C3153  ...  A puppeteer discovers a portal that leads lite...\n",
              "11167   C2694  ...  A demonic force has chosen Freddy Krueger as i...\n",
              "10753   C2279  ...  A young boy with a distant father enters a wor...\n",
              "18622   S1025  ...  Months after a crushing breakup, a man receive...\n",
              "20016    M450  ...                         I need more hours with you\n",
              "18171    S574  ...  Three teens join forces to find a way home aft...\n",
              "11125   C2652  ...  A young boy must restore order when a group of...\n",
              "20115    M549  ...                                 In my hour of need\n",
              "14640   C6172  ...  In New York City, a single mom captivates her ...\n",
              "15147   C6680  ...  The lives of several couples and singles in Ne...\n",
              "\n",
              "[10 rows x 4 columns]"
            ]
          },
          "metadata": {
            "tags": []
          },
          "execution_count": 48
        }
      ]
    },
    {
      "cell_type": "markdown",
      "metadata": {
        "id": "vqTeipeBrRyE"
      },
      "source": [
        "# Paso 4: Integración con Streamlit"
      ]
    },
    {
      "cell_type": "markdown",
      "metadata": {
        "id": "hOc8kVN8riTx"
      },
      "source": [
        "## Paso 4.1: Creacion del túnel con ngrok"
      ]
    },
    {
      "cell_type": "code",
      "metadata": {
        "id": "8ZIQAMclrvym"
      },
      "source": [
        "get_ipython().system_raw('./ngrok http 8501 &')"
      ],
      "execution_count": 101,
      "outputs": []
    },
    {
      "cell_type": "markdown",
      "metadata": {
        "id": "EPIPLfMLr3bn"
      },
      "source": [
        "Es necesario ejecutar todo el notebook antes de acceder al enlace proporcionado por la siguiente linea de código:"
      ]
    },
    {
      "cell_type": "code",
      "metadata": {
        "id": "64SqOY-Gr2ab",
        "colab": {
          "base_uri": "https://localhost:8080/"
        },
        "outputId": "e7028dad-1c38-4bf0-ee13-74e1cdab45c5"
      },
      "source": [
        "!curl -s http://localhost:4040/api/tunnels | python3 -c \\\n",
        "    'import sys, json; print(\"Es importante ejecutar las proximas celdas, una vez ejecutadas, clickar en el siguiente enlace: \" +json.load(sys.stdin)[\"tunnels\"][0][\"public_url\"])'"
      ],
      "execution_count": 102,
      "outputs": [
        {
          "output_type": "stream",
          "text": [
            "Es importante ejecutar las proximas celdas, una vez ejecutadas, clickar en el siguiente enlace: https://763277b3e28e.ngrok.io\n"
          ],
          "name": "stdout"
        }
      ]
    },
    {
      "cell_type": "markdown",
      "metadata": {
        "id": "UnOne0S7aEjs"
      },
      "source": [
        "## Paso 4.2. Preparación de la Interfaz"
      ]
    },
    {
      "cell_type": "markdown",
      "metadata": {
        "id": "yDLA2YmLit7B"
      },
      "source": [
        "Carga de iconos de UI:"
      ]
    },
    {
      "cell_type": "code",
      "metadata": {
        "colab": {
          "base_uri": "https://localhost:8080/",
          "height": 307
        },
        "id": "AcBoA0TQith9",
        "outputId": "527de1cd-ceda-46a2-c8c4-c97a37895fe4"
      },
      "source": [
        "import gdown as gd\n",
        "!mkdir -p icons \n",
        "gd.download('https://drive.google.com/uc?export=download&id=1bZTvuiMqmeLxYhgdYWmVGUXKXEEehYA3', \n",
        "            'icons/music.png', quiet=False) \n",
        "gd.download('https://drive.google.com/uc?export=download&id=1UfI7BCQQZLTzt0KMNABtHx6iK8ggmzbv', \n",
        "            'icons/films.png', quiet=False) \n",
        "gd.download('https://drive.google.com/uc?export=download&id=1bz_diPSlmfTxy4JlGnFAJC4Kr-m3nCaI', \n",
        "            'icons/series.png', quiet=False) \n",
        "gd.download('https://drive.google.com/uc?export=download&id=1iuPmCXakdyLLD_LSGJMnO4zdmi4g2ev9', \n",
        "            'icons/videogames.png', quiet=False) "
      ],
      "execution_count": 96,
      "outputs": [
        {
          "output_type": "stream",
          "text": [
            "Downloading...\n",
            "From: https://drive.google.com/uc?export=download&id=1bZTvuiMqmeLxYhgdYWmVGUXKXEEehYA3\n",
            "To: /content/icons/music.png\n",
            "100%|██████████| 28.2k/28.2k [00:00<00:00, 4.37MB/s]\n",
            "Downloading...\n",
            "From: https://drive.google.com/uc?export=download&id=1UfI7BCQQZLTzt0KMNABtHx6iK8ggmzbv\n",
            "To: /content/icons/films.png\n",
            "100%|██████████| 27.5k/27.5k [00:00<00:00, 7.54MB/s]\n",
            "Downloading...\n",
            "From: https://drive.google.com/uc?export=download&id=1bz_diPSlmfTxy4JlGnFAJC4Kr-m3nCaI\n",
            "To: /content/icons/series.png\n",
            "100%|██████████| 28.9k/28.9k [00:00<00:00, 6.90MB/s]\n",
            "Downloading...\n",
            "From: https://drive.google.com/uc?export=download&id=1iuPmCXakdyLLD_LSGJMnO4zdmi4g2ev9\n",
            "To: /content/icons/videogames.png\n",
            "100%|██████████| 27.5k/27.5k [00:00<00:00, 6.27MB/s]\n"
          ],
          "name": "stderr"
        },
        {
          "output_type": "execute_result",
          "data": {
            "application/vnd.google.colaboratory.intrinsic+json": {
              "type": "string"
            },
            "text/plain": [
              "'icons/videogames.png'"
            ]
          },
          "metadata": {
            "tags": []
          },
          "execution_count": 96
        }
      ]
    },
    {
      "cell_type": "markdown",
      "metadata": {
        "id": "_jsKGzpcZT7F"
      },
      "source": [
        "Fichero que ejecutará Streamlit (contiene la generación del sistema de recomendaciones):"
      ]
    },
    {
      "cell_type": "code",
      "metadata": {
        "id": "KwlUiQmGsCG_",
        "colab": {
          "base_uri": "https://localhost:8080/"
        },
        "outputId": "b589241e-c459-488f-805d-b0dfacd9c652"
      },
      "source": [
        "%%writefile FindMoUI.py\n",
        "import os\n",
        "import streamlit as st\n",
        "import pandas as pd\n",
        "\n",
        "@st.cache # Ejecutar sólo una vez:\n",
        "def getPreprocessedData():\n",
        "\n",
        "  # PREPROCESADO DATASETS:\n",
        "  from nltk.tokenize import word_tokenize \n",
        "  from nltk.corpus import stopwords\n",
        "  from nltk.stem import PorterStemmer\n",
        "  \n",
        "\n",
        "  import nltk\n",
        "  nltk.download('punkt')\n",
        "  nltk.download('stopwords')\n",
        "\n",
        "  ps = PorterStemmer()\n",
        "\n",
        "  preprocessedText = []\n",
        "\n",
        "  originalData = pd.read_csv('system_datasets/obras_descripcion.csv')\n",
        "\n",
        "  for row in originalData.itertuples():     \n",
        "    text = word_tokenize(row[4]) ## indice de la columna que contiene el texto\n",
        "    ## Remove stop words\n",
        "    stops = set(stopwords.words(\"english\"))\n",
        "    text = [ps.stem(w) for w in text if not w in stops and w.isalpha()]\n",
        "    text = \" \".join(text)\n",
        "    \n",
        "    preprocessedText.append(text)\n",
        "\n",
        "  preprocessedData = originalData\n",
        "  preprocessedData['processed_text'] = preprocessedText\n",
        "\n",
        "  return preprocessedData\n",
        "\n",
        "\n",
        "@st.cache # Ejecutar sólo una vez:\n",
        "def getDistanceMatrix(preprocessedData):\n",
        "  from sklearn.feature_extraction.text import TfidfVectorizer\n",
        "\n",
        "  bagOfWordsModel = TfidfVectorizer()\n",
        "  bagOfWordsModel.fit(preprocessedData['processed_text'])\n",
        "  textsBoW= bagOfWordsModel.transform(preprocessedData['processed_text'])\n",
        "\n",
        "\n",
        "\n",
        "  from sklearn.metrics import pairwise_distances\n",
        "\n",
        "  distance_matrix = pairwise_distances(textsBoW,textsBoW ,metric='cosine')\n",
        "\n",
        "  return distance_matrix\n",
        "\n",
        "\n",
        "# Obtener datos preprocesados y matriz de distancias\n",
        "preprocessedData = getPreprocessedData()\n",
        "distance_matrix = getDistanceMatrix(preprocessedData)\n",
        "\n",
        "def getDatosObraReferencia(tituloObra):\n",
        "  searchTitle = tituloObra # Obra base para las recomendaciones\n",
        "  return preprocessedData[preprocessedData['nombre']==searchTitle].iloc[0]\n",
        "\n",
        "def getObrasSimilares(tituloObra, searchMediums):\n",
        "  searchTitle = tituloObra # Obra base para las recomendaciones\n",
        "  indexOfTitle = preprocessedData[preprocessedData['nombre']==searchTitle].index.values[0]\n",
        "  distance_scores = list(enumerate(distance_matrix[indexOfTitle]))\n",
        "  ordered_scores = sorted(distance_scores, key=lambda x: x[1])\n",
        "  top_indexes = [i[0] for i in ordered_scores]\n",
        "  top = preprocessedData[['id_obra', 'medio', 'nombre', 'descripcion']].iloc[top_indexes]\n",
        "\n",
        "  obraRef = getDatosObraReferencia(tituloObra)\n",
        "  sameMedium = 1 if (obraRef['medio'] in searchMediums) else 0\n",
        "\n",
        "  return top[top['medio'].isin(searchMediums)][(0+sameMedium):(15+sameMedium)]\n",
        "\n",
        "def getMedio(datosObra):\n",
        "  medio = datosObra['medio']\n",
        "  if(medio == 'C'):\n",
        "    return \"Película\"\n",
        "  elif(medio == 'M'):\n",
        "    return \"Canción\"\n",
        "  elif(medio == 'S'):\n",
        "    return \"Serie\"\n",
        "  elif(medio == 'V'):\n",
        "    return \"Videojuego\"\n",
        "\n",
        "#def mostrarComentarios(id_obra):  # comentarios_obras\n",
        "    #comentarios = obrasConDescripcion[obrasConDescripcion['id_obra'] == id_obra]\n",
        "    #st.write(comentarios[''])\n",
        "    #if st.button('+'):\n",
        "      #mostrarComentarios(id_obra)\n",
        "\n",
        "\n",
        "def getIcono(medio, column):\n",
        "  if(medio == 'C'):\n",
        "    column.image(\"icons/films.png\",width=128)\n",
        "  elif(medio == 'M'):\n",
        "    column.image(\"icons/music.png\",width=128)\n",
        "  elif(medio == 'S'):\n",
        "    column.image(\"icons/series.png\",width=128)\n",
        "  elif(medio == 'V'):\n",
        "    column.image(\"icons/videogames.png\",width=128)\n",
        "\n",
        "# PÁGINA STREAMLIT\n",
        "# Cargar descripciones obras:\n",
        "obrasConDescripcion = pd.read_csv('system_datasets/obras_descripcion.csv') \n",
        "\n",
        "\n",
        "#Definicion menu lateral\n",
        "st.sidebar.header(\"FindMo: Encuentra más entretenimiento interesante\")\n",
        "st.sidebar.write(\"¡Busca una obra que te guste! Encontraremos otras que te puedan interesar\")\n",
        "seleccion = st.sidebar.selectbox(\n",
        "    \"Seleccione una obra de las siguientes\",\n",
        "    (\n",
        "        obrasConDescripcion[['nombre']]\n",
        "    ),\n",
        "    0    \n",
        ")\n",
        "searchMediums = []\n",
        "\n",
        "with st.sidebar.beta_expander(\"Selección de medios\"):\n",
        "  st.write(\"Escoja a que medios desea que pertenezcan las recomendadiones: \")\n",
        "  selectPeliculas = st.checkbox(\"Peliculas\", value=True) #Devuelve true cuando esta checkeada\n",
        "  selectMusica = st.checkbox(\"Musica\", value=True)\n",
        "  selectVideojuegos = st.checkbox(\"Videojuegos\", value=True)\n",
        "  selectSeries = st.checkbox(\"Series\", value=True)\n",
        "\n",
        "  if(selectPeliculas):\n",
        "    searchMediums.append('C')\n",
        "  if(selectMusica):\n",
        "    searchMediums.append('M')\n",
        "  if(selectVideojuegos):\n",
        "    searchMediums.append('V')\n",
        "  if(selectSeries):\n",
        "    searchMediums.append('S')\n",
        "\n",
        "\n",
        "with st.sidebar.beta_expander(\"Ajustes de las recomendaciones\"):\n",
        "  st.write(\"Escoja el peso que tendrán las carátulas y las descripciones en las recomendaciones, donde 0 es que no afectan a la recomendación y 100 es que tienen la máxima importancia\")\n",
        "  caratulas = st.slider('Peso de las carátulas en la recomendación', 0, 100, 50)\n",
        "  descripciones = st.slider('Peso de las descripciones en la recomendación', 0, 100, 50)\n",
        "  option = st.selectbox(\n",
        "     'Que tipo de comentarios deseas ver?',\n",
        "     ('Positivos', 'Negativos', 'Variados'))\n",
        "  \n",
        "  \n",
        " \n",
        "#Aqui se realizaria el computo que ya tenemos realizado y despues se mostrarian las obras\n",
        "datosObraReferencia = getDatosObraReferencia(seleccion)\n",
        "st.header(\"Obra de Referencia: \"+seleccion+\" (\" + getMedio(datosObraReferencia) +\")\")\n",
        "recomendaciones = getObrasSimilares(seleccion, searchMediums)\n",
        "with st.beta_expander(\"Descripción\"):\n",
        "  st.write(datosObraReferencia['descripcion'])\n",
        "for index, row in recomendaciones.iterrows():\n",
        "  st.subheader(row['nombre'])\n",
        "  \n",
        "  cols = st.beta_columns((1,3))\n",
        "\n",
        "  getIcono(row['medio'], cols[0]) \n",
        "\n",
        "  with cols[1]:\n",
        "    descripcion = st.beta_expander(\"Descripción\")\n",
        "    descripcion.write(row['descripcion'])\n",
        "\n",
        "    comentarios = st.beta_expander(\"Comentarios\")\n",
        "    comentarios.write('WIP')\n",
        "\n",
        " # with cols[1].st.beta_expander(\"Descripción\"):\n",
        " #   st.write(row['descripcion'])\n",
        " # with cols[1].st.beta_expander(\"Comentarios\"):\n",
        " #   st.write(\"Comentario 1\")\n",
        " #   st.write(\"Valoración: positiva\")\n",
        " #   st.write(\"Comentario de la obra\")\n",
        "    \n"
      ],
      "execution_count": 100,
      "outputs": [
        {
          "output_type": "stream",
          "text": [
            "Overwriting FindMoUI.py\n"
          ],
          "name": "stdout"
        }
      ]
    },
    {
      "cell_type": "markdown",
      "metadata": {
        "id": "uMKSycMpaNiq"
      },
      "source": [
        "## Paso 4.3. Lanzamiento de la Aplicación:"
      ]
    },
    {
      "cell_type": "markdown",
      "metadata": {
        "id": "FRCdtYXWZ1-F"
      },
      "source": [
        "Iniciar Streamlit:"
      ]
    },
    {
      "cell_type": "code",
      "metadata": {
        "id": "iwEn4RR-wI02",
        "colab": {
          "base_uri": "https://localhost:8080/"
        },
        "outputId": "23f9a2df-0a33-41ee-ef51-1cb3f781a40f"
      },
      "source": [
        "!streamlit run FindMoUI.py"
      ],
      "execution_count": null,
      "outputs": [
        {
          "output_type": "stream",
          "text": [
            "\u001b[0m\n",
            "\u001b[34m\u001b[1m  You can now view your Streamlit app in your browser.\u001b[0m\n",
            "\u001b[0m\n",
            "\u001b[34m  Network URL: \u001b[0m\u001b[1mhttp://172.28.0.2:8501\u001b[0m\n",
            "\u001b[34m  External URL: \u001b[0m\u001b[1mhttp://35.234.35.106:8501\u001b[0m\n",
            "\u001b[0m\n",
            "[nltk_data] Downloading package punkt to /root/nltk_data...\n",
            "[nltk_data]   Package punkt is already up-to-date!\n",
            "[nltk_data] Downloading package stopwords to /root/nltk_data...\n",
            "[nltk_data]   Package stopwords is already up-to-date!\n",
            "tcmalloc: large alloc 4076691456 bytes == 0x490d0000 @  0x7fe9751b5001 0x7fe970176765 0x7fe9701dabb0 0x7fe9701dca4f 0x7fe970273048 0x50a4a5 0x50cc96 0x5095c8 0x50a2fd 0x50beb4 0x507be4 0x509900 0x50a2fd 0x50beb4 0x507be4 0x509900 0x50a2fd 0x50cc96 0x507be4 0x509900 0x50a2fd 0x50beb4 0x507be4 0x588d41 0x59fd0e 0x50d256 0x507be4 0x588d41 0x59fd0e 0x50d256 0x507be4\n"
          ],
          "name": "stdout"
        }
      ]
    }
  ]
}