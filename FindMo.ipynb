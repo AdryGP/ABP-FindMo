{
  "nbformat": 4,
  "nbformat_minor": 0,
  "metadata": {
    "colab": {
      "name": "FindMo.ipynb",
      "provenance": [],
      "toc_visible": true,
      "include_colab_link": true
    },
    "kernelspec": {
      "name": "python3",
      "display_name": "Python 3"
    }
  },
  "cells": [
    {
      "cell_type": "markdown",
      "metadata": {
        "id": "view-in-github",
        "colab_type": "text"
      },
      "source": [
        "<a href=\"https://colab.research.google.com/github/AdryGP/ABP-FindMo/blob/main/FindMo.ipynb\" target=\"_parent\"><img src=\"https://colab.research.google.com/assets/colab-badge.svg\" alt=\"Open In Colab\"/></a>"
      ]
    },
    {
      "cell_type": "markdown",
      "metadata": {
        "id": "n-DqiXiugY8n"
      },
      "source": [
        "# FindMo: Manual de Uso\n",
        "\n",
        "---\n",
        "\n"
      ]
    },
    {
      "cell_type": "code",
      "metadata": {
        "id": "AK2rbXpetZFI",
        "outputId": "fa91d94d-6e6c-484b-f9a5-b6623e34494a",
        "colab": {
          "base_uri": "https://localhost:8080/",
          "height": 1000
        }
      },
      "source": [
        "!pip install streamlit"
      ],
      "execution_count": 28,
      "outputs": [
        {
          "output_type": "stream",
          "text": [
            "Collecting streamlit\n",
            "\u001b[?25l  Downloading https://files.pythonhosted.org/packages/7d/64/59c5a06d567d27fda54a00db3789a05b50a4dd532df9260cadcff8dd4be9/streamlit-0.70.0-py2.py3-none-any.whl (7.4MB)\n",
            "\u001b[K     |████████████████████████████████| 7.4MB 2.6MB/s \n",
            "\u001b[?25hCollecting boto3\n",
            "\u001b[?25l  Downloading https://files.pythonhosted.org/packages/1b/61/0b49baae16f482156550ce0b78a7ad265c27188a9d4fe6a1bd741fb43b9d/boto3-1.16.13.tar.gz (97kB)\n",
            "\u001b[K     |████████████████████████████████| 102kB 10.2MB/s \n",
            "\u001b[?25hRequirement already satisfied: numpy in /usr/local/lib/python3.6/dist-packages (from streamlit) (1.18.5)\n",
            "Requirement already satisfied: click>=7.0 in /usr/local/lib/python3.6/dist-packages (from streamlit) (7.1.2)\n",
            "Collecting base58\n",
            "  Downloading https://files.pythonhosted.org/packages/3c/03/58572025c77b9e6027155b272a1b96298e711cd4f95c24967f7137ab0c4b/base58-2.0.1-py3-none-any.whl\n",
            "Requirement already satisfied: tzlocal in /usr/local/lib/python3.6/dist-packages (from streamlit) (1.5.1)\n",
            "Requirement already satisfied: pillow>=6.2.0 in /usr/local/lib/python3.6/dist-packages (from streamlit) (7.0.0)\n",
            "Requirement already satisfied: tornado>=5.0 in /usr/local/lib/python3.6/dist-packages (from streamlit) (5.1.1)\n",
            "Collecting pydeck>=0.1.dev5\n",
            "\u001b[?25l  Downloading https://files.pythonhosted.org/packages/9e/9d/8fbf1f56cc5891e6c3295bf94fc176e9ab0a3ffdd090cc8b354ac2640f9a/pydeck-0.5.0-py2.py3-none-any.whl (4.5MB)\n",
            "\u001b[K     |████████████████████████████████| 4.5MB 43.0MB/s \n",
            "\u001b[?25hRequirement already satisfied: altair>=3.2.0 in /usr/local/lib/python3.6/dist-packages (from streamlit) (4.1.0)\n",
            "Collecting enum-compat\n",
            "  Downloading https://files.pythonhosted.org/packages/55/ae/467bc4509246283bb59746e21a1a2f5a8aecbef56b1fa6eaca78cd438c8b/enum_compat-0.0.3-py3-none-any.whl\n",
            "Collecting botocore>=1.13.44\n",
            "\u001b[?25l  Downloading https://files.pythonhosted.org/packages/99/40/b5e681d80dc46bafd0dc2e55266190cc432dfd5b72b9e7e1c5743aa6c362/botocore-1.19.13-py2.py3-none-any.whl (6.7MB)\n",
            "\u001b[K     |████████████████████████████████| 6.7MB 42.0MB/s \n",
            "\u001b[?25hRequirement already satisfied: pyarrow in /usr/local/lib/python3.6/dist-packages (from streamlit) (0.14.1)\n",
            "Requirement already satisfied: requests in /usr/local/lib/python3.6/dist-packages (from streamlit) (2.23.0)\n",
            "Requirement already satisfied: packaging in /usr/local/lib/python3.6/dist-packages (from streamlit) (20.4)\n",
            "Requirement already satisfied: astor in /usr/local/lib/python3.6/dist-packages (from streamlit) (0.8.1)\n",
            "Requirement already satisfied: cachetools>=4.0 in /usr/local/lib/python3.6/dist-packages (from streamlit) (4.1.1)\n",
            "Collecting validators\n",
            "  Downloading https://files.pythonhosted.org/packages/41/4a/3360ff3cf2b4a1b9721ac1fbff5f84663f41047d9874b3aa1ac82e862c44/validators-0.18.1-py3-none-any.whl\n",
            "Requirement already satisfied: toml in /usr/local/lib/python3.6/dist-packages (from streamlit) (0.10.2)\n",
            "Requirement already satisfied: pandas>=0.21.0 in /usr/local/lib/python3.6/dist-packages (from streamlit) (1.1.4)\n",
            "Requirement already satisfied: python-dateutil in /usr/local/lib/python3.6/dist-packages (from streamlit) (2.8.1)\n",
            "Collecting gitpython\n",
            "\u001b[?25l  Downloading https://files.pythonhosted.org/packages/24/d1/a7f8fe3df258549b303415157328bfcc63e9b11d06a7ad7a3327f3d32606/GitPython-3.1.11-py3-none-any.whl (159kB)\n",
            "\u001b[K     |████████████████████████████████| 163kB 37.4MB/s \n",
            "\u001b[?25hCollecting watchdog\n",
            "\u001b[?25l  Downloading https://files.pythonhosted.org/packages/0e/06/121302598a4fc01aca942d937f4a2c33430b7181137b35758913a8db10ad/watchdog-0.10.3.tar.gz (94kB)\n",
            "\u001b[K     |████████████████████████████████| 102kB 7.2MB/s \n",
            "\u001b[?25hRequirement already satisfied: protobuf>=3.6.0 in /usr/local/lib/python3.6/dist-packages (from streamlit) (3.12.4)\n",
            "Collecting blinker\n",
            "\u001b[?25l  Downloading https://files.pythonhosted.org/packages/1b/51/e2a9f3b757eb802f61dc1f2b09c8c99f6eb01cf06416c0671253536517b6/blinker-1.4.tar.gz (111kB)\n",
            "\u001b[K     |████████████████████████████████| 112kB 588kB/s \n",
            "\u001b[?25hCollecting jmespath<1.0.0,>=0.7.1\n",
            "  Downloading https://files.pythonhosted.org/packages/07/cb/5f001272b6faeb23c1c9e0acc04d48eaaf5c862c17709d20e3469c6e0139/jmespath-0.10.0-py2.py3-none-any.whl\n",
            "Collecting s3transfer<0.4.0,>=0.3.0\n",
            "\u001b[?25l  Downloading https://files.pythonhosted.org/packages/69/79/e6afb3d8b0b4e96cefbdc690f741d7dd24547ff1f94240c997a26fa908d3/s3transfer-0.3.3-py2.py3-none-any.whl (69kB)\n",
            "\u001b[K     |████████████████████████████████| 71kB 3.7MB/s \n",
            "\u001b[?25hRequirement already satisfied: pytz in /usr/local/lib/python3.6/dist-packages (from tzlocal->streamlit) (2018.9)\n",
            "Collecting ipykernel>=5.1.2; python_version >= \"3.4\"\n",
            "\u001b[?25l  Downloading https://files.pythonhosted.org/packages/52/19/c2812690d8b340987eecd2cbc18549b1d130b94c5d97fcbe49f5f8710edf/ipykernel-5.3.4-py3-none-any.whl (120kB)\n",
            "\u001b[K     |████████████████████████████████| 122kB 34.8MB/s \n",
            "\u001b[?25hRequirement already satisfied: jinja2>=2.10.1 in /usr/local/lib/python3.6/dist-packages (from pydeck>=0.1.dev5->streamlit) (2.11.2)\n",
            "Requirement already satisfied: ipywidgets>=7.0.0 in /usr/local/lib/python3.6/dist-packages (from pydeck>=0.1.dev5->streamlit) (7.5.1)\n",
            "Requirement already satisfied: traitlets>=4.3.2 in /usr/local/lib/python3.6/dist-packages (from pydeck>=0.1.dev5->streamlit) (4.3.3)\n",
            "Requirement already satisfied: toolz in /usr/local/lib/python3.6/dist-packages (from altair>=3.2.0->streamlit) (0.11.1)\n",
            "Requirement already satisfied: entrypoints in /usr/local/lib/python3.6/dist-packages (from altair>=3.2.0->streamlit) (0.3)\n",
            "Requirement already satisfied: jsonschema in /usr/local/lib/python3.6/dist-packages (from altair>=3.2.0->streamlit) (2.6.0)\n",
            "Collecting urllib3<1.26,>=1.25.4; python_version != \"3.4\"\n",
            "\u001b[?25l  Downloading https://files.pythonhosted.org/packages/56/aa/4ef5aa67a9a62505db124a5cb5262332d1d4153462eb8fd89c9fa41e5d92/urllib3-1.25.11-py2.py3-none-any.whl (127kB)\n",
            "\u001b[K     |████████████████████████████████| 133kB 40.4MB/s \n",
            "\u001b[?25hRequirement already satisfied: six>=1.0.0 in /usr/local/lib/python3.6/dist-packages (from pyarrow->streamlit) (1.15.0)\n",
            "Requirement already satisfied: chardet<4,>=3.0.2 in /usr/local/lib/python3.6/dist-packages (from requests->streamlit) (3.0.4)\n",
            "Requirement already satisfied: certifi>=2017.4.17 in /usr/local/lib/python3.6/dist-packages (from requests->streamlit) (2020.6.20)\n",
            "Requirement already satisfied: idna<3,>=2.5 in /usr/local/lib/python3.6/dist-packages (from requests->streamlit) (2.10)\n",
            "Requirement already satisfied: pyparsing>=2.0.2 in /usr/local/lib/python3.6/dist-packages (from packaging->streamlit) (2.4.7)\n",
            "Requirement already satisfied: decorator>=3.4.0 in /usr/local/lib/python3.6/dist-packages (from validators->streamlit) (4.4.2)\n",
            "Collecting gitdb<5,>=4.0.1\n",
            "\u001b[?25l  Downloading https://files.pythonhosted.org/packages/48/11/d1800bca0a3bae820b84b7d813ad1eff15a48a64caea9c823fc8c1b119e8/gitdb-4.0.5-py3-none-any.whl (63kB)\n",
            "\u001b[K     |████████████████████████████████| 71kB 5.0MB/s \n",
            "\u001b[?25hCollecting pathtools>=0.1.1\n",
            "  Downloading https://files.pythonhosted.org/packages/e7/7f/470d6fcdf23f9f3518f6b0b76be9df16dcc8630ad409947f8be2eb0ed13a/pathtools-0.1.2.tar.gz\n",
            "Requirement already satisfied: setuptools in /usr/local/lib/python3.6/dist-packages (from protobuf>=3.6.0->streamlit) (50.3.2)\n",
            "Requirement already satisfied: jupyter-client in /usr/local/lib/python3.6/dist-packages (from ipykernel>=5.1.2; python_version >= \"3.4\"->pydeck>=0.1.dev5->streamlit) (5.3.5)\n",
            "Requirement already satisfied: ipython>=5.0.0 in /usr/local/lib/python3.6/dist-packages (from ipykernel>=5.1.2; python_version >= \"3.4\"->pydeck>=0.1.dev5->streamlit) (5.5.0)\n",
            "Requirement already satisfied: MarkupSafe>=0.23 in /usr/local/lib/python3.6/dist-packages (from jinja2>=2.10.1->pydeck>=0.1.dev5->streamlit) (1.1.1)\n",
            "Requirement already satisfied: widgetsnbextension~=3.5.0 in /usr/local/lib/python3.6/dist-packages (from ipywidgets>=7.0.0->pydeck>=0.1.dev5->streamlit) (3.5.1)\n",
            "Requirement already satisfied: nbformat>=4.2.0 in /usr/local/lib/python3.6/dist-packages (from ipywidgets>=7.0.0->pydeck>=0.1.dev5->streamlit) (5.0.8)\n",
            "Requirement already satisfied: ipython-genutils in /usr/local/lib/python3.6/dist-packages (from traitlets>=4.3.2->pydeck>=0.1.dev5->streamlit) (0.2.0)\n",
            "Collecting smmap<4,>=3.0.1\n",
            "  Downloading https://files.pythonhosted.org/packages/b0/9a/4d409a6234eb940e6a78dfdfc66156e7522262f5f2fecca07dc55915952d/smmap-3.0.4-py2.py3-none-any.whl\n",
            "Requirement already satisfied: pyzmq>=13 in /usr/local/lib/python3.6/dist-packages (from jupyter-client->ipykernel>=5.1.2; python_version >= \"3.4\"->pydeck>=0.1.dev5->streamlit) (19.0.2)\n",
            "Requirement already satisfied: jupyter-core>=4.6.0 in /usr/local/lib/python3.6/dist-packages (from jupyter-client->ipykernel>=5.1.2; python_version >= \"3.4\"->pydeck>=0.1.dev5->streamlit) (4.6.3)\n",
            "Requirement already satisfied: simplegeneric>0.8 in /usr/local/lib/python3.6/dist-packages (from ipython>=5.0.0->ipykernel>=5.1.2; python_version >= \"3.4\"->pydeck>=0.1.dev5->streamlit) (0.8.1)\n",
            "Requirement already satisfied: pygments in /usr/local/lib/python3.6/dist-packages (from ipython>=5.0.0->ipykernel>=5.1.2; python_version >= \"3.4\"->pydeck>=0.1.dev5->streamlit) (2.6.1)\n",
            "Requirement already satisfied: pickleshare in /usr/local/lib/python3.6/dist-packages (from ipython>=5.0.0->ipykernel>=5.1.2; python_version >= \"3.4\"->pydeck>=0.1.dev5->streamlit) (0.7.5)\n",
            "Requirement already satisfied: prompt-toolkit<2.0.0,>=1.0.4 in /usr/local/lib/python3.6/dist-packages (from ipython>=5.0.0->ipykernel>=5.1.2; python_version >= \"3.4\"->pydeck>=0.1.dev5->streamlit) (1.0.18)\n",
            "Requirement already satisfied: pexpect; sys_platform != \"win32\" in /usr/local/lib/python3.6/dist-packages (from ipython>=5.0.0->ipykernel>=5.1.2; python_version >= \"3.4\"->pydeck>=0.1.dev5->streamlit) (4.8.0)\n",
            "Requirement already satisfied: notebook>=4.4.1 in /usr/local/lib/python3.6/dist-packages (from widgetsnbextension~=3.5.0->ipywidgets>=7.0.0->pydeck>=0.1.dev5->streamlit) (5.3.1)\n",
            "Requirement already satisfied: wcwidth in /usr/local/lib/python3.6/dist-packages (from prompt-toolkit<2.0.0,>=1.0.4->ipython>=5.0.0->ipykernel>=5.1.2; python_version >= \"3.4\"->pydeck>=0.1.dev5->streamlit) (0.2.5)\n",
            "Requirement already satisfied: ptyprocess>=0.5 in /usr/local/lib/python3.6/dist-packages (from pexpect; sys_platform != \"win32\"->ipython>=5.0.0->ipykernel>=5.1.2; python_version >= \"3.4\"->pydeck>=0.1.dev5->streamlit) (0.6.0)\n",
            "Requirement already satisfied: nbconvert in /usr/local/lib/python3.6/dist-packages (from notebook>=4.4.1->widgetsnbextension~=3.5.0->ipywidgets>=7.0.0->pydeck>=0.1.dev5->streamlit) (5.6.1)\n",
            "Requirement already satisfied: Send2Trash in /usr/local/lib/python3.6/dist-packages (from notebook>=4.4.1->widgetsnbextension~=3.5.0->ipywidgets>=7.0.0->pydeck>=0.1.dev5->streamlit) (1.5.0)\n",
            "Requirement already satisfied: terminado>=0.8.1 in /usr/local/lib/python3.6/dist-packages (from notebook>=4.4.1->widgetsnbextension~=3.5.0->ipywidgets>=7.0.0->pydeck>=0.1.dev5->streamlit) (0.9.1)\n",
            "Requirement already satisfied: mistune<2,>=0.8.1 in /usr/local/lib/python3.6/dist-packages (from nbconvert->notebook>=4.4.1->widgetsnbextension~=3.5.0->ipywidgets>=7.0.0->pydeck>=0.1.dev5->streamlit) (0.8.4)\n",
            "Requirement already satisfied: bleach in /usr/local/lib/python3.6/dist-packages (from nbconvert->notebook>=4.4.1->widgetsnbextension~=3.5.0->ipywidgets>=7.0.0->pydeck>=0.1.dev5->streamlit) (3.2.1)\n",
            "Requirement already satisfied: testpath in /usr/local/lib/python3.6/dist-packages (from nbconvert->notebook>=4.4.1->widgetsnbextension~=3.5.0->ipywidgets>=7.0.0->pydeck>=0.1.dev5->streamlit) (0.4.4)\n",
            "Requirement already satisfied: defusedxml in /usr/local/lib/python3.6/dist-packages (from nbconvert->notebook>=4.4.1->widgetsnbextension~=3.5.0->ipywidgets>=7.0.0->pydeck>=0.1.dev5->streamlit) (0.6.0)\n",
            "Requirement already satisfied: pandocfilters>=1.4.1 in /usr/local/lib/python3.6/dist-packages (from nbconvert->notebook>=4.4.1->widgetsnbextension~=3.5.0->ipywidgets>=7.0.0->pydeck>=0.1.dev5->streamlit) (1.4.3)\n",
            "Requirement already satisfied: webencodings in /usr/local/lib/python3.6/dist-packages (from bleach->nbconvert->notebook>=4.4.1->widgetsnbextension~=3.5.0->ipywidgets>=7.0.0->pydeck>=0.1.dev5->streamlit) (0.5.1)\n",
            "Building wheels for collected packages: boto3, watchdog, blinker, pathtools\n",
            "  Building wheel for boto3 (setup.py) ... \u001b[?25l\u001b[?25hdone\n",
            "  Created wheel for boto3: filename=boto3-1.16.13-py2.py3-none-any.whl size=128453 sha256=503f062c59e4f98196773f70d5c69c7b34c0291d401d00f5f8bd029467f8f2d5\n",
            "  Stored in directory: /root/.cache/pip/wheels/bd/ca/cc/d99cff66806b87034af25f8fd8b0adb3e0151b17eea7891143\n",
            "  Building wheel for watchdog (setup.py) ... \u001b[?25l\u001b[?25hdone\n",
            "  Created wheel for watchdog: filename=watchdog-0.10.3-cp36-none-any.whl size=73873 sha256=d0ddcb7606a3213b9a4093b0b4b31dceceaa74abc0a9cfc10bbaf7568ec6bb87\n",
            "  Stored in directory: /root/.cache/pip/wheels/a8/1d/38/2c19bb311f67cc7b4d07a2ec5ea36ab1a0a0ea50db994a5bc7\n",
            "  Building wheel for blinker (setup.py) ... \u001b[?25l\u001b[?25hdone\n",
            "  Created wheel for blinker: filename=blinker-1.4-cp36-none-any.whl size=13450 sha256=114713344e5a6011ca4b962877d96390920015ac9a597288fd07ed46eabf5ce0\n",
            "  Stored in directory: /root/.cache/pip/wheels/92/a0/00/8690a57883956a301d91cf4ec999cc0b258b01e3f548f86e89\n",
            "  Building wheel for pathtools (setup.py) ... \u001b[?25l\u001b[?25hdone\n",
            "  Created wheel for pathtools: filename=pathtools-0.1.2-cp36-none-any.whl size=8785 sha256=f4c7a92b7887c4f879c986c18633aec29e49eb2f56742f90be306c61046dc392\n",
            "  Stored in directory: /root/.cache/pip/wheels/0b/04/79/c3b0c3a0266a3cb4376da31e5bfe8bba0c489246968a68e843\n",
            "Successfully built boto3 watchdog blinker pathtools\n",
            "\u001b[31mERROR: google-colab 1.0.0 has requirement ipykernel~=4.10, but you'll have ipykernel 5.3.4 which is incompatible.\u001b[0m\n",
            "\u001b[31mERROR: datascience 0.10.6 has requirement folium==0.2.1, but you'll have folium 0.8.3 which is incompatible.\u001b[0m\n",
            "Installing collected packages: jmespath, urllib3, botocore, s3transfer, boto3, base58, ipykernel, pydeck, enum-compat, validators, smmap, gitdb, gitpython, pathtools, watchdog, blinker, streamlit\n",
            "  Found existing installation: urllib3 1.24.3\n",
            "    Uninstalling urllib3-1.24.3:\n",
            "      Successfully uninstalled urllib3-1.24.3\n",
            "  Found existing installation: ipykernel 4.10.1\n",
            "    Uninstalling ipykernel-4.10.1:\n",
            "      Successfully uninstalled ipykernel-4.10.1\n",
            "Successfully installed base58-2.0.1 blinker-1.4 boto3-1.16.13 botocore-1.19.13 enum-compat-0.0.3 gitdb-4.0.5 gitpython-3.1.11 ipykernel-5.3.4 jmespath-0.10.0 pathtools-0.1.2 pydeck-0.5.0 s3transfer-0.3.3 smmap-3.0.4 streamlit-0.70.0 urllib3-1.25.11 validators-0.18.1 watchdog-0.10.3\n"
          ],
          "name": "stdout"
        },
        {
          "output_type": "display_data",
          "data": {
            "application/vnd.colab-display-data+json": {
              "pip_warning": {
                "packages": [
                  "ipykernel",
                  "urllib3"
                ]
              }
            }
          },
          "metadata": {
            "tags": []
          }
        }
      ]
    },
    {
      "cell_type": "code",
      "metadata": {
        "id": "g0PhXcgJvB-N",
        "outputId": "be657417-8b61-4d65-8551-57daec6cabf9",
        "colab": {
          "base_uri": "https://localhost:8080/"
        }
      },
      "source": [
        "!wget https://bin.equinox.io/c/4VmDzA7iaHb/ngrok-stable-linux-amd64.zip\n",
        "!unzip ngrok-stable-linux-amd64.zip"
      ],
      "execution_count": 1,
      "outputs": [
        {
          "output_type": "stream",
          "text": [
            "--2020-11-07 17:24:30--  https://bin.equinox.io/c/4VmDzA7iaHb/ngrok-stable-linux-amd64.zip\n",
            "Resolving bin.equinox.io (bin.equinox.io)... 52.71.209.190, 54.164.152.149, 35.174.46.144, ...\n",
            "Connecting to bin.equinox.io (bin.equinox.io)|52.71.209.190|:443... connected.\n",
            "HTTP request sent, awaiting response... 200 OK\n",
            "Length: 13773305 (13M) [application/octet-stream]\n",
            "Saving to: ‘ngrok-stable-linux-amd64.zip’\n",
            "\n",
            "ngrok-stable-linux- 100%[===================>]  13.13M  54.1MB/s    in 0.2s    \n",
            "\n",
            "2020-11-07 17:24:30 (54.1 MB/s) - ‘ngrok-stable-linux-amd64.zip’ saved [13773305/13773305]\n",
            "\n",
            "Archive:  ngrok-stable-linux-amd64.zip\n",
            "  inflating: ngrok                   \n"
          ],
          "name": "stdout"
        }
      ]
    },
    {
      "cell_type": "markdown",
      "metadata": {
        "id": "bcP-A5Z9iHCt"
      },
      "source": [
        "# Paso 1: Carga de Datasets Originales"
      ]
    },
    {
      "cell_type": "markdown",
      "metadata": {
        "id": "IxOOo6q6-tEo"
      },
      "source": [
        "Primero, cargamos los datasets originales, almacenados en un drive público:"
      ]
    },
    {
      "cell_type": "code",
      "metadata": {
        "id": "C1_lYzJl8M_z",
        "outputId": "934fe1c4-b214-467d-c311-1a05b94aa0b2",
        "colab": {
          "base_uri": "https://localhost:8080/",
          "height": 375
        }
      },
      "source": [
        "# !pip install gdown\n",
        "\n",
        "!mkdir -p original_datasets/videogames \n",
        "\n",
        "!mkdir -p original_datasets/movies \n",
        "\n",
        "!mkdir -p system_datasets\n",
        "\n",
        "import gdown as gd\n",
        "\n",
        "# Videojuegos\n",
        "gd.download('https://drive.google.com/uc?id=1-KgMce1i1IuEEsk-xUnIRTWq1R8jr8Ey', 'original_datasets/videogames/steam_list.csv', quiet=False) # Títulos de videojuegos (Steam)\n",
        "\n",
        "gd.download('https://drive.google.com/uc?id=1uYAG398bhK7fylytYixJo8xdHirFd_Xe', 'original_datasets/videogames/steam_descriptions.csv', quiet=False) # Descripciones de videojuegos (Steam)\n",
        "\n",
        "gd.download('https://drive.google.com/uc?id=1IqKNR6cdWJWIDXZSxg-TnRITpFWv2tgM', 'original_datasets/videogames/steam_reviews.csv', quiet=False) # Comentarios de videojuegos. (Steam)\n",
        "\n",
        "# Películas\n",
        "gd.download('https://drive.google.com/uc?id=1U7OJMy5wmseeeRLiPhwnXRsHzB0Az3-I', 'original_datasets/movies/imbd_movies.csv', quiet=False) # Títulos y descripciones de películas (IMDb)\n",
        "\n",
        "#gd.download('https://drive.google.com/uc?id=151yjtQnjfC1PxUiyw1xVXhkmHeBVwL0U', 'original_datasets/movies/metacritic_movies.csv', quiet=False) # Títulos de películas (Metacritic)\n",
        "\n",
        "gd.download('https://drive.google.com/uc?id=157m8NSM5D7xE-VZ8iqVzNNvQa6rMPf3d', 'original_datasets/movies/metacritic_reviews.csv', quiet=False) # Comentarios de películas (Metacritic)"
      ],
      "execution_count": 2,
      "outputs": [
        {
          "output_type": "stream",
          "text": [
            "Downloading...\n",
            "From: https://drive.google.com/uc?id=1-KgMce1i1IuEEsk-xUnIRTWq1R8jr8Ey\n",
            "To: /content/original_datasets/videogames/steam_list.csv\n",
            "5.82MB [00:00, 154MB/s]\n",
            "Downloading...\n",
            "From: https://drive.google.com/uc?id=1uYAG398bhK7fylytYixJo8xdHirFd_Xe\n",
            "To: /content/original_datasets/videogames/steam_descriptions.csv\n",
            "94.7MB [00:00, 290MB/s]\n",
            "Downloading...\n",
            "From: https://drive.google.com/uc?id=1IqKNR6cdWJWIDXZSxg-TnRITpFWv2tgM\n",
            "To: /content/original_datasets/videogames/steam_reviews.csv\n",
            "121MB [00:00, 155MB/s]\n",
            "Downloading...\n",
            "From: https://drive.google.com/uc?id=1U7OJMy5wmseeeRLiPhwnXRsHzB0Az3-I\n",
            "To: /content/original_datasets/movies/imbd_movies.csv\n",
            "47.9MB [00:00, 242MB/s]\n",
            "Downloading...\n",
            "From: https://drive.google.com/uc?id=157m8NSM5D7xE-VZ8iqVzNNvQa6rMPf3d\n",
            "To: /content/original_datasets/movies/metacritic_reviews.csv\n",
            "51.7MB [00:00, 247MB/s]\n"
          ],
          "name": "stderr"
        },
        {
          "output_type": "execute_result",
          "data": {
            "application/vnd.google.colaboratory.intrinsic+json": {
              "type": "string"
            },
            "text/plain": [
              "'original_datasets/movies/metacritic_reviews.csv'"
            ]
          },
          "metadata": {
            "tags": []
          },
          "execution_count": 2
        }
      ]
    },
    {
      "cell_type": "markdown",
      "metadata": {
        "id": "IpFMHu0Di9PF"
      },
      "source": [
        "# Paso 2: Confección de Datasets Propios seleccionando un subconjuntos de los Datasets Originales"
      ]
    },
    {
      "cell_type": "markdown",
      "metadata": {
        "id": "hoC31vtB-2x7"
      },
      "source": [
        "Abrimos los ficheros con Pandas:"
      ]
    },
    {
      "cell_type": "code",
      "metadata": {
        "id": "WwCPplnP-oR9",
        "outputId": "cfdc81b3-fdab-41d9-cf18-cb884d606d9f",
        "colab": {
          "base_uri": "https://localhost:8080/"
        }
      },
      "source": [
        "import pandas as pd\n",
        "\n",
        "# Videojuegos\n",
        "originalSteamList = pd.read_csv('original_datasets/videogames/steam_list.csv')\n",
        "originalSteamDescriptions = pd.read_csv('original_datasets/videogames/steam_descriptions.csv')\n",
        "originalSteamReviews = pd.read_csv('original_datasets/videogames/steam_reviews.csv')\n",
        "\n",
        "# Películas\n",
        "originalIMBDMoviesWithDescription = pd.read_csv('original_datasets/movies/imbd_movies.csv')\n",
        "#originalMetacriticMovies = pd.read_csv('original_datasets/movies/metacritic_movies.csv')\n",
        "originalMetacriticReviews = pd.read_csv('original_datasets/movies/metacritic_reviews.csv')"
      ],
      "execution_count": 3,
      "outputs": [
        {
          "output_type": "stream",
          "text": [
            "/usr/local/lib/python3.6/dist-packages/IPython/core/interactiveshell.py:2718: DtypeWarning: Columns (3) have mixed types.Specify dtype option on import or set low_memory=False.\n",
            "  interactivity=interactivity, compiler=compiler, result=result)\n"
          ],
          "name": "stderr"
        }
      ]
    },
    {
      "cell_type": "markdown",
      "metadata": {
        "id": "P7py-4yM7RSc"
      },
      "source": [
        "Reducimos el tamaño del dataset de videojuegos, solo considerando aquellos juegos que han vendido más de 20k unidades"
      ]
    },
    {
      "cell_type": "code",
      "metadata": {
        "id": "ynhmvgnf6mL_"
      },
      "source": [
        "originalSteamList = originalSteamList[originalSteamList['owners'] != '0-20000']"
      ],
      "execution_count": 6,
      "outputs": []
    },
    {
      "cell_type": "markdown",
      "metadata": {
        "id": "p1zqBL5-MzdZ"
      },
      "source": [
        "Reducimos el tamaño del dataset de cine, solo considerando películas con más de 70 reseñas por usuarios"
      ]
    },
    {
      "cell_type": "code",
      "metadata": {
        "id": "ooh9Os4VL_4H"
      },
      "source": [
        "originalIMBDMoviesWithDescription = originalIMBDMoviesWithDescription[originalIMBDMoviesWithDescription['reviews_from_users'] > 70]"
      ],
      "execution_count": 7,
      "outputs": []
    },
    {
      "cell_type": "markdown",
      "metadata": {
        "id": "N5aEaT-v_MZr"
      },
      "source": [
        "Ahora, unimos datasets y seleccionamos las columnas necesarias:"
      ]
    },
    {
      "cell_type": "code",
      "metadata": {
        "id": "_VRP0baS_MHn",
        "outputId": "9e7df3c1-e83f-4f36-9c01-824d866b50c1",
        "colab": {
          "base_uri": "https://localhost:8080/",
          "height": 419
        }
      },
      "source": [
        "# Estas líneas crean una copia del csv con un id para cada elemento con el formato que hemos especificado (<inicialMedio><autoIncremental>):\n",
        "# Videojuegos\n",
        "listadoVideojuegos = originalSteamList.copy()\n",
        "listadoVideojuegos.insert(0, 'id_obra', range(0, len(listadoVideojuegos)))\n",
        "listadoVideojuegos = listadoVideojuegos.assign(id_obra=lambda x: 'V'+x.id_obra.astype(str))\n",
        "\n",
        "# Películas\n",
        "listadoDescripcionCine = originalIMBDMoviesWithDescription.copy()\n",
        "listadoDescripcionCine.insert(0, 'id_obra', range(0, len(listadoDescripcionCine)))\n",
        "listadoDescripcionCine = listadoDescripcionCine.assign(id_obra=lambda x: 'C'+x.id_obra.astype(str))\n",
        "\n",
        "\n",
        "# Creamos el listado que contiene títulos y descripciones (y guardamos el csv):\n",
        "# Videojuegos (Descripciones):\n",
        "listadoDescripcionVideojuegos = pd.merge(listadoVideojuegos, originalSteamDescriptions, left_on='appid', right_on='steam_appid')\n",
        "\n",
        "listadoDescripcionVideojuegos = listadoDescripcionVideojuegos.rename(columns={'name':'nombre', 'short_description':'descripcion'})\n",
        "\n",
        "listadoDescripcionVideojuegos = listadoDescripcionVideojuegos.assign(medio='V')\n",
        "\n",
        "# Almacenamos el listado obtenido en un fichero CSV:\n",
        "listadoDescripcionVideojuegos[['id_obra', 'medio', 'nombre', 'descripcion']].to_csv('system_datasets/obras_descripcion.csv', index=False)\n",
        "\n",
        "listadoDescripcionVideojuegos[['id_obra', 'medio', 'nombre', 'descripcion']]"
      ],
      "execution_count": 8,
      "outputs": [
        {
          "output_type": "execute_result",
          "data": {
            "text/html": [
              "<div>\n",
              "<style scoped>\n",
              "    .dataframe tbody tr th:only-of-type {\n",
              "        vertical-align: middle;\n",
              "    }\n",
              "\n",
              "    .dataframe tbody tr th {\n",
              "        vertical-align: top;\n",
              "    }\n",
              "\n",
              "    .dataframe thead th {\n",
              "        text-align: right;\n",
              "    }\n",
              "</style>\n",
              "<table border=\"1\" class=\"dataframe\">\n",
              "  <thead>\n",
              "    <tr style=\"text-align: right;\">\n",
              "      <th></th>\n",
              "      <th>id_obra</th>\n",
              "      <th>medio</th>\n",
              "      <th>nombre</th>\n",
              "      <th>descripcion</th>\n",
              "    </tr>\n",
              "  </thead>\n",
              "  <tbody>\n",
              "    <tr>\n",
              "      <th>0</th>\n",
              "      <td>V0</td>\n",
              "      <td>V</td>\n",
              "      <td>Counter-Strike</td>\n",
              "      <td>Play the world's number 1 online action game. ...</td>\n",
              "    </tr>\n",
              "    <tr>\n",
              "      <th>1</th>\n",
              "      <td>V1</td>\n",
              "      <td>V</td>\n",
              "      <td>Team Fortress Classic</td>\n",
              "      <td>One of the most popular online action games of...</td>\n",
              "    </tr>\n",
              "    <tr>\n",
              "      <th>2</th>\n",
              "      <td>V2</td>\n",
              "      <td>V</td>\n",
              "      <td>Day of Defeat</td>\n",
              "      <td>Enlist in an intense brand of Axis vs. Allied ...</td>\n",
              "    </tr>\n",
              "    <tr>\n",
              "      <th>3</th>\n",
              "      <td>V3</td>\n",
              "      <td>V</td>\n",
              "      <td>Deathmatch Classic</td>\n",
              "      <td>Enjoy fast-paced multiplayer gaming with Death...</td>\n",
              "    </tr>\n",
              "    <tr>\n",
              "      <th>4</th>\n",
              "      <td>V4</td>\n",
              "      <td>V</td>\n",
              "      <td>Half-Life: Opposing Force</td>\n",
              "      <td>Return to the Black Mesa Research Facility as ...</td>\n",
              "    </tr>\n",
              "    <tr>\n",
              "      <th>...</th>\n",
              "      <td>...</td>\n",
              "      <td>...</td>\n",
              "      <td>...</td>\n",
              "      <td>...</td>\n",
              "    </tr>\n",
              "    <tr>\n",
              "      <th>8474</th>\n",
              "      <td>V8474</td>\n",
              "      <td>V</td>\n",
              "      <td>BLOCKADE Classic</td>\n",
              "      <td>BLOCKADE Classic! First Person Shooter in an e...</td>\n",
              "    </tr>\n",
              "    <tr>\n",
              "      <th>8475</th>\n",
              "      <td>V8475</td>\n",
              "      <td>V</td>\n",
              "      <td>Arena Stars</td>\n",
              "      <td>Choose your Hero, build your Team and take on ...</td>\n",
              "    </tr>\n",
              "    <tr>\n",
              "      <th>8476</th>\n",
              "      <td>V8476</td>\n",
              "      <td>V</td>\n",
              "      <td>Burning Daylight</td>\n",
              "      <td>Waking up naked in a slaughterhouse, you must ...</td>\n",
              "    </tr>\n",
              "    <tr>\n",
              "      <th>8477</th>\n",
              "      <td>V8477</td>\n",
              "      <td>V</td>\n",
              "      <td>KillStreak.tv</td>\n",
              "      <td>KILLSTREAK.tv is a quick fire 3rd-person multi...</td>\n",
              "    </tr>\n",
              "    <tr>\n",
              "      <th>8478</th>\n",
              "      <td>V8478</td>\n",
              "      <td>V</td>\n",
              "      <td>Sin Slayers: The First Sin</td>\n",
              "      <td>Sin Slayers is an RPG with roguelike elements ...</td>\n",
              "    </tr>\n",
              "  </tbody>\n",
              "</table>\n",
              "<p>8479 rows × 4 columns</p>\n",
              "</div>"
            ],
            "text/plain": [
              "     id_obra  ...                                        descripcion\n",
              "0         V0  ...  Play the world's number 1 online action game. ...\n",
              "1         V1  ...  One of the most popular online action games of...\n",
              "2         V2  ...  Enlist in an intense brand of Axis vs. Allied ...\n",
              "3         V3  ...  Enjoy fast-paced multiplayer gaming with Death...\n",
              "4         V4  ...  Return to the Black Mesa Research Facility as ...\n",
              "...      ...  ...                                                ...\n",
              "8474   V8474  ...  BLOCKADE Classic! First Person Shooter in an e...\n",
              "8475   V8475  ...  Choose your Hero, build your Team and take on ...\n",
              "8476   V8476  ...  Waking up naked in a slaughterhouse, you must ...\n",
              "8477   V8477  ...  KILLSTREAK.tv is a quick fire 3rd-person multi...\n",
              "8478   V8478  ...  Sin Slayers is an RPG with roguelike elements ...\n",
              "\n",
              "[8479 rows x 4 columns]"
            ]
          },
          "metadata": {
            "tags": []
          },
          "execution_count": 8
        }
      ]
    },
    {
      "cell_type": "code",
      "metadata": {
        "id": "Bhw0Pr6QIHCK",
        "outputId": "c0f6b40b-0e4f-4453-806a-243d7e579561",
        "colab": {
          "base_uri": "https://localhost:8080/",
          "height": 419
        }
      },
      "source": [
        "# Cine (Descripciones):\n",
        "listadoDescripcionCine = listadoDescripcionCine.rename(columns={'title':'nombre', 'description':'descripcion'})\n",
        "listadoDescripcionCine = listadoDescripcionCine.assign(medio='C')\n",
        "\n",
        "# Almacenamos el listado obtenido en un fichero CSV (se concatena al final del mismo)\n",
        "listadoDescripcionCine[['id_obra', 'medio', 'nombre', 'descripcion']].dropna().to_csv('system_datasets/obras_descripcion.csv', index=False, mode='a', header=False)\n",
        "listadoDescripcionCine[['id_obra', 'medio', 'nombre', 'descripcion']].dropna()\n"
      ],
      "execution_count": 9,
      "outputs": [
        {
          "output_type": "execute_result",
          "data": {
            "text/html": [
              "<div>\n",
              "<style scoped>\n",
              "    .dataframe tbody tr th:only-of-type {\n",
              "        vertical-align: middle;\n",
              "    }\n",
              "\n",
              "    .dataframe tbody tr th {\n",
              "        vertical-align: top;\n",
              "    }\n",
              "\n",
              "    .dataframe thead th {\n",
              "        text-align: right;\n",
              "    }\n",
              "</style>\n",
              "<table border=\"1\" class=\"dataframe\">\n",
              "  <thead>\n",
              "    <tr style=\"text-align: right;\">\n",
              "      <th></th>\n",
              "      <th>id_obra</th>\n",
              "      <th>medio</th>\n",
              "      <th>nombre</th>\n",
              "      <th>descripcion</th>\n",
              "    </tr>\n",
              "  </thead>\n",
              "  <tbody>\n",
              "    <tr>\n",
              "      <th>47</th>\n",
              "      <td>C0</td>\n",
              "      <td>C</td>\n",
              "      <td>Nascita di una nazione</td>\n",
              "      <td>The Stoneman family finds its friendship with ...</td>\n",
              "    </tr>\n",
              "    <tr>\n",
              "      <th>76</th>\n",
              "      <td>C1</td>\n",
              "      <td>C</td>\n",
              "      <td>Intolerance</td>\n",
              "      <td>The story of a poor young woman, separated by ...</td>\n",
              "    </tr>\n",
              "    <tr>\n",
              "      <th>147</th>\n",
              "      <td>C2</td>\n",
              "      <td>C</td>\n",
              "      <td>Giglio infranto</td>\n",
              "      <td>A frail waif, abused by her brutal boxer fathe...</td>\n",
              "    </tr>\n",
              "    <tr>\n",
              "      <th>165</th>\n",
              "      <td>C3</td>\n",
              "      <td>C</td>\n",
              "      <td>Il gabinetto del dottor Caligari</td>\n",
              "      <td>Hypnotist Dr. Caligari uses a somnambulist, Ce...</td>\n",
              "    </tr>\n",
              "    <tr>\n",
              "      <th>190</th>\n",
              "      <td>C4</td>\n",
              "      <td>C</td>\n",
              "      <td>Dr. Jekyll e Mr. Hyde</td>\n",
              "      <td>Dr. Henry Jekyll experiments with scientific m...</td>\n",
              "    </tr>\n",
              "    <tr>\n",
              "      <th>...</th>\n",
              "      <td>...</td>\n",
              "      <td>...</td>\n",
              "      <td>...</td>\n",
              "      <td>...</td>\n",
              "    </tr>\n",
              "    <tr>\n",
              "      <th>85811</th>\n",
              "      <td>C9130</td>\n",
              "      <td>C</td>\n",
              "      <td>Falling Inn Love - Ristrutturazione con amore</td>\n",
              "      <td>When city girl Gabriela spontaneously enters a...</td>\n",
              "    </tr>\n",
              "    <tr>\n",
              "      <th>85817</th>\n",
              "      <td>C9131</td>\n",
              "      <td>C</td>\n",
              "      <td>Paranormal Investigation</td>\n",
              "      <td>When a young man becomes possessed after playi...</td>\n",
              "    </tr>\n",
              "    <tr>\n",
              "      <th>85837</th>\n",
              "      <td>C9132</td>\n",
              "      <td>C</td>\n",
              "      <td>VFW</td>\n",
              "      <td>A group of old war veterans put their lives on...</td>\n",
              "    </tr>\n",
              "    <tr>\n",
              "      <th>85839</th>\n",
              "      <td>C9133</td>\n",
              "      <td>C</td>\n",
              "      <td>Coffee &amp; Kareem</td>\n",
              "      <td>Twelve-year-old Kareem Manning hires a crimina...</td>\n",
              "    </tr>\n",
              "    <tr>\n",
              "      <th>85843</th>\n",
              "      <td>C9134</td>\n",
              "      <td>C</td>\n",
              "      <td>Kaithi</td>\n",
              "      <td>A recently released prisoner becomes involved ...</td>\n",
              "    </tr>\n",
              "  </tbody>\n",
              "</table>\n",
              "<p>9118 rows × 4 columns</p>\n",
              "</div>"
            ],
            "text/plain": [
              "      id_obra  ...                                        descripcion\n",
              "47         C0  ...  The Stoneman family finds its friendship with ...\n",
              "76         C1  ...  The story of a poor young woman, separated by ...\n",
              "147        C2  ...  A frail waif, abused by her brutal boxer fathe...\n",
              "165        C3  ...  Hypnotist Dr. Caligari uses a somnambulist, Ce...\n",
              "190        C4  ...  Dr. Henry Jekyll experiments with scientific m...\n",
              "...       ...  ...                                                ...\n",
              "85811   C9130  ...  When city girl Gabriela spontaneously enters a...\n",
              "85817   C9131  ...  When a young man becomes possessed after playi...\n",
              "85837   C9132  ...  A group of old war veterans put their lives on...\n",
              "85839   C9133  ...  Twelve-year-old Kareem Manning hires a crimina...\n",
              "85843   C9134  ...  A recently released prisoner becomes involved ...\n",
              "\n",
              "[9118 rows x 4 columns]"
            ]
          },
          "metadata": {
            "tags": []
          },
          "execution_count": 9
        }
      ]
    },
    {
      "cell_type": "code",
      "metadata": {
        "id": "gxrfdeDuI_l0",
        "outputId": "f723bea1-86a9-4e79-c30f-db9ead6332b7",
        "colab": {
          "base_uri": "https://localhost:8080/",
          "height": 419
        }
      },
      "source": [
        "# Creamos y almacenamos el listado que contiene los comentarios asociados a cada obra:\n",
        "# Videojuegos (Comentarios):\n",
        "listadoComentariosVideojuegos = pd.merge(listadoDescripcionVideojuegos, originalSteamReviews, left_on='nombre', right_on='title')\n",
        "\n",
        "listadoComentariosVideojuegos = listadoComentariosVideojuegos.rename(columns={'review':'comentario', 'recommendation':'valoracion'})\n",
        "\n",
        "videojuegosPositivos = listadoComentariosVideojuegos[listadoComentariosVideojuegos['valoracion'] == 'Recommended'].copy()\n",
        "videojuegosPositivos['valoracion'] = '+'\n",
        "\n",
        "videojuegosNegativos = listadoComentariosVideojuegos[listadoComentariosVideojuegos['valoracion'] == 'Not Recommended'].copy()\n",
        "videojuegosNegativos['valoracion'] = '-'\n",
        "\n",
        "listadoComentariosVideojuegos = pd.concat([videojuegosPositivos, videojuegosNegativos])\n",
        "\n",
        "# Almacenamos el listado obtenido en un fichero CSV:\n",
        "listadoComentariosVideojuegos[['id_obra', 'comentario', 'valoracion']].to_csv('system_datasets/obras_comentarios.csv', index=False)\n",
        "\n",
        "listadoComentariosVideojuegos[['id_obra', 'comentario', 'valoracion']]"
      ],
      "execution_count": 10,
      "outputs": [
        {
          "output_type": "execute_result",
          "data": {
            "text/html": [
              "<div>\n",
              "<style scoped>\n",
              "    .dataframe tbody tr th:only-of-type {\n",
              "        vertical-align: middle;\n",
              "    }\n",
              "\n",
              "    .dataframe tbody tr th {\n",
              "        vertical-align: top;\n",
              "    }\n",
              "\n",
              "    .dataframe thead th {\n",
              "        text-align: right;\n",
              "    }\n",
              "</style>\n",
              "<table border=\"1\" class=\"dataframe\">\n",
              "  <thead>\n",
              "    <tr style=\"text-align: right;\">\n",
              "      <th></th>\n",
              "      <th>id_obra</th>\n",
              "      <th>comentario</th>\n",
              "      <th>valoracion</th>\n",
              "    </tr>\n",
              "  </thead>\n",
              "  <tbody>\n",
              "    <tr>\n",
              "      <th>0</th>\n",
              "      <td>V21</td>\n",
              "      <td>I used to play this game a lot back when it ca...</td>\n",
              "      <td>+</td>\n",
              "    </tr>\n",
              "    <tr>\n",
              "      <th>1</th>\n",
              "      <td>V21</td>\n",
              "      <td>Product received for free. 'No hope. No cure. ...</td>\n",
              "      <td>+</td>\n",
              "    </tr>\n",
              "    <tr>\n",
              "      <th>2</th>\n",
              "      <td>V21</td>\n",
              "      <td>cool</td>\n",
              "      <td>+</td>\n",
              "    </tr>\n",
              "    <tr>\n",
              "      <th>3</th>\n",
              "      <td>V21</td>\n",
              "      <td>Well ya see \"TAAAAAAAAAAAAAANK\"</td>\n",
              "      <td>+</td>\n",
              "    </tr>\n",
              "    <tr>\n",
              "      <th>4</th>\n",
              "      <td>V21</td>\n",
              "      <td>Nice game it's a pity that Gaben doesn't creat...</td>\n",
              "      <td>+</td>\n",
              "    </tr>\n",
              "    <tr>\n",
              "      <th>...</th>\n",
              "      <td>...</td>\n",
              "      <td>...</td>\n",
              "      <td>...</td>\n",
              "    </tr>\n",
              "    <tr>\n",
              "      <th>434176</th>\n",
              "      <td>V8255</td>\n",
              "      <td>The amount of control you have with the graphi...</td>\n",
              "      <td>-</td>\n",
              "    </tr>\n",
              "    <tr>\n",
              "      <th>434580</th>\n",
              "      <td>V8255</td>\n",
              "      <td>bad remake mutilates the original work</td>\n",
              "      <td>-</td>\n",
              "    </tr>\n",
              "    <tr>\n",
              "      <th>434754</th>\n",
              "      <td>V8255</td>\n",
              "      <td>This game does a lot of things right it releas...</td>\n",
              "      <td>-</td>\n",
              "    </tr>\n",
              "    <tr>\n",
              "      <th>434799</th>\n",
              "      <td>V8255</td>\n",
              "      <td>This game sucked</td>\n",
              "      <td>-</td>\n",
              "    </tr>\n",
              "    <tr>\n",
              "      <th>434804</th>\n",
              "      <td>V8255</td>\n",
              "      <td>A really small boye game pretending to be a bi...</td>\n",
              "      <td>-</td>\n",
              "    </tr>\n",
              "  </tbody>\n",
              "</table>\n",
              "<p>434879 rows × 3 columns</p>\n",
              "</div>"
            ],
            "text/plain": [
              "       id_obra                                         comentario valoracion\n",
              "0          V21  I used to play this game a lot back when it ca...          +\n",
              "1          V21  Product received for free. 'No hope. No cure. ...          +\n",
              "2          V21                                               cool          +\n",
              "3          V21                    Well ya see \"TAAAAAAAAAAAAAANK\"          +\n",
              "4          V21  Nice game it's a pity that Gaben doesn't creat...          +\n",
              "...        ...                                                ...        ...\n",
              "434176   V8255  The amount of control you have with the graphi...          -\n",
              "434580   V8255             bad remake mutilates the original work          -\n",
              "434754   V8255  This game does a lot of things right it releas...          -\n",
              "434799   V8255                                   This game sucked          -\n",
              "434804   V8255  A really small boye game pretending to be a bi...          -\n",
              "\n",
              "[434879 rows x 3 columns]"
            ]
          },
          "metadata": {
            "tags": []
          },
          "execution_count": 10
        }
      ]
    },
    {
      "cell_type": "code",
      "metadata": {
        "id": "r9FFnWPqgg4K",
        "outputId": "b296d97a-ca5b-4964-fccb-72fb15d8897b",
        "colab": {
          "base_uri": "https://localhost:8080/",
          "height": 419
        }
      },
      "source": [
        "# Cine (Comentarios):\n",
        "listadoComentariosCine = pd.merge(listadoDescripcionCine, originalMetacriticReviews, left_on='nombre', right_on='movie_title')\n",
        "\n",
        "listadoComentariosCine = listadoComentariosCine.rename(columns={'text':'comentario', 'individual_meta_score':'valoracion'})\n",
        "\n",
        "cinePositivos = listadoComentariosCine[listadoComentariosCine['valoracion'] > 60].copy()\n",
        "cinePositivos['valoracion'] = '+'\n",
        "\n",
        "cineNegativos = listadoComentariosCine[listadoComentariosCine['valoracion'] < 40].copy()\n",
        "cineNegativos['valoracion'] = '-'\n",
        "\n",
        "cineNeutrales = listadoComentariosCine[(listadoComentariosCine['valoracion'] >= 40) & (listadoComentariosCine['valoracion'] <= 60)].copy()\n",
        "cineNeutrales['valoracion'] = '~'\n",
        "\n",
        "listadoComentariosCine = pd.concat([cinePositivos, cineNeutrales, cineNegativos])\n",
        "\n",
        "# Almacenamos el listado obtenido en un fichero CSV (se concatena al final del mismo):\n",
        "listadoComentariosCine[['id_obra', 'comentario', 'valoracion']].dropna().to_csv('system_datasets/obras_comentarios.csv', index=False, mode='a', header=False)\n",
        "\n",
        "listadoComentariosCine[['id_obra', 'comentario', 'valoracion']].dropna()"
      ],
      "execution_count": 11,
      "outputs": [
        {
          "output_type": "execute_result",
          "data": {
            "text/html": [
              "<div>\n",
              "<style scoped>\n",
              "    .dataframe tbody tr th:only-of-type {\n",
              "        vertical-align: middle;\n",
              "    }\n",
              "\n",
              "    .dataframe tbody tr th {\n",
              "        vertical-align: top;\n",
              "    }\n",
              "\n",
              "    .dataframe thead th {\n",
              "        text-align: right;\n",
              "    }\n",
              "</style>\n",
              "<table border=\"1\" class=\"dataframe\">\n",
              "  <thead>\n",
              "    <tr style=\"text-align: right;\">\n",
              "      <th></th>\n",
              "      <th>id_obra</th>\n",
              "      <th>comentario</th>\n",
              "      <th>valoracion</th>\n",
              "    </tr>\n",
              "  </thead>\n",
              "  <tbody>\n",
              "    <tr>\n",
              "      <th>0</th>\n",
              "      <td>C1</td>\n",
              "      <td>Probably the most influential of all silent fi...</td>\n",
              "      <td>+</td>\n",
              "    </tr>\n",
              "    <tr>\n",
              "      <th>1</th>\n",
              "      <td>C1</td>\n",
              "      <td>Intolerance may not be perfect, but with such ...</td>\n",
              "      <td>+</td>\n",
              "    </tr>\n",
              "    <tr>\n",
              "      <th>2</th>\n",
              "      <td>C1</td>\n",
              "      <td>It may seem flawed in a number of ways to some...</td>\n",
              "      <td>+</td>\n",
              "    </tr>\n",
              "    <tr>\n",
              "      <th>3</th>\n",
              "      <td>C1</td>\n",
              "      <td>As a medium for expressing art, moving picture...</td>\n",
              "      <td>+</td>\n",
              "    </tr>\n",
              "    <tr>\n",
              "      <th>4</th>\n",
              "      <td>C1</td>\n",
              "      <td>Intolerance is thrilling and vital, a collisio...</td>\n",
              "      <td>+</td>\n",
              "    </tr>\n",
              "    <tr>\n",
              "      <th>...</th>\n",
              "      <td>...</td>\n",
              "      <td>...</td>\n",
              "      <td>...</td>\n",
              "    </tr>\n",
              "    <tr>\n",
              "      <th>64089</th>\n",
              "      <td>C9061</td>\n",
              "      <td>This movie is ridiculous.</td>\n",
              "      <td>-</td>\n",
              "    </tr>\n",
              "    <tr>\n",
              "      <th>64090</th>\n",
              "      <td>C9061</td>\n",
              "      <td>Unplanned will make you writhe in agony over h...</td>\n",
              "      <td>-</td>\n",
              "    </tr>\n",
              "    <tr>\n",
              "      <th>64091</th>\n",
              "      <td>C9061</td>\n",
              "      <td>There’s not a single scene that speaks to char...</td>\n",
              "      <td>-</td>\n",
              "    </tr>\n",
              "    <tr>\n",
              "      <th>64103</th>\n",
              "      <td>C9079</td>\n",
              "      <td>A lifeless, tone-deaf variation on Invasion of...</td>\n",
              "      <td>-</td>\n",
              "    </tr>\n",
              "    <tr>\n",
              "      <th>64119</th>\n",
              "      <td>C9100</td>\n",
              "      <td>Though saddled with hoary jokes, Goldberg at l...</td>\n",
              "      <td>-</td>\n",
              "    </tr>\n",
              "  </tbody>\n",
              "</table>\n",
              "<p>61203 rows × 3 columns</p>\n",
              "</div>"
            ],
            "text/plain": [
              "      id_obra                                         comentario valoracion\n",
              "0          C1  Probably the most influential of all silent fi...          +\n",
              "1          C1  Intolerance may not be perfect, but with such ...          +\n",
              "2          C1  It may seem flawed in a number of ways to some...          +\n",
              "3          C1  As a medium for expressing art, moving picture...          +\n",
              "4          C1  Intolerance is thrilling and vital, a collisio...          +\n",
              "...       ...                                                ...        ...\n",
              "64089   C9061                          This movie is ridiculous.          -\n",
              "64090   C9061  Unplanned will make you writhe in agony over h...          -\n",
              "64091   C9061  There’s not a single scene that speaks to char...          -\n",
              "64103   C9079  A lifeless, tone-deaf variation on Invasion of...          -\n",
              "64119   C9100  Though saddled with hoary jokes, Goldberg at l...          -\n",
              "\n",
              "[61203 rows x 3 columns]"
            ]
          },
          "metadata": {
            "tags": []
          },
          "execution_count": 11
        }
      ]
    },
    {
      "cell_type": "markdown",
      "metadata": {
        "id": "cLebWEKqln4m"
      },
      "source": [
        "# Paso 3: Subsistema de Recomendación"
      ]
    },
    {
      "cell_type": "markdown",
      "metadata": {
        "id": "bWhGtwqsUP3_"
      },
      "source": [
        "## Paso 3.1: Preprocesado del Dataset Propio de obras con descripciones"
      ]
    },
    {
      "cell_type": "markdown",
      "metadata": {
        "id": "ErgNzXrEklzV"
      },
      "source": [
        "### Paso 3.1.1: **Tokenizado**, eliminación de **Stopwords** y **Stemming**:"
      ]
    },
    {
      "cell_type": "code",
      "metadata": {
        "id": "06vaP4WHUPDg",
        "outputId": "1b7161d2-31e3-43ef-f6c0-9a2e63322107",
        "colab": {
          "base_uri": "https://localhost:8080/",
          "height": 487
        }
      },
      "source": [
        "from nltk.tokenize import word_tokenize \n",
        "from nltk.corpus import stopwords\n",
        "from nltk.stem import PorterStemmer\n",
        "\n",
        "import nltk\n",
        "nltk.download('punkt')\n",
        "nltk.download('stopwords')\n",
        "\n",
        "ps = PorterStemmer()\n",
        "\n",
        "preprocessedText = []\n",
        "\n",
        "originalData = pd.read_csv('system_datasets/obras_descripcion.csv')\n",
        "\n",
        "for row in originalData.itertuples():\n",
        "    \n",
        "    \n",
        "    text = word_tokenize(row[4]) ## indice de la columna que contiene el texto\n",
        "    ## Remove stop words\n",
        "    stops = set(stopwords.words(\"english\"))\n",
        "    text = [ps.stem(w) for w in text if not w in stops and w.isalpha()]\n",
        "    text = \" \".join(text)\n",
        "    \n",
        "    preprocessedText.append(text)\n",
        "\n",
        "preprocessedData = originalData\n",
        "preprocessedData['processed_text'] = preprocessedText\n",
        "\n",
        "preprocessedData"
      ],
      "execution_count": 12,
      "outputs": [
        {
          "output_type": "stream",
          "text": [
            "[nltk_data] Downloading package punkt to /root/nltk_data...\n",
            "[nltk_data]   Unzipping tokenizers/punkt.zip.\n",
            "[nltk_data] Downloading package stopwords to /root/nltk_data...\n",
            "[nltk_data]   Unzipping corpora/stopwords.zip.\n"
          ],
          "name": "stdout"
        },
        {
          "output_type": "execute_result",
          "data": {
            "text/html": [
              "<div>\n",
              "<style scoped>\n",
              "    .dataframe tbody tr th:only-of-type {\n",
              "        vertical-align: middle;\n",
              "    }\n",
              "\n",
              "    .dataframe tbody tr th {\n",
              "        vertical-align: top;\n",
              "    }\n",
              "\n",
              "    .dataframe thead th {\n",
              "        text-align: right;\n",
              "    }\n",
              "</style>\n",
              "<table border=\"1\" class=\"dataframe\">\n",
              "  <thead>\n",
              "    <tr style=\"text-align: right;\">\n",
              "      <th></th>\n",
              "      <th>id_obra</th>\n",
              "      <th>medio</th>\n",
              "      <th>nombre</th>\n",
              "      <th>descripcion</th>\n",
              "      <th>processed_text</th>\n",
              "    </tr>\n",
              "  </thead>\n",
              "  <tbody>\n",
              "    <tr>\n",
              "      <th>0</th>\n",
              "      <td>V0</td>\n",
              "      <td>V</td>\n",
              "      <td>Counter-Strike</td>\n",
              "      <td>Play the world's number 1 online action game. ...</td>\n",
              "      <td>play world number onlin action game engag incr...</td>\n",
              "    </tr>\n",
              "    <tr>\n",
              "      <th>1</th>\n",
              "      <td>V1</td>\n",
              "      <td>V</td>\n",
              "      <td>Team Fortress Classic</td>\n",
              "      <td>One of the most popular online action games of...</td>\n",
              "      <td>one popular onlin action game time team fortre...</td>\n",
              "    </tr>\n",
              "    <tr>\n",
              "      <th>2</th>\n",
              "      <td>V2</td>\n",
              "      <td>V</td>\n",
              "      <td>Day of Defeat</td>\n",
              "      <td>Enlist in an intense brand of Axis vs. Allied ...</td>\n",
              "      <td>enlist intens brand axi alli teamplay set wwii...</td>\n",
              "    </tr>\n",
              "    <tr>\n",
              "      <th>3</th>\n",
              "      <td>V3</td>\n",
              "      <td>V</td>\n",
              "      <td>Deathmatch Classic</td>\n",
              "      <td>Enjoy fast-paced multiplayer gaming with Death...</td>\n",
              "      <td>enjoy multiplay game deathmatch classic dmc va...</td>\n",
              "    </tr>\n",
              "    <tr>\n",
              "      <th>4</th>\n",
              "      <td>V4</td>\n",
              "      <td>V</td>\n",
              "      <td>Half-Life: Opposing Force</td>\n",
              "      <td>Return to the Black Mesa Research Facility as ...</td>\n",
              "      <td>return black mesa research facil one militari ...</td>\n",
              "    </tr>\n",
              "    <tr>\n",
              "      <th>...</th>\n",
              "      <td>...</td>\n",
              "      <td>...</td>\n",
              "      <td>...</td>\n",
              "      <td>...</td>\n",
              "      <td>...</td>\n",
              "    </tr>\n",
              "    <tr>\n",
              "      <th>17592</th>\n",
              "      <td>C9130</td>\n",
              "      <td>C</td>\n",
              "      <td>Falling Inn Love - Ristrutturazione con amore</td>\n",
              "      <td>When city girl Gabriela spontaneously enters a...</td>\n",
              "      <td>when citi girl gabriela spontan enter contest ...</td>\n",
              "    </tr>\n",
              "    <tr>\n",
              "      <th>17593</th>\n",
              "      <td>C9131</td>\n",
              "      <td>C</td>\n",
              "      <td>Paranormal Investigation</td>\n",
              "      <td>When a young man becomes possessed after playi...</td>\n",
              "      <td>when young man becom possess play ouija game g...</td>\n",
              "    </tr>\n",
              "    <tr>\n",
              "      <th>17594</th>\n",
              "      <td>C9132</td>\n",
              "      <td>C</td>\n",
              "      <td>VFW</td>\n",
              "      <td>A group of old war veterans put their lives on...</td>\n",
              "      <td>A group old war veteran put live line defend y...</td>\n",
              "    </tr>\n",
              "    <tr>\n",
              "      <th>17595</th>\n",
              "      <td>C9133</td>\n",
              "      <td>C</td>\n",
              "      <td>Coffee &amp; Kareem</td>\n",
              "      <td>Twelve-year-old Kareem Manning hires a crimina...</td>\n",
              "      <td>kareem man hire crimin scare mom new boyfriend...</td>\n",
              "    </tr>\n",
              "    <tr>\n",
              "      <th>17596</th>\n",
              "      <td>C9134</td>\n",
              "      <td>C</td>\n",
              "      <td>Kaithi</td>\n",
              "      <td>A recently released prisoner becomes involved ...</td>\n",
              "      <td>A recent releas prison becom involv chase crim...</td>\n",
              "    </tr>\n",
              "  </tbody>\n",
              "</table>\n",
              "<p>17597 rows × 5 columns</p>\n",
              "</div>"
            ],
            "text/plain": [
              "      id_obra  ...                                     processed_text\n",
              "0          V0  ...  play world number onlin action game engag incr...\n",
              "1          V1  ...  one popular onlin action game time team fortre...\n",
              "2          V2  ...  enlist intens brand axi alli teamplay set wwii...\n",
              "3          V3  ...  enjoy multiplay game deathmatch classic dmc va...\n",
              "4          V4  ...  return black mesa research facil one militari ...\n",
              "...       ...  ...                                                ...\n",
              "17592   C9130  ...  when citi girl gabriela spontan enter contest ...\n",
              "17593   C9131  ...  when young man becom possess play ouija game g...\n",
              "17594   C9132  ...  A group old war veteran put live line defend y...\n",
              "17595   C9133  ...  kareem man hire crimin scare mom new boyfriend...\n",
              "17596   C9134  ...  A recent releas prison becom involv chase crim...\n",
              "\n",
              "[17597 rows x 5 columns]"
            ]
          },
          "metadata": {
            "tags": []
          },
          "execution_count": 12
        }
      ]
    },
    {
      "cell_type": "markdown",
      "metadata": {
        "id": "booy9-LYlGFJ"
      },
      "source": [
        "### Paso 3.1.2: Creación de la **Bolsa de Palabras**"
      ]
    },
    {
      "cell_type": "code",
      "metadata": {
        "id": "vMQi_9YEW2d2",
        "outputId": "1509dbd6-29f9-4f0f-b0fe-9fce1e76260e",
        "colab": {
          "base_uri": "https://localhost:8080/"
        }
      },
      "source": [
        "from sklearn.feature_extraction.text import TfidfVectorizer\n",
        "\n",
        "bagOfWordsModel = TfidfVectorizer()\n",
        "bagOfWordsModel.fit(preprocessedData['processed_text'])\n",
        "textsBoW= bagOfWordsModel.transform(preprocessedData['processed_text'])\n",
        "print(\"Finished\")"
      ],
      "execution_count": 13,
      "outputs": [
        {
          "output_type": "stream",
          "text": [
            "Finished\n"
          ],
          "name": "stdout"
        }
      ]
    },
    {
      "cell_type": "code",
      "metadata": {
        "id": "SNufVsTJW-YX",
        "outputId": "bf76621f-7feb-4103-f184-ffa288d1b8b9",
        "colab": {
          "base_uri": "https://localhost:8080/"
        }
      },
      "source": [
        "textsBoW.shape"
      ],
      "execution_count": 14,
      "outputs": [
        {
          "output_type": "execute_result",
          "data": {
            "text/plain": [
              "(17597, 19569)"
            ]
          },
          "metadata": {
            "tags": []
          },
          "execution_count": 14
        }
      ]
    },
    {
      "cell_type": "markdown",
      "metadata": {
        "id": "SdUhHjEglSDK"
      },
      "source": [
        "## Paso 3.2: Cálculo de la **Matriz de Distancias**:"
      ]
    },
    {
      "cell_type": "code",
      "metadata": {
        "id": "tGVm9OKsXVIi"
      },
      "source": [
        "from sklearn.metrics import pairwise_distances\n",
        "\n",
        "distance_matrix= pairwise_distances(textsBoW,textsBoW ,metric='cosine')"
      ],
      "execution_count": 15,
      "outputs": []
    },
    {
      "cell_type": "code",
      "metadata": {
        "id": "g9ucp4z2hPmC",
        "outputId": "99080bcd-96b0-41d8-dccb-95c2a70bdb95",
        "colab": {
          "base_uri": "https://localhost:8080/"
        }
      },
      "source": [
        "print(distance_matrix.shape)"
      ],
      "execution_count": 16,
      "outputs": [
        {
          "output_type": "stream",
          "text": [
            "(17597, 17597)\n"
          ],
          "name": "stdout"
        }
      ]
    },
    {
      "cell_type": "markdown",
      "metadata": {
        "id": "ce60sgDaleGn"
      },
      "source": [
        "## Paso 3.3: Ejemplo de uso "
      ]
    },
    {
      "cell_type": "code",
      "metadata": {
        "id": "KYatGKo3hVVm",
        "outputId": "e974fc95-427d-4989-8ce8-6c9e52f074c2",
        "colab": {
          "base_uri": "https://localhost:8080/"
        }
      },
      "source": [
        "searchTitle = \"Portal\" # Obra base para las recomendaciones (Otro ejemplo: \"The Elder Scrolls V: Skyrim\")\n",
        "indexOfTitle = preprocessedData[preprocessedData['nombre']==searchTitle].index.values[0]\n",
        "indexOfTitle"
      ],
      "execution_count": 17,
      "outputs": [
        {
          "output_type": "execute_result",
          "data": {
            "text/plain": [
              "17"
            ]
          },
          "metadata": {
            "tags": []
          },
          "execution_count": 17
        }
      ]
    },
    {
      "cell_type": "code",
      "metadata": {
        "id": "icuErTl8hcEI"
      },
      "source": [
        "distance_scores = list(enumerate(distance_matrix[indexOfTitle]))"
      ],
      "execution_count": null,
      "outputs": []
    },
    {
      "cell_type": "code",
      "metadata": {
        "id": "J3Cjo7vRhpNh"
      },
      "source": [
        "ordered_scores = sorted(distance_scores, key=lambda x: x[1])"
      ],
      "execution_count": null,
      "outputs": []
    },
    {
      "cell_type": "code",
      "metadata": {
        "id": "G__MvEXbh3Fv"
      },
      "source": [
        "top_scores = ordered_scores[1:11]\n",
        "#top_scores"
      ],
      "execution_count": null,
      "outputs": []
    },
    {
      "cell_type": "code",
      "metadata": {
        "id": "f91yrHG1h56t"
      },
      "source": [
        "top_indexes = [i[0] for i in top_scores]\n",
        "#top_indexes"
      ],
      "execution_count": null,
      "outputs": []
    },
    {
      "cell_type": "code",
      "metadata": {
        "id": "gQaJTJZVh8MJ",
        "outputId": "c213fd2d-c98d-4120-b982-f56cf9d7274d",
        "colab": {
          "base_uri": "https://localhost:8080/",
          "height": 359
        }
      },
      "source": [
        "top = preprocessedData[['id_obra', 'medio', 'nombre', 'descripcion']].iloc[top_indexes]\n",
        "#top = top[top['medio'] != 'V'] # Recomendaciones que no sean videojuegos \n",
        "top.head(10)"
      ],
      "execution_count": null,
      "outputs": [
        {
          "output_type": "execute_result",
          "data": {
            "text/html": [
              "<div>\n",
              "<style scoped>\n",
              "    .dataframe tbody tr th:only-of-type {\n",
              "        vertical-align: middle;\n",
              "    }\n",
              "\n",
              "    .dataframe tbody tr th {\n",
              "        vertical-align: top;\n",
              "    }\n",
              "\n",
              "    .dataframe thead th {\n",
              "        text-align: right;\n",
              "    }\n",
              "</style>\n",
              "<table border=\"1\" class=\"dataframe\">\n",
              "  <thead>\n",
              "    <tr style=\"text-align: right;\">\n",
              "      <th></th>\n",
              "      <th>id_obra</th>\n",
              "      <th>medio</th>\n",
              "      <th>nombre</th>\n",
              "      <th>descripcion</th>\n",
              "    </tr>\n",
              "  </thead>\n",
              "  <tbody>\n",
              "    <tr>\n",
              "      <th>7586</th>\n",
              "      <td>V7586</td>\n",
              "      <td>V</td>\n",
              "      <td>Bridge Constructor Portal</td>\n",
              "      <td>Enter the Aperture Science Enrichment Center a...</td>\n",
              "    </tr>\n",
              "    <tr>\n",
              "      <th>12531</th>\n",
              "      <td>C4060</td>\n",
              "      <td>C</td>\n",
              "      <td>Versus</td>\n",
              "      <td>There are 666 portals that connect this world ...</td>\n",
              "    </tr>\n",
              "    <tr>\n",
              "      <th>6866</th>\n",
              "      <td>V6866</td>\n",
              "      <td>V</td>\n",
              "      <td>Artifact</td>\n",
              "      <td>A collaboration between legendary game designe...</td>\n",
              "    </tr>\n",
              "    <tr>\n",
              "      <th>5292</th>\n",
              "      <td>V5292</td>\n",
              "      <td>V</td>\n",
              "      <td>The Lab</td>\n",
              "      <td>Welcome to The Lab, a compilation of Valve’s r...</td>\n",
              "    </tr>\n",
              "    <tr>\n",
              "      <th>11625</th>\n",
              "      <td>C3153</td>\n",
              "      <td>C</td>\n",
              "      <td>Essere John Malkovich</td>\n",
              "      <td>A puppeteer discovers a portal that leads lite...</td>\n",
              "    </tr>\n",
              "    <tr>\n",
              "      <th>3211</th>\n",
              "      <td>V3211</td>\n",
              "      <td>V</td>\n",
              "      <td>Horizon Shift</td>\n",
              "      <td>Horizon Shift is an explosive wave based singl...</td>\n",
              "    </tr>\n",
              "    <tr>\n",
              "      <th>8054</th>\n",
              "      <td>V8054</td>\n",
              "      <td>V</td>\n",
              "      <td>Supraland</td>\n",
              "      <td>Try the demo! A mix between Portal, Zelda and ...</td>\n",
              "    </tr>\n",
              "    <tr>\n",
              "      <th>10753</th>\n",
              "      <td>C2279</td>\n",
              "      <td>C</td>\n",
              "      <td>La storia infinita 2</td>\n",
              "      <td>A young boy with a distant father enters a wor...</td>\n",
              "    </tr>\n",
              "    <tr>\n",
              "      <th>11167</th>\n",
              "      <td>C2694</td>\n",
              "      <td>C</td>\n",
              "      <td>Nightmare - Nuovo incubo</td>\n",
              "      <td>A demonic force has chosen Freddy Krueger as i...</td>\n",
              "    </tr>\n",
              "    <tr>\n",
              "      <th>3605</th>\n",
              "      <td>V3605</td>\n",
              "      <td>V</td>\n",
              "      <td>Inbetween Land</td>\n",
              "      <td>Open the portal to a strange world and save yo...</td>\n",
              "    </tr>\n",
              "  </tbody>\n",
              "</table>\n",
              "</div>"
            ],
            "text/plain": [
              "      id_obra  ...                                        descripcion\n",
              "7586    V7586  ...  Enter the Aperture Science Enrichment Center a...\n",
              "12531   C4060  ...  There are 666 portals that connect this world ...\n",
              "6866    V6866  ...  A collaboration between legendary game designe...\n",
              "5292    V5292  ...  Welcome to The Lab, a compilation of Valve’s r...\n",
              "11625   C3153  ...  A puppeteer discovers a portal that leads lite...\n",
              "3211    V3211  ...  Horizon Shift is an explosive wave based singl...\n",
              "8054    V8054  ...  Try the demo! A mix between Portal, Zelda and ...\n",
              "10753   C2279  ...  A young boy with a distant father enters a wor...\n",
              "11167   C2694  ...  A demonic force has chosen Freddy Krueger as i...\n",
              "3605    V3605  ...  Open the portal to a strange world and save yo...\n",
              "\n",
              "[10 rows x 4 columns]"
            ]
          },
          "metadata": {
            "tags": []
          },
          "execution_count": 22
        }
      ]
    },
    {
      "cell_type": "markdown",
      "metadata": {
        "id": "vqTeipeBrRyE"
      },
      "source": [
        "# Paso 4: Integración con Streamlit"
      ]
    },
    {
      "cell_type": "markdown",
      "metadata": {
        "id": "qW4K1qtJroic"
      },
      "source": [
        "## Paso 4.1: Instalación de recursos"
      ]
    },
    {
      "cell_type": "code",
      "metadata": {
        "id": "RchLsqMKrX_m"
      },
      "source": [
        "!pip install streamlit"
      ],
      "execution_count": null,
      "outputs": []
    },
    {
      "cell_type": "code",
      "metadata": {
        "id": "epKDrLBsraZ9"
      },
      "source": [
        "!wget https://bin.equinox.io/c/4VmDzA7iaHb/ngrok-stable-linux-amd64.zip"
      ],
      "execution_count": null,
      "outputs": []
    },
    {
      "cell_type": "code",
      "metadata": {
        "id": "T9dLUgaUrfsS"
      },
      "source": [
        "!unzip ngrok-stable-linux-amd64.zip"
      ],
      "execution_count": null,
      "outputs": []
    },
    {
      "cell_type": "markdown",
      "metadata": {
        "id": "hOc8kVN8riTx"
      },
      "source": [
        "## Paso 4.2: Creacion del tunerl con ngrok"
      ]
    },
    {
      "cell_type": "code",
      "metadata": {
        "id": "8ZIQAMclrvym"
      },
      "source": [
        "get_ipython().system_raw('./ngrok http 8501 &')"
      ],
      "execution_count": 73,
      "outputs": []
    },
    {
      "cell_type": "markdown",
      "metadata": {
        "id": "EPIPLfMLr3bn"
      },
      "source": [
        "Es necesario ejecutar todo el notebook antes de acceder al enlace proporcionado por la siguiente linea de codigo:"
      ]
    },
    {
      "cell_type": "code",
      "metadata": {
        "id": "64SqOY-Gr2ab",
        "outputId": "faa81595-1c8a-447e-a168-4531f93c4a95",
        "colab": {
          "base_uri": "https://localhost:8080/"
        }
      },
      "source": [
        "!curl -s http://localhost:4040/api/tunnels | python3 -c \\\n",
        "    'import sys, json; print(\"Es importante ejecutar las proximas celdas, una vez ejecutadas, clickar en el siguiente enlace: \" +json.load(sys.stdin)[\"tunnels\"][0][\"public_url\"])'"
      ],
      "execution_count": 74,
      "outputs": [
        {
          "output_type": "stream",
          "text": [
            "Es importante ejecutar las proximas celdas, una vez ejecutadas, clickar en el siguiente enlace: https://da3e31307446.ngrok.io\n"
          ],
          "name": "stdout"
        }
      ]
    },
    {
      "cell_type": "code",
      "metadata": {
        "id": "KwlUiQmGsCG_",
        "outputId": "ca87e3a3-8635-4036-8b29-bf6c675b21ed",
        "colab": {
          "base_uri": "https://localhost:8080/"
        }
      },
      "source": [
        "%%writefile prueba.py\n",
        "import os\n",
        "import streamlit as st\n",
        "import pandas as pd\n",
        "\n",
        "@st.cache # Ejecutar sólo una vez:\n",
        "def getPreprocessedData():\n",
        "\n",
        "  # PREPROCESADO DATASETS:\n",
        "  from nltk.tokenize import word_tokenize \n",
        "  from nltk.corpus import stopwords\n",
        "  from nltk.stem import PorterStemmer\n",
        "\n",
        "  import nltk\n",
        "  nltk.download('punkt')\n",
        "  nltk.download('stopwords')\n",
        "\n",
        "  ps = PorterStemmer()\n",
        "\n",
        "  preprocessedText = []\n",
        "\n",
        "  originalData = pd.read_csv('system_datasets/obras_descripcion.csv')\n",
        "\n",
        "  for row in originalData.itertuples():     \n",
        "    text = word_tokenize(row[4]) ## indice de la columna que contiene el texto\n",
        "    ## Remove stop words\n",
        "    stops = set(stopwords.words(\"english\"))\n",
        "    text = [ps.stem(w) for w in text if not w in stops and w.isalpha()]\n",
        "    text = \" \".join(text)\n",
        "    \n",
        "    preprocessedText.append(text)\n",
        "\n",
        "  preprocessedData = originalData\n",
        "  preprocessedData['processed_text'] = preprocessedText\n",
        "\n",
        "  return preprocessedData\n",
        "\n",
        "\n",
        "@st.cache # Ejecutar sólo una vez:\n",
        "def getDistanceMatrix(preprocessedData):\n",
        "  from sklearn.feature_extraction.text import TfidfVectorizer\n",
        "\n",
        "  bagOfWordsModel = TfidfVectorizer()\n",
        "  bagOfWordsModel.fit(preprocessedData['processed_text'])\n",
        "  textsBoW= bagOfWordsModel.transform(preprocessedData['processed_text'])\n",
        "\n",
        "\n",
        "\n",
        "  from sklearn.metrics import pairwise_distances\n",
        "\n",
        "  distance_matrix = pairwise_distances(textsBoW,textsBoW ,metric='cosine')\n",
        "\n",
        "  return distance_matrix\n",
        "\n",
        "\n",
        "# Obtener datos preprocesados y matriz de distancias\n",
        "preprocessedData = getPreprocessedData()\n",
        "distance_matrix = getDistanceMatrix(preprocessedData)\n",
        "\n",
        "def getObrasSimilares(tituloObra):\n",
        "  searchTitle = tituloObra # Obra base para las recomendaciones\n",
        "  indexOfTitle = preprocessedData[preprocessedData['nombre']==searchTitle].index.values[0]\n",
        "  distance_scores = list(enumerate(distance_matrix[indexOfTitle]))\n",
        "  ordered_scores = sorted(distance_scores, key=lambda x: x[1])\n",
        "  top_scores = ordered_scores[1:11]\n",
        "  top_indexes = [i[0] for i in top_scores]\n",
        "  top = preprocessedData[['id_obra', 'medio', 'nombre', 'descripcion']].iloc[top_indexes]\n",
        "\n",
        "  return top\n",
        "\n",
        "# PÁGINA STREAMLIT\n",
        "# Cargar descripciones obras:\n",
        "obrasConDescripcion = pd.read_csv('system_datasets/obras_descripcion.csv') \n",
        "\n",
        "st.header(\"FindMo: Encuentra más entretenimiento interesante\")\n",
        "st.write(\"¡Busca una obra que te guste! Encontraremos otras que te puedan interesar\")\n",
        "\n",
        "\n",
        "seleccion = st.selectbox(\n",
        "    \"Seleccione una obra de las siguientes\",\n",
        "    (\n",
        "        obrasConDescripcion[['nombre']]\n",
        "    ),\n",
        "    0    \n",
        ")\n",
        "\n",
        "#Aqui se realizaria el computo que ya tenemos realizado y despues se mostrarian las obras\n",
        "\n",
        "recomendaciones = getObrasSimilares(seleccion)\n",
        "\n",
        "st.write('Obras similares a', seleccion, ':')\n",
        "\n",
        "for index, row in recomendaciones.iterrows():\n",
        "    st.write(row['nombre'])\n",
        "\n",
        "st.write(\"Streamlit permite importar imagenes, puede ser interesante utilizar la caratula en esto\")\n"
      ],
      "execution_count": 75,
      "outputs": [
        {
          "output_type": "stream",
          "text": [
            "Overwriting prueba.py\n"
          ],
          "name": "stdout"
        }
      ]
    },
    {
      "cell_type": "code",
      "metadata": {
        "id": "iwEn4RR-wI02",
        "outputId": "f4016ff3-bc04-44ca-d45c-6fb97e1334a9",
        "colab": {
          "base_uri": "https://localhost:8080/"
        }
      },
      "source": [
        "!streamlit run prueba.py"
      ],
      "execution_count": null,
      "outputs": [
        {
          "output_type": "stream",
          "text": [
            "\u001b[0m\n",
            "\u001b[34m\u001b[1m  You can now view your Streamlit app in your browser.\u001b[0m\n",
            "\u001b[0m\n",
            "\u001b[34m  Network URL: \u001b[0m\u001b[1mhttp://172.28.0.2:8501\u001b[0m\n",
            "\u001b[34m  External URL: \u001b[0m\u001b[1mhttp://34.74.2.155:8501\u001b[0m\n",
            "\u001b[0m\n",
            "[nltk_data] Downloading package punkt to /root/nltk_data...\n",
            "[nltk_data]   Package punkt is already up-to-date!\n",
            "[nltk_data] Downloading package stopwords to /root/nltk_data...\n",
            "[nltk_data]   Package stopwords is already up-to-date!\n",
            "tcmalloc: large alloc 2477236224 bytes == 0x3c068000 @  0x7fe3fe6ab001 0x7fe3f966c765 0x7fe3f96d0bb0 0x7fe3f96d2a4f 0x7fe3f9769048 0x50a4a5 0x50cc96 0x5095c8 0x50a2fd 0x50beb4 0x507be4 0x509900 0x50a2fd 0x50beb4 0x507be4 0x509900 0x50a2fd 0x50cc96 0x507be4 0x509900 0x50a2fd 0x50beb4 0x507be4 0x588d41 0x59fd0e 0x50d256 0x507be4 0x588d41 0x59fd0e 0x50d256 0x507be4\n"
          ],
          "name": "stdout"
        }
      ]
    }
  ]
}