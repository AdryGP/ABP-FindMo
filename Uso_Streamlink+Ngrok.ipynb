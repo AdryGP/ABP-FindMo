{
  "nbformat": 4,
  "nbformat_minor": 0,
  "metadata": {
    "colab": {
      "name": "Uso Streamlink+Ngrok.ipynb",
      "provenance": [],
      "collapsed_sections": [],
      "include_colab_link": true
    },
    "kernelspec": {
      "name": "python3",
      "display_name": "Python 3"
    }
  },
  "cells": [
    {
      "cell_type": "markdown",
      "metadata": {
        "id": "view-in-github",
        "colab_type": "text"
      },
      "source": [
        "<a href=\"https://colab.research.google.com/github/AdryGP/ABP-FindMo/blob/main/Uso_Streamlink%2BNgrok.ipynb\" target=\"_parent\"><img src=\"https://colab.research.google.com/assets/colab-badge.svg\" alt=\"Open In Colab\"/></a>"
      ]
    },
    {
      "cell_type": "markdown",
      "metadata": {
        "id": "vWmc_s2ezvU0"
      },
      "source": [
        "#Usar streamlit con ngrok\n"
      ]
    },
    {
      "cell_type": "markdown",
      "metadata": {
        "id": "51eseFfSD6O4"
      },
      "source": [
        "Instalar el streamlit "
      ]
    },
    {
      "cell_type": "code",
      "metadata": {
        "id": "RvlYkCQ9vFiy"
      },
      "source": [
        "!pip install -q streamlit"
      ],
      "execution_count": 32,
      "outputs": []
    },
    {
      "cell_type": "markdown",
      "metadata": {
        "id": "uzvl_5Cv8HeX"
      },
      "source": [
        "Es necesario reiniciar el entorno en entorno de ejecución -> reiniciar entorno de ejecucion"
      ]
    },
    {
      "cell_type": "markdown",
      "metadata": {
        "id": "jnZ0QpzC0UiU"
      },
      "source": [
        "## Importar un streamlink externo "
      ]
    },
    {
      "cell_type": "markdown",
      "metadata": {
        "id": "WcXKWiaEBLWY"
      },
      "source": [
        "En este caso es un ejemplo del github de streamlink llevado a un notebook de google collab, funciona con enlaces a Github tambien"
      ]
    },
    {
      "cell_type": "code",
      "metadata": {
        "id": "S1sic9Rt0T7l",
        "outputId": "2e1a717c-f867-4103-eb5b-c69081f088be",
        "colab": {
          "base_uri": "https://localhost:8080/"
        }
      },
      "source": [
        "!wget https://colab.research.google.com/drive/1Pb5Eab4BraTZLcW2gMvf5kjFEwmk4EPK?usp=sharing"
      ],
      "execution_count": 33,
      "outputs": [
        {
          "output_type": "stream",
          "text": [
            "--2020-11-07 00:26:19--  https://colab.research.google.com/drive/1Pb5Eab4BraTZLcW2gMvf5kjFEwmk4EPK?usp=sharing\n",
            "Resolving colab.research.google.com (colab.research.google.com)... 108.177.126.100, 108.177.126.138, 108.177.126.113, ...\n",
            "Connecting to colab.research.google.com (colab.research.google.com)|108.177.126.100|:443... connected.\n",
            "HTTP request sent, awaiting response... 200 OK\n",
            "Length: unspecified [text/html]\n",
            "Saving to: ‘1Pb5Eab4BraTZLcW2gMvf5kjFEwmk4EPK?usp=sharing’\n",
            "\n",
            "1Pb5Eab4BraTZLcW2gM     [ <=>                ]  68.07K  --.-KB/s    in 0.1s    \n",
            "\n",
            "2020-11-07 00:26:20 (671 KB/s) - ‘1Pb5Eab4BraTZLcW2gMvf5kjFEwmk4EPK?usp=sharing’ saved [69708]\n",
            "\n"
          ],
          "name": "stdout"
        }
      ]
    },
    {
      "cell_type": "markdown",
      "metadata": {
        "id": "encqGJ4u0FYG"
      },
      "source": [
        "Instalar ngrok, permite ejecutar streamlink en un notebook (Se puede comprobar luego que los enlaces que proporciona streamlink no son funcionales)"
      ]
    },
    {
      "cell_type": "code",
      "metadata": {
        "id": "VSPUMEHYwqng",
        "outputId": "e9c03151-aadd-44f1-95da-5d5cfe00fe3e",
        "colab": {
          "base_uri": "https://localhost:8080/"
        }
      },
      "source": [
        "!wget https://bin.equinox.io/c/4VmDzA7iaHb/ngrok-stable-linux-amd64.zip"
      ],
      "execution_count": 34,
      "outputs": [
        {
          "output_type": "stream",
          "text": [
            "--2020-11-07 00:26:26--  https://bin.equinox.io/c/4VmDzA7iaHb/ngrok-stable-linux-amd64.zip\n",
            "Resolving bin.equinox.io (bin.equinox.io)... 54.198.148.204, 3.225.89.236, 54.161.19.10, ...\n",
            "Connecting to bin.equinox.io (bin.equinox.io)|54.198.148.204|:443... connected.\n",
            "HTTP request sent, awaiting response... 200 OK\n",
            "Length: 13773305 (13M) [application/octet-stream]\n",
            "Saving to: ‘ngrok-stable-linux-amd64.zip.3’\n",
            "\n",
            "ngrok-stable-linux- 100%[===================>]  13.13M  13.9MB/s    in 0.9s    \n",
            "\n",
            "2020-11-07 00:26:27 (13.9 MB/s) - ‘ngrok-stable-linux-amd64.zip.3’ saved [13773305/13773305]\n",
            "\n"
          ],
          "name": "stdout"
        }
      ]
    },
    {
      "cell_type": "code",
      "metadata": {
        "id": "6679q_6fwsJH",
        "outputId": "11087dd7-59c0-4e3e-9a0f-9bbe27498fca",
        "colab": {
          "base_uri": "https://localhost:8080/"
        }
      },
      "source": [
        "!unzip ngrok-stable-linux-amd64.zip"
      ],
      "execution_count": 35,
      "outputs": [
        {
          "output_type": "stream",
          "text": [
            "Archive:  ngrok-stable-linux-amd64.zip\n",
            "replace ngrok? [y]es, [n]o, [A]ll, [N]one, [r]ename: y\n",
            "  inflating: ngrok                   \n"
          ],
          "name": "stdout"
        }
      ]
    },
    {
      "cell_type": "markdown",
      "metadata": {
        "id": "9MCkj9sKIQVQ"
      },
      "source": [
        "Comando para abrir el puerto de ngrok y permitir asi conexiones"
      ]
    },
    {
      "cell_type": "code",
      "metadata": {
        "id": "qGCM2OjvxNit"
      },
      "source": [
        "get_ipython().system_raw('./ngrok http 8501 &')"
      ],
      "execution_count": 36,
      "outputs": []
    },
    {
      "cell_type": "code",
      "metadata": {
        "id": "bxwv00hdxedU",
        "outputId": "f63d1323-faaf-46bd-972d-c7db6f76566f",
        "colab": {
          "base_uri": "https://localhost:8080/"
        }
      },
      "source": [
        "!curl -s http://localhost:4040/api/tunnels | python3 -c \\\n",
        "    'import sys, json; print(\"Es importante ejecutar la proxima celda, una vez ejecutada, clickar en el siguiente enlace: \" +json.load(sys.stdin)[\"tunnels\"][0][\"public_url\"])'"
      ],
      "execution_count": 37,
      "outputs": [
        {
          "output_type": "stream",
          "text": [
            "Es importante ejecutar la proxima celda, una vez ejecutada, clickar en el siguiente enlace: https://a0c6af270577.ngrok.io\n"
          ],
          "name": "stdout"
        }
      ]
    },
    {
      "cell_type": "markdown",
      "metadata": {
        "id": "ZRXqs0z_IWyv"
      },
      "source": [
        "Los enlaces que genera streamlit no son usables al estarlo ejecutando en un google colab, es necesario utilizar el enlace de arriba."
      ]
    },
    {
      "cell_type": "code",
      "metadata": {
        "id": "IFvZnzS4vr88",
        "outputId": "6a47ef1d-884a-48f1-acff-3856935d6a99",
        "colab": {
          "base_uri": "https://localhost:8080/"
        }
      },
      "source": [
        "!streamlit run https://github.com/streamlit/streamlit/blob/develop/examples/video.py"
      ],
      "execution_count": null,
      "outputs": [
        {
          "output_type": "stream",
          "text": [
            "\u001b[0m\n",
            "\u001b[34m\u001b[1m  You can now view your Streamlit app in your browser.\u001b[0m\n",
            "\u001b[0m\n",
            "\u001b[34m  Network URL: \u001b[0m\u001b[1mhttp://172.28.0.2:8501\u001b[0m\n",
            "\u001b[34m  External URL: \u001b[0m\u001b[1mhttp://34.90.113.252:8501\u001b[0m\n",
            "\u001b[0m\n"
          ],
          "name": "stdout"
        }
      ]
    }
  ]
}