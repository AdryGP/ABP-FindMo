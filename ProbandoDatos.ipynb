{
  "nbformat": 4,
  "nbformat_minor": 0,
  "metadata": {
    "colab": {
      "name": "ProbandoDatos.ipynb",
      "provenance": [],
      "collapsed_sections": [],
      "toc_visible": true,
      "include_colab_link": true
    },
    "kernelspec": {
      "name": "python3",
      "display_name": "Python 3"
    }
  },
  "cells": [
    {
      "cell_type": "markdown",
      "metadata": {
        "id": "view-in-github",
        "colab_type": "text"
      },
      "source": [
        "<a href=\"https://colab.research.google.com/github/AdryGP/ABP-FindMo/blob/main/ProbandoDatos.ipynb\" target=\"_parent\"><img src=\"https://colab.research.google.com/assets/colab-badge.svg\" alt=\"Open In Colab\"/></a>"
      ]
    },
    {
      "cell_type": "markdown",
      "metadata": {
        "id": "shhvx-bDjp7R"
      },
      "source": [
        "\n",
        "\n",
        "# > ***Procesamiento de datasets con web scraping a IMDB*** \n",
        "\n",
        "---\n",
        "\n",
        "\n",
        "\n"
      ]
    },
    {
      "cell_type": "markdown",
      "metadata": {
        "id": "UEYDEhdtjd74"
      },
      "source": [
        "Descarga de los datasets necesarios\n"
      ]
    },
    {
      "cell_type": "code",
      "metadata": {
        "id": "jHG6fBbna0gY",
        "outputId": "434a3a4f-86e1-41db-8947-84f29276fbf8",
        "colab": {
          "base_uri": "https://localhost:8080/",
          "height": 173
        }
      },
      "source": [
        "!mkdir -p original_datasets/series \n",
        "\n",
        "!mkdir -p system_datasets\n",
        "\n",
        "import gdown as gd\n",
        "\n",
        "gd.download('https://drive.google.com/uc?export=download&id=1z3skc_GyMiB4j0CzeSfOZGawHheIoJHD', 'original_datasets/series/disney_plus_shows.csv', quiet=False)\n",
        "gd.download('https://drive.google.com/uc?export=download&id=1-Fy2O1E393Da3jpBu2CCO35FRziqE1BV', 'original_datasets/series/netflix_titles.csv', quiet=False)\n",
        "\n"
      ],
      "execution_count": 19,
      "outputs": [
        {
          "output_type": "stream",
          "text": [
            "Downloading...\n",
            "From: https://drive.google.com/uc?export=download&id=1z3skc_GyMiB4j0CzeSfOZGawHheIoJHD\n",
            "To: /content/original_datasets/series/disney_plus_shows.csv\n",
            "100%|██████████| 418k/418k [00:00<00:00, 56.2MB/s]\n",
            "Downloading...\n",
            "From: https://drive.google.com/uc?export=download&id=1-Fy2O1E393Da3jpBu2CCO35FRziqE1BV\n",
            "To: /content/original_datasets/series/netflix_titles.csv\n",
            "2.41MB [00:00, 132MB/s]\n"
          ],
          "name": "stderr"
        },
        {
          "output_type": "execute_result",
          "data": {
            "application/vnd.google.colaboratory.intrinsic+json": {
              "type": "string"
            },
            "text/plain": [
              "'original_datasets/series/netflix_titles.csv'"
            ]
          },
          "metadata": {
            "tags": []
          },
          "execution_count": 19
        }
      ]
    },
    {
      "cell_type": "markdown",
      "metadata": {
        "id": "_IQ6jlDXkEwV"
      },
      "source": [
        "Se carga y se procesa el dataset de descripciones de disney plus con los campos ('id_obra', 'medio', 'nombre', 'descripcion') ya que se dispone de todos los datos en el dataset original\n"
      ]
    },
    {
      "cell_type": "code",
      "metadata": {
        "id": "46AbjK44ovcS",
        "outputId": "184647fc-b2f8-4b23-eb39-a61b3b803b9f",
        "colab": {
          "base_uri": "https://localhost:8080/",
          "height": 408
        }
      },
      "source": [
        "import pandas as pd\n",
        "import requests\n",
        "from bs4 import BeautifulSoup\n",
        "import re\n",
        "import numpy as np\n",
        "import itertools\n",
        "import time\n",
        "\n",
        "\n",
        "\n",
        "\n",
        "original_disney_plus=pd.read_csv(\"original_datasets/series/disney_plus_shows.csv\")\n",
        "\n",
        "\n",
        "original_disney_plus = original_disney_plus[original_disney_plus['type'] == 'series']\n",
        "\n",
        "\n",
        "\n",
        "original_disney_plus = original_disney_plus.copy()\n",
        "original_disney_plus.insert(0, 'id_obra', range(0, len(original_disney_plus)))\n",
        "original_disney_plus = original_disney_plus.assign(id_obra=lambda x: 'S'+x.id_obra.astype(str))\n",
        "\n",
        "\n",
        "\n",
        "original_disney_plus = original_disney_plus.rename(columns={'title':'nombre', 'plot':'descripcion'})\n",
        "\n",
        "original_disney_plus = original_disney_plus.assign(medio='S')\n",
        "\n",
        "original_disney_plus[['id_obra', 'medio', 'nombre', 'descripcion']].to_csv('original_datasets/series/disneyplusDescription.csv', index=False)\n",
        "\n",
        "disney_plus=pd.read_csv(\"original_datasets/series/disneyplusDescription.csv\")\n",
        "\n",
        "\n",
        "disney_plus\n"
      ],
      "execution_count": 20,
      "outputs": [
        {
          "output_type": "execute_result",
          "data": {
            "text/html": [
              "<div>\n",
              "<style scoped>\n",
              "    .dataframe tbody tr th:only-of-type {\n",
              "        vertical-align: middle;\n",
              "    }\n",
              "\n",
              "    .dataframe tbody tr th {\n",
              "        vertical-align: top;\n",
              "    }\n",
              "\n",
              "    .dataframe thead th {\n",
              "        text-align: right;\n",
              "    }\n",
              "</style>\n",
              "<table border=\"1\" class=\"dataframe\">\n",
              "  <thead>\n",
              "    <tr style=\"text-align: right;\">\n",
              "      <th></th>\n",
              "      <th>id_obra</th>\n",
              "      <th>medio</th>\n",
              "      <th>nombre</th>\n",
              "      <th>descripcion</th>\n",
              "    </tr>\n",
              "  </thead>\n",
              "  <tbody>\n",
              "    <tr>\n",
              "      <th>0</th>\n",
              "      <td>S0</td>\n",
              "      <td>S</td>\n",
              "      <td>101 Dalmatian Street</td>\n",
              "      <td>This series follows the lives of Delilah and D...</td>\n",
              "    </tr>\n",
              "    <tr>\n",
              "      <th>1</th>\n",
              "      <td>S1</td>\n",
              "      <td>S</td>\n",
              "      <td>America's Funniest Home Videos</td>\n",
              "      <td>Viewers from around America send in home video...</td>\n",
              "    </tr>\n",
              "    <tr>\n",
              "      <th>2</th>\n",
              "      <td>S2</td>\n",
              "      <td>S</td>\n",
              "      <td>America's National Parks</td>\n",
              "      <td>Series exploring the incredible wildlife of Am...</td>\n",
              "    </tr>\n",
              "    <tr>\n",
              "      <th>3</th>\n",
              "      <td>S3</td>\n",
              "      <td>S</td>\n",
              "      <td>Andi Mack</td>\n",
              "      <td>A contemporary coming-of-age story about a gir...</td>\n",
              "    </tr>\n",
              "    <tr>\n",
              "      <th>4</th>\n",
              "      <td>S4</td>\n",
              "      <td>S</td>\n",
              "      <td>Austin &amp; Ally</td>\n",
              "      <td>Following the lives of Austin, an aspiring con...</td>\n",
              "    </tr>\n",
              "    <tr>\n",
              "      <th>...</th>\n",
              "      <td>...</td>\n",
              "      <td>...</td>\n",
              "      <td>...</td>\n",
              "      <td>...</td>\n",
              "    </tr>\n",
              "    <tr>\n",
              "      <th>186</th>\n",
              "      <td>S186</td>\n",
              "      <td>S</td>\n",
              "      <td>Wizards of Waverly Place</td>\n",
              "      <td>The Russo family may be an ordinary family wit...</td>\n",
              "    </tr>\n",
              "    <tr>\n",
              "      <th>187</th>\n",
              "      <td>S187</td>\n",
              "      <td>S</td>\n",
              "      <td>Wolverine and the X-Men</td>\n",
              "      <td>After an explosion at the school, the X-Men we...</td>\n",
              "    </tr>\n",
              "    <tr>\n",
              "      <th>188</th>\n",
              "      <td>S188</td>\n",
              "      <td>S</td>\n",
              "      <td>BarkFest</td>\n",
              "      <td>Nat Geo WILD celebrates pawsome dogs with its ...</td>\n",
              "    </tr>\n",
              "    <tr>\n",
              "      <th>189</th>\n",
              "      <td>S189</td>\n",
              "      <td>S</td>\n",
              "      <td>X-Men: Evolution</td>\n",
              "      <td>This rendition of X-Men features Cyclops, Jean...</td>\n",
              "    </tr>\n",
              "    <tr>\n",
              "      <th>190</th>\n",
              "      <td>S190</td>\n",
              "      <td>S</td>\n",
              "      <td>Year Million</td>\n",
              "      <td>An in depth look into what our future will loo...</td>\n",
              "    </tr>\n",
              "  </tbody>\n",
              "</table>\n",
              "<p>191 rows × 4 columns</p>\n",
              "</div>"
            ],
            "text/plain": [
              "    id_obra  ...                                        descripcion\n",
              "0        S0  ...  This series follows the lives of Delilah and D...\n",
              "1        S1  ...  Viewers from around America send in home video...\n",
              "2        S2  ...  Series exploring the incredible wildlife of Am...\n",
              "3        S3  ...  A contemporary coming-of-age story about a gir...\n",
              "4        S4  ...  Following the lives of Austin, an aspiring con...\n",
              "..      ...  ...                                                ...\n",
              "186    S186  ...  The Russo family may be an ordinary family wit...\n",
              "187    S187  ...  After an explosion at the school, the X-Men we...\n",
              "188    S188  ...  Nat Geo WILD celebrates pawsome dogs with its ...\n",
              "189    S189  ...  This rendition of X-Men features Cyclops, Jean...\n",
              "190    S190  ...  An in depth look into what our future will loo...\n",
              "\n",
              "[191 rows x 4 columns]"
            ]
          },
          "metadata": {
            "tags": []
          },
          "execution_count": 20
        }
      ]
    },
    {
      "cell_type": "markdown",
      "metadata": {
        "id": "5wXicnVtkpys"
      },
      "source": [
        "Funciones usadas en el web scraping para IMDB"
      ]
    },
    {
      "cell_type": "code",
      "metadata": {
        "id": "xQb5vwd847Xz"
      },
      "source": [
        "##############################\n",
        "#  Module: imdbUtils.py\n",
        "#  Author: Shravan Kuchkula\n",
        "#  Date: 07/13/2019\n",
        "##############################\n",
        "\n",
        "import requests\n",
        "from bs4 import BeautifulSoup\n",
        "\n",
        "def getSoup(url):\n",
        "    \"\"\"\n",
        "    Utility function which takes a url and returns a Soup object.\n",
        "    \"\"\"\n",
        "    response = requests.get(url)\n",
        "    soup = BeautifulSoup(response.text, 'html.parser')\n",
        "    \n",
        "    return soup\n",
        "\n",
        "def minMax(a):\n",
        "    '''Returns the index of negative and positive review.'''\n",
        "    \n",
        "    # get the index of least rated user review\n",
        "    minpos = a.index(min(a))\n",
        "    \n",
        "    # get the index of highest rated user review\n",
        "    maxpos = a.index(max(a))\n",
        "    \n",
        "    return minpos, maxpos\n",
        "\n",
        "def getReviews(soup):\n",
        "    '''Function returns a negative and positive review for each movie.'''\n",
        "    \n",
        "    # get a list of user ratings\n",
        "    user_review_ratings = [tag.previous_element for tag in \n",
        "                           soup.find_all('span', attrs={'class': 'point-scale'})]\n",
        "    \n",
        "    \n",
        "    # find the index of negative and positive review\n",
        "    n_index, p_index = minMax(list(map(int, user_review_ratings)))\n",
        "    \n",
        "    \n",
        "    # get the review tags\n",
        "    user_review_list = soup.find_all('a', attrs={'class':'title'})\n",
        "    \n",
        "    \n",
        "    # get the negative and positive review tags\n",
        "    n_review_tag = user_review_list[n_index]\n",
        "    p_review_tag = user_review_list[p_index]\n",
        "    \n",
        "    # return the negative and positive review link\n",
        "    n_review_link = \"https://www.imdb.com\" + n_review_tag['href']\n",
        "    p_review_link = \"https://www.imdb.com\" + p_review_tag['href']\n",
        "    \n",
        "    return n_review_link, p_review_link\n",
        "\n",
        "def getReviewText(review_url):\n",
        "    '''Returns the user review text given the review url.'''\n",
        "    \n",
        "    # get the review_url's soup\n",
        "    soup = getSoup(review_url)\n",
        "    \n",
        "    # find div tags with class text show-more__control\n",
        "    tag = soup.find('div', attrs={'class': 'text show-more__control'})\n",
        "    \n",
        "    return tag.getText()\n",
        "\n",
        "\n",
        "def getQualifications(review_url):\n",
        "    '''Returns the user review text given the review url.'''\n",
        "    \n",
        "    # get the review_url's soup\n",
        "    soup = getSoup(review_url)\n",
        "    \n",
        "    # find div tags with class text show-more__control\n",
        "    tag = soup.find('span', attrs={'class': 'rating-other-user-rating'})\n",
        "    \n",
        "    return tag.getText()  \n",
        "\n",
        "\n",
        "def getMovieTitle(review_url):\n",
        "    '''Returns the movie title from the review url.'''\n",
        "    \n",
        "    # get the review_url's soup\n",
        "    soup = getSoup(review_url)\n",
        "    \n",
        "    # find h1 tag\n",
        "    tag = soup.find('h1')\n",
        "    \n",
        "    return list(tag.children)[1].getText()\n",
        "\n",
        "def getNounChunks(user_review):\n",
        "    \n",
        "    # create the doc object\n",
        "    doc = nlp(user_review)\n",
        "    \n",
        "    # get a list of noun_chunks\n",
        "    noun_chunks = list(doc.noun_chunks)\n",
        "    \n",
        "    # convert noun_chunks from span objects to strings, otherwise it won't pickle\n",
        "    noun_chunks_strlist = [chunk.text for chunk in noun_chunks]\n",
        "    \n",
        "    return noun_chunks_strlist"
      ],
      "execution_count": 21,
      "outputs": []
    },
    {
      "cell_type": "markdown",
      "metadata": {
        "id": "GtaEvCH2kwvu"
      },
      "source": [
        "Como se necesitan las reviews se obtiene la dirección de cada review de todas las series del dataset"
      ]
    },
    {
      "cell_type": "code",
      "metadata": {
        "id": "ynhmvgnf6mL_",
        "outputId": "3c809f60-8161-44bd-9532-31305ad7bb4a",
        "colab": {
          "base_uri": "https://localhost:8080/",
          "height": 1000
        }
      },
      "source": [
        "base_url = \"https://www.imdb.com\"\n",
        "original_disney_plus = original_disney_plus.copy()\n",
        "\n",
        "original_disney_plus.insert(0,'reviews',base_url + '/title/' + original_disney_plus['imdb_id'] + '/reviews')\n",
        "\n",
        "original_disney_plus"
      ],
      "execution_count": 22,
      "outputs": [
        {
          "output_type": "execute_result",
          "data": {
            "text/html": [
              "<div>\n",
              "<style scoped>\n",
              "    .dataframe tbody tr th:only-of-type {\n",
              "        vertical-align: middle;\n",
              "    }\n",
              "\n",
              "    .dataframe tbody tr th {\n",
              "        vertical-align: top;\n",
              "    }\n",
              "\n",
              "    .dataframe thead th {\n",
              "        text-align: right;\n",
              "    }\n",
              "</style>\n",
              "<table border=\"1\" class=\"dataframe\">\n",
              "  <thead>\n",
              "    <tr style=\"text-align: right;\">\n",
              "      <th></th>\n",
              "      <th>reviews</th>\n",
              "      <th>id_obra</th>\n",
              "      <th>imdb_id</th>\n",
              "      <th>nombre</th>\n",
              "      <th>descripcion</th>\n",
              "      <th>type</th>\n",
              "      <th>rated</th>\n",
              "      <th>year</th>\n",
              "      <th>released_at</th>\n",
              "      <th>added_at</th>\n",
              "      <th>runtime</th>\n",
              "      <th>genre</th>\n",
              "      <th>director</th>\n",
              "      <th>writer</th>\n",
              "      <th>actors</th>\n",
              "      <th>language</th>\n",
              "      <th>country</th>\n",
              "      <th>awards</th>\n",
              "      <th>metascore</th>\n",
              "      <th>imdb_rating</th>\n",
              "      <th>imdb_votes</th>\n",
              "      <th>medio</th>\n",
              "    </tr>\n",
              "  </thead>\n",
              "  <tbody>\n",
              "    <tr>\n",
              "      <th>1</th>\n",
              "      <td>https://www.imdb.com/title/tt7019028/reviews</td>\n",
              "      <td>S0</td>\n",
              "      <td>tt7019028</td>\n",
              "      <td>101 Dalmatian Street</td>\n",
              "      <td>This series follows the lives of Delilah and D...</td>\n",
              "      <td>series</td>\n",
              "      <td>NaN</td>\n",
              "      <td>2018–</td>\n",
              "      <td>25 Mar 2019</td>\n",
              "      <td>February 28, 2020</td>\n",
              "      <td>NaN</td>\n",
              "      <td>Animation, Comedy, Family</td>\n",
              "      <td>NaN</td>\n",
              "      <td>NaN</td>\n",
              "      <td>Josh Brener, Michaela Dietz, Bert Davis, Abiga...</td>\n",
              "      <td>English</td>\n",
              "      <td>UK, USA, Canada</td>\n",
              "      <td>NaN</td>\n",
              "      <td>NaN</td>\n",
              "      <td>6.2</td>\n",
              "      <td>124</td>\n",
              "      <td>S</td>\n",
              "    </tr>\n",
              "    <tr>\n",
              "      <th>25</th>\n",
              "      <td>https://www.imdb.com/title/tt0098740/reviews</td>\n",
              "      <td>S1</td>\n",
              "      <td>tt0098740</td>\n",
              "      <td>America's Funniest Home Videos</td>\n",
              "      <td>Viewers from around America send in home video...</td>\n",
              "      <td>series</td>\n",
              "      <td>TV-PG</td>\n",
              "      <td>1989–</td>\n",
              "      <td>26 Nov 1989</td>\n",
              "      <td>April 24, 2020</td>\n",
              "      <td>30 min</td>\n",
              "      <td>Comedy, Family, Reality-TV</td>\n",
              "      <td>NaN</td>\n",
              "      <td>NaN</td>\n",
              "      <td>Jess Harnell, Tom Bergeron, Bob Saget, Ernie A...</td>\n",
              "      <td>English</td>\n",
              "      <td>USA</td>\n",
              "      <td>4 wins &amp; 6 nominations.</td>\n",
              "      <td>NaN</td>\n",
              "      <td>6.2</td>\n",
              "      <td>4,652</td>\n",
              "      <td>S</td>\n",
              "    </tr>\n",
              "    <tr>\n",
              "      <th>27</th>\n",
              "      <td>https://www.imdb.com/title/tt4622802/reviews</td>\n",
              "      <td>S2</td>\n",
              "      <td>tt4622802</td>\n",
              "      <td>America's National Parks</td>\n",
              "      <td>Series exploring the incredible wildlife of Am...</td>\n",
              "      <td>series</td>\n",
              "      <td>TV-G</td>\n",
              "      <td>2015–</td>\n",
              "      <td>06 Dec 2015</td>\n",
              "      <td>January 15, 2020</td>\n",
              "      <td>NaN</td>\n",
              "      <td>Documentary</td>\n",
              "      <td>NaN</td>\n",
              "      <td>NaN</td>\n",
              "      <td>NaN</td>\n",
              "      <td>English</td>\n",
              "      <td>USA</td>\n",
              "      <td>NaN</td>\n",
              "      <td>NaN</td>\n",
              "      <td>7.9</td>\n",
              "      <td>73</td>\n",
              "      <td>S</td>\n",
              "    </tr>\n",
              "    <tr>\n",
              "      <th>30</th>\n",
              "      <td>https://www.imdb.com/title/tt5195114/reviews</td>\n",
              "      <td>S3</td>\n",
              "      <td>tt5195114</td>\n",
              "      <td>Andi Mack</td>\n",
              "      <td>A contemporary coming-of-age story about a gir...</td>\n",
              "      <td>series</td>\n",
              "      <td>TV-G</td>\n",
              "      <td>2017–2019</td>\n",
              "      <td>10 Mar 2017</td>\n",
              "      <td>November 12, 2019</td>\n",
              "      <td>25 min</td>\n",
              "      <td>Comedy, Family</td>\n",
              "      <td>NaN</td>\n",
              "      <td>Terri Minsky</td>\n",
              "      <td>Peyton Elizabeth Lee, Joshua Rush, Sofia Wylie...</td>\n",
              "      <td>English</td>\n",
              "      <td>USA</td>\n",
              "      <td>3 wins &amp; 6 nominations.</td>\n",
              "      <td>NaN</td>\n",
              "      <td>7.3</td>\n",
              "      <td>1,723</td>\n",
              "      <td>S</td>\n",
              "    </tr>\n",
              "    <tr>\n",
              "      <th>39</th>\n",
              "      <td>https://www.imdb.com/title/tt1830491/reviews</td>\n",
              "      <td>S4</td>\n",
              "      <td>tt1830491</td>\n",
              "      <td>Austin &amp; Ally</td>\n",
              "      <td>Following the lives of Austin, an aspiring con...</td>\n",
              "      <td>series</td>\n",
              "      <td>TV-G</td>\n",
              "      <td>2011–2016</td>\n",
              "      <td>02 Dec 2011</td>\n",
              "      <td>January 1, 2020</td>\n",
              "      <td>30 min</td>\n",
              "      <td>Comedy, Family, Music</td>\n",
              "      <td>NaN</td>\n",
              "      <td>Kevin Kopelow, Heath Seifert</td>\n",
              "      <td>Ross Lynch, Laura Marano, Raini Rodriguez, Cal...</td>\n",
              "      <td>English</td>\n",
              "      <td>USA</td>\n",
              "      <td>10 wins &amp; 14 nominations.</td>\n",
              "      <td>NaN</td>\n",
              "      <td>5.9</td>\n",
              "      <td>8,666</td>\n",
              "      <td>S</td>\n",
              "    </tr>\n",
              "    <tr>\n",
              "      <th>...</th>\n",
              "      <td>...</td>\n",
              "      <td>...</td>\n",
              "      <td>...</td>\n",
              "      <td>...</td>\n",
              "      <td>...</td>\n",
              "      <td>...</td>\n",
              "      <td>...</td>\n",
              "      <td>...</td>\n",
              "      <td>...</td>\n",
              "      <td>...</td>\n",
              "      <td>...</td>\n",
              "      <td>...</td>\n",
              "      <td>...</td>\n",
              "      <td>...</td>\n",
              "      <td>...</td>\n",
              "      <td>...</td>\n",
              "      <td>...</td>\n",
              "      <td>...</td>\n",
              "      <td>...</td>\n",
              "      <td>...</td>\n",
              "      <td>...</td>\n",
              "      <td>...</td>\n",
              "    </tr>\n",
              "    <tr>\n",
              "      <th>974</th>\n",
              "      <td>https://www.imdb.com/title/tt0799922/reviews</td>\n",
              "      <td>S186</td>\n",
              "      <td>tt0799922</td>\n",
              "      <td>Wizards of Waverly Place</td>\n",
              "      <td>The Russo family may be an ordinary family wit...</td>\n",
              "      <td>series</td>\n",
              "      <td>TV-G</td>\n",
              "      <td>2007–2012</td>\n",
              "      <td>12 Oct 2007</td>\n",
              "      <td>November 12, 2019</td>\n",
              "      <td>22 min</td>\n",
              "      <td>Adventure, Comedy, Drama, Family, Fantasy</td>\n",
              "      <td>NaN</td>\n",
              "      <td>Todd J. Greenwald</td>\n",
              "      <td>Selena Gomez, David Henrie, Jake T. Austin, Je...</td>\n",
              "      <td>English</td>\n",
              "      <td>USA</td>\n",
              "      <td>Won 2 Primetime Emmys. Another 35 wins &amp; 50 no...</td>\n",
              "      <td>NaN</td>\n",
              "      <td>6.8</td>\n",
              "      <td>27,826</td>\n",
              "      <td>S</td>\n",
              "    </tr>\n",
              "    <tr>\n",
              "      <th>976</th>\n",
              "      <td>https://www.imdb.com/title/tt0772145/reviews</td>\n",
              "      <td>S187</td>\n",
              "      <td>tt0772145</td>\n",
              "      <td>Wolverine and the X-Men</td>\n",
              "      <td>After an explosion at the school, the X-Men we...</td>\n",
              "      <td>series</td>\n",
              "      <td>TV-Y7</td>\n",
              "      <td>2008–2009</td>\n",
              "      <td>23 Jan 2009</td>\n",
              "      <td>November 12, 2019</td>\n",
              "      <td>23 min</td>\n",
              "      <td>Animation, Action, Adventure, Drama, Sci-Fi</td>\n",
              "      <td>NaN</td>\n",
              "      <td>NaN</td>\n",
              "      <td>Steve Blum, Jim Ward, Nolan North, Fred Tatasc...</td>\n",
              "      <td>English</td>\n",
              "      <td>USA</td>\n",
              "      <td>NaN</td>\n",
              "      <td>NaN</td>\n",
              "      <td>8.0</td>\n",
              "      <td>9,497</td>\n",
              "      <td>S</td>\n",
              "    </tr>\n",
              "    <tr>\n",
              "      <th>977</th>\n",
              "      <td>https://www.imdb.com/title/tt6959706/reviews</td>\n",
              "      <td>S188</td>\n",
              "      <td>tt6959706</td>\n",
              "      <td>BarkFest</td>\n",
              "      <td>Nat Geo WILD celebrates pawsome dogs with its ...</td>\n",
              "      <td>series</td>\n",
              "      <td>NaN</td>\n",
              "      <td>2017–</td>\n",
              "      <td>NaN</td>\n",
              "      <td>November 12, 2019</td>\n",
              "      <td>35 min</td>\n",
              "      <td>NaN</td>\n",
              "      <td>NaN</td>\n",
              "      <td>NaN</td>\n",
              "      <td>NaN</td>\n",
              "      <td>English</td>\n",
              "      <td>USA</td>\n",
              "      <td>NaN</td>\n",
              "      <td>NaN</td>\n",
              "      <td>NaN</td>\n",
              "      <td>NaN</td>\n",
              "      <td>S</td>\n",
              "    </tr>\n",
              "    <tr>\n",
              "      <th>979</th>\n",
              "      <td>https://www.imdb.com/title/tt0247827/reviews</td>\n",
              "      <td>S189</td>\n",
              "      <td>tt0247827</td>\n",
              "      <td>X-Men: Evolution</td>\n",
              "      <td>This rendition of X-Men features Cyclops, Jean...</td>\n",
              "      <td>series</td>\n",
              "      <td>TV-Y7</td>\n",
              "      <td>2000–2003</td>\n",
              "      <td>04 Nov 2000</td>\n",
              "      <td>November 12, 2019</td>\n",
              "      <td>23 min</td>\n",
              "      <td>Animation, Action, Drama, Fantasy, Romance, Sc...</td>\n",
              "      <td>NaN</td>\n",
              "      <td>NaN</td>\n",
              "      <td>Kirby Morrow, Venus Terzo, David Kaye, Brad Sw...</td>\n",
              "      <td>English</td>\n",
              "      <td>USA</td>\n",
              "      <td>3 wins &amp; 6 nominations.</td>\n",
              "      <td>NaN</td>\n",
              "      <td>7.9</td>\n",
              "      <td>9,763</td>\n",
              "      <td>S</td>\n",
              "    </tr>\n",
              "    <tr>\n",
              "      <th>981</th>\n",
              "      <td>https://www.imdb.com/title/tt6945708/reviews</td>\n",
              "      <td>S190</td>\n",
              "      <td>tt6945708</td>\n",
              "      <td>Year Million</td>\n",
              "      <td>An in depth look into what our future will loo...</td>\n",
              "      <td>series</td>\n",
              "      <td>NaN</td>\n",
              "      <td>2017</td>\n",
              "      <td>15 May 2017</td>\n",
              "      <td>January 1, 2020</td>\n",
              "      <td>NaN</td>\n",
              "      <td>Documentary, Drama, Sci-Fi</td>\n",
              "      <td>NaN</td>\n",
              "      <td>NaN</td>\n",
              "      <td>Laurence Fishburne, Miklós Bányai, Joe Corriga...</td>\n",
              "      <td>English</td>\n",
              "      <td>USA</td>\n",
              "      <td>NaN</td>\n",
              "      <td>NaN</td>\n",
              "      <td>7.5</td>\n",
              "      <td>324</td>\n",
              "      <td>S</td>\n",
              "    </tr>\n",
              "  </tbody>\n",
              "</table>\n",
              "<p>191 rows × 22 columns</p>\n",
              "</div>"
            ],
            "text/plain": [
              "                                          reviews id_obra  ... imdb_votes medio\n",
              "1    https://www.imdb.com/title/tt7019028/reviews      S0  ...        124     S\n",
              "25   https://www.imdb.com/title/tt0098740/reviews      S1  ...      4,652     S\n",
              "27   https://www.imdb.com/title/tt4622802/reviews      S2  ...         73     S\n",
              "30   https://www.imdb.com/title/tt5195114/reviews      S3  ...      1,723     S\n",
              "39   https://www.imdb.com/title/tt1830491/reviews      S4  ...      8,666     S\n",
              "..                                            ...     ...  ...        ...   ...\n",
              "974  https://www.imdb.com/title/tt0799922/reviews    S186  ...     27,826     S\n",
              "976  https://www.imdb.com/title/tt0772145/reviews    S187  ...      9,497     S\n",
              "977  https://www.imdb.com/title/tt6959706/reviews    S188  ...        NaN     S\n",
              "979  https://www.imdb.com/title/tt0247827/reviews    S189  ...      9,763     S\n",
              "981  https://www.imdb.com/title/tt6945708/reviews    S190  ...        324     S\n",
              "\n",
              "[191 rows x 22 columns]"
            ]
          },
          "metadata": {
            "tags": []
          },
          "execution_count": 22
        }
      ]
    },
    {
      "cell_type": "markdown",
      "metadata": {
        "id": "dobS_BpflAXp"
      },
      "source": [
        "Se transforman las urls del dataset a una lista para que sean usables por las funciones de web scraping"
      ]
    },
    {
      "cell_type": "code",
      "metadata": {
        "id": "Uv_DbTY_AIxI"
      },
      "source": [
        "movie_links=original_disney_plus['reviews'].tolist()"
      ],
      "execution_count": null,
      "outputs": []
    },
    {
      "cell_type": "markdown",
      "metadata": {
        "id": "BaqXqi98lQOh"
      },
      "source": [
        "Se obtiene la dirección de cada review individual"
      ]
    },
    {
      "cell_type": "code",
      "metadata": {
        "id": "_5q41EJsHpVc"
      },
      "source": [
        "movie_soups =[]\n",
        "for val in movie_links:\n",
        "  try:\n",
        "    var = getReviews(getSoup(val))\n",
        "    movie_soups.append(var)\n",
        "  except:\n",
        "    pass\n",
        "    \n"
      ],
      "execution_count": 24,
      "outputs": []
    },
    {
      "cell_type": "code",
      "metadata": {
        "id": "-jF7D9XZKHrm"
      },
      "source": [
        "movie_soups = list(itertools.chain(*movie_soups))\n"
      ],
      "execution_count": 25,
      "outputs": []
    },
    {
      "cell_type": "markdown",
      "metadata": {
        "id": "NMdvXVtsmnE4"
      },
      "source": [
        "Se obtiene el texto de cada review"
      ]
    },
    {
      "cell_type": "code",
      "metadata": {
        "id": "T1Z-WvKDcjLS"
      },
      "source": [
        "review_texts =[]\n",
        "for val in movie_soups:\n",
        "  \n",
        "  try:\n",
        "    var = getReviewText(val)\n",
        "    review_texts.append(var)\n",
        "  except:\n",
        "    pass"
      ],
      "execution_count": 26,
      "outputs": []
    },
    {
      "cell_type": "markdown",
      "metadata": {
        "id": "Vy8-kbPdlcUe"
      },
      "source": [
        "Se obtiene el título de la obra al que corresponde dicha review"
      ]
    },
    {
      "cell_type": "code",
      "metadata": {
        "id": "_1s5KgFBfqsl"
      },
      "source": [
        "titles =[]\n",
        "for val in movie_soups:\n",
        "  \n",
        "  try:\n",
        "    var = getMovieTitle(val)\n",
        "    titles.append(var)\n",
        "  except:\n",
        "    pass"
      ],
      "execution_count": 27,
      "outputs": []
    },
    {
      "cell_type": "markdown",
      "metadata": {
        "id": "AS1r4-pTlhcS"
      },
      "source": [
        "Se obtiene la calificación de cada review"
      ]
    },
    {
      "cell_type": "code",
      "metadata": {
        "id": "z-3txDB7rPXj"
      },
      "source": [
        "qualifications =[]\n",
        "for val in movie_soups:\n",
        "  \n",
        "  try:\n",
        "    var = getQualifications(val)\n",
        "    qualifications.append(var)\n",
        "  except:\n",
        "    qualifications.append('null/')\n",
        "    pass"
      ],
      "execution_count": 28,
      "outputs": []
    },
    {
      "cell_type": "markdown",
      "metadata": {
        "id": "As8WjTfXlmdN"
      },
      "source": [
        "Se usa el criterio que hemos estipulado de +/-/~ dependiendo de la nota de cada review ya que sus notas oscilan de 0/10 en su origen"
      ]
    },
    {
      "cell_type": "code",
      "metadata": {
        "id": "6orHTUnXrr37"
      },
      "source": [
        "sentiment=[]\n",
        "for val in qualifications:\n",
        "  val.replace('\\\\n','')\n",
        "  val=val.strip()\n",
        "  var=val.find('/')\n",
        "  val=val[0:var]\n",
        "  if val!='null':\n",
        "    if int(val)>5:\n",
        "      sentiment.append(\"+\")\n",
        "    elif int(val)==5:\n",
        "      sentiment.append(\"~\")\n",
        "    else:\n",
        "      sentiment.append(\"-\")\n",
        "  else:\n",
        "    sentiment.append('null')\n",
        "\n"
      ],
      "execution_count": 29,
      "outputs": []
    },
    {
      "cell_type": "markdown",
      "metadata": {
        "id": "pCeDg5y4l4il"
      },
      "source": [
        "Se crea el dataframe con los datos necesarios para el csv de valoraciones( 'id_obra', 'comentario', 'valoracion') el id se obtiene a partir del dataset de descripciones usando un join de los mismos"
      ]
    },
    {
      "cell_type": "code",
      "metadata": {
        "id": "naFZNPs3mSyh"
      },
      "source": [
        "df = pd.DataFrame({'nombre': titles,\n",
        "             'comentario': review_texts,'valoracion': sentiment})\n",
        "\n",
        "\n",
        "frames=[df,disney_plus]\n",
        "\n",
        "dff=pd.merge(df,disney_plus,how='inner',on=['nombre'])\n",
        "\n",
        "\n",
        "dff[['id_obra', 'comentario', 'valoracion',]].to_csv('original_datasets/series/disneyplusValoracion.csv', index=False)\n",
        "\n",
        "dff=pd.read_csv('original_datasets/series/disneyplusValoracion.csv')\n",
        "\n",
        "\n"
      ],
      "execution_count": 30,
      "outputs": []
    },
    {
      "cell_type": "markdown",
      "metadata": {
        "id": "r4MW5WGcmS5O"
      },
      "source": [
        "Se obtiene el dataset de descripciones de netflix con los campos estipulados('id_obra', 'medio', 'nombre', 'descripcion')"
      ]
    },
    {
      "cell_type": "code",
      "metadata": {
        "id": "B8wn2oinHWK2",
        "outputId": "d1062916-5501-4a77-8a42-6dced9e0722e",
        "colab": {
          "base_uri": "https://localhost:8080/",
          "height": 408
        }
      },
      "source": [
        "netflix=pd.read_csv('original_datasets/series/netflix_titles.csv')\n",
        "netflix = netflix[netflix['type'] == 'TV Show']\n",
        "\n",
        "netflix = netflix.copy()\n",
        "netflix.insert(0, 'id_obra', range(0, len(netflix)))\n",
        "netflix = netflix.assign(id_obra=lambda x: 'S'+x.id_obra.astype(str))\n",
        "\n",
        "netflix = netflix.rename(columns={'title':'nombre', 'description':'descripcion'})\n",
        "\n",
        "netflix = netflix.assign(medio='S')\n",
        "\n",
        "netflix[['id_obra', 'medio', 'nombre', 'descripcion']].to_csv('original_datasets/series/netflixDescription.csv', index=False)\n",
        "\n",
        "netflix=pd.read_csv('original_datasets/series/netflixDescription.csv')\n",
        "netflix"
      ],
      "execution_count": 31,
      "outputs": [
        {
          "output_type": "execute_result",
          "data": {
            "text/html": [
              "<div>\n",
              "<style scoped>\n",
              "    .dataframe tbody tr th:only-of-type {\n",
              "        vertical-align: middle;\n",
              "    }\n",
              "\n",
              "    .dataframe tbody tr th {\n",
              "        vertical-align: top;\n",
              "    }\n",
              "\n",
              "    .dataframe thead th {\n",
              "        text-align: right;\n",
              "    }\n",
              "</style>\n",
              "<table border=\"1\" class=\"dataframe\">\n",
              "  <thead>\n",
              "    <tr style=\"text-align: right;\">\n",
              "      <th></th>\n",
              "      <th>id_obra</th>\n",
              "      <th>medio</th>\n",
              "      <th>nombre</th>\n",
              "      <th>descripcion</th>\n",
              "    </tr>\n",
              "  </thead>\n",
              "  <tbody>\n",
              "    <tr>\n",
              "      <th>0</th>\n",
              "      <td>S0</td>\n",
              "      <td>S</td>\n",
              "      <td>Transformers Prime</td>\n",
              "      <td>With the help of three human allies, the Autob...</td>\n",
              "    </tr>\n",
              "    <tr>\n",
              "      <th>1</th>\n",
              "      <td>S1</td>\n",
              "      <td>S</td>\n",
              "      <td>Transformers: Robots in Disguise</td>\n",
              "      <td>When a prison ship crash unleashes hundreds of...</td>\n",
              "    </tr>\n",
              "    <tr>\n",
              "      <th>2</th>\n",
              "      <td>S2</td>\n",
              "      <td>S</td>\n",
              "      <td>Apaches</td>\n",
              "      <td>A young journalist is forced into a life of cr...</td>\n",
              "    </tr>\n",
              "    <tr>\n",
              "      <th>3</th>\n",
              "      <td>S3</td>\n",
              "      <td>S</td>\n",
              "      <td>Fire Chasers</td>\n",
              "      <td>As California's 2016 fire season rages, brave ...</td>\n",
              "    </tr>\n",
              "    <tr>\n",
              "      <th>4</th>\n",
              "      <td>S4</td>\n",
              "      <td>S</td>\n",
              "      <td>Castle of Stars</td>\n",
              "      <td>As four couples with different lifestyles go t...</td>\n",
              "    </tr>\n",
              "    <tr>\n",
              "      <th>...</th>\n",
              "      <td>...</td>\n",
              "      <td>...</td>\n",
              "      <td>...</td>\n",
              "      <td>...</td>\n",
              "    </tr>\n",
              "    <tr>\n",
              "      <th>1964</th>\n",
              "      <td>S1964</td>\n",
              "      <td>S</td>\n",
              "      <td>Kikoriki</td>\n",
              "      <td>A wacky rabbit and his gang of animal pals hav...</td>\n",
              "    </tr>\n",
              "    <tr>\n",
              "      <th>1965</th>\n",
              "      <td>S1965</td>\n",
              "      <td>S</td>\n",
              "      <td>Red vs. Blue</td>\n",
              "      <td>This parody of first-person shooter games, mil...</td>\n",
              "    </tr>\n",
              "    <tr>\n",
              "      <th>1966</th>\n",
              "      <td>S1966</td>\n",
              "      <td>S</td>\n",
              "      <td>Maron</td>\n",
              "      <td>Marc Maron stars as Marc Maron, who interviews...</td>\n",
              "    </tr>\n",
              "    <tr>\n",
              "      <th>1967</th>\n",
              "      <td>S1967</td>\n",
              "      <td>S</td>\n",
              "      <td>A Young Doctor's Notebook and Other Stories</td>\n",
              "      <td>Set during the Russian Revolution, this comic ...</td>\n",
              "    </tr>\n",
              "    <tr>\n",
              "      <th>1968</th>\n",
              "      <td>S1968</td>\n",
              "      <td>S</td>\n",
              "      <td>Friends</td>\n",
              "      <td>This hit sitcom follows the merry misadventure...</td>\n",
              "    </tr>\n",
              "  </tbody>\n",
              "</table>\n",
              "<p>1969 rows × 4 columns</p>\n",
              "</div>"
            ],
            "text/plain": [
              "     id_obra  ...                                        descripcion\n",
              "0         S0  ...  With the help of three human allies, the Autob...\n",
              "1         S1  ...  When a prison ship crash unleashes hundreds of...\n",
              "2         S2  ...  A young journalist is forced into a life of cr...\n",
              "3         S3  ...  As California's 2016 fire season rages, brave ...\n",
              "4         S4  ...  As four couples with different lifestyles go t...\n",
              "...      ...  ...                                                ...\n",
              "1964   S1964  ...  A wacky rabbit and his gang of animal pals hav...\n",
              "1965   S1965  ...  This parody of first-person shooter games, mil...\n",
              "1966   S1966  ...  Marc Maron stars as Marc Maron, who interviews...\n",
              "1967   S1967  ...  Set during the Russian Revolution, this comic ...\n",
              "1968   S1968  ...  This hit sitcom follows the merry misadventure...\n",
              "\n",
              "[1969 rows x 4 columns]"
            ]
          },
          "metadata": {
            "tags": []
          },
          "execution_count": 31
        }
      ]
    },
    {
      "cell_type": "markdown",
      "metadata": {
        "id": "a2XF3eDAnBpK"
      },
      "source": [
        "Se instala un librería de web scraping para IMDB a mayores para poder obtener los links base de las obras"
      ]
    },
    {
      "cell_type": "code",
      "metadata": {
        "id": "84o4-iBEMHFA",
        "outputId": "f07e5e73-111f-402e-f3a2-fff503a30be8",
        "colab": {
          "base_uri": "https://localhost:8080/"
        }
      },
      "source": [
        "!pip install imdbpy"
      ],
      "execution_count": 32,
      "outputs": [
        {
          "output_type": "stream",
          "text": [
            "Collecting imdbpy\n",
            "\u001b[?25l  Downloading https://files.pythonhosted.org/packages/c2/01/f5ac9a00185d02af0da7866e02f36de674c531f4d16a82f6ea942446471a/IMDbPY-2020.9.25-py3-none-any.whl (304kB)\n",
            "\r\u001b[K     |█                               | 10kB 17.8MB/s eta 0:00:01\r\u001b[K     |██▏                             | 20kB 1.7MB/s eta 0:00:01\r\u001b[K     |███▎                            | 30kB 2.2MB/s eta 0:00:01\r\u001b[K     |████▎                           | 40kB 2.5MB/s eta 0:00:01\r\u001b[K     |█████▍                          | 51kB 2.0MB/s eta 0:00:01\r\u001b[K     |██████▌                         | 61kB 2.2MB/s eta 0:00:01\r\u001b[K     |███████▌                        | 71kB 2.5MB/s eta 0:00:01\r\u001b[K     |████████▋                       | 81kB 2.7MB/s eta 0:00:01\r\u001b[K     |█████████▊                      | 92kB 2.9MB/s eta 0:00:01\r\u001b[K     |██████████▊                     | 102kB 2.7MB/s eta 0:00:01\r\u001b[K     |███████████▉                    | 112kB 2.7MB/s eta 0:00:01\r\u001b[K     |█████████████                   | 122kB 2.7MB/s eta 0:00:01\r\u001b[K     |██████████████                  | 133kB 2.7MB/s eta 0:00:01\r\u001b[K     |███████████████                 | 143kB 2.7MB/s eta 0:00:01\r\u001b[K     |████████████████▏               | 153kB 2.7MB/s eta 0:00:01\r\u001b[K     |█████████████████▏              | 163kB 2.7MB/s eta 0:00:01\r\u001b[K     |██████████████████▎             | 174kB 2.7MB/s eta 0:00:01\r\u001b[K     |███████████████████▍            | 184kB 2.7MB/s eta 0:00:01\r\u001b[K     |████████████████████▍           | 194kB 2.7MB/s eta 0:00:01\r\u001b[K     |█████████████████████▌          | 204kB 2.7MB/s eta 0:00:01\r\u001b[K     |██████████████████████▋         | 215kB 2.7MB/s eta 0:00:01\r\u001b[K     |███████████████████████▋        | 225kB 2.7MB/s eta 0:00:01\r\u001b[K     |████████████████████████▊       | 235kB 2.7MB/s eta 0:00:01\r\u001b[K     |█████████████████████████▉      | 245kB 2.7MB/s eta 0:00:01\r\u001b[K     |██████████████████████████▉     | 256kB 2.7MB/s eta 0:00:01\r\u001b[K     |████████████████████████████    | 266kB 2.7MB/s eta 0:00:01\r\u001b[K     |█████████████████████████████   | 276kB 2.7MB/s eta 0:00:01\r\u001b[K     |██████████████████████████████  | 286kB 2.7MB/s eta 0:00:01\r\u001b[K     |███████████████████████████████▏| 296kB 2.7MB/s eta 0:00:01\r\u001b[K     |████████████████████████████████| 307kB 2.7MB/s \n",
            "\u001b[?25hRequirement already satisfied: SQLAlchemy in /usr/local/lib/python3.6/dist-packages (from imdbpy) (1.3.20)\n",
            "Requirement already satisfied: lxml in /usr/local/lib/python3.6/dist-packages (from imdbpy) (4.2.6)\n",
            "Installing collected packages: imdbpy\n",
            "Successfully installed imdbpy-2020.9.25\n"
          ],
          "name": "stdout"
        }
      ]
    },
    {
      "cell_type": "markdown",
      "metadata": {
        "id": "pU1n2WcRnQpT"
      },
      "source": [
        "Se obtienen las URL de cada obra"
      ]
    },
    {
      "cell_type": "code",
      "metadata": {
        "id": "9N8V-T-oJ-y4"
      },
      "source": [
        "import imdb\n",
        "\n",
        "\n",
        "titles=netflix['nombre'].tolist()\n",
        "urls=[]\n",
        "\n",
        "for show in titles:\n",
        "  movie = show\n",
        "  ia = imdb.IMDb()\n",
        "  results = ia.search_movie(movie)\n",
        "  try:\n",
        "    mv = results[0] #First result\n",
        "    URL = ia.get_imdbURL(mv) \n",
        "    urls.append(URL + 'reviews')\n",
        "  except:\n",
        "    pass\n"
      ],
      "execution_count": 33,
      "outputs": []
    },
    {
      "cell_type": "markdown",
      "metadata": {
        "id": "U-_4WEQNnUPG"
      },
      "source": [
        "Se guardan las URL en un fichero por si fuere necesario su uso"
      ]
    },
    {
      "cell_type": "code",
      "metadata": {
        "id": "NF4Kg227Y3CI"
      },
      "source": [
        "file = open(\"original_datasets/series/urls.txt\", \"w\")\n",
        "for url in urls:\n",
        "  file.write(url+',')\n",
        "file.close()\n",
        "\n",
        "file = open(\"original_datasets/series/urls.txt\", \"r\")\n",
        "\n",
        "urlaux=file.read()\n",
        "\n",
        "urls=list(urlaux.split(\",\"))\n"
      ],
      "execution_count": 34,
      "outputs": []
    },
    {
      "cell_type": "markdown",
      "metadata": {
        "id": "sCxtJtqQndHQ"
      },
      "source": [
        "Se obtienen los links de las reviews de cada obra"
      ]
    },
    {
      "cell_type": "code",
      "metadata": {
        "id": "MldSOxnAcwXx"
      },
      "source": [
        "reviewsLink =[]\n",
        "for val in urls:\n",
        "  try:\n",
        "    var = getReviews(getSoup(val))\n",
        "    reviewsLink.append(var)\n",
        "  except:\n",
        "    pass\n",
        "    \n"
      ],
      "execution_count": 35,
      "outputs": []
    },
    {
      "cell_type": "code",
      "metadata": {
        "id": "VC2dMQQGQKC0"
      },
      "source": [
        "reviewsLink = list(itertools.chain(*reviewsLink))"
      ],
      "execution_count": 36,
      "outputs": []
    },
    {
      "cell_type": "markdown",
      "metadata": {
        "id": "0jEaBkXLnmj7"
      },
      "source": [
        "Se obtiene el contenido de cada review"
      ]
    },
    {
      "cell_type": "code",
      "metadata": {
        "id": "4vk6DxEzQZSi"
      },
      "source": [
        "review_texts_netflix =[]\n",
        "for val in reviewsLink:\n",
        "  try:\n",
        "    var = getReviewText(val)\n",
        "    review_texts_netflix.append(var)\n",
        "  except:\n",
        "    pass"
      ],
      "execution_count": 37,
      "outputs": []
    },
    {
      "cell_type": "markdown",
      "metadata": {
        "id": "-iawrZm3nr1P"
      },
      "source": [
        "Se obtiene el título de la obra a la que pertenece cada review"
      ]
    },
    {
      "cell_type": "code",
      "metadata": {
        "id": "XP3Zy3ZsVplz"
      },
      "source": [
        "titles_netflix =[]\n",
        "for val in reviewsLink:\n",
        "  try:\n",
        "    var = getMovieTitle(val)\n",
        "    titles_netflix.append(var)\n",
        "  except:\n",
        "    pass"
      ],
      "execution_count": 38,
      "outputs": []
    },
    {
      "cell_type": "markdown",
      "metadata": {
        "id": "p8xsZnWsnx0r"
      },
      "source": [
        "Se obtienen las calificaciones de cada obra"
      ]
    },
    {
      "cell_type": "code",
      "metadata": {
        "id": "sLceo8AIbmal"
      },
      "source": [
        "qualifications_netflix =[]\n",
        "for val in reviewsLink: \n",
        "  try:\n",
        "    var = getQualifications(val)\n",
        "    qualifications_netflix.append(var)\n",
        "  except:\n",
        "    qualifications_netflix.append('null/')\n",
        "    pass"
      ],
      "execution_count": 39,
      "outputs": []
    },
    {
      "cell_type": "markdown",
      "metadata": {
        "id": "9ze8Jz0in1PU"
      },
      "source": [
        "Se traducen las valoraciones a la representación ya mencionada dependiendo de la nota"
      ]
    },
    {
      "cell_type": "code",
      "metadata": {
        "id": "tMmXLM9Qg-yL"
      },
      "source": [
        "sentiment_netflix=[]\n",
        "for val in qualifications_netflix:\n",
        "  val.replace('\\\\n','')\n",
        "  val=val.strip()\n",
        "  var=val.find('/')\n",
        "  val=val[0:var]\n",
        "  if val!='null':\n",
        "    if int(val)>5:\n",
        "      sentiment_netflix.append(\"+\")\n",
        "    elif int(val)==5:\n",
        "      sentiment_netflix.append(\"~\")\n",
        "    else:\n",
        "      sentiment_netflix.append(\"-\")\n",
        "  else:\n",
        "    sentiment_netflix.append('null')\n",
        "\n",
        "\n"
      ],
      "execution_count": 40,
      "outputs": []
    },
    {
      "cell_type": "markdown",
      "metadata": {
        "id": "GcJXx-54n8lE"
      },
      "source": [
        "Se genera el dataframe de las valoraciones con los datos obtenidos de la misma forma que se ha hecho con el de disney plus"
      ]
    },
    {
      "cell_type": "code",
      "metadata": {
        "id": "q4L-oRnjhbwb",
        "outputId": "ccb5ac65-4d03-4c39-ca67-2560709f3bef",
        "colab": {
          "base_uri": "https://localhost:8080/",
          "height": 408
        }
      },
      "source": [
        "df = pd.DataFrame({'nombre': titles_netflix,\n",
        "             'comentario': review_texts_netflix,'valoracion': sentiment_netflix})\n",
        "\n",
        "\n",
        "frames=[df,netflix]\n",
        "\n",
        "dff=pd.merge(df,netflix,how='inner',on=['nombre'])\n",
        "\n",
        "\n",
        "\n",
        "dff[['id_obra', 'comentario', 'valoracion',]].to_csv('original_datasets/series/netflixValoracion.csv', index=False)\n",
        "\n",
        "dff=pd.read_csv('original_datasets/series/netflixValoracion.csv')\n",
        "\n",
        "dff"
      ],
      "execution_count": 41,
      "outputs": [
        {
          "output_type": "execute_result",
          "data": {
            "text/html": [
              "<div>\n",
              "<style scoped>\n",
              "    .dataframe tbody tr th:only-of-type {\n",
              "        vertical-align: middle;\n",
              "    }\n",
              "\n",
              "    .dataframe tbody tr th {\n",
              "        vertical-align: top;\n",
              "    }\n",
              "\n",
              "    .dataframe thead th {\n",
              "        text-align: right;\n",
              "    }\n",
              "</style>\n",
              "<table border=\"1\" class=\"dataframe\">\n",
              "  <thead>\n",
              "    <tr style=\"text-align: right;\">\n",
              "      <th></th>\n",
              "      <th>id_obra</th>\n",
              "      <th>comentario</th>\n",
              "      <th>valoracion</th>\n",
              "    </tr>\n",
              "  </thead>\n",
              "  <tbody>\n",
              "    <tr>\n",
              "      <th>0</th>\n",
              "      <td>S0</td>\n",
              "      <td>I know what i'm talking about when I say, THIS...</td>\n",
              "      <td>+</td>\n",
              "    </tr>\n",
              "    <tr>\n",
              "      <th>1</th>\n",
              "      <td>S0</td>\n",
              "      <td>I find this series to be a great take on the T...</td>\n",
              "      <td>+</td>\n",
              "    </tr>\n",
              "    <tr>\n",
              "      <th>2</th>\n",
              "      <td>S1</td>\n",
              "      <td>Transformer Prime was one of the best shows I'...</td>\n",
              "      <td>-</td>\n",
              "    </tr>\n",
              "    <tr>\n",
              "      <th>3</th>\n",
              "      <td>S1</td>\n",
              "      <td>I have to say,this show is way better than the...</td>\n",
              "      <td>+</td>\n",
              "    </tr>\n",
              "    <tr>\n",
              "      <th>4</th>\n",
              "      <td>S2</td>\n",
              "      <td>Another outstanding series from Netflix. Excel...</td>\n",
              "      <td>+</td>\n",
              "    </tr>\n",
              "    <tr>\n",
              "      <th>...</th>\n",
              "      <td>...</td>\n",
              "      <td>...</td>\n",
              "      <td>...</td>\n",
              "    </tr>\n",
              "    <tr>\n",
              "      <th>2439</th>\n",
              "      <td>S1965</td>\n",
              "      <td>My brother's friend had a DVD laying around ne...</td>\n",
              "      <td>NaN</td>\n",
              "    </tr>\n",
              "    <tr>\n",
              "      <th>2440</th>\n",
              "      <td>S1966</td>\n",
              "      <td>Marc Maron has been on the stand up circuit fo...</td>\n",
              "      <td>-</td>\n",
              "    </tr>\n",
              "    <tr>\n",
              "      <th>2441</th>\n",
              "      <td>S1966</td>\n",
              "      <td>To be honest, I never heard of Marc Maron befo...</td>\n",
              "      <td>+</td>\n",
              "    </tr>\n",
              "    <tr>\n",
              "      <th>2442</th>\n",
              "      <td>S1968</td>\n",
              "      <td>Everyone says that Seinfield is the greatest s...</td>\n",
              "      <td>NaN</td>\n",
              "    </tr>\n",
              "    <tr>\n",
              "      <th>2443</th>\n",
              "      <td>S1968</td>\n",
              "      <td>Don't watch friends all ten season because tha...</td>\n",
              "      <td>+</td>\n",
              "    </tr>\n",
              "  </tbody>\n",
              "</table>\n",
              "<p>2444 rows × 3 columns</p>\n",
              "</div>"
            ],
            "text/plain": [
              "     id_obra                                         comentario valoracion\n",
              "0         S0  I know what i'm talking about when I say, THIS...          +\n",
              "1         S0  I find this series to be a great take on the T...          +\n",
              "2         S1  Transformer Prime was one of the best shows I'...          -\n",
              "3         S1  I have to say,this show is way better than the...          +\n",
              "4         S2  Another outstanding series from Netflix. Excel...          +\n",
              "...      ...                                                ...        ...\n",
              "2439   S1965  My brother's friend had a DVD laying around ne...        NaN\n",
              "2440   S1966  Marc Maron has been on the stand up circuit fo...          -\n",
              "2441   S1966  To be honest, I never heard of Marc Maron befo...          +\n",
              "2442   S1968  Everyone says that Seinfield is the greatest s...        NaN\n",
              "2443   S1968  Don't watch friends all ten season because tha...          +\n",
              "\n",
              "[2444 rows x 3 columns]"
            ]
          },
          "metadata": {
            "tags": []
          },
          "execution_count": 41
        }
      ]
    }
  ]
}